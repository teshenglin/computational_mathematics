{
 "cells": [
  {
   "cell_type": "markdown",
   "metadata": {},
   "source": [
    "# Section: Numerical integration - Lecture 2\n",
    "\n",
    "**Goal:** Given a function $f(x)$, $a\\le x\\le b$, we want to evaluate or approximate $\\int^b_{a} f(x)dx$.\n",
    "\n",
    "As a first note, one can make a change of variable to transform the definite integral $\\int^b_{a} f(x)dx$ to $\\int^1_{-1} \\bar{f}(y)dy$. So in the following we only consider the definite integral \n",
    "$$\\int^1_{-1} f(x)dx.$$"
   ]
  },
  {
   "cell_type": "markdown",
   "metadata": {},
   "source": [
    "## [2] Gaussian quadrature\n",
    "\n",
    "The idea of numerical quadrature rules in lecture 1 is to approximate a function by polynomials, then we approximate the definite integral of the function by the definite integral of the polynomial. It leads to a quadrature rule of the form\n",
    "$$\\int^1_{-1} f(x)dx \\approx \\sum\\limits_{i=1}^n A_i f(x_i).$$\n",
    "\n",
    "The idea of Gaussian quadrature is the following: We use exactly the same structure as above, i.e., we assume that the definite integral can be approximated as\n",
    "$$\\int^1_{-1} f(x)dx \\approx \\sum\\limits_{i=1}^n w_i f(x_i).$$\n",
    "But this time we think of $w_i$ and $x_i$ as unknows and seek for the best choice of them. Ideally, as we have totally $2n$ unknows ($w_i$ and $x_i$, $i=1, \\cdots, n$), we can have a formula that is exact for polynomial of degree $2n-1$.\n",
    "\n",
    "Read Gaussian quadrature in [wiki](https://en.wikipedia.org/wiki/Gaussian_quadrature) for more details."
   ]
  },
  {
   "cell_type": "markdown",
   "metadata": {},
   "source": [
    "## [2.1] Midpoint rule\n",
    "\n",
    "Consider $n=1$, that is, we looks for $w_1$ and $x_1$ such that the formula $$\\int^1_{-1} f(x)dx = w_1 f(x_1)$$ is true for polynomial of degree less than or equals to $1$. It can be shown that the only solution is $w_1=2$ and $x_1=0$, which is exactly the midpoint rule."
   ]
  },
  {
   "cell_type": "markdown",
   "metadata": {},
   "source": [
    "## [2.2] Gauss-Legendre quadrature\n",
    "\n",
    "## [2.2.1] $n=2$\n",
    "Consider $n=2$. To solve the unknows we can try $f(x) = 1$,$f(x)=x$,$f(x)=x^2$,$f(x)=x^3$ and solve\n",
    "$$\n",
    "\\begin{cases}\n",
    "w_1+w_2 = \\int_{-1}^1 1dx = 2\\\\\n",
    "w_1x_1+w_2x_2 = \\int_{-1}^1 xdx = 0\\\\\n",
    "w_1x_1^2+w_2x_2^2 = \\int_{-1}^1 x^2dx = \\frac{2}{3}\\\\\n",
    "w_1x_1^3+w_2x_2^3 = \\int_{-1}^1 x^3dx = 0\n",
    "\\end{cases},\n",
    "$$\n",
    "which gives us $w_1 = w_2 =1$, $x_1=\\frac{1}{\\sqrt{3}}$,$x_2=-\\frac{1}{\\sqrt{3}}$, i.e., \n",
    "$$\\int^1_{-1} f(x)dx \\approx f\\left(-\\frac{1}{\\sqrt{3}}\\right) + f\\left(\\frac{1}{\\sqrt{3}}\\right)$$\n",
    "\n",
    "In fact, this is called the Gauss-Legendre quadrature. For the formula of general number of points $n$, see [wiki](https://en.wikipedia.org/wiki/Gaussian_quadrature#Gauss%E2%80%93Legendre_quadrature) for further details."
   ]
  },
  {
   "cell_type": "markdown",
   "metadata": {},
   "source": [
    "### [2.2.3] General $n$\n",
    "\n",
    "To find $x_i$ and $w_i$, it is known that $x_i$ are the roots of the [Legendre polynomials](https://en.wikipedia.org/wiki/Legendre_polynomials). To find Legendre polynomials, we can use the recursive formula\n",
    "$$\n",
    "L_n(x) = \\frac{1}{n}((2n-1)xL_{n-1}(x) - (n-1)L_{n-2}(x))\n",
    "$$\n",
    "where $L_0=1$ and $L_1=x$.\n",
    "\n",
    "### Coefficients of Legendre polynomial\n",
    "Here we try to find the coeffients of the Legendre polynomials. We define a function that calculate the coefficients of $n$-th degree legendre polynomial."
   ]
  },
  {
   "cell_type": "code",
   "execution_count": 1,
   "metadata": {},
   "outputs": [
    {
     "data": {
      "text/plain": [
       "Legendre_poly (generic function with 1 method)"
      ]
     },
     "execution_count": 1,
     "metadata": {},
     "output_type": "execute_result"
    }
   ],
   "source": [
    "function Legendre_poly(n)\n",
    "    if n<=0\n",
    "        c=[1.0];\n",
    "    elseif n==1\n",
    "        c = [1.0,0.0]\n",
    "    else\n",
    "        a = Legendre_poly(n-1)\n",
    "        append!(a,0.0)\n",
    "        \n",
    "        c = Legendre_poly(n-2)\n",
    "        b = [0.0,0.0]\n",
    "        append!(b,c)\n",
    "        \n",
    "        c = ((2*n-1)*a-(n-1)*b)/n\n",
    "    end\n",
    "    \n",
    "    return c\n",
    "end"
   ]
  },
  {
   "cell_type": "markdown",
   "metadata": {},
   "source": [
    "For example, the Legendre polynomial of degree $2$ is $\\frac{1}{2}(3x^2-1)$ which means $L_2(x) = 1.5x^2 + 0x - 0.5$. Which has roots $\\frac{1}{\\sqrt{3}},-\\frac{1}{\\sqrt{3}}$, same as the calculation above."
   ]
  },
  {
   "cell_type": "code",
   "execution_count": 2,
   "metadata": {},
   "outputs": [
    {
     "data": {
      "text/plain": [
       "3-element Array{Float64,1}:\n",
       "  1.5\n",
       "  0.0\n",
       " -0.5"
      ]
     },
     "execution_count": 2,
     "metadata": {},
     "output_type": "execute_result"
    }
   ],
   "source": [
    "Legendre_poly(2)"
   ]
  },
  {
   "cell_type": "markdown",
   "metadata": {},
   "source": [
    "Next, we need to calculate to roots of $L_n(x)$ and the weights $w_i$ which is not an easy task. We solve it by the help of Polynomials.jl."
   ]
  },
  {
   "cell_type": "markdown",
   "metadata": {},
   "source": [
    "#### Remark:\n",
    "We'll use packages Polynomials. Run <code>using Pkg; Pkg.add(\"Polynomials\")</code> if you don't have Polynomials installed."
   ]
  },
  {
   "cell_type": "code",
   "execution_count": 3,
   "metadata": {},
   "outputs": [],
   "source": [
    "using Polynomials"
   ]
  },
  {
   "cell_type": "code",
   "execution_count": 4,
   "metadata": {},
   "outputs": [
    {
     "data": {
      "text/plain": [
       "Gauss_Legendre (generic function with 1 method)"
      ]
     },
     "execution_count": 4,
     "metadata": {},
     "output_type": "execute_result"
    }
   ],
   "source": [
    "function Gauss_Legendre(n)\n",
    "    # returns x: the roots of Lenendre polynomails of order n\n",
    "    #         w: the desired weights(w_i's)\n",
    "    \n",
    "    p = Poly(reverse(Legendre_poly(n)))\n",
    "    x = roots(p)\n",
    "    \n",
    "    A = zeros(n,n)\n",
    "    b = zeros(n,1)\n",
    "    A[1,:] = ones(n)\n",
    "    b[1] = 2\n",
    "    for i=2:n\n",
    "        for j=1:n\n",
    "            A[i,j] = x[j]^(i-1)\n",
    "        end\n",
    "        if i%2 ==0\n",
    "            b[i] = 0\n",
    "        else\n",
    "            b[i] = (2.0)/i\n",
    "        end\n",
    "    end\n",
    "    \n",
    "    w = A\\b\n",
    "    \n",
    "    return x,w\n",
    "end"
   ]
  },
  {
   "cell_type": "code",
   "execution_count": 5,
   "metadata": {},
   "outputs": [
    {
     "data": {
      "text/plain": [
       "Gauss_Legendre_quadrature (generic function with 1 method)"
      ]
     },
     "execution_count": 5,
     "metadata": {},
     "output_type": "execute_result"
    }
   ],
   "source": [
    "function Gauss_Legendre_quadrature(f::Function,n::Int)\n",
    "    x,w = Gauss_Legendre(n)\n",
    "    y=f.(x)\n",
    "    \n",
    "    return  (y'*w)[1]\n",
    "end"
   ]
  },
  {
   "cell_type": "markdown",
   "metadata": {},
   "source": [
    "## Example 1\n",
    "\n",
    "Evaulate $\\int_{-1}^1 e^x dx$ using Gauss-Legendre quadrature rule. Note that the exact solution for this integral is $e - \\frac{1}{e}$.\n",
    "\n",
    "For this example, we can see that the error is already $O(10^{-16})$ for $n=8$. "
   ]
  },
  {
   "cell_type": "code",
   "execution_count": 6,
   "metadata": {},
   "outputs": [
    {
     "data": {
      "text/plain": [
       "2.3504023872876028"
      ]
     },
     "execution_count": 6,
     "metadata": {},
     "output_type": "execute_result"
    }
   ],
   "source": [
    "exact = exp(1) - exp(-1)"
   ]
  },
  {
   "cell_type": "code",
   "execution_count": 7,
   "metadata": {},
   "outputs": [
    {
     "data": {
      "text/plain": [
       "2.9513122568047834e-7"
      ]
     },
     "execution_count": 7,
     "metadata": {},
     "output_type": "execute_result"
    }
   ],
   "source": [
    "abs(Gauss_Legendre_quadrature(exp,4)-exact)"
   ]
  },
  {
   "cell_type": "code",
   "execution_count": 8,
   "metadata": {},
   "outputs": [
    {
     "data": {
      "text/plain": [
       "4.440892098500626e-16"
      ]
     },
     "execution_count": 8,
     "metadata": {},
     "output_type": "execute_result"
    }
   ],
   "source": [
    "abs(Gauss_Legendre_quadrature(exp,8)-exact)"
   ]
  },
  {
   "cell_type": "markdown",
   "metadata": {},
   "source": [
    "## [2.3] Chebyshev–Gauss quadrature\n",
    "\n",
    "The Chebyshev-Gauss quadrature rule is to approximate the definite integral of the form \n",
    "$$ \\int_{-1}^1 \\frac{f(x)}{\\sqrt{1-x^2}}dx $$.\n",
    "\n",
    "It can be shown that the weights $w_i$ are $\\frac{\\pi}{n}$ and the points $x_i=\\cos\\left(\\frac{2i-1}{2n}\\pi\\right)$. Therefore we have\n",
    "$$ \\int_{-1}^1 f(x)w(x)dx \\approx \\frac{\\pi}{n} \\sum\\limits_{i=1}^n f\\left(\\cos\\left(\\frac{2i-1}{2n}\\pi\\right)\\right).$$\n",
    "\n",
    "See wiki [Chebyshev–Gauss quadrature](https://en.wikipedia.org/wiki/Chebyshev%E2%80%93Gauss_quadrature) for further detail."
   ]
  },
  {
   "cell_type": "markdown",
   "metadata": {},
   "source": [
    "## Example\n",
    "\n",
    "Evaulate $\\int_{-1}^1 e^x dx$ using Chebyshev-Gauss quadrature rule  for $n=10,100,1000$.\n",
    "\n",
    "Consider $g(x) = e^x \\sqrt{1-x^2}$.  Then we can use Chebyshev-Gauss quadrature rule to evaluate the integral.\n",
    "\n",
    "We define a function to evaluate the integral."
   ]
  },
  {
   "cell_type": "code",
   "execution_count": 9,
   "metadata": {},
   "outputs": [
    {
     "data": {
      "text/plain": [
       "ChebyQuadrature (generic function with 1 method)"
      ]
     },
     "execution_count": 9,
     "metadata": {},
     "output_type": "execute_result"
    }
   ],
   "source": [
    "function ChebyQuadrature(f::Function,n::Int)\n",
    "    g(x) = f(x)*sqrt(1-x^2)\n",
    "    sum=0\n",
    "    for i=1:n\n",
    "        sum = sum +  g(cos((2i-1)*pi/(2n)))\n",
    "    end\n",
    "    return pi*sum/n\n",
    "end"
   ]
  },
  {
   "cell_type": "code",
   "execution_count": 10,
   "metadata": {},
   "outputs": [
    {
     "data": {
      "text/plain": [
       "0.01281402648467811"
      ]
     },
     "execution_count": 10,
     "metadata": {},
     "output_type": "execute_result"
    }
   ],
   "source": [
    "abs(ChebyQuadrature(exp,10)-exact)"
   ]
  },
  {
   "cell_type": "code",
   "execution_count": 11,
   "metadata": {},
   "outputs": [
    {
     "data": {
      "text/plain": [
       "0.00012692529833824295"
      ]
     },
     "execution_count": 11,
     "metadata": {},
     "output_type": "execute_result"
    }
   ],
   "source": [
    "abs(ChebyQuadrature(exp,100)-exact)"
   ]
  },
  {
   "cell_type": "code",
   "execution_count": 12,
   "metadata": {},
   "outputs": [
    {
     "data": {
      "text/plain": [
       "1.269134153325524e-6"
      ]
     },
     "execution_count": 12,
     "metadata": {},
     "output_type": "execute_result"
    }
   ],
   "source": [
    "abs(ChebyQuadrature(exp,1000)-exact)"
   ]
  }
 ],
 "metadata": {
  "@webio": {
   "lastCommId": null,
   "lastKernelId": null
  },
  "kernelspec": {
   "display_name": "Julia 1.1.0",
   "language": "julia",
   "name": "julia-1.1"
  },
  "language_info": {
   "file_extension": ".jl",
   "mimetype": "application/julia",
   "name": "julia",
   "version": "1.1.0"
  }
 },
 "nbformat": 4,
 "nbformat_minor": 2
}
