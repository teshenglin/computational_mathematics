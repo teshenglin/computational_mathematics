{
 "cells": [
  {
   "cell_type": "markdown",
   "metadata": {},
   "source": [
    "# Section: Power method - Lecture 01\n",
    "\n",
    "Very often we want to find eigenvalues of a given matrix, not all of them, but only some of the largest/smallest or those close to zero. Power method (or power iteration) is a very simple algorithm to accomplish the task. \n",
    "\n",
    "-------------------------------------------------------\n",
    "The followings are from wiki: [power iteration](https://en.wikipedia.org/wiki/Power_iteration)\n",
    "\n",
    "In mathematics, power iteration (also known as the power method) is an eigenvalue algorithm: given a diagonalizable matrix $A$, the algorithm will produce a number $\\lambda$ , which is the greatest (in absolute value) eigenvalue of $A$, and a nonzero vector $v$, the corresponding eigenvector of $\\lambda$, such that \n",
    "$Av= \\lambda v$.\n",
    "\n",
    "-------------------------------------------------------\n",
    "\n",
    "In this document we want to show you how to find the largest eigenvalue (in magnitude) by utilizing the power iteration. Furthermore, we will show you how the power iteration can be modified to find eigenvalues in more general settings."
   ]
  },
  {
   "cell_type": "markdown",
   "metadata": {},
   "source": [
    "## [1] Basic Power method\n",
    "\n",
    "The idea of power method is the following:\n",
    "Suppose we have a matrix $A$ with corresponding eigenvalues $|\\lambda_1| > |\\lambda_2| \\ge |\\lambda_3| ...$ and eigenvectors $v_1$, $v_2$, $\\cdots$. Then, given a vector $u$, it can be expressed as a linear combination of the eigenvectors\n",
    "$$u =\\sum^{n}_{i=1} c_iv_i.$$\n",
    "If we multiply both side by $A$ we get \n",
    "$$Au =\\sum^{n}_{i=1} c_iAv_i=\\sum^{n}_{i=1} c_i\\lambda_i v_i$$\n",
    "and, if we multiply it $k$ times, \n",
    "$$A^ku =\\sum^{n}_{i=1} c_i\\lambda^k_i v_i.$$\n",
    "Since $|\\lambda_1|$ is bigger than all the rest, we find, as $k$ get bigger, \n",
    "$$\\frac{1}{\\lambda^k_1}A^ku = c_1 v_1 + \\sum^{n}_{i=2} c_i\\frac{\\lambda^k_i}{\\lambda^k_1} v_i \\to c_1 v_1.$$\n",
    "As a result, if we just randomly choose a vector and multiply it by $A$ many times, we should get closer and closer the the first eigenvector, and in this way we can find the first (largest) eigenvalue. "
   ]
  },
  {
   "cell_type": "markdown",
   "metadata": {},
   "source": [
    "#### Algorithm:\n",
    "1. Start with a vector $u:=u^{(0)}$\n",
    "2. for $i=1,2,...,k$  Compute \n",
    "    1. $v^{(i)}=Au^{(i-1)}$ \n",
    "    2. $\\mu^{(i)}=\\|v^{(i)}\\|_2$ or $\\mu^{(i)}=v^{(i)}_2$  \n",
    "    3. $u^{(i)}=v^{(i)}/\\mu^{(i)}$\n",
    "3. $\\mu^{(k)}$ is the largest eigenvalue, and $u^{(k)}$ is the corresponding eigenvector\n",
    "\n",
    "Note: $v^{(i)}_2$ is the second component of vector $v^{(i)}$ \n",
    "\n",
    "Moreover, in fact, we can choose $\\mu^{(i)}=l(v^{(i)})$, where $l$ is any linear function, for example, \n",
    "$\\mu^{(i)}=v^{(i)}_2$ or $\\mu^{(i)}=v^{(i)}_1$."
   ]
  },
  {
   "cell_type": "markdown",
   "metadata": {},
   "source": [
    "#### Example 1\n",
    "As a first example, we consider a 3-by-3 matrix A"
   ]
  },
  {
   "cell_type": "code",
   "execution_count": 2,
   "metadata": {
    "scrolled": true
   },
   "outputs": [
    {
     "data": {
      "text/plain": [
       "3×3 Array{Int64,2}:\n",
       " 2  1  5\n",
       " 5  7  9\n",
       " 4  6  1"
      ]
     },
     "execution_count": 2,
     "metadata": {},
     "output_type": "execute_result"
    }
   ],
   "source": [
    "A = [2 1 5; 5 7 9; 4 6 1]"
   ]
  },
  {
   "cell_type": "markdown",
   "metadata": {},
   "source": [
    "All of its eigenvalues can be evaluated by the comment \"eigvals\".\n",
    "\n",
    "Note: We use the julia package \"LinearAlgebra\" to find the eigenvalues."
   ]
  },
  {
   "cell_type": "code",
   "execution_count": 3,
   "metadata": {
    "scrolled": true
   },
   "outputs": [
    {
     "name": "stdout",
     "output_type": "stream",
     "text": [
      "13.78378635197844\n",
      "0.8328741741072435\n",
      "-4.616660526085692\n"
     ]
    }
   ],
   "source": [
    "using LinearAlgebra\n",
    "e_A = eigvals(A); \n",
    "println(e_A[1]) \n",
    "println(e_A[2]) \n",
    "println(e_A[3])"
   ]
  },
  {
   "cell_type": "markdown",
   "metadata": {},
   "source": [
    "#### Attemp 1\n",
    "Given a random vector u, we compute A*u several times, here, 10 times."
   ]
  },
  {
   "cell_type": "code",
   "execution_count": 3,
   "metadata": {
    "scrolled": true
   },
   "outputs": [
    {
     "name": "stdout",
     "output_type": "stream",
     "text": [
      "After 10 iterations, \n",
      "\n",
      "the largest eigenvalue is approximately 13.783772000377752\n"
     ]
    }
   ],
   "source": [
    "# Start with a random vector u\n",
    "u = rand(3);\n",
    "\n",
    "# The loop.\n",
    "for ii=1:10\n",
    "    v = A*u;\n",
    "    global mu = norm(v,2);\n",
    "    u = v/mu;\n",
    "end\n",
    "println(\"After 10 iterations, \\n\")\n",
    "println(\"the largest eigenvalue is approximately \", mu)"
   ]
  },
  {
   "cell_type": "markdown",
   "metadata": {},
   "source": [
    "#### Attemp 2\n",
    "The second attempt, we define an epsilon $\\varepsilon$ to test if the process converges or not.\n",
    "\n",
    "Given $\\varepsilon$, if $|\\mu_i-\\mu_{i-1}|<\\varepsilon$, stop the loop."
   ]
  },
  {
   "cell_type": "code",
   "execution_count": 4,
   "metadata": {},
   "outputs": [
    {
     "name": "stdout",
     "output_type": "stream",
     "text": [
      "Largest eigenvalue is 13.783786351956529\n",
      "# of iterations= 23\n"
     ]
    }
   ],
   "source": [
    "# Start with a random vector u\n",
    "u = rand(3);\n",
    "mu0 = 0;\n",
    "mu = 1;\n",
    "\n",
    "# Define epsilon\n",
    "eps = 1.0e-10;\n",
    "ii=0;\n",
    "\n",
    "# The loop\n",
    "while abs.(mu-mu0)>eps\n",
    "    mu0 = mu;\n",
    "    v = A*u;\n",
    "    \n",
    "    # Take the second component of v\n",
    "    mu = v[2];\n",
    "    \n",
    "    u = v/mu;\n",
    "    ii=ii+1;\n",
    "end\n",
    "println(\"Largest eigenvalue is \", mu)\n",
    "println(\"# of iterations= \", ii)"
   ]
  },
  {
   "cell_type": "markdown",
   "metadata": {},
   "source": [
    "## [2] Inverse power method\n",
    "Similarly, if we apply the power method to $A^{-1}$, we should obtain the smallest (absolute)eigenvalue.\n",
    "\n",
    "Of course, we need to assume that $A$ is non-singular, otherwise the smallest (absolute)eigenvalue should be $0$.\n",
    "\n",
    "#### Algorithm:\n",
    "1. Start with a vector $u:=u^{(0)}$ with $\\|u\\|_2 = 1$\n",
    "2. for i=1,2,...,k  Compute \n",
    "    1. $v^{(i)}=A^{-1}u^{(i-1)}$ \n",
    "    2. $\\mu^{(i)}=v^{(i)}_2$  \n",
    "    3. $u^{(i)}=v^{(i)}/\\mu^{(i)}$\n",
    "3. $\\mu^{(k)}$ is the smallest eigenvalue, and $u^{(k)}$ is the corresponding eigenvector\n",
    "\n",
    "#### Remark:\n",
    "We compute $A^{-1}u$ by solving the linear system $Ax = u$."
   ]
  },
  {
   "cell_type": "markdown",
   "metadata": {},
   "source": [
    "#### Example\n",
    "To find the smallest eigenvalue we compute $A^{-1}u$ several times until the process converges."
   ]
  },
  {
   "cell_type": "code",
   "execution_count": 5,
   "metadata": {},
   "outputs": [
    {
     "name": "stdout",
     "output_type": "stream",
     "text": [
      "Smallest eigenvalue is 0.8328741741048754\n",
      "# of iterations= 16\n"
     ]
    }
   ],
   "source": [
    "# Start with a normalized vector\n",
    "u = rand(3); u=u/norm(u,2);\n",
    "\n",
    "mu0 = 0;\n",
    "mu = 1;\n",
    "eps = 1.0e-10;\n",
    "ii=0;\n",
    "while abs.(mu-mu0)>eps\n",
    "    mu0 = mu;\n",
    "    \n",
    "    # Compute A^{-1}u by A\\u\n",
    "    v = A\\u;\n",
    "    \n",
    "    mu = v[2];\n",
    "    u = v/mu;\n",
    "    ii=ii+1;\n",
    "end\n",
    "println(\"Smallest eigenvalue is \", 1/mu)\n",
    "println(\"# of iterations= \", ii)"
   ]
  },
  {
   "cell_type": "markdown",
   "metadata": {},
   "source": [
    "### [3.1] Shift-inverse power method\n",
    "If we apply power method to $(A-\\sigma I)^{-1}$, we should get the eigenvalue that is closest to $\\sigma$.\n",
    "\n",
    "#### Algorithm:\n",
    "Given $\\sigma$\n",
    "1. Start with a vector $u:=u^{(0)}$ with $\\|u\\|_2 = 1$\n",
    "2. for i=1,2,...,k  Compute \n",
    "    1. $v^{(i)}=(A-\\sigma I)^{-1}u^{(i-1)}$\n",
    "    2. $\\mu^{(i)}=\\|v^{(i)}\\|_2$ or $\\mu^{(i)}=v^{(i)}_2$\n",
    "    3. $u^{(i)}=v^{(i)}/\\mu^{(i)}$\n",
    "3. $\\mu^{(k)}$ is the eigenvalue closest to $\\sigma$, and $u^{(k)}$ is the corresponding eigenvector"
   ]
  },
  {
   "cell_type": "markdown",
   "metadata": {},
   "source": [
    "#### Example\n",
    "To find the eigenvalue that is closest to $\\sigma$ we compute $(A-\\sigma I)^{-1}u$ several times until the process converges."
   ]
  },
  {
   "cell_type": "code",
   "execution_count": 6,
   "metadata": {},
   "outputs": [
    {
     "name": "stdout",
     "output_type": "stream",
     "text": [
      "The eigenvalue that is closest to -10 is -4.616660523472157\n",
      "# of iterations= 34\n"
     ]
    }
   ],
   "source": [
    "u = rand(3); u=u/norm(u,2);\n",
    "sigma = -10;\n",
    "mu0 = 0;\n",
    "mu = 1;\n",
    "eps = 1.0e-10;\n",
    "ii=0;\n",
    "while abs.(mu-mu0)>eps\n",
    "    mu0 = mu;\n",
    "    v = (A-sigma*UniformScaling(1))\\u;\n",
    "    mu = v[2];\n",
    "    u = v/mu;\n",
    "    ii = ii+1;\n",
    "end\n",
    "println(\"The eigenvalue that is closest to \", sigma, \" is \", sigma + 1/mu)\n",
    "println(\"# of iterations= \", ii)"
   ]
  },
  {
   "cell_type": "markdown",
   "metadata": {},
   "source": [
    "### [3.2] Shift-inverse power method - Algorithm 2\n",
    "\n",
    "In the previous example we found the eigenvalue that is closest to $\\sigma$. In fact, one can show that the coefficient of the convergence in algorithm 1 is about $\\left|\\frac{\\lambda_1-\\sigma}{\\lambda_2-\\sigma}\\right|$, where $\\lambda_1$ is the one that is closest to $\\sigma$ and $\\lambda_2$ is the second closest one. So in principle, if we can choose $\\sigma$ such that it is very close to $\\lambda_1$, the iteration should converge to it faster.\n",
    "\n",
    "But of course we don't know in advance what is $\\lambda_1$, so what we can do is to adjust $\\sigma$ along with the iteration, this is the idea of the following algorithm.\n",
    "\n",
    "#### Algorithm:\n",
    "\n",
    "Given $\\sigma$\n",
    "1. Start with a vector $u:=u^{(0)}$ with $\\|u\\|_2 = 1$. $\\sigma := \\sigma^{(0)}$\n",
    "2. for i=1,2,...,k  Compute \n",
    "    1. $v^{(i)}=(A-\\sigma^{(i-1)} I)^{-1}u^{(i-1)}$\n",
    "    2. $\\mu^{(i)}=v^{(i)}_2$\n",
    "    3. $u^{(i)}=v^{(i)}/\\mu^{(i)}$\n",
    "    4. $\\sigma^{(i)} = \\sigma^{(i-1)}+ 1/\\mu^{(i)}$\n",
    "3. $\\mu^{(k)}$ is the eigenvalue closest to $\\sigma$, and $u^{(k)}$ is the corresponding eigenvector"
   ]
  },
  {
   "cell_type": "markdown",
   "metadata": {},
   "source": [
    "#### Example\n",
    "We take variant shifts $\\sigma^{(i)} = \\sigma^{(i-1)}+ 1/\\mu^{(i)}$ to get a faster convergence."
   ]
  },
  {
   "cell_type": "code",
   "execution_count": 7,
   "metadata": {},
   "outputs": [
    {
     "name": "stdout",
     "output_type": "stream",
     "text": [
      "The eigenvalue is 0.8328741741049885\n",
      "# of iterations= 7\n"
     ]
    }
   ],
   "source": [
    "u = rand(3); u=u/norm(u,2);\n",
    "sigma = 0;\n",
    "sigma0 = 1;\n",
    "mu = 1;\n",
    "eps = 1.0e-10;\n",
    "ii=0;\n",
    "while abs.(sigma-sigma0)>eps\n",
    "    sigma0 = sigma;\n",
    "    v = (A-sigma*UniformScaling(1))\\u;\n",
    "    mu = v[2];\n",
    "    u = v/mu;\n",
    "    sigma = sigma+ 1/mu;\n",
    "    ii = ii+1;\n",
    "end\n",
    "println(\"The eigenvalue is \", sigma + 1/mu)\n",
    "println(\"# of iterations= \", ii)"
   ]
  },
  {
   "cell_type": "markdown",
   "metadata": {},
   "source": [
    "### [3.3] Shift-inverse power method - Algorithm 3\n",
    "\n",
    "The eigenvalue can be evaluate using Rayleigh quotient. So in algorithm 3 we use Rayleigh quotient.\n",
    "\n",
    "#### Algorithm:\n",
    "Given $\\sigma$\n",
    "1. Start with a vector $u:=u^{(0)}$ with $\\|u\\|_2 = 1$. $\\sigma := \\sigma^{(0)}$\n",
    "2. for i=1,2,...,k  Compute \n",
    "    1. $v^{(i)}=(A-\\sigma^{(i-1)} I)^{-1}u^{(i-1)}$\n",
    "    2. $\\mu^{(i)}=\\|v^{(i)}\\|_2$  \n",
    "    3. $u^{(i)}=v^{(i)}/\\mu^{(i)}$  \n",
    "    4. $\\sigma^{(i)} = (v^{(i)})^{\\top}Av^{(i)}$\n",
    "3. $\\mu^{(k)}$ is the eigenvalue closest to $\\sigma$, and $u^{(k)}$ is the corresponding eigenvector"
   ]
  },
  {
   "cell_type": "markdown",
   "metadata": {},
   "source": [
    "#### Example\n",
    "Here we take variant shifts $\\sigma^{(i)} = (v^{(i)})^{\\top}Av^{(i)}$"
   ]
  },
  {
   "cell_type": "code",
   "execution_count": 8,
   "metadata": {},
   "outputs": [
    {
     "name": "stdout",
     "output_type": "stream",
     "text": [
      "The eigenvalue is 13.783786351974396\n",
      "# of iterations= 8\n"
     ]
    }
   ],
   "source": [
    "u = rand(3); u=u/norm(u,2);\n",
    "sigma = u'*A*u;\n",
    "sigma0 = 1;\n",
    "mu = 1;\n",
    "eps = 1.0e-10;\n",
    "ii=0;\n",
    "while abs.(sigma-sigma0)>eps\n",
    "    sigma0 = sigma;\n",
    "    v = (A-sigma*UniformScaling(1))\\u;\n",
    "    v = v/norm(v,2);\n",
    "    sigma = v'*A*v;\n",
    "    ii = ii+1;\n",
    "end\n",
    "println(\"The eigenvalue is \", sigma)\n",
    "println(\"# of iterations= \", ii)"
   ]
  },
  {
   "cell_type": "markdown",
   "metadata": {},
   "source": [
    "#### Example\n",
    "Let's try a bigger symmetric matrix $B$, with size $n=10$. We'll compute the eigenvalue closet to -1 ($\\sigma:=-1$) with all 3 algorithms."
   ]
  },
  {
   "cell_type": "code",
   "execution_count": 9,
   "metadata": {},
   "outputs": [
    {
     "name": "stdout",
     "output_type": "stream",
     "text": [
      "-2.3131285864106017\n",
      "-1.4742155969831732\n",
      "-1.1337919820848548\n",
      "-0.4835431741064402\n",
      "-0.287076080806612\n",
      "-0.05695603462221564\n",
      "0.6497956881700901\n",
      "1.0053010938359734\n",
      "1.2141422043828263\n",
      "2.364659609645527\n"
     ]
    }
   ],
   "source": [
    "n = 10;\n",
    "# Construct a symmectic matrix B\n",
    "B = rand(n,n) .- 0.5; B = B+B';\n",
    "\n",
    "e_B = eigvals(B);\n",
    "for ii=1:n\n",
    "    println(e_B[ii]) \n",
    "end"
   ]
  },
  {
   "cell_type": "markdown",
   "metadata": {},
   "source": [
    "#### Example\n",
    "Shift-inverse power method - Algorithm 1"
   ]
  },
  {
   "cell_type": "code",
   "execution_count": 10,
   "metadata": {},
   "outputs": [
    {
     "name": "stdout",
     "output_type": "stream",
     "text": [
      "The eigenvalue is -1.1337919820850129\n",
      "# of iterations= 23\n"
     ]
    }
   ],
   "source": [
    "u = rand(n); u=u/norm(u,2);\n",
    "sigma = -1;\n",
    "mu0 = 0; mu = 1;\n",
    "eps = 1.0e-10; ii=0;\n",
    "while abs.(mu-mu0)>eps\n",
    "    mu0 = mu;\n",
    "    v = (B-sigma*UniformScaling(1))\\u;\n",
    "    mu = v[2];\n",
    "    u = v/mu;\n",
    "    ii = ii+1;\n",
    "end\n",
    "println(\"The eigenvalue is \", sigma + 1/mu)\n",
    "println(\"# of iterations= \", ii)"
   ]
  },
  {
   "cell_type": "markdown",
   "metadata": {},
   "source": [
    "#### Example\n",
    "Shift-inverse power method - Algorithm 2"
   ]
  },
  {
   "cell_type": "code",
   "execution_count": 11,
   "metadata": {},
   "outputs": [
    {
     "name": "stdout",
     "output_type": "stream",
     "text": [
      "The eigenvalue is -1.1337919820848545\n",
      "# of iterations= 13\n"
     ]
    }
   ],
   "source": [
    "u = rand(n); u=u/norm(u,2);\n",
    "sigma = -1; sigma0 = 1;\n",
    "mu = 1;\n",
    "eps = 1.0e-10; ii=0;\n",
    "while abs.(sigma-sigma0)>eps\n",
    "    sigma0 = sigma;\n",
    "    v = (B-sigma*UniformScaling(1))\\u;\n",
    "    mu = v[2];\n",
    "    u = v/mu;\n",
    "    sigma = sigma + 1/mu;\n",
    "    ii = ii+1;\n",
    "end\n",
    "println(\"The eigenvalue is \", sigma + 1/mu)\n",
    "println(\"# of iterations= \", ii)"
   ]
  },
  {
   "cell_type": "markdown",
   "metadata": {},
   "source": [
    "#### Example\n",
    "Shift-inverse power method - Algorithm 3"
   ]
  },
  {
   "cell_type": "code",
   "execution_count": 12,
   "metadata": {},
   "outputs": [
    {
     "name": "stdout",
     "output_type": "stream",
     "text": [
      "The eigenvalue is -0.4835431741064395\n",
      "# of iterations= 6\n"
     ]
    }
   ],
   "source": [
    "u = rand(n); u=u/norm(u,2);\n",
    "sigma = -1; sigma0 = 1;\n",
    "mu = 1;\n",
    "eps = 1.0e-10; ii=0;\n",
    "while abs.(sigma-sigma0)>eps\n",
    "    sigma0 = sigma;\n",
    "    global v = (B-sigma*UniformScaling(1))\\u;\n",
    "    v = v/norm(v,2);\n",
    "    sigma = v'*B*v;\n",
    "    ii = ii+1;\n",
    "end\n",
    "println(\"The eigenvalue is \", sigma)\n",
    "println(\"# of iterations= \", ii)"
   ]
  },
  {
   "cell_type": "markdown",
   "metadata": {},
   "source": [
    "Do you see the differences in the numbers of iterations? Also, we see that the results are different. All of the algorithms converges to a eigenvalue, but some of them might converges to a wrong one."
   ]
  },
  {
   "cell_type": "markdown",
   "metadata": {},
   "source": [
    "## Conclusion\n",
    "\n",
    "As a brief summary, we have shown how to find the first (or largest in magnitude) eigenvalue, "
   ]
  }
 ],
 "metadata": {
  "kernelspec": {
   "display_name": "Julia 1.1.0",
   "language": "julia",
   "name": "julia-1.1"
  },
  "language_info": {
   "file_extension": ".jl",
   "mimetype": "application/julia",
   "name": "julia",
   "version": "1.1.0"
  }
 },
 "nbformat": 4,
 "nbformat_minor": 2
}
