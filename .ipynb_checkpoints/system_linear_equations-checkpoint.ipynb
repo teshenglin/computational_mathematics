{
 "cells": [
  {
   "cell_type": "markdown",
   "metadata": {
    "id": "ugpohfyUTbhl"
   },
   "source": [
    "# System of linear equations\n",
    "\n",
    ">    To solve $Ax=b$, where $A$ is an $n\\times n$ matrix.\n",
    "\n",
    "1. Pivoting\n",
    "2. Timing between solving $Ax=b$ and $x = A^{-1}*b$\n",
    "3. LU-factorization\n",
    "4. Condition number\n",
    "5. Jacobi method to solve a linear system\n"
   ]
  },
  {
   "cell_type": "markdown",
   "metadata": {
    "id": "xMh5WAWrCImM"
   },
   "source": [
    "## 1. Pivoting"
   ]
  },
  {
   "cell_type": "markdown",
   "metadata": {
    "id": "XPLs8THrTp8w"
   },
   "source": [
    "Consider the linear system: \n",
    "$$\n",
    "\\left[\\begin{matrix}\\epsilon & 1 \\\\ 1 & 1\\end{matrix}\\right]\n",
    "\\left[\\begin{matrix} x \\\\ y\\end{matrix}\\right] = \n",
    "\\left[\\begin{matrix} 1 \\\\ 2\\end{matrix}\\right]\n",
    "$$\n",
    "Without pivoting, the solution is given as\n",
    "$$\n",
    "y_1 = \\frac{2-1/\\epsilon}{1-1/\\epsilon}, \\quad x_1 = \\frac{1-y_1}{\\epsilon}.\n",
    "$$\n",
    "With pivoting, the solution is given as\n",
    "$$\n",
    "y_2 = \\frac{1-2\\epsilon}{1-\\epsilon}, \\quad x_2 = 2-y_2.\n",
    "$$\n",
    "\n",
    "Also note that, the exact solution of this problem can be written as\n",
    "$$\n",
    "x = 1 + \\frac{\\epsilon}{1 - \\epsilon} = 1+\\epsilon + \\epsilon^2 + \\cdots, \\\\\\\\\n",
    "y = 1 - \\frac{\\epsilon}{1 - \\epsilon} = 1-\\epsilon - \\epsilon^2 - \\cdots.\n",
    "$$"
   ]
  },
  {
   "cell_type": "code",
   "execution_count": 1,
   "metadata": {
    "id": "2IrnObixTdyp"
   },
   "outputs": [],
   "source": [
    "import numpy as np"
   ]
  },
  {
   "cell_type": "code",
   "execution_count": 2,
   "metadata": {
    "colab": {
     "base_uri": "https://localhost:8080/"
    },
    "id": "dQtEHpMmTXoI",
    "outputId": "527ffb24-8eb6-45ec-e048-5cf8a52caf30"
   },
   "outputs": [
    {
     "name": "stdout",
     "output_type": "stream",
     "text": [
      "epsilon equals to  1e-16\n",
      "Without pivoting, the solutions are x1= 2.220446049250313    y1= 0.9999999999999998\n",
      "With    pivoting, the solutions are x2= 1.0    y2= 0.9999999999999999\n"
     ]
    }
   ],
   "source": [
    "# define the epsilon value\n",
    "eps = 1.0*10**(-16)\n",
    "\n",
    "# calculate x1 and y1\n",
    "y1 = (2.0-1.0/eps)/(1.0-1.0/eps)\n",
    "x1 = (1.0-y1)/eps\n",
    "\n",
    "# calculate x2 and y2\n",
    "y2 = (1.0-2.0*eps)/(1.0-eps)\n",
    "x2 = 2.0-y2\n",
    "\n",
    "# print the solutions\n",
    "print('epsilon equals to ', eps)\n",
    "print('Without pivoting, the solutions are x1=', x1, '   y1=', y1)\n",
    "print('With    pivoting, the solutions are x2=', x2, '   y2=', y2)"
   ]
  },
  {
   "cell_type": "code",
   "execution_count": 3,
   "metadata": {},
   "outputs": [
    {
     "name": "stdout",
     "output_type": "stream",
     "text": [
      "epsilon equals to  1e-10\n",
      "Without pivoting, the solutions are x1= 1.000000082740371    y1= 0.9999999999\n",
      "With    pivoting, the solutions are x2= 1.0000000001    y2= 0.9999999999\n"
     ]
    }
   ],
   "source": [
    "# define the epsilon value\n",
    "eps = 1.0*10**(-10)\n",
    "\n",
    "# calculate x1 and y1\n",
    "y1 = (2.0-1.0/eps)/(1.0-1.0/eps)\n",
    "x1 = (1.0-y1)/eps\n",
    "\n",
    "# calculate x2 and y2\n",
    "y2 = (1.0-2.0*eps)/(1.0-eps)\n",
    "x2 = 2.0-y2\n",
    "\n",
    "# print the solutions\n",
    "print('epsilon equals to ', eps)\n",
    "print('Without pivoting, the solutions are x1=', x1, '   y1=', y1)\n",
    "print('With    pivoting, the solutions are x2=', x2, '   y2=', y2)"
   ]
  },
  {
   "cell_type": "markdown",
   "metadata": {
    "id": "dt2_PcnfOfbW"
   },
   "source": [
    "### Quick conclusion\n",
    "* Gaussian elimination without pivoting is *unstable*. \n",
    "* Gaussian elimination with pivoting is *stable*. \n",
    "\n",
    "---"
   ]
  },
  {
   "cell_type": "markdown",
   "metadata": {
    "id": "x5nsMrcYCMvP"
   },
   "source": [
    "## 2. Timing"
   ]
  },
  {
   "cell_type": "markdown",
   "metadata": {
    "id": "jokAMsqMG6Dd"
   },
   "source": [
    "To have a feeling on the time requried between the following operations:\n",
    "1. matrix-vector multiplication: $A\\times b$\n",
    "2. Solve a linear system: $Ax=b$\n",
    "3. Solve a linear system by matrix inversion: $x=A^{-1}b$\n",
    "\n",
    "*Caution:*\n",
    "\n",
    "矩陣與向量乘法不能直接寫 `A*b`, 要用 `np.matmul(A,b)` 或是 `A.dot(b)`."
   ]
  },
  {
   "cell_type": "code",
   "execution_count": 4,
   "metadata": {
    "colab": {
     "base_uri": "https://localhost:8080/"
    },
    "id": "2ugP6zApMDMp",
    "outputId": "8dc3e44a-e6f4-4b1f-f42e-739d101374d9"
   },
   "outputs": [
    {
     "name": "stdout",
     "output_type": "stream",
     "text": [
      "A= \n",
      "[[2.69478133 0.91451701]\n",
      " [0.49458707 2.52188991]]\n",
      "b= \n",
      "[[0.86923046]\n",
      " [0.38494273]]\n",
      "A*b= \n",
      "[[2.34238601 0.79492604]\n",
      " [0.1903877  0.97078318]]\n",
      "np.matmul= \n",
      "[[2.69442268]\n",
      " [1.40069333]]\n",
      ".dot= \n",
      "[[2.69442268]\n",
      " [1.40069333]]\n"
     ]
    }
   ],
   "source": [
    "m = 2\n",
    "## construct a m-by-m matrix\n",
    "A = m*np.identity(m) + np.random.random((m,m))\n",
    "## construct a m-by-1 vector\n",
    "b = np.random.random((m,1))\n",
    "\n",
    "# print A, b and A*b\n",
    "print('A= ')\n",
    "print(A)\n",
    "print('b= ')\n",
    "print(b)\n",
    "print('A*b= ')\n",
    "print(A*b)\n",
    "print('np.matmul= ')\n",
    "print(np.matmul(A,b))\n",
    "print('.dot= ')\n",
    "print(A.dot(b))"
   ]
  },
  {
   "cell_type": "code",
   "execution_count": 5,
   "metadata": {
    "id": "9Q_acalhDqPU"
   },
   "outputs": [],
   "source": [
    "from timeit import timeit"
   ]
  },
  {
   "cell_type": "code",
   "execution_count": 6,
   "metadata": {
    "id": "F0Ypp-jgD3Yn"
   },
   "outputs": [],
   "source": [
    "def multiplicationtime():\n",
    "  return np.matmul(A, b)\n",
    "def solvetime():\n",
    "  return np.linalg.solve(A, b)\n",
    "def solveinvtime():\n",
    "  return np.linalg.inv(A)*b"
   ]
  },
  {
   "cell_type": "markdown",
   "metadata": {
    "id": "_BRBA-y0Jije"
   },
   "source": [
    "Generate a $m\\times m$ non-singular random matrix $A$ and a $m\\times 1$ random vector $b$."
   ]
  },
  {
   "cell_type": "code",
   "execution_count": 7,
   "metadata": {
    "id": "ptHDT84vUWEw"
   },
   "outputs": [],
   "source": [
    "m = 2000\n",
    "A = m*np.identity(m) + np.random.random((m,m))\n",
    "b = np.random.random((m,1))"
   ]
  },
  {
   "cell_type": "code",
   "execution_count": 8,
   "metadata": {
    "colab": {
     "base_uri": "https://localhost:8080/"
    },
    "id": "I3xDbMySDcOv",
    "outputId": "0ef93731-14af-4887-85fa-8917925e5c25"
   },
   "outputs": [
    {
     "name": "stdout",
     "output_type": "stream",
     "text": [
      "m=    2000\n",
      "The time takes for A times b is  0.012676316999999493\n",
      "The time takes for solving Ax=b is  0.4946612729999993\n",
      "The time takes for A^(-1) times b is  1.635833688\n"
     ]
    }
   ],
   "source": [
    "print('m=   ', m)\n",
    "print('The time takes for A times b is ', timeit(stmt=multiplicationtime, number=10))\n",
    "print('The time takes for solving Ax=b is ', timeit(stmt=solvetime, number=10))\n",
    "print('The time takes for A^(-1) times b is ', timeit(stmt=solveinvtime, number=10))"
   ]
  },
  {
   "cell_type": "markdown",
   "metadata": {
    "id": "cMuUtYqaPGef"
   },
   "source": [
    "### Quick conclusion\n",
    "The solution to the linear system $Ax=b$ is written as $x = A^{-1}b$, but in practice we should not use this formula to evaluate the solution.\n",
    "\n",
    "---"
   ]
  },
  {
   "cell_type": "markdown",
   "metadata": {
    "id": "psciiQlFFrmV"
   },
   "source": [
    "## 3. LU-factorization"
   ]
  },
  {
   "cell_type": "code",
   "execution_count": 9,
   "metadata": {
    "id": "bHgmRm1kGLFk"
   },
   "outputs": [],
   "source": [
    "import numpy as np\n",
    "import scipy\n",
    "import scipy.linalg"
   ]
  },
  {
   "cell_type": "code",
   "execution_count": 10,
   "metadata": {
    "colab": {
     "base_uri": "https://localhost:8080/"
    },
    "id": "87M3FfvLGT1k",
    "outputId": "b2722ee1-8d36-4cb2-e95b-262e0dabc101"
   },
   "outputs": [
    {
     "name": "stdout",
     "output_type": "stream",
     "text": [
      "[[ 1. -2.  3.  0.]\n",
      " [ 3. -6.  9.  3.]\n",
      " [ 2.  1.  4.  1.]\n",
      " [ 1. -2.  2.  2.]]\n"
     ]
    }
   ],
   "source": [
    "A = np.array([\n",
    "    [1.0, -2.0, 3.0, 0.0],\n",
    "    [3.0, -6.0, 9.0, 3.0],\n",
    "    [2.0, 1.0, 4.0, 1.0],\n",
    "    [1.0, -2.0, 2.0, 2.0]\n",
    "])\n",
    "print(A)"
   ]
  },
  {
   "cell_type": "code",
   "execution_count": 11,
   "metadata": {
    "colab": {
     "base_uri": "https://localhost:8080/"
    },
    "id": "maoN5Fo4F3tf",
    "outputId": "df3af412-2202-4211-f2e0-16ec491d6668"
   },
   "outputs": [
    {
     "name": "stdout",
     "output_type": "stream",
     "text": [
      "P = \n",
      "[[0. 0. 0. 1.]\n",
      " [1. 0. 0. 0.]\n",
      " [0. 1. 0. 0.]\n",
      " [0. 0. 1. 0.]]\n",
      "L = \n",
      "[[ 1.00000000e+00  0.00000000e+00  0.00000000e+00  0.00000000e+00]\n",
      " [ 6.66666667e-01  1.00000000e+00  0.00000000e+00  0.00000000e+00]\n",
      " [ 3.33333333e-01 -2.22044605e-17  1.00000000e+00  0.00000000e+00]\n",
      " [ 3.33333333e-01 -2.22044605e-17 -1.22124533e-16  1.00000000e+00]]\n",
      "U = \n",
      "[[ 3. -6.  9.  3.]\n",
      " [ 0.  5. -2. -1.]\n",
      " [ 0.  0. -1.  1.]\n",
      " [ 0.  0.  0. -1.]]\n",
      "P*L*U= \n",
      "[[ 1. -2.  3.  0.]\n",
      " [ 3. -6.  9.  3.]\n",
      " [ 2.  1.  4.  1.]\n",
      " [ 1. -2.  2.  2.]]\n"
     ]
    }
   ],
   "source": [
    "### LU-factorization of A\n",
    "P, L, U = scipy.linalg.lu(A)\n",
    "print(f'P = ')\n",
    "print(P)\n",
    "print(f'L = ')\n",
    "print(L)\n",
    "print(f'U = ')\n",
    "print(U)\n",
    "print(f'P*L*U= ')\n",
    "print(P.dot(L).dot(U))"
   ]
  },
  {
   "cell_type": "markdown",
   "metadata": {
    "id": "rdJhU_l9HFMF"
   },
   "source": [
    "## 4. Condition number"
   ]
  },
  {
   "cell_type": "code",
   "execution_count": 12,
   "metadata": {
    "id": "haEs8I6QHIxC"
   },
   "outputs": [],
   "source": [
    "import numpy as np\n",
    "from numpy import linalg as LA"
   ]
  },
  {
   "cell_type": "code",
   "execution_count": 13,
   "metadata": {
    "colab": {
     "base_uri": "https://localhost:8080/"
    },
    "id": "wIISt4hNnnJw",
    "outputId": "51003661-6aa6-4f71-e96f-4e2a28a7c69a"
   },
   "outputs": [
    {
     "name": "stdout",
     "output_type": "stream",
     "text": [
      "A= \n",
      "[[ 1.01 -2.    3.    0.  ]\n",
      " [ 3.   -6.    9.    3.  ]\n",
      " [ 2.    1.    4.    1.  ]\n",
      " [ 1.   -2.    2.    2.  ]]\n",
      "condition number of A in 2-norm =  55.51183485384223\n"
     ]
    }
   ],
   "source": [
    "A = np.array([\n",
    "    [1.01, -2.0, 3.0, 0.0],\n",
    "    [3.0, -6.0, 9.0, 3.0],\n",
    "    [2.0, 1.0, 4.0, 1.0],\n",
    "    [1.0, -2.0, 2.0, 2.0]\n",
    "])\n",
    "print('A= ')\n",
    "print(A)\n",
    "print('condition number of A in 2-norm = ', LA.cond(A))"
   ]
  },
  {
   "cell_type": "code",
   "execution_count": 14,
   "metadata": {
    "colab": {
     "base_uri": "https://localhost:8080/"
    },
    "id": "pOqnIPBbnsT3",
    "outputId": "0323345b-d811-49b0-a255-d7626761ed17"
   },
   "outputs": [
    {
     "name": "stdout",
     "output_type": "stream",
     "text": [
      "B= \n",
      "[[1.01 0.99]\n",
      " [0.99 1.01]]\n",
      "condition number of B in inf-norm =  99.99999999999991\n"
     ]
    }
   ],
   "source": [
    "B = np.array([\n",
    "    [1.01, 0.99],\n",
    "    [0.99, 1.01]\n",
    "])\n",
    "print('B= ')\n",
    "print(B)\n",
    "print('condition number of B in inf-norm = ', LA.cond(B, np.inf))"
   ]
  },
  {
   "cell_type": "code",
   "execution_count": 15,
   "metadata": {
    "id": "7BtW8uCFPeRV"
   },
   "outputs": [],
   "source": [
    "from timeit import timeit"
   ]
  },
  {
   "cell_type": "code",
   "execution_count": 16,
   "metadata": {
    "id": "KqkNuF2bPl9E"
   },
   "outputs": [],
   "source": [
    "def conditiontime():\n",
    "  return LA.cond(A)\n",
    "def conditiontime2():\n",
    "  return LA.cond(A, np.inf)"
   ]
  },
  {
   "cell_type": "code",
   "execution_count": 17,
   "metadata": {
    "id": "fe0SnkQuPl5x"
   },
   "outputs": [],
   "source": [
    "m = 2000\n",
    "A = np.random.random((m,m))"
   ]
  },
  {
   "cell_type": "code",
   "execution_count": 18,
   "metadata": {
    "colab": {
     "base_uri": "https://localhost:8080/"
    },
    "id": "SmZ_N1ObPl2I",
    "outputId": "616568ca-8e95-48f4-f839-99d0e51b337d"
   },
   "outputs": [
    {
     "name": "stdout",
     "output_type": "stream",
     "text": [
      "The time takes to evaluate the cond in 2-norm of a matrix of size  2000  is  17.471800082\n",
      "The time takes to evaluate the cond in inf-norm of a matrix of size  2000  is  1.8847476039999975\n"
     ]
    }
   ],
   "source": [
    "print('The time takes to evaluate the cond in 2-norm of a matrix of size ', m, ' is ', timeit(stmt=conditiontime, number=10))\n",
    "print('The time takes to evaluate the cond in inf-norm of a matrix of size ', m, ' is ', timeit(stmt=conditiontime2, number=10))"
   ]
  },
  {
   "cell_type": "markdown",
   "metadata": {},
   "source": [
    "### Quick conclusion\n",
    "It looks like to evaluate the condition number of a matrix in $\\infty$-norm is faster than in $2$-norm.\n",
    "\n",
    "---"
   ]
  },
  {
   "cell_type": "markdown",
   "metadata": {
    "id": "JvMN9QheCTBp"
   },
   "source": [
    "## 5. Jacobi method to solve a linear system"
   ]
  },
  {
   "cell_type": "code",
   "execution_count": 19,
   "metadata": {
    "id": "frFEbdZACfmh"
   },
   "outputs": [],
   "source": [
    "import numpy as np\n",
    "from numpy import linalg as LA"
   ]
  },
  {
   "cell_type": "markdown",
   "metadata": {
    "id": "A9gmFM-Satk1"
   },
   "source": [
    "Construct a $m\\times m$ diagonal dominant matrix by adding a diagonal matrix with its element to be $m$. "
   ]
  },
  {
   "cell_type": "code",
   "execution_count": 20,
   "metadata": {
    "colab": {
     "base_uri": "https://localhost:8080/"
    },
    "id": "1mqncB9KoXEo",
    "outputId": "0da4f5ad-3df2-4b11-a1bb-2d855666f6ac"
   },
   "outputs": [
    {
     "name": "stdout",
     "output_type": "stream",
     "text": [
      "shape of A =  (2000, 2000)\n",
      "shape of b =  (2000, 1)\n"
     ]
    }
   ],
   "source": [
    "m = 2000\n",
    "# A: the m-by-m diagonal dominant matrix\n",
    "A = m*np.identity(m) + np.random.random((m,m))\n",
    "# xe: the exact solution\n",
    "xe = np.random.random((m,1))\n",
    "# b: the right hand side vector, b = Ax\n",
    "b = A.dot(xe)\n",
    "print('shape of A = ', np.shape(A))\n",
    "print('shape of b = ', np.shape(b))"
   ]
  },
  {
   "cell_type": "markdown",
   "metadata": {
    "id": "8yaeBg24b5Vn"
   },
   "source": [
    "Calculate the condition number of A"
   ]
  },
  {
   "cell_type": "code",
   "execution_count": 21,
   "metadata": {
    "colab": {
     "base_uri": "https://localhost:8080/"
    },
    "id": "msY7qiQDbrAK",
    "outputId": "6229a2aa-41e2-4b53-a40f-351a58af811f"
   },
   "outputs": [
    {
     "name": "stdout",
     "output_type": "stream",
     "text": [
      "condition number of A in inf-norm =  2.0924253551884564\n"
     ]
    }
   ],
   "source": [
    "print('condition number of A in inf-norm = ', LA.cond(A, np.inf))"
   ]
  },
  {
   "cell_type": "markdown",
   "metadata": {
    "id": "DIqrCT5Jb8Z2"
   },
   "source": [
    "Split the matrix into $D$, $L$ and $U$.\n",
    "\n",
    "Define `dAinv` to be $D^{-1}$."
   ]
  },
  {
   "cell_type": "code",
   "execution_count": 22,
   "metadata": {
    "id": "R8sbX-rIRfIb"
   },
   "outputs": [],
   "source": [
    "### Splitting A into D, L and U\n",
    "D = np.diag(A)\n",
    "dA = D.reshape(m,1)\n",
    "D = np.diag(D)\n",
    "U = np.triu(A, 1)\n",
    "L = A - D - U\n",
    "dAinv = np.reciprocal(dA)"
   ]
  },
  {
   "cell_type": "markdown",
   "metadata": {
    "id": "VIzEugLicMdO"
   },
   "source": [
    "Jacobi iteration:\n",
    "$$\n",
    "x^{(k+1)} = D^{-1}(b - (L+U)x^{(k)}).\n",
    "$$\n",
    "* `mtrJ`: $L+U$\n",
    "* `xk`: $x^{(k)}$\n",
    "* `xkp1`: $x^{(k+1)}$\n",
    "\n",
    "We measure the residual $\\|b - Ax\\|$ and the difference between two steps $\\|x^{(k+1)}-x^{(k)}\\|$. "
   ]
  },
  {
   "cell_type": "code",
   "execution_count": 23,
   "metadata": {
    "colab": {
     "base_uri": "https://localhost:8080/"
    },
    "id": "4c_U8V_WTZqZ",
    "outputId": "2ee78b36-bd21-4823-d4f3-5eac84797593"
   },
   "outputs": [
    {
     "name": "stdout",
     "output_type": "stream",
     "text": [
      "\n",
      "Jacobi iteration:\n",
      "\n",
      "Iter    1, relative residual: 9.4518e+02, relative difference: 1.3086e+00\n",
      "Iter    2, relative residual: 4.7322e+02, relative difference: 1.4977e+00\n",
      "Iter    3, relative residual: 2.3630e+02, relative difference: 1.4979e+00\n",
      "Iter    4, relative residual: 1.1800e+02, relative difference: 1.5023e+00\n",
      "Iter    5, relative residual: 5.8929e+01, relative difference: 1.4935e+00\n",
      "Iter    6, relative residual: 2.9428e+01, relative difference: 1.5077e+00\n",
      "Iter    7, relative residual: 1.4696e+01, relative difference: 1.4634e+00\n",
      "Iter    8, relative residual: 7.3389e+00, relative difference: 1.5122e+00\n",
      "Iter    9, relative residual: 3.6649e+00, relative difference: 1.3124e+00\n",
      "Iter   10, relative residual: 1.8302e+00, relative difference: 1.5286e+00\n",
      "Iter   11, relative residual: 9.1398e-01, relative difference: 9.2033e-01\n",
      "Iter   12, relative residual: 4.5642e-01, relative difference: 1.5374e+00\n",
      "Iter   13, relative residual: 2.2793e-01, relative difference: 4.1874e-01\n",
      "Iter   14, relative residual: 1.1382e-01, relative difference: 3.4906e-01\n",
      "Iter   15, relative residual: 5.6842e-02, relative difference: 1.3100e-01\n",
      "Iter   16, relative residual: 2.8386e-02, relative difference: 7.4744e-02\n",
      "Iter   17, relative residual: 1.4176e-02, relative difference: 3.4857e-02\n",
      "Iter   18, relative residual: 7.0790e-03, relative difference: 1.8005e-02\n",
      "Iter   19, relative residual: 3.5352e-03, relative difference: 8.8404e-03\n",
      "Iter   20, relative residual: 1.7654e-03, relative difference: 4.4524e-03\n",
      "Iter   21, relative residual: 8.8161e-04, relative difference: 2.2140e-03\n",
      "Iter   22, relative residual: 4.4026e-04, relative difference: 1.1080e-03\n",
      "Iter   23, relative residual: 2.1986e-04, relative difference: 5.5273e-04\n",
      "Iter   24, relative residual: 1.0979e-04, relative difference: 2.7617e-04\n",
      "Iter   25, relative residual: 5.4829e-05, relative difference: 1.3788e-04\n",
      "Iter   26, relative residual: 2.7381e-05, relative difference: 6.8863e-05\n",
      "Iter   27, relative residual: 1.3674e-05, relative difference: 3.4387e-05\n",
      "Iter   28, relative residual: 6.8283e-06, relative difference: 1.7173e-05\n",
      "Iter   29, relative residual: 3.4100e-06, relative difference: 8.5756e-06\n",
      "Iter   30, relative residual: 1.7029e-06, relative difference: 4.2826e-06\n",
      "Iter   31, relative residual: 8.5039e-07, relative difference: 2.1386e-06\n",
      "Iter   32, relative residual: 4.2467e-07, relative difference: 1.0680e-06\n",
      "Iter   33, relative residual: 2.1207e-07, relative difference: 5.3334e-07\n",
      "Iter   34, relative residual: 1.0591e-07, relative difference: 2.6634e-07\n",
      "Iter   35, relative residual: 5.2888e-08, relative difference: 1.3301e-07\n",
      "Iter   36, relative residual: 2.6411e-08, relative difference: 6.6421e-08\n",
      "Iter   37, relative residual: 1.3189e-08, relative difference: 3.3170e-08\n",
      "Iter   38, relative residual: 6.5865e-09, relative difference: 1.6564e-08\n",
      "Iter   39, relative residual: 3.2892e-09, relative difference: 8.2720e-09\n",
      "Iter   40, relative residual: 1.6426e-09, relative difference: 4.1309e-09\n",
      "Iter   41, relative residual: 8.2027e-10, relative difference: 2.0629e-09\n",
      "Iter   42, relative residual: 4.0963e-10, relative difference: 1.0302e-09\n",
      "Iter   43, relative residual: 2.0456e-10, relative difference: 5.1445e-10\n",
      "Iter   44, relative residual: 1.0216e-10, relative difference: 2.5691e-10\n",
      "Iter   45, relative residual: 5.1015e-11, relative difference: 1.2830e-10\n",
      "Iter   46, relative residual: 2.5476e-11, relative difference: 6.4069e-11\n",
      "Iter   47, relative residual: 1.2722e-11, relative difference: 3.1995e-11\n",
      "Iter   48, relative residual: 6.3531e-12, relative difference: 1.5978e-11\n",
      "Iter   49, relative residual: 3.1728e-12, relative difference: 7.9790e-12\n",
      "Iter   50, relative residual: 1.5844e-12, relative difference: 3.9845e-12\n",
      "Iter   51, relative residual: 7.9088e-13, relative difference: 1.9897e-12\n",
      "Iter   52, relative residual: 3.9490e-13, relative difference: 9.9358e-13\n",
      "Iter   53, relative residual: 1.9749e-13, relative difference: 4.9618e-13\n",
      "Iter   54, relative residual: 9.8747e-14, relative difference: 2.4781e-13\n",
      "Iter   55, relative residual: 4.9057e-14, relative difference: 1.2382e-13\n",
      "Iter   56, relative residual: 2.4981e-14, relative difference: 6.1856e-14\n",
      "Iter   57, relative residual: 1.3396e-14, relative difference: 3.0928e-14\n",
      "Iter   58, relative residual: 7.2408e-15, relative difference: 1.5492e-14\n",
      "Iter   59, relative residual: 4.1635e-15, relative difference: 7.7736e-15\n",
      "Iter   60, relative residual: 2.6248e-15, relative difference: 3.9979e-15\n",
      "Iter   61, relative residual: 1.8102e-15, relative difference: 2.2210e-15\n",
      "Iter   62, relative residual: 1.6292e-15, relative difference: 1.2216e-15\n",
      "Iter   63, relative residual: 1.2671e-15, relative difference: 7.7736e-16\n"
     ]
    }
   ],
   "source": [
    "### Jacobi iteration\n",
    "mtrJ = L + U\n",
    "k = 0\n",
    "xk = b\n",
    "tolr = 1e-15\n",
    "itmx = 100\n",
    "\n",
    "b_inf = np.linalg.norm(b, np.inf)\n",
    "rel_res_inf = 1.0\n",
    "rel_dif_inf = 1.0\n",
    "\n",
    "print('')\n",
    "print('Jacobi iteration:')\n",
    "print('')\n",
    "\n",
    "while ( (rel_res_inf>tolr) and (rel_dif_inf>tolr) and (k<itmx) ):\n",
    "    # Jacobi iterative step\n",
    "    xkp1 = dAinv*(b - mtrJ.dot(xk))\n",
    "\n",
    "    # relative residual\n",
    "    res = b - np.matmul(A, xkp1)\n",
    "    rel_res_inf = np.linalg.norm(res, np.inf)/b_inf\n",
    "    dif = xkp1 - xk\n",
    "    rel_dif_inf = np.linalg.norm(dif, np.inf)/np.linalg.norm(xk, np.inf)\n",
    "    k += 1\n",
    "    print('Iter %4d, relative residual: %.4e, relative difference: %.4e' % (k, rel_res_inf, rel_dif_inf) )\n",
    "    xk = xkp1"
   ]
  },
  {
   "cell_type": "markdown",
   "metadata": {
    "id": "Q3MGeRQsdAb8"
   },
   "source": [
    "Here we solve the system $Ax=b$ directly by `np.linalg.solve`. Denote this solution as `xs`."
   ]
  },
  {
   "cell_type": "code",
   "execution_count": 24,
   "metadata": {
    "colab": {
     "base_uri": "https://localhost:8080/"
    },
    "id": "-Ijd0WzECheo",
    "outputId": "0ae74295-98c7-4f0e-9418-ae41f04c8464"
   },
   "outputs": [
    {
     "name": "stdout",
     "output_type": "stream",
     "text": [
      "relative residual:  7.059808697206046e-15\n"
     ]
    }
   ],
   "source": [
    "### Solve linear system directly\n",
    "xs = np.linalg.solve(A, b)\n",
    "print('relative residual: ', np.linalg.norm(b - A.dot(xs), np.inf)/b_inf)"
   ]
  },
  {
   "cell_type": "markdown",
   "metadata": {
    "id": "c1t3_uAoeIHz"
   },
   "source": [
    "The error between the solutions obtained using two approaches."
   ]
  },
  {
   "cell_type": "code",
   "execution_count": 25,
   "metadata": {
    "colab": {
     "base_uri": "https://localhost:8080/"
    },
    "id": "wksVmaduedSk",
    "outputId": "237c4750-0567-4864-fba4-e895b177f90b"
   },
   "outputs": [
    {
     "name": "stdout",
     "output_type": "stream",
     "text": [
      "Error of Jacobi =  1.6653345369377348e-15\n",
      "Error of linalg.solve =  8.659739592076221e-15\n"
     ]
    }
   ],
   "source": [
    "# the error of the solution obtained using the Jacobi method\n",
    "err_jac = np.linalg.norm(xk-xe, np.inf)\n",
    "# the error of the solution obtained using the linear solver\n",
    "err_lin = np.linalg.norm(xs-xe, np.inf)\n",
    "print('Error of Jacobi = ', err_jac)\n",
    "print('Error of linalg.solve = ', err_lin)"
   ]
  }
 ],
 "metadata": {
  "colab": {
   "authorship_tag": "ABX9TyN3/MoJlgCIwecjTs04eenS",
   "collapsed_sections": [],
   "name": "system_linear_equations.ipynb",
   "provenance": []
  },
  "kernelspec": {
   "display_name": "Python 3 (ipykernel)",
   "language": "python",
   "name": "python3"
  },
  "language_info": {
   "codemirror_mode": {
    "name": "ipython",
    "version": 3
   },
   "file_extension": ".py",
   "mimetype": "text/x-python",
   "name": "python",
   "nbconvert_exporter": "python",
   "pygments_lexer": "ipython3",
   "version": "3.9.7"
  }
 },
 "nbformat": 4,
 "nbformat_minor": 4
}
