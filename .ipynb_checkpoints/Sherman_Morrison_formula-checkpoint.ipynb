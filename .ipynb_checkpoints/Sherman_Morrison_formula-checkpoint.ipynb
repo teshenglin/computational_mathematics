{
 "cells": [
  {
   "cell_type": "markdown",
   "metadata": {
    "id": "n9PJx5-Uei6_"
   },
   "source": [
    "# The usage of Sherman-Morrison formula"
   ]
  },
  {
   "cell_type": "markdown",
   "metadata": {
    "id": "nvEHcR6ccIJk"
   },
   "source": [
    "## Sherman-Morrison formula\n",
    "\n",
    "$$\n",
    "(A+xy^t)^{-1} = A^{-1} - \\frac{A^{-1} xy^t A^{-1}}{1 + y^t A^{-1} x},\n",
    "$$\n",
    "where $x$ and $y$ are vectors.\n"
   ]
  },
  {
   "cell_type": "markdown",
   "metadata": {
    "id": "v1gNOr5HbbWa"
   },
   "source": [
    "## Solving a system of linear equations with rank one perturbation\n",
    "\n",
    "To solve the system $(A+xy^t)X=b$, we simply apply the formula to have\n",
    "$$\n",
    "X = (A+xy^t)^{-1}b = A^{-1}b - \\frac{A^{-1} xy^t A^{-1}b}{1 + y^t A^{-1} x}.\n",
    "$$\n",
    "\n",
    "The implementation requires two steps: \n",
    "1. At first we define two vectors $u$ and $v$ as\n",
    "  $$\n",
    "  u=A^{-1}b, \\quad v=A^{-1}x.\n",
    "  $$\n",
    "  So that the formula can be rewritten as\n",
    "  $$\n",
    "  X= u - \\frac{vy^t u}{1 + y^t v}.\n",
    "  $$\n",
    "  * In practice, the two vectors $u$ and $v$ are found by solving\n",
    "    $$\n",
    "    A[u, v]=[b, x].\n",
    "    $$\n",
    "2. The second step require performing the vector multiplications in a correct order\n",
    "  $$\n",
    "  X= u - \\frac{v(y^t u)}{1 + y^t v}.\n",
    "  $$\n",
    "\n",
    "To summarize, the operation count for Sherman Morrison formula is about the same as for solving the linear system. \n",
    "\n",
    "---"
   ]
  },
  {
   "cell_type": "markdown",
   "metadata": {
    "id": "IhFhLppgc7ht"
   },
   "source": [
    "## Test 1:\n",
    "To test the time requiring for different implementation, at first we check the vector-vector multiplication time. \n",
    "\n",
    "Let's choose three vectors $u$, $v$ and $y$ and perform the following two operations:\n",
    "1. $v(y^tu)$\n",
    "2. $(vy^t)u$"
   ]
  },
  {
   "cell_type": "code",
   "execution_count": 1,
   "metadata": {
    "id": "cDHCFfqvgGd-"
   },
   "outputs": [],
   "source": [
    "import numpy as np\n",
    "import time"
   ]
  },
  {
   "cell_type": "code",
   "execution_count": 2,
   "metadata": {
    "id": "aJpyPKvXefhQ"
   },
   "outputs": [],
   "source": [
    "n = 10000\n",
    "\n",
    "# Construct u, v, y^t\n",
    "u = np.random.rand(n, 1)\n",
    "v = np.random.rand(n, 1)\n",
    "yT = np.random.rand(1, n)"
   ]
  },
  {
   "cell_type": "code",
   "execution_count": 3,
   "metadata": {
    "colab": {
     "base_uri": "https://localhost:8080/"
    },
    "id": "1P3no9hagKB4",
    "outputId": "aa5eaa87-3a88-409d-f305-0dc333345145"
   },
   "outputs": [
    {
     "name": "stdout",
     "output_type": "stream",
     "text": [
      "version1 time:  0.0005979537963867188\n",
      "version2 time:  0.44327378273010254\n",
      "difference between the results in 2-norm =  7.233859486211503e-11\n"
     ]
    }
   ],
   "source": [
    "# version1\n",
    "start1 = time.time()\n",
    "ver1 = v.dot(yT.dot(u))\n",
    "end1 = time.time()\n",
    "# version2\n",
    "start2 = time.time()\n",
    "ver2 = (v.dot(yT)).dot(u)\n",
    "end2 = time.time()\n",
    "\n",
    "print('version1 time: ', end1-start1)\n",
    "print('version2 time: ', end2-start2)\n",
    "print('difference between the results in 2-norm = ', np.linalg.norm(ver1 - ver2))"
   ]
  },
  {
   "cell_type": "markdown",
   "metadata": {
    "id": "BSSA-SV50oFk"
   },
   "source": [
    "## Test 2:\n",
    "Here we test the time for solving two systems using two different approaches:\n",
    "1. Solve two systems \n",
    "  $$\n",
    "  Au=b, \\quad Av=x.\n",
    "  $$\n",
    "2. Solve both system in the same time\n",
    "  $$\n",
    "  A[u, v]=[b, x].\n",
    "  $$"
   ]
  },
  {
   "cell_type": "code",
   "execution_count": 4,
   "metadata": {
    "id": "OMxqaNPi1CDR"
   },
   "outputs": [],
   "source": [
    "# Construct a n-by-n matrix A\n",
    "n = 3000\n",
    "A = np.random.random((n,n))\n",
    "bx = np.random.random((n,2))\n",
    "b = bx[:,0:1]\n",
    "x = bx[:,1:2]"
   ]
  },
  {
   "cell_type": "code",
   "execution_count": 5,
   "metadata": {
    "colab": {
     "base_uri": "https://localhost:8080/"
    },
    "id": "yT95oWV61B6A",
    "outputId": "bb2e113c-2c59-4852-cb1a-bebcefa73666"
   },
   "outputs": [
    {
     "name": "stdout",
     "output_type": "stream",
     "text": [
      "To solve one matrix requires time (s):  0.1914958953857422\n",
      "To solve two matrices requires time (s):  0.31258511543273926\n",
      "To solve two matrices together requires time (s):  0.17307019233703613\n"
     ]
    }
   ],
   "source": [
    "start0 = time.time()\n",
    "u = np.linalg.solve(A, b)\n",
    "end0 = time.time()\n",
    "print('To solve one matrix requires time (s): ', end0-start0)\n",
    "\n",
    "# version1\n",
    "start1 = time.time()\n",
    "u = np.linalg.solve(A, b)\n",
    "v = np.linalg.solve(A, x)\n",
    "end1 = time.time()\n",
    "print('To solve two matrices requires time (s): ', end1-start1)\n",
    "\n",
    "# version2\n",
    "start2 = time.time()\n",
    "uv = np.linalg.solve(A, bx)\n",
    "end2 = time.time()\n",
    "print('To solve two matrices together requires time (s): ', end2-start2)"
   ]
  },
  {
   "cell_type": "markdown",
   "metadata": {
    "id": "dtUXKGi741pk"
   },
   "source": [
    "## Test 3:\n",
    "Here we consider solving sparse linear systems with rank-1 perturbation"
   ]
  },
  {
   "cell_type": "code",
   "execution_count": 6,
   "metadata": {
    "id": "IgE4XlpXe1B0"
   },
   "outputs": [],
   "source": [
    "import matplotlib.pylab as plt\n",
    "import scipy.sparse\n",
    "import scipy.sparse.linalg"
   ]
  },
  {
   "cell_type": "code",
   "execution_count": 7,
   "metadata": {
    "colab": {
     "base_uri": "https://localhost:8080/",
     "height": 289
    },
    "id": "trrwynFWhD3s",
    "outputId": "b8d646b3-6fa6-44f3-ee10-fa0affef2e62"
   },
   "outputs": [
    {
     "data": {
      "image/png": "[encoded data removed]",
      "text/plain": [
       "<Figure size 432x288 with 1 Axes>"
      ]
     },
     "metadata": {
      "needs_background": "light"
     },
     "output_type": "display_data"
    }
   ],
   "source": [
    "# Construct a n-by-n tridiagonal sparse matrix S\n",
    "n=10000\n",
    "ss = np.random.rand(3, n)\n",
    "S = scipy.sparse.spdiags(ss,(-1, 0, 1), n, n, format='csr')\n",
    "plt.spy(S, markersize=1)\n",
    "\n",
    "bx = np.random.random((n,2))\n",
    "b = bx[:,0:1]\n",
    "x = bx[:,1:2]\n",
    "yT = np.random.random((1,n))"
   ]
  },
  {
   "cell_type": "code",
   "execution_count": 8,
   "metadata": {
    "colab": {
     "base_uri": "https://localhost:8080/"
    },
    "id": "7CdTxkhD1B18",
    "outputId": "77aa0776-99af-425e-c143-945da44015c1"
   },
   "outputs": [
    {
     "name": "stdout",
     "output_type": "stream",
     "text": [
      "To solve a sparse matrix using `scipy.sparse.linalg.spsolve` requires time (s):  0.013693094253540039\n"
     ]
    }
   ],
   "source": [
    "# Estimate the time requires for solving a tridiagonal system\n",
    "start1 = time.time()\n",
    "x_test = scipy.sparse.linalg.spsolve(S, b)\n",
    "end1 = time.time()\n",
    "\n",
    "print('To solve a sparse matrix using `scipy.sparse.linalg.spsolve` requires time (s): ', end1-start1)"
   ]
  },
  {
   "cell_type": "code",
   "execution_count": 9,
   "metadata": {
    "id": "hwyDxDGH1Bzh"
   },
   "outputs": [],
   "source": [
    "# Construct the rank-1 perturbed matrix S2\n",
    "S2 = S + x*yT\n",
    "\n",
    "# Believe me or not, the system is dense, but it takes time to plot. \n",
    "# Uncomment the following lines to give it a try\n",
    "#\n",
    "#plt.spy(S2, markersize=1)"
   ]
  },
  {
   "cell_type": "code",
   "execution_count": 10,
   "metadata": {
    "colab": {
     "base_uri": "https://localhost:8080/"
    },
    "id": "OJI7Neiy1Bw1",
    "outputId": "d62f44b2-3aaf-48f6-d784-6397ef7d8038"
   },
   "outputs": [
    {
     "name": "stdout",
     "output_type": "stream",
     "text": [
      "To solve a dense matrix using `np.linalg.solve` requires time (s):  3.428685188293457\n"
     ]
    }
   ],
   "source": [
    "# Estimate the time to solve directly the rank-1 perturbed system\n",
    "start0 = time.time()\n",
    "xe2 = np.linalg.solve(S2, b)\n",
    "end0 = time.time()\n",
    "print('To solve a dense matrix using `np.linalg.solve` requires time (s): ', end0-start0)\n",
    "\n",
    "# It takes much more time to use `scipy.sparse.linalg.spsolve` to solve a dense system\n",
    "# Uncomment the following lines to give it a try\n",
    "#\n",
    "#start1 = time.time()\n",
    "#x = scipy.sparse.linalg.spsolve(S2, b)\n",
    "#end1 = time.time()\n",
    "#print('To solve a dense matrix using `scipy.sparse.linalg.spsolve` requires time (s): ', end1-start1)"
   ]
  },
  {
   "cell_type": "code",
   "execution_count": 11,
   "metadata": {
    "colab": {
     "base_uri": "https://localhost:8080/"
    },
    "id": "fQjLg3OE0ifg",
    "outputId": "fc9157b8-5905-43cc-d07a-837f2d737f63"
   },
   "outputs": [
    {
     "name": "stdout",
     "output_type": "stream",
     "text": [
      "To time requires for Sherman-Mossison formula (s):  0.008367061614990234\n"
     ]
    }
   ],
   "source": [
    "# Estimate the time for Sherman-Morrison formula\n",
    "start1 = time.time()\n",
    "uv = scipy.sparse.linalg.spsolve(S, bx)\n",
    "u = uv[:,0:1]\n",
    "v = uv[:,1:2]\n",
    "xe = u - v.dot(yT.dot(u))/(1+yT.dot(v))\n",
    "end1 = time.time()\n",
    "print('To time requires for Sherman-Mossison formula (s): ', end1-start1)"
   ]
  },
  {
   "cell_type": "code",
   "execution_count": 12,
   "metadata": {
    "colab": {
     "base_uri": "https://localhost:8080/"
    },
    "id": "4bWvWcvqmhAo",
    "outputId": "36f7e232-0682-4e16-89a3-1303070e14a4"
   },
   "outputs": [
    {
     "name": "stdout",
     "output_type": "stream",
     "text": [
      "difference between the results in 2-norm =  1.1085389763711368e-07\n"
     ]
    }
   ],
   "source": [
    "print('difference between the results in 2-norm = ', np.linalg.norm(xe - xe2))"
   ]
  },
  {
   "cell_type": "code",
   "execution_count": null,
   "metadata": {
    "id": "xlpIzbkx9CY7"
   },
   "outputs": [],
   "source": []
  }
 ],
 "metadata": {
  "colab": {
   "collapsed_sections": [],
   "name": "Sherman_Morrison_formula.ipynb",
   "provenance": []
  },
  "kernelspec": {
   "display_name": "Python 3 (ipykernel)",
   "language": "python",
   "name": "python3"
  },
  "language_info": {
   "codemirror_mode": {
    "name": "ipython",
    "version": 3
   },
   "file_extension": ".py",
   "mimetype": "text/x-python",
   "name": "python",
   "nbconvert_exporter": "python",
   "pygments_lexer": "ipython3",
   "version": "3.9.7"
  }
 },
 "nbformat": 4,
 "nbformat_minor": 4
}
