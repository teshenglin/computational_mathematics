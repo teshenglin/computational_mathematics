{
 "cells": [
  {
   "cell_type": "markdown",
   "id": "4391998f",
   "metadata": {
    "id": "4391998f"
   },
   "source": [
    "# Modify Newton's method\n",
    "\n",
    "> to find a root of multiplicity $m > 1$"
   ]
  },
  {
   "cell_type": "code",
   "execution_count": 2,
   "id": "ade7bf00",
   "metadata": {
    "id": "ade7bf00"
   },
   "outputs": [],
   "source": [
    "import numpy as np"
   ]
  },
  {
   "cell_type": "markdown",
   "id": "aa7b564a-79fe-4d1f-b4c1-5511cccc3c90",
   "metadata": {},
   "source": [
    "## Newton's method to find a root and its multiplicity"
   ]
  },
  {
   "cell_type": "code",
   "execution_count": 3,
   "id": "194a1d56",
   "metadata": {
    "id": "194a1d56"
   },
   "outputs": [],
   "source": [
    "def myfun(x):\n",
    "    \n",
    "    #y = x*(x-3)**4\n",
    "    y = (x-3)*(x-9)**7\n",
    "    \n",
    "    return y\n",
    "\n",
    "def myfunderivative(x):\n",
    "    \n",
    "    #y = (x-3)**4+x*4*(x-3)**3\n",
    "    y = (x-9)**7+(x-3)*7*(x-9)**6\n",
    "    \n",
    "    return y\n"
   ]
  },
  {
   "cell_type": "code",
   "execution_count": 4,
   "id": "087d6700",
   "metadata": {
    "id": "087d6700"
   },
   "outputs": [],
   "source": [
    "def myNewton(p0, tol):\n",
    "    \n",
    "    fp0 = myfun(p0)\n",
    "    dfp0 = myfunderivative(p0)\n",
    "    \n",
    "    if ( abs(dfp0)<1e-15 ):\n",
    "        print(f'|df/dx| = {abs(dfp0)}: the derivative is nearly vanishing!')\n",
    "    \n",
    "    itmax = 1000\n",
    "    pn1 = p0\n",
    "    mul=0\n",
    "    \n",
    "    for ii in range(1, itmax+1):\n",
    "        p1 = p0 - fp0/dfp0\n",
    "        fp1 = myfun(p1)\n",
    "        dfp1 = myfunderivative(p1)\n",
    "        if ( ii>1 ):\n",
    "            lambd = (p1-p0)/(p0-pn1)\n",
    "            pn1 = p0\n",
    "            print('k =', '%3d' % ii, '  p = ', '%.16e' % p1, '  |f(p)| = ', '%.4e' % abs(fp1), '  multiplicity=', '%3d' % round(1.0/(1.0-lambd)))\n",
    "\n",
    "            \n",
    "        if ( abs(p1-p0)<tol ):\n",
    "            print('Tolerance achieved, |p1-p0|= ', '%.4e' % abs(p1-p0))\n",
    "            mul = round(1.0/(1.0-lambd))\n",
    "            break\n",
    "        if(abs(fp1)<1e-16):\n",
    "            print('|f(p)| = ','%.4e' % abs(fp1),'< 1e-16')\n",
    "            mul = round(1.0/(1.0-lambd))\n",
    "            break\n",
    "\n",
    "        if ( abs(dfp1)<1e-20 ):\n",
    "            print(f'|df/dx| = {abs(dfp1)}: the derivative is nearly vanishing!')\n",
    "            mul = round(1.0/(1.0-lambd))\n",
    "            break\n",
    "\n",
    "        p0 = p1\n",
    "        fp0 = fp1\n",
    "        dfp0 = dfp1\n",
    "        \n",
    "    return p1, fp1, mul"
   ]
  },
  {
   "cell_type": "code",
   "execution_count": 5,
   "id": "009b4c31",
   "metadata": {
    "colab": {
     "base_uri": "https://localhost:8080/"
    },
    "id": "009b4c31",
    "outputId": "30ff2d42-e82d-48b7-e0a7-14b9ff445cf9"
   },
   "outputs": [
    {
     "name": "stdout",
     "output_type": "stream",
     "text": [
      "k =   2   p =  7.8506373213180424e+01   |f(p)| =  5.9177e+14   multiplicity=   8\n",
      "k =   3   p =  6.9730910448348737e+01   |f(p)| =  2.0333e+14   multiplicity=   8\n",
      "k =   4   p =  6.2053256186234677e+01   |f(p)| =  6.9860e+13   multiplicity=   8\n",
      "k =   5   p =  5.5336291015644115e+01   |f(p)| =  2.4002e+13   multiplicity=   8\n",
      "k =   6   p =  4.9460045690978070e+01   |f(p)| =  8.2464e+12   multiplicity=   8\n",
      "k =   7   p =  4.4319557579868729e+01   |f(p)| =  2.8331e+12   multiplicity=   8\n",
      "k =   8   p =  3.9822994823903876e+01   |f(p)| =  9.7329e+11   multiplicity=   8\n",
      "k =   9   p =  3.5890014680452765e+01   |f(p)| =  3.3435e+11   multiplicity=   8\n",
      "k =  10   p =  3.2450326699633436e+01   |f(p)| =  1.1485e+11   multiplicity=   8\n",
      "k =  11   p =  2.9442435057209369e+01   |f(p)| =  3.9448e+10   multiplicity=   8\n",
      "k =  12   p =  2.6812537578594359e+01   |f(p)| =  1.3548e+10   multiplicity=   8\n",
      "k =  13   p =  2.4513561809910460e+01   |f(p)| =  4.6526e+09   multiplicity=   8\n",
      "k =  14   p =  2.2504320970448159e+01   |f(p)| =  1.5975e+09   multiplicity=   8\n",
      "k =  15   p =  2.0748774801177277e+01   |f(p)| =  5.4842e+08   multiplicity=   8\n",
      "k =  16   p =  1.9215382243663367e+01   |f(p)| =  1.8824e+08   multiplicity=   8\n",
      "k =  17   p =  1.7876534573781143e+01   |f(p)| =  6.4596e+07   multiplicity=   8\n",
      "k =  18   p =  1.6708059099554546e+01   |f(p)| =  2.2161e+07   multiplicity=   8\n",
      "k =  19   p =  1.5688784831049462e+01   |f(p)| =  7.6006e+06   multiplicity=   8\n",
      "k =  20   p =  1.4800162656520818e+01   |f(p)| =  2.6060e+06   multiplicity=   8\n",
      "k =  21   p =  1.4025933524010780e+01   |f(p)| =  8.9317e+05   multiplicity=   8\n",
      "k =  22   p =  1.3351838941723489e+01   |f(p)| =  3.0600e+05   multiplicity=   8\n",
      "k =  23   p =  1.2765368786130621e+01   |f(p)| =  1.0480e+05   multiplicity=   8\n",
      "k =  24   p =  1.2255541960342329e+01   |f(p)| =  3.5873e+04   multiplicity=   8\n",
      "k =  25   p =  1.1812715898256940e+01   |f(p)| =  1.2274e+04   multiplicity=   8\n",
      "k =  26   p =  1.1428421287938230e+01   |f(p)| =  4.1977e+03   multiplicity=   8\n",
      "k =  27   p =  1.1095218717517064e+01   |f(p)| =  1.4349e+03   multiplicity=   8\n",
      "k =  28   p =  1.0806574253144502e+01   |f(p)| =  4.9029e+02   multiplicity=   7\n",
      "k =  29   p =  1.0556751259276282e+01   |f(p)| =  1.6744e+02   multiplicity=   7\n",
      "k =  30   p =  1.0340716076139467e+01   |f(p)| =  5.7161e+01   multiplicity=   7\n",
      "k =  31   p =  1.0154055477731841e+01   |f(p)| =  1.9505e+01   multiplicity=   7\n",
      "k =  32   p =  9.9929041389282069e+00   |f(p)| =  6.6529e+00   multiplicity=   7\n",
      "k =  33   p =  9.8538806310351710e+00   |f(p)| =  2.2684e+00   multiplicity=   7\n",
      "k =  34   p =  9.7340307299633935e+00   |f(p)| =  7.7317e-01   multiplicity=   7\n",
      "k =  35   p =  9.6307770512272466e+00   |f(p)| =  2.6345e-01   multiplicity=   7\n",
      "k =  36   p =  9.5418742166340369e+00   |f(p)| =  8.9741e-02   multiplicity=   7\n",
      "k =  37   p =  9.4653689086398600e+00   |f(p)| =  3.0562e-02   multiplicity=   7\n",
      "k =  38   p =  9.3995642834034321e+00   |f(p)| =  1.0405e-02   multiplicity=   7\n",
      "k =  39   p =  9.3429882983202983e+00   |f(p)| =  3.5420e-03   multiplicity=   7\n",
      "k =  40   p =  9.2943655709278641e+00   |f(p)| =  1.2055e-03   multiplicity=   7\n",
      "k =  41   p =  9.2525924299974047e+00   |f(p)| =  4.1021e-04   multiplicity=   7\n",
      "k =  42   p =  9.2167148519337783e+00   |f(p)| =  1.3957e-04   multiplicity=   7\n",
      "k =  43   p =  9.1859090006331847e+00   |f(p)| =  4.7480e-05   multiplicity=   7\n",
      "k =  44   p =  9.1594641098113012e+00   |f(p)| =  1.6150e-05   multiplicity=   7\n",
      "k =  45   p =  9.1367674655308573e+00   |f(p)| =  5.4931e-06   multiplicity=   7\n",
      "k =  46   p =  9.1172912644004143e+00   |f(p)| =  1.8682e-06   multiplicity=   7\n",
      "k =  47   p =  9.1005811402483552e+00   |f(p)| =  6.3531e-07   multiplicity=   7\n",
      "k =  48   p =  9.0862461691681080e+00   |f(p)| =  2.1604e-07   multiplicity=   7\n",
      "k =  49   p =  9.0739501796263937e+00   |f(p)| =  7.3459e-08   multiplicity=   7\n",
      "k =  50   p =  9.0634042106637231e+00   |f(p)| =  2.4977e-08   multiplicity=   7\n",
      "k =  51   p =  9.0543599769043972e+00   |f(p)| =  8.4923e-09   multiplicity=   7\n",
      "k =  52   p =  9.0466042139577727e+00   |f(p)| =  2.8873e-09   multiplicity=   7\n",
      "k =  53   p =  9.0399537916984816e+00   |f(p)| =  9.8161e-10   multiplicity=   7\n",
      "k =  54   p =  9.0342514957719864e+00   |f(p)| =  3.3372e-10   multiplicity=   7\n",
      "k =  55   p =  9.0293623894397097e+00   |f(p)| =  1.1345e-10   multiplicity=   7\n",
      "k =  56   p =  9.0251706785499159e+00   |f(p)| =  3.8569e-11   multiplicity=   7\n",
      "k =  57   p =  9.0215770120223375e+00   |f(p)| =  1.3111e-11   multiplicity=   7\n",
      "k =  58   p =  9.0184961588145232e+00   |f(p)| =  4.4572e-12   multiplicity=   7\n",
      "k =  59   p =  9.0158550099595551e+00   |f(p)| =  1.5152e-12   multiplicity=   7\n",
      "k =  60   p =  9.0135908610008926e+00   |f(p)| =  5.1507e-13   multiplicity=   7\n",
      "k =  61   p =  9.0116499360775268e+00   |f(p)| =  1.7509e-13   multiplicity=   7\n",
      "k =  62   p =  9.0099861201089944e+00   |f(p)| =  5.9518e-14   multiplicity=   7\n",
      "k =  63   p =  9.0085598700705347e+00   |f(p)| =  2.0232e-14   multiplicity=   7\n",
      "k =  64   p =  9.0073372803057126e+00   |f(p)| =  6.8775e-15   multiplicity=   7\n",
      "k =  65   p =  9.0062892802639016e+00   |f(p)| =  2.3378e-15   multiplicity=   7\n",
      "k =  66   p =  9.0053909460347654e+00   |f(p)| =  7.9469e-16   multiplicity=   7\n",
      "k =  67   p =  9.0046209096368983e+00   |f(p)| =  2.7013e-16   multiplicity=   7\n",
      "k =  68   p =  9.0039608522534920e+00   |f(p)| =  9.1824e-17   multiplicity=   7\n",
      "|f(p)| =  9.1824e-17 < 1e-16\n"
     ]
    }
   ],
   "source": [
    "pc, fp, mul = myNewton(100, 1e-15)"
   ]
  },
  {
   "cell_type": "code",
   "execution_count": 6,
   "id": "a90300b4",
   "metadata": {
    "colab": {
     "base_uri": "https://localhost:8080/"
    },
    "id": "a90300b4",
    "outputId": "958993c2-6e25-4a29-b5af-5de09a0cd899"
   },
   "outputs": [
    {
     "name": "stdout",
     "output_type": "stream",
     "text": [
      "Multiplicity :  7\n"
     ]
    }
   ],
   "source": [
    "print(\"Multiplicity : \",mul)"
   ]
  },
  {
   "cell_type": "markdown",
   "id": "656d5c69",
   "metadata": {
    "id": "656d5c69"
   },
   "source": [
    "## Modified Newton's method\n",
    "\n",
    "Let $p$ be a root of multiplicity $m$ for the function $f(x)$,then the fixed point iteration\n",
    "$$\n",
    "g(x) = x - m\\frac{f(x)}{f'(x)},\n",
    "$$\n",
    "converges quadratically to $p$ for sufficiently close initial guess."
   ]
  },
  {
   "cell_type": "code",
   "execution_count": 7,
   "id": "fc999bb1",
   "metadata": {
    "id": "fc999bb1"
   },
   "outputs": [],
   "source": [
    "def NewmyNewton(p0, tol,m):\n",
    "    \n",
    "    fp0 = myfun(p0)\n",
    "    dfp0 = myfunderivative(p0)\n",
    "    \n",
    "    if ( abs(dfp0)<1e-15 ):\n",
    "        print(f'|df/dx| = {abs(dfp0)}: the derivative is nearly vanishing!')\n",
    "    \n",
    "    itmax = 1000\n",
    "    pn1 = p0\n",
    "    \n",
    "    for ii in range(1, itmax+1):\n",
    "        p1 = p0 - m*fp0/dfp0\n",
    "        fp1 = myfun(p1)\n",
    "        dfp1 = myfunderivative(p1)\n",
    "        if ( ii>1 ):\n",
    "            lambd = (p1-p0)/(p0-pn1)\n",
    "            pn1 = p0\n",
    "            print('k =', '%3d' % ii, '  p = ', '%.16e' % p1, '  |f(p)| = ', '%.4e' % abs(fp1), '  multiplicity=', '%3d' % round(1.0/(1.0-lambd)))\n",
    "\n",
    "        \n",
    "        if ( abs(p1-p0)<tol ):\n",
    "            print('Tolerance achieved, |p1-p0|= ', '%.4e' % abs(p1-p0))\n",
    "            break\n",
    "        if(abs(fp1)<1e-16):\n",
    "            print('|f(p)| = ','%.4e' % abs(fp1),'< 1e-16')\n",
    "            break\n",
    "        if ( abs(dfp1)<1e-20):\n",
    "            print(f'|df/dx| = {abs(dfp1)}: the derivative is nearly vanishing!')\n",
    "            break\n",
    "\n",
    "        p0 = p1\n",
    "        fp0 = fp1\n",
    "        dfp0 = dfp1\n",
    "        \n",
    "    return p1, fp1"
   ]
  },
  {
   "cell_type": "code",
   "execution_count": 8,
   "id": "5ad4dbc0",
   "metadata": {
    "colab": {
     "base_uri": "https://localhost:8080/"
    },
    "id": "5ad4dbc0",
    "outputId": "2eb39920-47d5-464e-eab2-f400d462b2c3"
   },
   "outputs": [
    {
     "name": "stdout",
     "output_type": "stream",
     "text": [
      "k =   2   p =  9.9033390565696724e+00   |f(p)| =  3.3886e+00   multiplicity=   1\n",
      "k =   3   p =  9.0165768017092471e+00   |f(p)| =  2.0694e-12   multiplicity=   1\n",
      "k =   4   p =  9.0000065220342655e+00   |f(p)| =  3.0118e-36   multiplicity=   1\n",
      "|f(p)| =  3.0118e-36 < 1e-16\n"
     ]
    }
   ],
   "source": [
    "pc, fp = NewmyNewton(100, 1e-15,mul)"
   ]
  },
  {
   "cell_type": "code",
   "execution_count": null,
   "id": "a3d812e5",
   "metadata": {
    "id": "a3d812e5"
   },
   "outputs": [],
   "source": []
  }
 ],
 "metadata": {
  "colab": {
   "collapsed_sections": [],
   "name": "modified_Newton.ipynb",
   "provenance": []
  },
  "kernelspec": {
   "display_name": "Python 3 (ipykernel)",
   "language": "python",
   "name": "python3"
  },
  "language_info": {
   "codemirror_mode": {
    "name": "ipython",
    "version": 3
   },
   "file_extension": ".py",
   "mimetype": "text/x-python",
   "name": "python",
   "nbconvert_exporter": "python",
   "pygments_lexer": "ipython3",
   "version": "3.9.7"
  }
 },
 "nbformat": 4,
 "nbformat_minor": 5
}
