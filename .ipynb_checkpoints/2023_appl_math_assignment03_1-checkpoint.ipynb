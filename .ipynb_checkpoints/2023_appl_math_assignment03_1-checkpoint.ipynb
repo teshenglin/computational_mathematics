{
 "cells": [
  {
   "cell_type": "code",
   "execution_count": 1,
   "id": "17afb6f0-ac49-48d6-80f9-2b3fefd26847",
   "metadata": {},
   "outputs": [],
   "source": [
    "%matplotlib inline\n",
    "\n",
    "import numpy as np\n",
    "import pandas as pd\n",
    "import matplotlib.pyplot as plt\n",
    "import sympy as sp"
   ]
  },
  {
   "cell_type": "code",
   "execution_count": 2,
   "id": "8ee48755-b9bb-48fe-9421-07592e102efa",
   "metadata": {},
   "outputs": [],
   "source": [
    "from sympy.abc import x"
   ]
  },
  {
   "cell_type": "markdown",
   "id": "e12ead6f-9132-4575-83eb-80397f07067a",
   "metadata": {},
   "source": [
    "Consider four function $\\{1, x, x^2, x^3\\}$"
   ]
  },
  {
   "cell_type": "code",
   "execution_count": 3,
   "id": "21f5952c-02e4-4605-a2c7-6dde9aba1b8b",
   "metadata": {},
   "outputs": [],
   "source": [
    "v0 = 1\n",
    "v1 = x\n",
    "v2 = x**2\n",
    "v3 = x**3"
   ]
  },
  {
   "cell_type": "markdown",
   "id": "4b9ec470-5560-4386-902f-bc874186aaa0",
   "metadata": {},
   "source": [
    "use Gram-Schmidt method to generate a orthogonal polynomials\n",
    "\n",
    "p0: the function\\\n",
    "n0: square of its norm, $\\langle p_0, p_0\\rangle$"
   ]
  },
  {
   "cell_type": "code",
   "execution_count": 4,
   "id": "5f233498-9dcb-488e-b3b6-b8f77a0e69aa",
   "metadata": {},
   "outputs": [
    {
     "name": "stdout",
     "output_type": "stream",
     "text": [
      "p0=  1\n"
     ]
    }
   ],
   "source": [
    "p0 = v0\n",
    "n0 = sp.integrate(p0*p0, (x, -1, 1))\n",
    "print('p0= ', p0)"
   ]
  },
  {
   "cell_type": "code",
   "execution_count": 5,
   "id": "a4d81b12-9ba2-45d9-acbf-c9a8378a7f7f",
   "metadata": {},
   "outputs": [
    {
     "name": "stdout",
     "output_type": "stream",
     "text": [
      "p1=  x\n"
     ]
    }
   ],
   "source": [
    "p1 = v1 - sp.integrate(v1*p0, (x, -1, 1))*p0/n0\n",
    "n1 = sp.integrate(p1*p1, (x, -1, 1))\n",
    "print('p1= ', p1)"
   ]
  },
  {
   "cell_type": "code",
   "execution_count": 6,
   "id": "64d5b0ae-8dd9-4258-a3cb-eb14888ac41a",
   "metadata": {},
   "outputs": [
    {
     "name": "stdout",
     "output_type": "stream",
     "text": [
      "p2=  x**2 - 1/3\n"
     ]
    }
   ],
   "source": [
    "p2 = v2 - sp.integrate(v2*p0, (x, -1, 1))*p0/n0 \\\n",
    "        - sp.integrate(v2*p1, (x, -1, 1))*p1/n1\n",
    "n2 = sp.integrate(p2*p2, (x, -1, 1))\n",
    "print('p2= ', p2)"
   ]
  },
  {
   "cell_type": "code",
   "execution_count": 7,
   "id": "9c03d169-00f8-4008-933f-485b0e95ecea",
   "metadata": {},
   "outputs": [
    {
     "name": "stdout",
     "output_type": "stream",
     "text": [
      "p3=  x**3 - 3*x/5\n"
     ]
    }
   ],
   "source": [
    "p3 = v3 - sp.integrate(v3*p0, (x, -1, 1))*p0/n0 \\\n",
    "        - sp.integrate(v3*p1, (x, -1, 1))*p1/n1 \\\n",
    "        - sp.integrate(v3*p2, (x, -1, 1))*p2/n2\n",
    "n3 = sp.integrate(p3*p3, (x, -1, 1))\n",
    "print('p3= ', p3)"
   ]
  },
  {
   "cell_type": "markdown",
   "id": "8e0d3b97-68ac-4ac9-9103-dc1690100ba0",
   "metadata": {},
   "source": [
    "Find the generalised Fourier series of $f(x)=e^x$\n",
    "\n",
    "c_i: coefficients"
   ]
  },
  {
   "cell_type": "code",
   "execution_count": 8,
   "id": "90e5f9c6-ee56-4108-92d0-856718120cd7",
   "metadata": {},
   "outputs": [
    {
     "name": "stdout",
     "output_type": "stream",
     "text": [
      "c0=  -exp(-1)/2 + E/2\n",
      "c1=  3*exp(-1)\n",
      "c2=  -105*exp(-1)/4 + 15*E/4\n",
      "c3=  -175*E/4 + 1295*exp(-1)/4\n"
     ]
    }
   ],
   "source": [
    "f = sp.exp(x)\n",
    "c0 = sp.integrate(f*p0, (x, -1, 1))/n0\n",
    "c1 = sp.integrate(f*p1, (x, -1, 1))/n1\n",
    "c2 = sp.integrate(f*p2, (x, -1, 1))/n2\n",
    "c3 = sp.integrate(f*p3, (x, -1, 1))/n3\n",
    "\n",
    "print('c0= ', c0)\n",
    "print('c1= ', c1)\n",
    "print('c2= ', c2)\n",
    "print('c3= ', c3)"
   ]
  },
  {
   "cell_type": "code",
   "execution_count": 9,
   "id": "3c8f0d8c-d096-4268-be50-96d89d7c3cec",
   "metadata": {},
   "outputs": [],
   "source": [
    "generalised_f = c0*p0 + c1*p1 + c2*p2 + c3*p3\n",
    "\n",
    "abs_error = sp.Abs(f - generalised_f)"
   ]
  },
  {
   "cell_type": "markdown",
   "id": "e526c0fd-745a-4cb7-88bf-b32167bb87e8",
   "metadata": {},
   "source": [
    "plot the function of absolute error"
   ]
  },
  {
   "cell_type": "code",
   "execution_count": 10,
   "id": "b9b7e2db-8c26-4663-897a-3a1eae788f95",
   "metadata": {},
   "outputs": [
    {
     "data": {
      "image/png": "[encoded data removed]",
      "text/plain": [
       "<Figure size 432x288 with 1 Axes>"
      ]
     },
     "metadata": {
      "needs_background": "light"
     },
     "output_type": "display_data"
    },
    {
     "data": {
      "text/plain": [
       "<sympy.plotting.plot.Plot at 0x7feb7c452400>"
      ]
     },
     "execution_count": 10,
     "metadata": {},
     "output_type": "execute_result"
    }
   ],
   "source": [
    "sp.plot(abs_error, (x, -1, 1))"
   ]
  },
  {
   "cell_type": "markdown",
   "id": "541924a7-d195-4791-bb61-0de3b33954d8",
   "metadata": {},
   "source": [
    "It looks like the maximum occurs at $x=1$, so we substitute $x=1$ to the abs. error function"
   ]
  },
  {
   "cell_type": "code",
   "execution_count": 11,
   "id": "6b88a732-fbbd-48e0-9f7b-b9a8dc9eb730",
   "metadata": {},
   "outputs": [
    {
     "name": "stdout",
     "output_type": "stream",
     "text": [
      "-229*exp(-1)/2 + 31*E/2\n"
     ]
    }
   ],
   "source": [
    "a = abs_error.subs(x, 1)\n",
    "print(a)"
   ]
  },
  {
   "cell_type": "markdown",
   "id": "39d76844-4161-470a-98a8-17b9a8f6e7e7",
   "metadata": {},
   "source": [
    "evaluate the expression into a floating point number"
   ]
  },
  {
   "cell_type": "code",
   "execution_count": 12,
   "id": "aa2d8f60-cc8d-4fbf-9336-bd0c11cbb628",
   "metadata": {},
   "outputs": [
    {
     "data": {
      "text/latex": [
       "$\\displaystyle 0.0111723269850553$"
      ],
      "text/plain": [
       "0.0111723269850553"
      ]
     },
     "execution_count": 12,
     "metadata": {},
     "output_type": "execute_result"
    }
   ],
   "source": [
    "a.evalf()"
   ]
  },
  {
   "cell_type": "markdown",
   "id": "ec98c5eb-55b6-471f-b9bd-a8e183c67a90",
   "metadata": {},
   "source": [
    "mean-squared error $\\int^1_{-1} |f - g|^2\\,dx$"
   ]
  },
  {
   "cell_type": "code",
   "execution_count": 13,
   "id": "317d46cb-cdbd-45eb-b259-b0391bef9a6a",
   "metadata": {},
   "outputs": [
    {
     "name": "stdout",
     "output_type": "stream",
     "text": [
      "(E*(5324 - 724*exp(2)) + 2*exp(3))*exp(-1)/4 - (2*exp(-1) + (39364 - 5324*exp(2))*exp(-1))*exp(-1)/4 + (-64750*exp(2) + 4375*exp(4) + 239575)*exp(-2)/8 + (-7305*exp(4) - 394065 + 107310*exp(2))*exp(-2)/8 + (-53010*exp(2) + 192765 + 3645*exp(4))*exp(-2)/8 + (-198*exp(2) + 9*exp(4) + 1089)*exp(-2)/8\n"
     ]
    }
   ],
   "source": [
    "b = sp.integrate(abs_error**2, (x, -1, 1))\n",
    "print(b)"
   ]
  },
  {
   "cell_type": "code",
   "execution_count": 14,
   "id": "3bc2372f-66a9-4f98-a2c4-acd4e7f80c0c",
   "metadata": {},
   "outputs": [
    {
     "data": {
      "text/latex": [
       "$\\displaystyle 2.22888704227389 \\cdot 10^{-5}$"
      ],
      "text/plain": [
       "2.22888704227389e-5"
      ]
     },
     "execution_count": 14,
     "metadata": {},
     "output_type": "execute_result"
    }
   ],
   "source": [
    "b.evalf()"
   ]
  }
 ],
 "metadata": {
  "kernelspec": {
   "display_name": "Python 3.10 (pytorch)",
   "language": "python",
   "name": "pytorch"
  },
  "language_info": {
   "codemirror_mode": {
    "name": "ipython",
    "version": 3
   },
   "file_extension": ".py",
   "mimetype": "text/x-python",
   "name": "python",
   "nbconvert_exporter": "python",
   "pygments_lexer": "ipython3",
   "version": "3.10.4"
  }
 },
 "nbformat": 4,
 "nbformat_minor": 5
}
