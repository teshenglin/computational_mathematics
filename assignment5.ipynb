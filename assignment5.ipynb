{
 "cells": [
  {
   "cell_type": "markdown",
   "id": "80c62f39-42be-4132-b1b8-17547140f211",
   "metadata": {},
   "source": [
    "# Assignment 5"
   ]
  },
  {
   "cell_type": "code",
   "execution_count": 1,
   "id": "a126233f-bef6-4a9a-9ae3-2bedcacc3571",
   "metadata": {},
   "outputs": [],
   "source": [
    "import numpy as np\n",
    "import matplotlib.pyplot as plt\n",
    "from scipy.interpolate import CubicSpline\n",
    "\n",
    "plt.rcParams.update({'font.size': 18})\n",
    "plt.style.use('seaborn-poster')\n",
    "\n",
    "%matplotlib inline"
   ]
  },
  {
   "cell_type": "markdown",
   "id": "c24c8cbd-5ff6-4391-b83d-3087d128354e",
   "metadata": {},
   "source": [
    "## Cubic spline interpolation\n",
    "\n",
    "$$\n",
    "f(x) = |\\sin(x)|, \\quad 0\\le x\\le 10.\n",
    "$$\n",
    "\n",
    "We choose $4001$ uniform grid ponits to construct the interpolating cubic spline."
   ]
  },
  {
   "cell_type": "code",
   "execution_count": 2,
   "id": "b5614974-dbfc-4d5c-bd97-2963ded69ad3",
   "metadata": {},
   "outputs": [
    {
     "name": "stdout",
     "output_type": "stream",
     "text": [
      "\n",
      "infinity-norm of error = 7.30e-04\n",
      "\n"
     ]
    },
    {
     "data": {
      "image/png": "[encoded data removed]",
      "text/plain": [
       "<Figure size 576x288 with 2 Axes>"
      ]
     },
     "metadata": {
      "needs_background": "light"
     },
     "output_type": "display_data"
    }
   ],
   "source": [
    "def f(x):\n",
    "    return np.abs(np.sin(x))\n",
    "\n",
    "# training points\n",
    "x_train = np.linspace(0, 10, 4001)\n",
    "f_train = f(x_train)\n",
    "\n",
    "# cubic spline construction\n",
    "S = CubicSpline(x_train, f_train)\n",
    "\n",
    "# test points\n",
    "x_test = np.linspace(0, 10, 100000)\n",
    "\n",
    "# prediction at test points\n",
    "s_test = S(x_test)\n",
    "\n",
    "# exact solution at test points\n",
    "f_test = f(x_test)\n",
    "\n",
    "# absolute error\n",
    "abs_error = np.abs(f_test-s_test)\n",
    "\n",
    "print()\n",
    "print(\"infinity-norm of error = %.2e\" % np.max(abs_error))\n",
    "print()\n",
    "\n",
    "fig = plt.figure(figsize=plt.figaspect(0.5))\n",
    "plt.subplot(2,1,1)\n",
    "plt.plot(x_test, f_test, 'b', label= \"f(x)\")\n",
    "plt.plot(x_test, s_test, 'r--', label= \"S(x)\")\n",
    "plt.xlabel('x')\n",
    "plt.legend(loc = 2)\n",
    "\n",
    "plt.subplot(2,1,2)\n",
    "plt.plot(x_test, abs_error, label= \"abs. error\")\n",
    "plt.legend(loc = 2)\n",
    "plt.xlabel('x')\n",
    "\n",
    "plt.tight_layout()\n",
    "plt.show()"
   ]
  },
  {
   "cell_type": "markdown",
   "id": "218ac972-44cf-414b-9521-75f903f9dd7c",
   "metadata": {},
   "source": [
    "---"
   ]
  },
  {
   "cell_type": "markdown",
   "id": "63cdbf56-f930-4ade-b182-b6e582a0c1c5",
   "metadata": {},
   "source": [
    "## Simpson's rule"
   ]
  },
  {
   "cell_type": "code",
   "execution_count": 3,
   "id": "54e8360e-4310-41c6-b62b-55b9e0c30747",
   "metadata": {},
   "outputs": [],
   "source": [
    "from scipy import integrate"
   ]
  },
  {
   "cell_type": "markdown",
   "id": "16db955b-f200-479c-bca9-7fefc357f20a",
   "metadata": {},
   "source": [
    "### Test 1\n",
    "\n",
    "$$\n",
    "\\int^1_0 x^3\\,dx = \\frac{1}{4}\n",
    "$$"
   ]
  },
  {
   "cell_type": "code",
   "execution_count": 4,
   "id": "d8d18bc5-45af-4c76-bd22-19ad4cee7234",
   "metadata": {},
   "outputs": [
    {
     "name": "stdout",
     "output_type": "stream",
     "text": [
      "nodes =  [0.  0.5 1. ]\n",
      "integration error, using 3 nodes, is 0.00e+00\n"
     ]
    }
   ],
   "source": [
    "def f1(x):\n",
    "    return x**3\n",
    "\n",
    "x = np.linspace(0, 1, 3)\n",
    "\n",
    "value = integrate.simps(f1(x), x)\n",
    "error = np.abs(value - 0.25)\n",
    "\n",
    "print(\"nodes = \", x)\n",
    "print(\"integration error, using 3 nodes, is %.2e\" % error)"
   ]
  },
  {
   "cell_type": "code",
   "execution_count": 5,
   "id": "590679fa-ba68-47f0-8925-a87515e82fb9",
   "metadata": {},
   "outputs": [
    {
     "name": "stdout",
     "output_type": "stream",
     "text": [
      "integration error, using 1000 nodes, is 2.51e-10\n"
     ]
    }
   ],
   "source": [
    "x = np.linspace(0, 1, 1000)\n",
    "value = integrate.simps(f1(x), x)\n",
    "error = np.abs(value - 0.25)\n",
    "\n",
    "print(\"integration error, using 1000 nodes, is %.2e\" % error)"
   ]
  },
  {
   "cell_type": "code",
   "execution_count": 6,
   "id": "e5d4649d-5745-45f8-b378-b0594b0f89b4",
   "metadata": {},
   "outputs": [
    {
     "name": "stdout",
     "output_type": "stream",
     "text": [
      "integration error, using 1001 nodes, is 5.55e-17\n"
     ]
    }
   ],
   "source": [
    "x = np.linspace(0, 1, 1001)\n",
    "value = integrate.simps(f1(x), x)\n",
    "error = np.abs(value - 0.25)\n",
    "\n",
    "print(\"integration error, using 1001 nodes, is %.2e\" % error)"
   ]
  },
  {
   "cell_type": "code",
   "execution_count": 7,
   "id": "6a20e17e-5f9e-4b22-bd25-266c1c51b3a8",
   "metadata": {},
   "outputs": [
    {
     "name": "stdout",
     "output_type": "stream",
     "text": [
      "nodes =  [0.         0.33333333 0.66666667 1.        ]\n",
      "integration error, using 4 nodes, is 9.26e-03\n"
     ]
    }
   ],
   "source": [
    "x = np.linspace(0, 1, 4)\n",
    "value = integrate.simps(f1(x), x)\n",
    "error = np.abs(value - 0.25)\n",
    "\n",
    "print(\"nodes = \", x)\n",
    "print(\"integration error, using 4 nodes, is %.2e\" % error)"
   ]
  },
  {
   "cell_type": "markdown",
   "id": "f40bf032-c943-4325-966a-378a898c2ff5",
   "metadata": {},
   "source": [
    "#### Quick conclusion 1\n",
    "\n",
    "Always use **odd** number of points for Simpson's rule. \n",
    "\n",
    "**Note:** Very often the code from libraries/packages will not show any *error* nor *warning*, because it was written so good that anyone can use it, even without taking the computational math. course. So `integrate.simps` accepts even number of points, but then the solution is slightly different from what we expect, it will not be **exact** in integrating a cubic polynomial."
   ]
  },
  {
   "cell_type": "markdown",
   "id": "e420a026-ce01-4735-914c-1c51ef560e49",
   "metadata": {},
   "source": [
    "---"
   ]
  },
  {
   "cell_type": "markdown",
   "id": "05b9c72b-30a5-40a5-b9f9-763cb4dd1dbe",
   "metadata": {},
   "source": [
    "### Test 2\n",
    "\n",
    "#### Simpson's rule\n",
    "\n",
    "If $f(x)$ is a cubic polynomial, Simpson's rule gives\n",
    "$$\n",
    "\\int^b_{a} f(x) \\,dx = \\frac{b-a}{6}\\left[f(a) + 4f\\left(\\frac{a+b}{2}\\right) + f(b)\\right].\n",
    "$$\n",
    "\n",
    "#### Example \n",
    "So if we are to evaluate $\\int^3_0 f(x)\\,dx$, where \n",
    "$$\n",
    "f(x) = \\left\\{\n",
    "\\begin{aligned}\n",
    "x^2(2x-1), & \\quad x\\in[0, 1], \\\\\n",
    "(x-1)^2(x-3)+1, & \\quad x\\in[1, 3],\n",
    "\\end{aligned}\n",
    "\\right.\n",
    "$$\n",
    "we have\n",
    "$$\n",
    "\\begin{align}\n",
    "\\int^3_0 f(x)\\,dx &= \\frac{1-0}{6}\\left[f(0) + 4f\\left(\\frac{0+1}{2}\\right) + f(1)\\right]+\\frac{3-1}{6}\\left[f(1) + 4f\\left(\\frac{1+3}{2}\\right) + f(3)\\right]\\\\\n",
    "&= \\frac{1}{6}\\left[0 + 0 + 1\\right]+\\frac{2}{6}\\left[1 + 0 + 1\\right]\\\\\n",
    "&=\\frac{5}{6}.\n",
    "\\end{align}\n",
    "$$"
   ]
  },
  {
   "cell_type": "code",
   "execution_count": 8,
   "id": "57ede34f-001a-4657-9c4d-ce146310f143",
   "metadata": {},
   "outputs": [],
   "source": [
    "def f2(x):\n",
    "    if x>=0 and x<1:\n",
    "        return x*x*(2.0*x-1)\n",
    "    elif x>=1 and x <= 3:\n",
    "        return (x-1.0)*(x-1.0)*(x-3.0)+1.0\n",
    "\n",
    "vf2 = np.vectorize(f2)"
   ]
  },
  {
   "cell_type": "code",
   "execution_count": 24,
   "id": "5f489628-b247-4d10-ad6e-89369da998a3",
   "metadata": {},
   "outputs": [
    {
     "name": "stdout",
     "output_type": "stream",
     "text": [
      "nodes x = \n",
      "[0.0 0.5 1.0 2.0 3.0]\n",
      "\n",
      "integration error, using 5 nodes, is 1.11e-16\n"
     ]
    }
   ],
   "source": [
    "x = np.array([0, 0.5, 1.0, 2.0, 3.0])\n",
    "value = integrate.simps(vf2(x), x)\n",
    "error = np.abs(value - (5.0/6.0))\n",
    "\n",
    "print(\"nodes x = \")\n",
    "print(np.array2string(x, formatter={'float_kind': '{0:.1f}'.format}))\n",
    "print()\n",
    "print(\"integration error, using 5 nodes, is %.2e\" % error)"
   ]
  },
  {
   "cell_type": "code",
   "execution_count": 25,
   "id": "dd178e8b-c63e-41a9-aa58-695a9af1b224",
   "metadata": {},
   "outputs": [
    {
     "name": "stdout",
     "output_type": "stream",
     "text": [
      "nodes x = \n",
      "[0.0 0.5 1.0 1.5 2.0 2.5 3.0]\n",
      "\n",
      "integration error, using 7 nodes, is 1.11e-16\n"
     ]
    }
   ],
   "source": [
    "x = np.linspace(0, 3, 7)\n",
    "\n",
    "value = integrate.simps(vf2(x), x)\n",
    "error = np.abs(value - (5.0/6.0))\n",
    "\n",
    "print(\"nodes x = \")\n",
    "print(np.array2string(x, formatter={'float_kind': '{0:.1f}'.format}))\n",
    "print()\n",
    "print(\"integration error, using 7 nodes, is %.2e\" % error)"
   ]
  },
  {
   "cell_type": "code",
   "execution_count": 26,
   "id": "3501f09a-ad27-489d-a50b-f7b770689ce8",
   "metadata": {},
   "outputs": [
    {
     "name": "stdout",
     "output_type": "stream",
     "text": [
      "integration error, using 1001 nodes, is 9.34e-09\n"
     ]
    }
   ],
   "source": [
    "x = np.linspace(0, 3, 1001)\n",
    "\n",
    "value = integrate.simps(vf2(x), x)\n",
    "error = np.abs(value - (5.0/6.0))\n",
    "\n",
    "print(\"integration error, using 1001 nodes, is %.2e\" % error)"
   ]
  },
  {
   "cell_type": "markdown",
   "id": "eeec7f04-a425-414c-a366-7ff27bd0bda0",
   "metadata": {},
   "source": [
    "#### A bit more test on this example"
   ]
  },
  {
   "cell_type": "code",
   "execution_count": 27,
   "id": "c772166a-03e7-4719-9350-78885301fc9f",
   "metadata": {},
   "outputs": [
    {
     "name": "stdout",
     "output_type": "stream",
     "text": [
      "nodes x = \n",
      "[0.000 0.375 0.750 1.125 1.500 1.875 2.250 2.625 3.000]\n",
      "\n",
      "integration error is 1.73e-02\n"
     ]
    }
   ],
   "source": [
    "x = np.linspace(0, 3, 9)\n",
    "\n",
    "value = integrate.simps(vf2(x), x)\n",
    "error = np.abs(value - (5.0/6.0))\n",
    "\n",
    "print(\"nodes x = \")\n",
    "print(np.array2string(x[0:10], formatter={'float_kind': '{0:.3f}'.format}))\n",
    "print()\n",
    "print(\"integration error is %.2e\" % error)"
   ]
  },
  {
   "cell_type": "code",
   "execution_count": 13,
   "id": "8b0b0fb3-6fe4-4a8b-845f-2d007e2b1434",
   "metadata": {},
   "outputs": [
    {
     "name": "stdout",
     "output_type": "stream",
     "text": [
      "x[0:11]= \n",
      "[0.000 0.300 0.600 0.900 1.200 1.500 1.800 2.100 2.400 2.700 3.000]\n",
      "\n",
      "integration error is 9.73e-03\n"
     ]
    }
   ],
   "source": [
    "x = np.linspace(0, 3, 11)\n",
    "\n",
    "value = integrate.simps(vf2(x), x)\n",
    "error = np.abs(value - (5.0/6.0))\n",
    "\n",
    "print(\"x[0:11]= \")\n",
    "print(np.array2string(x[0:11], formatter={'float_kind': '{0:.3f}'.format}))\n",
    "print()\n",
    "print(\"integration error is %.2e\" % error)"
   ]
  },
  {
   "cell_type": "code",
   "execution_count": 14,
   "id": "11f2f846-e4ba-4f1d-8abb-4ca02cdcbecc",
   "metadata": {},
   "outputs": [
    {
     "name": "stdout",
     "output_type": "stream",
     "text": [
      "x[0:11]= \n",
      "[0.000 0.250 0.500 0.750 1.000 1.250 1.500 1.750 2.000 2.250 2.500]\n",
      "\n",
      "integration error is 2.22e-16\n"
     ]
    }
   ],
   "source": [
    "x = np.linspace(0, 3, 13)\n",
    "\n",
    "value = integrate.simps(vf2(x), x)\n",
    "error = np.abs(value - (5.0/6.0))\n",
    "\n",
    "print(\"x[0:11]= \")\n",
    "print(np.array2string(x[0:11], formatter={'float_kind': '{0:.3f}'.format}))\n",
    "print()\n",
    "print(\"integration error is %.2e\" % error)"
   ]
  },
  {
   "cell_type": "code",
   "execution_count": 15,
   "id": "bc4beeb6-f06a-4932-a620-eb720b8225eb",
   "metadata": {},
   "outputs": [
    {
     "name": "stdout",
     "output_type": "stream",
     "text": [
      "x[30:41]= \n",
      "[0.090 0.093 0.096 0.099 0.102 0.105 0.108 0.111 0.114 0.117 0.120]\n",
      "\n",
      "integration error is 9.337333462e-09\n"
     ]
    }
   ],
   "source": [
    "x = np.linspace(0, 3, 1001)\n",
    "\n",
    "value = integrate.simps(vf2(x), x)\n",
    "error = np.abs(value - (5.0/6.0))\n",
    "\n",
    "print(\"x[30:41]= \")\n",
    "print(np.array2string(x[30:41], formatter={'float_kind': '{0:.3f}'.format}))\n",
    "print()\n",
    "print(\"integration error is %.9e\" % error)"
   ]
  },
  {
   "cell_type": "code",
   "execution_count": 31,
   "id": "dc627a85-b482-49ec-ac3f-b73d81822a4a",
   "metadata": {},
   "outputs": [
    {
     "name": "stdout",
     "output_type": "stream",
     "text": [
      "x[26:35]= \n",
      "[0.087 0.090 0.093 0.097 0.100 0.103 0.107 0.110 0.113]\n",
      "\n",
      "integration error, using 901 nodes, is 1.11e-16\n"
     ]
    }
   ],
   "source": [
    "x = np.linspace(0, 3, 901)\n",
    "\n",
    "value = integrate.simps(vf2(x), x)\n",
    "error = np.abs(value - (5.0/6.0))\n",
    "\n",
    "print(\"x[26:35]= \")\n",
    "print(np.array2string(x[26:35], formatter={'float_kind': '{0:.3f}'.format}))\n",
    "print()\n",
    "print(\"integration error, using 901 nodes, is %.2e\" % error)"
   ]
  },
  {
   "cell_type": "markdown",
   "id": "cde29edb-6c36-420c-a1e2-74d0f9fb2f1d",
   "metadata": {},
   "source": [
    "#### Quick conclusion 2\n",
    "\n",
    "For Simpson's rule, we should make sure that the integrand is a cubic polynomial in each subinterval."
   ]
  },
  {
   "cell_type": "markdown",
   "id": "41cb9fc6-42a8-4877-9c1e-009672a0b571",
   "metadata": {},
   "source": [
    "---"
   ]
  },
  {
   "cell_type": "markdown",
   "id": "6fb3827c-7e3a-4e7b-9dd1-fb924cd033ef",
   "metadata": {},
   "source": [
    "### Test 3\n",
    "\n",
    "Let us try to use another one called `integrate.quad`. "
   ]
  },
  {
   "cell_type": "markdown",
   "id": "e4e7287d-ccb6-47ea-a91a-e9bc160d35f3",
   "metadata": {},
   "source": [
    "#### Example 1\n",
    "\n",
    "$$\n",
    "\\int^1_0 x^3\\,dx = \\frac{1}{4}\n",
    "$$"
   ]
  },
  {
   "cell_type": "code",
   "execution_count": 37,
   "id": "eb894cf8-dc7c-43cb-8b03-a63d89a493a8",
   "metadata": {},
   "outputs": [
    {
     "name": "stdout",
     "output_type": "stream",
     "text": [
      "err predicted by quad = 2.78e-15\n",
      "\n",
      "true integration error is 0.00e+00\n"
     ]
    }
   ],
   "source": [
    "value, err = integrate.quad(f1, 0, 1)\n",
    "error = np.abs(value - 0.25)\n",
    "\n",
    "print(\"err predicted by quad = %.2e\" % err)\n",
    "print()\n",
    "print(\"true integration error is %.2e\" % error)"
   ]
  },
  {
   "cell_type": "markdown",
   "id": "b92b1721-1955-40e1-9158-89145a945ba5",
   "metadata": {},
   "source": [
    "#### Example 2\n",
    "\n",
    "$\\int^3_0 f(x)\\,dx = \\frac{5}{6}$, where \n",
    "$$\n",
    "f(x) = \\left\\{\n",
    "\\begin{aligned}\n",
    "x^2(2x-1), & \\quad x\\in[0, 1], \\\\\n",
    "(x-1)^2(x-3)+1, & \\quad x\\in[1, 3].\n",
    "\\end{aligned}\n",
    "\\right.\n",
    "$$"
   ]
  },
  {
   "cell_type": "code",
   "execution_count": 38,
   "id": "ce3e62fe-2414-44ba-beca-fbbb9c5335ab",
   "metadata": {},
   "outputs": [
    {
     "name": "stdout",
     "output_type": "stream",
     "text": [
      "err predicted by quad = 2.08e-10\n",
      "\n",
      "true integration error is 1.11e-16\n"
     ]
    }
   ],
   "source": [
    "value, err = integrate.quad(vf2, 0, 3)\n",
    "error = np.abs(value - (5.0/6.0))\n",
    "\n",
    "print(\"err predicted by quad = %.2e\" % err)\n",
    "print()\n",
    "print(\"true integration error is %.2e\" % error)"
   ]
  },
  {
   "cell_type": "markdown",
   "id": "337008e9-46e1-4d79-aefe-5e6f56a89958",
   "metadata": {},
   "source": [
    "#### Example 3\n",
    "\n",
    "$$\n",
    "\\int^{10}_0 |\\sin(x)|\\,dx = 7 + \\cos(10).\n",
    "$$"
   ]
  },
  {
   "cell_type": "code",
   "execution_count": 39,
   "id": "a75a16a7-0c00-40f4-8e5e-49d0981d5bc8",
   "metadata": {},
   "outputs": [
    {
     "name": "stdout",
     "output_type": "stream",
     "text": [
      "value =  6.160928474114832\n",
      "err predicted by quad = 6.46e-08\n",
      "\n",
      "true integration error is 3.19e-09\n"
     ]
    }
   ],
   "source": [
    "# Calculate the integral using integrate.quad\n",
    "\n",
    "value, err = integrate.quad(f, 0, 10)\n",
    "error = np.abs(value - (7.0+np.cos(10.0)))\n",
    "\n",
    "print(\"value = \", value)\n",
    "print(\"err predicted by quad = %.2e\" % err)\n",
    "print()\n",
    "print(\"true integration error is %.2e\" % error)"
   ]
  },
  {
   "cell_type": "markdown",
   "id": "4575ee1a-ed48-4ec8-a4ea-123da0f931c9",
   "metadata": {},
   "source": [
    "#### Example 4\n",
    "\n",
    "The cubic spline we have found is $S(x)$, so we can evaluate \n",
    "$$\n",
    "\\int^{10}_0 S(x)\\,dx\n",
    "$$\n",
    "using Simpson's rule, with properly chosen nodes."
   ]
  },
  {
   "cell_type": "code",
   "execution_count": 48,
   "id": "cbd24cd3-cd55-4bf4-95c2-5dc1c4ba374a",
   "metadata": {},
   "outputs": [
    {
     "name": "stdout",
     "output_type": "stream",
     "text": [
      "The prediction =  6.160928540170244\n",
      "\n",
      "err predicted by quad = 6.27e-08\n"
     ]
    }
   ],
   "source": [
    "value_S, err = integrate.quad(S, 0, 10)\n",
    "\n",
    "print(\"The prediction = \", value_S)\n",
    "print()\n",
    "print(\"err predicted by quad = %.2e\" % err)"
   ]
  },
  {
   "cell_type": "markdown",
   "id": "6844bbbd-cc40-4d3b-966f-3f85897f6f64",
   "metadata": {},
   "source": [
    "---"
   ]
  },
  {
   "cell_type": "code",
   "execution_count": 49,
   "id": "10938a3b-31c4-4060-83e3-3e4633d6dbcb",
   "metadata": {},
   "outputs": [
    {
     "name": "stdout",
     "output_type": "stream",
     "text": [
      "The true value = 6.160928540430731\n"
     ]
    }
   ],
   "source": [
    "x_nodes = np.linspace(0, 10, 8001)\n",
    "value_e = integrate.simps(S(x_nodes), x_nodes)\n",
    "print(\"The true value =\", value_e)"
   ]
  },
  {
   "cell_type": "code",
   "execution_count": 50,
   "id": "b150530b-9c7e-43f3-984d-6b7d19dc2d7b",
   "metadata": {},
   "outputs": [
    {
     "name": "stdout",
     "output_type": "stream",
     "text": [
      "true integration error of quad is 2.60e-10\n"
     ]
    }
   ],
   "source": [
    "error = np.abs(value_e - value_S)\n",
    "\n",
    "print(\"true integration error of quad is %.2e\" % error)"
   ]
  },
  {
   "cell_type": "markdown",
   "id": "76bd34b4-f0cc-4b72-8ccb-df93ccbd8391",
   "metadata": {},
   "source": [
    "#### Summary\n",
    "\n",
    "If we construct the cubic spline $S(x)$ using $n$ uniformly-spaced nodes, then the Simplson's rule on $2n-1$ uniformly-spaced nodes will gives us the **exact** integration of $S(x)$."
   ]
  },
  {
   "cell_type": "code",
   "execution_count": null,
   "id": "6fec24f8-063c-4212-ad42-4cd37815c88d",
   "metadata": {},
   "outputs": [],
   "source": []
  }
 ],
 "metadata": {
  "kernelspec": {
   "display_name": "Python PyTorch",
   "language": "python",
   "name": "pytorch"
  },
  "language_info": {
   "codemirror_mode": {
    "name": "ipython",
    "version": 3
   },
   "file_extension": ".py",
   "mimetype": "text/x-python",
   "name": "python",
   "nbconvert_exporter": "python",
   "pygments_lexer": "ipython3",
   "version": "3.9.7"
  }
 },
 "nbformat": 4,
 "nbformat_minor": 5
}
