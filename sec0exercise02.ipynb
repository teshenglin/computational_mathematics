{
  "cells": [
    {
      "cell_type": "markdown",
      "id": "30726820",
      "metadata": {
        "id": "30726820"
      },
      "source": [
        "# **2. (Programming) Implement Horner’s method:**"
      ]
    },
    {
      "cell_type": "markdown",
      "id": "9275e61a",
      "metadata": {
        "id": "9275e61a"
      },
      "source": [
        "## (a) \n",
        "> Given $(x_i, f(x_i)), i=1,\\ldots,N+1,$ find the interpolating polynomial."
      ]
    },
    {
      "cell_type": "code",
      "execution_count": null,
      "id": "4a68398c",
      "metadata": {
        "id": "4a68398c"
      },
      "outputs": [],
      "source": [
        "%matplotlib inline\n",
        "import numpy as np\n",
        "import matplotlib.pyplot as plt"
      ]
    },
    {
      "cell_type": "markdown",
      "id": "42dff327",
      "metadata": {
        "id": "42dff327"
      },
      "source": [
        "We write the polynomial in the following form: \n",
        "> This is called **Newton form of interpolating polynomial**.\n",
        "\n",
        "$$\n",
        "y=f(x)=a_1+a_2(x−x_1)+a_3(x−x_1)(x−x_2)+\\ldots +a_{N+1}\\prod^N_{k=1}(x−x_k)\n",
        "$$"
      ]
    },
    {
      "cell_type": "markdown",
      "id": "001e77a6",
      "metadata": {
        "id": "001e77a6"
      },
      "source": [
        "> The idea for obtaining the coefficients $a_i$ is given below: Let $y_i = f(x_i)$. \n",
        "\n",
        "1. It is clear that $a_1 = y_1$. \n",
        "2. $y_2=a_1+a_2(x_2−x_1)$, by rearranging we get $a_2=\\frac{y_2−y_1}{x_2−x_1}$. \n",
        "3. Similarly, for $a_3$ we have $y_3 = a_1 + a_2(x_3-x_1) + a_3(x_3-x_1)(x_3-x_2)$. Rearranging gives\n",
        "  $$\n",
        "  a_3=\\frac{(y_3−y_1)/(x_3−x_1)−(y_2−y_1)/(x_2−x_1)}{x_3−x_2}.\n",
        "  $$ \n",
        "  Further rearrangement, after some tedious algebraic manipulation, the above equation can be transformed into the following \n",
        "  $$\n",
        "  a_3=\\frac{(y_3−y_2)/(x_3−x_2)−(y_2−y_1)/(x_2−x_1)}{x_3−x_1}.\n",
        "  $$ \n",
        "  \n",
        "In fact, these are called *divided differences*, if we define $f[x_2,x_1]=\\frac{y_2−y_1}{x_2−x_1}$, then \n",
        "$$\n",
        "f[x_3,x_2,x_1]=\\frac{(y_3−y_2)/(x_3−x_2)−(y_2−y_1)/(x_2−x_1)}{x_3−x_1}=\\frac {f[x_3,x_2]−f[x_2,x_1]}{x_3−x_1}.\n",
        "$$\n",
        "Continuing to write it out, we will have the following iterative equation:\n",
        "$$\n",
        "f[x_k,…,x_2,x_1]=\\frac{f[x_k,x_{k-1}…x_3,x_2]−f[x_{k−1},x_{k−2},…,x_2,x_1]}{x_k−x_1}.\n",
        "$$\n"
      ]
    },
    {
      "cell_type": "code",
      "execution_count": null,
      "id": "cff19804",
      "metadata": {
        "id": "cff19804"
      },
      "outputs": [],
      "source": [
        "# Given (x_i, y_i), i=1:N, to evaluate Newton's divided difference\n",
        "# The coefficients of Newton's polynpomial is given by 'coeffi(x, y)[0,:]'\n",
        "def coeffi(x, y):\n",
        "    n = len(y)\n",
        "    \n",
        "    co = np.zeros([n, n])\n",
        "    co[:,0] = y\n",
        "    \n",
        "    for j in range(1,n):\n",
        "        for i in range(n-j):\n",
        "            co[i][j] = \\\n",
        "            (co[i+1][j-1] - co[i][j-1]) / (x[i+j]-x[i])\n",
        "            \n",
        "    return co\n",
        "\n",
        "# Given coefficients of Newton's polynomial and grid points, to evaluate p(x). \n",
        "def poly(coef, x_d, x):\n",
        "\n",
        "    n = len(x_d) - 1 \n",
        "    p = coef[n]\n",
        "    for k in range(1,n+1):\n",
        "        p = coef[n-k] + (x -x_d[n-k])*p\n",
        "    return p"
      ]
    },
    {
      "cell_type": "markdown",
      "source": [
        "### Example\n",
        "\n",
        "Suppose $f(1)=6, f(2)=9, f(3)=2$ and $f(4)=5$, the interpolating polynomial  is given by\n",
        "$$\n",
        "p(x) = 6 + 3(x-1) -5 (x-1)(x-2) + \\frac{10}{3}(x-1)(x-2)(x-3).\n",
        "$$\n",
        "Also we have $p(0)=-27$."
      ],
      "metadata": {
        "id": "0Hdon_cwi57A"
      },
      "id": "0Hdon_cwi57A"
    },
    {
      "cell_type": "code",
      "execution_count": null,
      "id": "f5a2dec9",
      "metadata": {
        "id": "f5a2dec9"
      },
      "outputs": [],
      "source": [
        "xi = np.array([1, 2, 3, 4])\n",
        "yi = np.array([6, 9, 2, 5])"
      ]
    },
    {
      "cell_type": "code",
      "source": [
        "p_coef = coeffi(xi, yi)[0,:]\n",
        "\n",
        "print(\"Coefficients of the polynomial:\", p_coef)"
      ],
      "metadata": {
        "colab": {
          "base_uri": "https://localhost:8080/"
        },
        "id": "G6D_3N3ijlCY",
        "outputId": "32a40fa0-04ad-44fb-84b2-a40cec9135fe"
      },
      "id": "G6D_3N3ijlCY",
      "execution_count": null,
      "outputs": [
        {
          "output_type": "stream",
          "name": "stdout",
          "text": [
            "Coefficients of the polynomial: [ 6.          3.         -5.          3.33333333]\n"
          ]
        }
      ]
    },
    {
      "cell_type": "code",
      "source": [
        "print(\"p(0)= \", poly(p_coef, xi, 0))"
      ],
      "metadata": {
        "colab": {
          "base_uri": "https://localhost:8080/"
        },
        "id": "mYSyFUJfkASS",
        "outputId": "623665f0-7d3d-42cd-dcdf-bf1f8c2cc985"
      },
      "id": "mYSyFUJfkASS",
      "execution_count": null,
      "outputs": [
        {
          "output_type": "stream",
          "name": "stdout",
          "text": [
            "p(0)=  -27.0\n"
          ]
        }
      ]
    },
    {
      "cell_type": "markdown",
      "source": [
        "To visualize the interpolated polynomial, we generate additional points on the polynomial, denoted by (x_new, y_new), and make a graph.\n",
        "\n",
        "Interpolated data are marked as red dots."
      ],
      "metadata": {
        "id": "rkdrAtnClBRY"
      },
      "id": "rkdrAtnClBRY"
    },
    {
      "cell_type": "code",
      "execution_count": null,
      "id": "1d32551f",
      "metadata": {
        "id": "1d32551f",
        "outputId": "b93f5025-eae5-4bab-e610-d1306bcbe00c",
        "colab": {
          "base_uri": "https://localhost:8080/",
          "height": 303
        }
      },
      "outputs": [
        {
          "output_type": "execute_result",
          "data": {
            "text/plain": [
              "[<matplotlib.lines.Line2D at 0x7f29dcc42d90>]"
            ]
          },
          "metadata": {},
          "execution_count": 21
        },
        {
          "output_type": "display_data",
          "data": {
            "image/png": "[encoded data removed]",
            "text/plain": [
              "<Figure size 432x288 with 1 Axes>"
            ]
          },
          "metadata": {
            "needs_background": "light"
          }
        }
      ],
      "source": [
        "x_new = np.arange(min(xi)-1, max(xi)+1, .1)\n",
        "y_new = poly(p_coef, xi, x_new)\n",
        "\n",
        "plt.figure(figsize = (6, 4))\n",
        "plt.plot(xi, yi, 'ro')\n",
        "plt.plot(x_new, y_new)"
      ]
    },
    {
      "cell_type": "markdown",
      "id": "0519ccec",
      "metadata": {
        "id": "0519ccec"
      },
      "source": [
        "## (b) \n",
        "> Given coefficients of a polynomial in Horner’s form, evaluate the polynomial at a given $x$."
      ]
    },
    {
      "cell_type": "markdown",
      "id": "bfaabe7c",
      "metadata": {
        "id": "bfaabe7c"
      },
      "source": [
        "Given a polynomial $p(x) = a_0+a_1x+a_2x^2 \\ldots+a_nx^n $, we rewrite it as\n",
        "$$\n",
        "p(x) = a_0+x(a_1+x(a_2+x(a_3+x(\\cdots +x(a_n))). \n",
        "$$\n",
        " \n",
        "\n"
      ]
    },
    {
      "cell_type": "code",
      "execution_count": null,
      "id": "afce8ce2",
      "metadata": {
        "id": "afce8ce2"
      },
      "outputs": [],
      "source": [
        "# Given ascending coefficients of a polynomial, to evaluate p(x). \n",
        "def horner(A, x):\n",
        "    p = A[-1]\n",
        "    i = len(A) - 2\n",
        "    while i >= 0:\n",
        "        p = p * x + A[i]\n",
        "        i -= 1\n",
        "    return p"
      ]
    },
    {
      "cell_type": "markdown",
      "source": [
        "### Example\n",
        "\n",
        "Suppose $f(x) = 1 + 2x + 3x^2$, we have $p(1)=6$."
      ],
      "metadata": {
        "id": "Jq4qt_Mwm8HE"
      },
      "id": "Jq4qt_Mwm8HE"
    },
    {
      "cell_type": "code",
      "execution_count": null,
      "id": "049f9424",
      "metadata": {
        "id": "049f9424",
        "outputId": "38e0e521-cd18-4331-ab1c-91dcc63cd3e3",
        "colab": {
          "base_uri": "https://localhost:8080/"
        }
      },
      "outputs": [
        {
          "output_type": "stream",
          "name": "stdout",
          "text": [
            "p(1)=  6\n"
          ]
        }
      ],
      "source": [
        "A = np.array([1, 2, 3])\n",
        "print(\"p(1)= \", horner(A, 1))"
      ]
    }
  ],
  "metadata": {
    "kernelspec": {
      "display_name": "Python 3 (ipykernel)",
      "language": "python",
      "name": "python3"
    },
    "language_info": {
      "codemirror_mode": {
        "name": "ipython",
        "version": 3
      },
      "file_extension": ".py",
      "mimetype": "text/x-python",
      "name": "python",
      "nbconvert_exporter": "python",
      "pygments_lexer": "ipython3",
      "version": "3.9.7"
    },
    "colab": {
      "name": "sec0exercise02.ipynb",
      "provenance": [],
      "collapsed_sections": []
    }
  },
  "nbformat": 4,
  "nbformat_minor": 5
}