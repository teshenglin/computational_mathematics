{
 "cells": [
  {
   "cell_type": "markdown",
   "metadata": {},
   "source": [
    "# Numerical integration\n",
    "\n",
    "**Goal** Given a function $f(x)$, $-1\\le x\\le 1$, we want to evaluate $\\int^1_{-1} f(x)dx$.\n",
    "\n",
    "## [0.1] Integration via Polynomial Interpolation\n",
    "Suppose that we want to evaluate $\\int_a^b f(x) dx$. We can select nodes $x_0,x_1,\\cdots,x_n$ in $[a,b]$ and set up a Langrange interpolation process. Define\n",
    "$$\\ell_i(x) = \\prod\\limits_{j=0\\\\j\\neq i}^{n}\\frac{x-x_j}{x_i-x_j}, \\quad 0\\leq i\\leq n. \\quad p(x)=\\sum\\limits_{i=0}^nf(x_i)\\ell_i(x).$$\n",
    "Then\n",
    "$$\\int_a^b f(x)dx \\approx \\int_a^b p(x)dx = \\sum\\limits_{i=0}^nf(x_i)\\int_a^b\\ell_i(x)dx.$$\n",
    "We obtain that\n",
    "$$\\int_a^bf(x)dx \\approx \\sum\\limits_{i=0}^nA_if(x_i),\\text{ where }A_i = \\int_a^b\\ell_i(x)dx$$\n",
    "This gives us a fourmula how an integration can be approximate numerically. This is called the **Newton-Cotes formula** if the nodes are equally spaced."
   ]
  },
  {
   "cell_type": "markdown",
   "metadata": {},
   "source": [
    "## [1] Trapezoidal rule\n",
    "\n",
    "For $n=1$, by choosing $x_0=a$ and $x_1=b$ from previous section, we obtian\n",
    "$$\\int_a^b f(x)dx \\approx \\frac{b-a}{2}[f(a)+f(b)].$$\n",
    "More generally, if we choose nodes $x_0,x_1,\\cdots,x_n$, we have\n",
    "$$\\int_a^bf(x)dx \\approx \\sum\\limits_{i=1}^{n} \\frac{f(x_{i-1})+f(x_i)}{2}\\Delta x_i,\\text{ where } \\Delta x_i = x_i -x_{i-1}.$$\n",
    "\n",
    "Useful link: [wiki](https://en.wikipedia.org/wiki/Trapezoidal_rule)\n",
    "\n",
    "## Example 1\n",
    "\n",
    "Evaulate $\\int_{-1}^1 e^x dx$ using the trapezoidal rule with equally spaced nodes for $n=10,100,1000$."
   ]
  },
  {
   "cell_type": "markdown",
   "metadata": {},
   "source": [
    "Note that the answer to this integral is $e-\\frac{1}{e} \\approx$"
   ]
  },
  {
   "cell_type": "code",
   "execution_count": 1,
   "metadata": {},
   "outputs": [
    {
     "data": {
      "text/plain": [
       "2.3504023872876028"
      ]
     },
     "execution_count": 1,
     "metadata": {},
     "output_type": "execute_result"
    }
   ],
   "source": [
    "exp(1) - exp(-1)"
   ]
  },
  {
   "cell_type": "markdown",
   "metadata": {},
   "source": [
    "We define a function to evaluate the integral."
   ]
  },
  {
   "cell_type": "code",
   "execution_count": 2,
   "metadata": {},
   "outputs": [
    {
     "data": {
      "text/plain": [
       "Trapezoidal (generic function with 1 method)"
      ]
     },
     "execution_count": 2,
     "metadata": {},
     "output_type": "execute_result"
    }
   ],
   "source": [
    "function Trapezoidal(f::Function,n::Int)\n",
    "    xi = range(-1,1;length=n+1)\n",
    "    sum=0\n",
    "    for i=1:n\n",
    "        sum=sum+((f(xi[i])+f(xi[i+1]))/2)*(xi[2]-xi[1])\n",
    "    end\n",
    "    return sum\n",
    "end"
   ]
  },
  {
   "cell_type": "code",
   "execution_count": 3,
   "metadata": {},
   "outputs": [
    {
     "data": {
      "text/plain": [
       "2.3582318437649055"
      ]
     },
     "execution_count": 3,
     "metadata": {},
     "output_type": "execute_result"
    }
   ],
   "source": [
    "Trapezoidal(exp,10)"
   ]
  },
  {
   "cell_type": "code",
   "execution_count": 4,
   "metadata": {},
   "outputs": [
    {
     "data": {
      "text/plain": [
       "2.3504807335115414"
      ]
     },
     "execution_count": 4,
     "metadata": {},
     "output_type": "execute_result"
    }
   ],
   "source": [
    "Trapezoidal(exp,100)"
   ]
  },
  {
   "cell_type": "code",
   "execution_count": 5,
   "metadata": {},
   "outputs": [
    {
     "data": {
      "text/plain": [
       "2.3504031707550146"
      ]
     },
     "execution_count": 5,
     "metadata": {},
     "output_type": "execute_result"
    }
   ],
   "source": [
    "Trapezoidal(exp,1000)"
   ]
  },
  {
   "cell_type": "markdown",
   "metadata": {},
   "source": [
    "## [2] Midpoint rule\n",
    "\n",
    "Consider equally spaced nodes $a=x_0<x_1\\cdots<x_n=b$.  For each interval $[x_{i-1},x_{i}]$ choose the mid point $x_i^* = (x_{i-1} + x_{i})/2$ for $i=1,2,\\cdots,n$. Then\n",
    "$$\\int_a^b f(x)dx \\approx \\sum\\limits_{i=1}^n \\Delta x f(x_i^*),\\text{ where } \\Delta x = \\frac{b-a}{n}$$\n",
    "\n",
    "## Example 2\n",
    "\n",
    "Evaulate $\\int_{-1}^1 e^x dx$ using the Midpoint rule with equally spaced nodes for $n=10,100,1000$."
   ]
  },
  {
   "cell_type": "markdown",
   "metadata": {},
   "source": [
    "We define a function to evaluate the integral."
   ]
  },
  {
   "cell_type": "code",
   "execution_count": 6,
   "metadata": {},
   "outputs": [
    {
     "data": {
      "text/plain": [
       "Midpoint (generic function with 1 method)"
      ]
     },
     "execution_count": 6,
     "metadata": {},
     "output_type": "execute_result"
    }
   ],
   "source": [
    "function Midpoint(f::Function,n)\n",
    "    xi = range(-1,1;length=n+1)\n",
    "    xi_s = zeros(n)\n",
    "    for i=1:n\n",
    "        xi_s[i] = (xi[i] + xi[i+1])/2\n",
    "    end\n",
    "    sum=0\n",
    "    for i=1:n\n",
    "        sum=sum+(f(xi_s[i]))*(2/n)\n",
    "    end\n",
    "    return sum\n",
    "end"
   ]
  },
  {
   "cell_type": "code",
   "execution_count": 7,
   "metadata": {},
   "outputs": [
    {
     "data": {
      "text/plain": [
       "2.3464896153883052"
      ]
     },
     "execution_count": 7,
     "metadata": {},
     "output_type": "execute_result"
    }
   ],
   "source": [
    "Midpoint(exp,10)"
   ]
  },
  {
   "cell_type": "code",
   "execution_count": 8,
   "metadata": {},
   "outputs": [
    {
     "data": {
      "text/plain": [
       "2.350363214371499"
      ]
     },
     "execution_count": 8,
     "metadata": {},
     "output_type": "execute_result"
    }
   ],
   "source": [
    "Midpoint(exp,100)"
   ]
  },
  {
   "cell_type": "code",
   "execution_count": 9,
   "metadata": {},
   "outputs": [
    {
     "data": {
      "text/plain": [
       "2.350401995553918"
      ]
     },
     "execution_count": 9,
     "metadata": {},
     "output_type": "execute_result"
    }
   ],
   "source": [
    "Midpoint(exp,1000)"
   ]
  },
  {
   "cell_type": "markdown",
   "metadata": {},
   "source": [
    "## [3] Simpson's rule\n",
    "\n",
    "Recall that $\\int_a^bf(x)dx \\approx \\sum\\limits_{i=0}^nA_if(x_i)$ for some $A_i$ from $\\S[0.1]$. Consider nodes $f(a),f(\\frac{a+b}{2}),f(b)$, then we can determine $A_i$, this gives us\n",
    "$$\\int_a^bf(x)dx \\approx \\frac{b-a}{6}\\left[f(a) + 4f\\left(\\frac{a+b}{2}\\right) + f(b) \\right]$$\n",
    "This is called the Simpson's rule.\n",
    "\n",
    "More genrally, we have\n",
    "$$\\int_a^b f(x)dx \\approx \\frac{b-a}{3n} \\left[ f(x_0) + 4f(x_1) + 2f(x_2) + 4f(x_3) + 2f(x_4) + \\cdots + 4f(x_{n-1}) + f(x_n) \\right] $$\n",
    "for equally spaced nodes $x_0,x_1,\\cdots,x_n$ and even $n$.\n",
    "\n",
    "Useful link: [wiki](https://en.wikipedia.org/wiki/Simpson%27s_rule)\n",
    "\n",
    "## Example 3\n",
    "\n",
    "Evaulate $\\int_{-1}^1 e^x dx$ using the Simpson's rule with equally spaced nodes for $n=10,100,1000$."
   ]
  },
  {
   "cell_type": "markdown",
   "metadata": {},
   "source": [
    "We define a function to evaulate the integral."
   ]
  },
  {
   "cell_type": "code",
   "execution_count": 10,
   "metadata": {},
   "outputs": [
    {
     "data": {
      "text/plain": [
       "Simpson (generic function with 1 method)"
      ]
     },
     "execution_count": 10,
     "metadata": {},
     "output_type": "execute_result"
    }
   ],
   "source": [
    "function Simpson(f::Function, n::Int)\n",
    "    x_i = range(-1,1;length=n+1)\n",
    "    sum=0\n",
    "    for i=1:n+1\n",
    "        if (i==1 || i== n+1)\n",
    "            sum = sum + (2/(3*n))*f(x_i[i])\n",
    "        elseif (i%2 == 0)\n",
    "            sum = sum + 4*(2/(3*n))*f(x_i[i])\n",
    "        else\n",
    "            sum = sum + 2*(2/(3*n))*f(x_i[i])\n",
    "        end\n",
    "    end\n",
    "    return sum\n",
    "end"
   ]
  },
  {
   "cell_type": "code",
   "execution_count": 11,
   "metadata": {},
   "outputs": [
    {
     "data": {
      "text/plain": [
       "2.3504231806814837"
      ]
     },
     "execution_count": 11,
     "metadata": {},
     "output_type": "execute_result"
    }
   ],
   "source": [
    "Simpson(exp,10)"
   ]
  },
  {
   "cell_type": "code",
   "execution_count": 12,
   "metadata": {},
   "outputs": [
    {
     "data": {
      "text/plain": [
       "2.350402389376751"
      ]
     },
     "execution_count": 12,
     "metadata": {},
     "output_type": "execute_result"
    }
   ],
   "source": [
    "Simpson(exp,100)"
   ]
  },
  {
   "cell_type": "code",
   "execution_count": 13,
   "metadata": {},
   "outputs": [
    {
     "data": {
      "text/plain": [
       "2.3504023872878124"
      ]
     },
     "execution_count": 13,
     "metadata": {},
     "output_type": "execute_result"
    }
   ],
   "source": [
    "Simpson(exp,1000)"
   ]
  },
  {
   "cell_type": "markdown",
   "metadata": {},
   "source": [
    "## [4] Gaussian quadrature\n",
    "\n",
    "From $\\S[0.1]$,  we have\n",
    "$$\\int_a^b f(x)dx \\approx \\sum\\limits_{i=1}^n A_i f(x_i).$$\n",
    "This can be written as a more general form, states as\n",
    "$$\\int_a^b f(x)w(x)dx \\approx \\sum\\limits_{i=1}^n A_i f(x_i),$$\n",
    "where $w$ is a positive weight function. We seek for $A_i$ and $x_i$ for given $w$ such that the formula is exact for polynomial of degree $2n-1$\n",
    "\n",
    "For example on $[-1,1]$ if we choose $w(x) = \\frac{1}{\\sqrt{1-x^2}}$,  it is known that \n",
    "$$\\int_{-1}^1 f(x)w(x)dx \\approx \\frac{\\pi}{n} \\sum\\limits_{i=1}^n f\\left(\\cos\\frac{2i-1}{2n}\\pi\\right).\\quad\\quad\\quad  (1)$$\n",
    "\n",
    "Read [wiki](https://en.wikipedia.org/wiki/Gaussian_quadrature) for more details."
   ]
  },
  {
   "cell_type": "markdown",
   "metadata": {},
   "source": [
    "## Example 4\n",
    "\n",
    "Evaulate $\\int_{-1}^1 e^x dx$ using (1)  for $n=10,100,1000$."
   ]
  },
  {
   "cell_type": "markdown",
   "metadata": {},
   "source": [
    "Consider $f(x) = e^x \\sqrt{1-x^2}$.  Then we can use (1) to evaluate the integral.\n",
    "\n",
    "We define a function to evaluate the integral."
   ]
  },
  {
   "cell_type": "code",
   "execution_count": 14,
   "metadata": {},
   "outputs": [
    {
     "data": {
      "text/plain": [
       "Quadrature (generic function with 1 method)"
      ]
     },
     "execution_count": 14,
     "metadata": {},
     "output_type": "execute_result"
    }
   ],
   "source": [
    "function Quadrature(f::Function,n::Int)\n",
    "    g(x) = f(x)*sqrt(1-x^2)\n",
    "    sum=0\n",
    "    for i=1:n\n",
    "        sum = sum +  g(cos((2i-1)*pi/(2n)))\n",
    "    end\n",
    "    return pi*sum/n\n",
    "end"
   ]
  },
  {
   "cell_type": "code",
   "execution_count": 15,
   "metadata": {},
   "outputs": [
    {
     "data": {
      "text/plain": [
       "2.363216413772281"
      ]
     },
     "execution_count": 15,
     "metadata": {},
     "output_type": "execute_result"
    }
   ],
   "source": [
    "Quadrature(exp,10)"
   ]
  },
  {
   "cell_type": "code",
   "execution_count": 16,
   "metadata": {},
   "outputs": [
    {
     "data": {
      "text/plain": [
       "2.350529312585941"
      ]
     },
     "execution_count": 16,
     "metadata": {},
     "output_type": "execute_result"
    }
   ],
   "source": [
    "Quadrature(exp,100)"
   ]
  },
  {
   "cell_type": "code",
   "execution_count": 17,
   "metadata": {},
   "outputs": [
    {
     "data": {
      "text/plain": [
       "2.350403656421756"
      ]
     },
     "execution_count": 17,
     "metadata": {},
     "output_type": "execute_result"
    }
   ],
   "source": [
    "Quadrature(exp,1000)"
   ]
  }
 ],
 "metadata": {
  "@webio": {
   "lastCommId": null,
   "lastKernelId": null
  },
  "kernelspec": {
   "display_name": "Julia 1.1.1",
   "language": "julia",
   "name": "julia-1.1"
  },
  "language_info": {
   "file_extension": ".jl",
   "mimetype": "application/julia",
   "name": "julia",
   "version": "1.1.1"
  }
 },
 "nbformat": 4,
 "nbformat_minor": 2
}
