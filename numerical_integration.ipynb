{
 "cells": [
  {
   "cell_type": "markdown",
   "metadata": {},
   "source": [
    "# Numerical integration\n",
    "\n",
    "**Goal** Given a function $f(x)$, $-1\\le x\\le 1$, we want to evaluate $\\int^1_{-1} f(x)dx$.\n",
    "\n",
    "## [0.1] Integration via Polynomial Interpolation\n",
    "Suppose that we want to evaluate $\\int_a^b f(x) dx$. We can select nodes $x_0,x_1,\\cdots,x_n$ in $[a,b]$ and set up a Langrange interpolation process. Define\n",
    "$$\\ell_i(x) = \\prod\\limits_{j=0\\\\j\\neq i}^{n}\\frac{x-x_j}{x_i-x_j}, \\quad 0\\leq i\\leq n. \\quad p(x)=\\sum\\limits_{i=0}^nf(x_i)\\ell_i(x).$$\n",
    "Then\n",
    "$$\\int_a^b f(x)dx \\approx \\int_a^b p(x)dx = \\sum\\limits_{i=0}^nf(x_i)\\int_a^b\\ell_i(x)dx.$$\n",
    "We obtain that\n",
    "$$\\int_a^bf(x)dx \\approx \\sum\\limits_{i=0}^nA_if(x_i),\\text{ where }A_i = \\int_a^b\\ell_i(x)dx$$\n",
    "This gives us a fourmula how an integration can be approximate numerically. This is called the **Newton-Cotes formula** if the nodes are equally spaced."
   ]
  },
  {
   "cell_type": "markdown",
   "metadata": {},
   "source": [
    "## [1] Trapezoidal rule\n",
    "\n",
    "For $n=1$, by choosing $x_0=a$ and $x_1=b$ from previous section, we obtian\n",
    "$$\\int_a^b f(x)dx \\approx \\frac{b-a}{2}[f(a)+f(b)].$$\n",
    "More generally, if we choose nodes $x_0,x_1,\\cdots,x_n$, we have\n",
    "$$\\int_a^bf(x)dx \\approx \\sum\\limits_{i=1}^{n} \\frac{f(x_{i-1})+f(x_i)}{2}\\Delta x_i,\\text{ where } \\Delta x_i = x_i -x_{i-1}.$$\n",
    "\n",
    "![trapezoidal](trapezoidal.png)\n",
    "\n",
    "Useful link: [wiki](https://en.wikipedia.org/wiki/Trapezoidal_rule)\n",
    "\n",
    "## Example 1\n",
    "\n",
    "Evaulate $\\int_{-1}^1 e^x dx$ using the trapezoidal rule with equally spaced nodes for $n=10,100,1000$."
   ]
  },
  {
   "cell_type": "markdown",
   "metadata": {},
   "source": [
    "Note that the answer to this integral is $e-\\frac{1}{e} \\approx$"
   ]
  },
  {
   "cell_type": "code",
   "execution_count": 1,
   "metadata": {},
   "outputs": [
    {
     "data": {
      "text/plain": [
       "2.3504023872876028"
      ]
     },
     "execution_count": 1,
     "metadata": {},
     "output_type": "execute_result"
    }
   ],
   "source": [
    "exp(1) - exp(-1)"
   ]
  },
  {
   "cell_type": "markdown",
   "metadata": {},
   "source": [
    "We define a function to evaluate the integral."
   ]
  },
  {
   "cell_type": "code",
   "execution_count": 2,
   "metadata": {},
   "outputs": [
    {
     "data": {
      "text/plain": [
       "Trapezoidal (generic function with 1 method)"
      ]
     },
     "execution_count": 2,
     "metadata": {},
     "output_type": "execute_result"
    }
   ],
   "source": [
    "function Trapezoidal(f::Function,n::Int)\n",
    "    xi = range(-1,1;length=n+1)\n",
    "    sum=0\n",
    "    for i=1:n\n",
    "        sum=sum+((f(xi[i])+f(xi[i+1]))/2)*(xi[2]-xi[1])\n",
    "    end\n",
    "    return sum\n",
    "end"
   ]
  },
  {
   "cell_type": "code",
   "execution_count": 3,
   "metadata": {},
   "outputs": [
    {
     "data": {
      "text/plain": [
       "2.3582318437649055"
      ]
     },
     "execution_count": 3,
     "metadata": {},
     "output_type": "execute_result"
    }
   ],
   "source": [
    "Trapezoidal(exp,10)"
   ]
  },
  {
   "cell_type": "code",
   "execution_count": 4,
   "metadata": {},
   "outputs": [
    {
     "data": {
      "text/plain": [
       "2.3504807335115414"
      ]
     },
     "execution_count": 4,
     "metadata": {},
     "output_type": "execute_result"
    }
   ],
   "source": [
    "Trapezoidal(exp,100)"
   ]
  },
  {
   "cell_type": "code",
   "execution_count": 5,
   "metadata": {},
   "outputs": [
    {
     "data": {
      "text/plain": [
       "2.3504031707550146"
      ]
     },
     "execution_count": 5,
     "metadata": {},
     "output_type": "execute_result"
    }
   ],
   "source": [
    "Trapezoidal(exp,1000)"
   ]
  },
  {
   "cell_type": "markdown",
   "metadata": {},
   "source": [
    "## [2] Midpoint rule\n",
    "\n",
    "Consider equally spaced nodes $a=x_0<x_1\\cdots<x_n=b$.  For each interval $[x_{i-1},x_{i}]$ choose the mid point $x_i^* = (x_{i-1} + x_{i})/2$ for $i=1,2,\\cdots,n$. Then\n",
    "$$\\int_a^b f(x)dx \\approx \\sum\\limits_{i=1}^n \\Delta x f(x_i^*),\\text{ where } \\Delta x = \\frac{b-a}{n}$$\n",
    "\n",
    "![midpoint](midpoint.png)\n",
    "\n",
    "\n",
    "## Example 2\n",
    "\n",
    "Evaulate $\\int_{-1}^1 e^x dx$ using the Midpoint rule with equally spaced nodes for $n=10,100,1000$."
   ]
  },
  {
   "cell_type": "markdown",
   "metadata": {},
   "source": [
    "We define a function to evaluate the integral."
   ]
  },
  {
   "cell_type": "code",
   "execution_count": 6,
   "metadata": {},
   "outputs": [
    {
     "data": {
      "text/plain": [
       "Midpoint (generic function with 1 method)"
      ]
     },
     "execution_count": 6,
     "metadata": {},
     "output_type": "execute_result"
    }
   ],
   "source": [
    "function Midpoint(f::Function,n)\n",
    "    xi = range(-1,1;length=n+1)\n",
    "    xi_s = zeros(n)\n",
    "    for i=1:n\n",
    "        xi_s[i] = (xi[i] + xi[i+1])/2\n",
    "    end\n",
    "    sum=0\n",
    "    for i=1:n\n",
    "        sum=sum+(f(xi_s[i]))*(2/n)\n",
    "    end\n",
    "    return sum\n",
    "end"
   ]
  },
  {
   "cell_type": "code",
   "execution_count": 7,
   "metadata": {},
   "outputs": [
    {
     "data": {
      "text/plain": [
       "2.3464896153883052"
      ]
     },
     "execution_count": 7,
     "metadata": {},
     "output_type": "execute_result"
    }
   ],
   "source": [
    "Midpoint(exp,10)"
   ]
  },
  {
   "cell_type": "code",
   "execution_count": 8,
   "metadata": {},
   "outputs": [
    {
     "data": {
      "text/plain": [
       "2.350363214371499"
      ]
     },
     "execution_count": 8,
     "metadata": {},
     "output_type": "execute_result"
    }
   ],
   "source": [
    "Midpoint(exp,100)"
   ]
  },
  {
   "cell_type": "code",
   "execution_count": 9,
   "metadata": {},
   "outputs": [
    {
     "data": {
      "text/plain": [
       "2.350401995553918"
      ]
     },
     "execution_count": 9,
     "metadata": {},
     "output_type": "execute_result"
    }
   ],
   "source": [
    "Midpoint(exp,1000)"
   ]
  },
  {
   "cell_type": "markdown",
   "metadata": {},
   "source": [
    "## [3] Simpson's rule\n",
    "\n",
    "Recall that $\\int_a^bf(x)dx \\approx \\sum\\limits_{i=0}^nA_if(x_i)$ for some $A_i$ from $\\S[0.1]$. Consider nodes $f(a),f(\\frac{a+b}{2}),f(b)$, then we can determine $A_i$, this gives us\n",
    "$$\\int_a^bf(x)dx \\approx \\frac{b-a}{6}\\left[f(a) + 4f\\left(\\frac{a+b}{2}\\right) + f(b) \\right]$$\n",
    "This is called the Simpson's rule.\n",
    "\n",
    "More genrally, we have\n",
    "$$\\int_a^b f(x)dx \\approx \\frac{b-a}{3n} \\left[ f(x_0) + 4f(x_1) + 2f(x_2) + 4f(x_3) + 2f(x_4) + \\cdots + 4f(x_{n-1}) + f(x_n) \\right] $$\n",
    "for equally spaced nodes $x_0,x_1,\\cdots,x_n$ and even $n$.\n",
    "\n",
    "Useful link: [wiki](https://en.wikipedia.org/wiki/Simpson%27s_rule)\n",
    "\n",
    "## Example 3\n",
    "\n",
    "Evaulate $\\int_{-1}^1 e^x dx$ using the Simpson's rule with equally spaced nodes for $n=10,100,1000$."
   ]
  },
  {
   "cell_type": "markdown",
   "metadata": {},
   "source": [
    "We define a function to evaulate the integral."
   ]
  },
  {
   "cell_type": "code",
   "execution_count": 10,
   "metadata": {},
   "outputs": [
    {
     "data": {
      "text/plain": [
       "Simpson (generic function with 1 method)"
      ]
     },
     "execution_count": 10,
     "metadata": {},
     "output_type": "execute_result"
    }
   ],
   "source": [
    "function Simpson(f::Function, n::Int)\n",
    "    x_i = range(-1,1;length=n+1)\n",
    "    sum=0\n",
    "    for i=1:n+1\n",
    "        if (i==1 || i== n+1)\n",
    "            sum = sum + (2/(3*n))*f(x_i[i])\n",
    "        elseif (i%2 == 0)\n",
    "            sum = sum + 4*(2/(3*n))*f(x_i[i])\n",
    "        else\n",
    "            sum = sum + 2*(2/(3*n))*f(x_i[i])\n",
    "        end\n",
    "    end\n",
    "    return sum\n",
    "end"
   ]
  },
  {
   "cell_type": "code",
   "execution_count": 11,
   "metadata": {},
   "outputs": [
    {
     "data": {
      "text/plain": [
       "2.3504231806814837"
      ]
     },
     "execution_count": 11,
     "metadata": {},
     "output_type": "execute_result"
    }
   ],
   "source": [
    "Simpson(exp,10)"
   ]
  },
  {
   "cell_type": "code",
   "execution_count": 12,
   "metadata": {},
   "outputs": [
    {
     "data": {
      "text/plain": [
       "2.350402389376751"
      ]
     },
     "execution_count": 12,
     "metadata": {},
     "output_type": "execute_result"
    }
   ],
   "source": [
    "Simpson(exp,100)"
   ]
  },
  {
   "cell_type": "code",
   "execution_count": 13,
   "metadata": {},
   "outputs": [
    {
     "data": {
      "text/plain": [
       "2.3504023872878124"
      ]
     },
     "execution_count": 13,
     "metadata": {},
     "output_type": "execute_result"
    }
   ],
   "source": [
    "Simpson(exp,1000)"
   ]
  },
  {
   "cell_type": "markdown",
   "metadata": {},
   "source": [
    "## [4] Gaussian quadrature\n",
    "\n",
    "From $\\S[0.1]$,  we have\n",
    "$$\\int_a^b f(x)dx \\approx \\sum\\limits_{i=1}^n A_i f(x_i).$$\n",
    "This can be written as a more general form, states as\n",
    "$$\\int_a^b f(x)w(x)dx \\approx \\sum\\limits_{i=1}^n A_i f(x_i),$$\n",
    "where $w$ is a positive weight function. We seek for $A_i$ and $x_i$ for given $w$ such that the formula is exact for polynomial of degree $2n-1$\n",
    "\n",
    "\n",
    "Read [wiki](https://en.wikipedia.org/wiki/Gaussian_quadrature) for more details."
   ]
  },
  {
   "cell_type": "markdown",
   "metadata": {},
   "source": [
    "### [4.1] Chebyshev–Gauss quadrature\n",
    "On $[-1,1]$, if we choose $w(x) = \\frac{1}{\\sqrt{1-x^2}}$,  it is known that \n",
    "$$\\int_{-1}^1 f(x)w(x)dx \\approx \\frac{\\pi}{n} \\sum\\limits_{i=1}^n f\\left(\\cos\\frac{2i-1}{2n}\\pi\\right).\\quad\\quad\\quad  (1)$$\n",
    "\n",
    "This is some time known as the [Chebyshev–Gauss quadrature](https://en.wikipedia.org/wiki/Chebyshev%E2%80%93Gauss_quadrature)."
   ]
  },
  {
   "cell_type": "markdown",
   "metadata": {},
   "source": [
    "## Example 4\n",
    "\n",
    "Evaulate $\\int_{-1}^1 e^x dx$ using (1)  for $n=10,100,1000$."
   ]
  },
  {
   "cell_type": "markdown",
   "metadata": {},
   "source": [
    "Consider $f(x) = e^x \\sqrt{1-x^2}$.  Then we can use (1) to evaluate the integral.\n",
    "\n",
    "We define a function to evaluate the integral."
   ]
  },
  {
   "cell_type": "code",
   "execution_count": 14,
   "metadata": {},
   "outputs": [
    {
     "data": {
      "text/plain": [
       "ChebyQuadrature (generic function with 1 method)"
      ]
     },
     "execution_count": 14,
     "metadata": {},
     "output_type": "execute_result"
    }
   ],
   "source": [
    "function ChebyQuadrature(f::Function,n::Int)\n",
    "    g(x) = f(x)*sqrt(1-x^2)\n",
    "    sum=0\n",
    "    for i=1:n\n",
    "        sum = sum +  g(cos((2i-1)*pi/(2n)))\n",
    "    end\n",
    "    return pi*sum/n\n",
    "end"
   ]
  },
  {
   "cell_type": "code",
   "execution_count": 15,
   "metadata": {},
   "outputs": [
    {
     "data": {
      "text/plain": [
       "2.363216413772281"
      ]
     },
     "execution_count": 15,
     "metadata": {},
     "output_type": "execute_result"
    }
   ],
   "source": [
    "ChebyQuadrature(exp,10)"
   ]
  },
  {
   "cell_type": "code",
   "execution_count": 16,
   "metadata": {},
   "outputs": [
    {
     "data": {
      "text/plain": [
       "2.350529312585941"
      ]
     },
     "execution_count": 16,
     "metadata": {},
     "output_type": "execute_result"
    }
   ],
   "source": [
    "ChebyQuadrature(exp,100)"
   ]
  },
  {
   "cell_type": "code",
   "execution_count": 17,
   "metadata": {},
   "outputs": [
    {
     "data": {
      "text/plain": [
       "2.350403656421756"
      ]
     },
     "execution_count": 17,
     "metadata": {},
     "output_type": "execute_result"
    }
   ],
   "source": [
    "ChebyQuadrature(exp,1000)"
   ]
  },
  {
   "cell_type": "markdown",
   "metadata": {},
   "source": [
    "### [4.2] Gauss-Legendre quadrature\n",
    "Now consider on interval $[-1,1]$, choose $w(x)=1$, we seek to find $A_i$ and $x_i$ such that\n",
    "$$\\int_{-1}^1 f(x)dx = \\sum\\limits_{i=1}^n A_i f(x_i)$$\n",
    "holds when $f(x)$ is a polynomial of degree $2n-1$.\n",
    "\n",
    "For example, consider $n=2$. To solve the above equation, we can plug in $f(x) = 1$,$f(x)=x$,$f(x)=x^2$,$f(x)=x^3$ and solve\n",
    "$$\n",
    "\\begin{cases}\n",
    "A_1+A_2 = \\int_{-1}^1 1dx = 2\\\\\n",
    "A_1x_1+A_2x_2 = \\int_{-1}^1 xdx = 0\\\\\n",
    "A_1x_1^2+A_2x_2^2 = \\int_{-1}^1 x^2dx = \\frac{2}{3}\\\\\n",
    "A_1x_1^3+A_2x_2^3 = \\int_{-1}^1 x^3dx = 0\n",
    "\\end{cases},\n",
    "$$\n",
    "which gives us $A_1 = A_2 =1$, $x_1=\\frac{1}{\\sqrt{3}}$,$x_2=-\\frac{1}{\\sqrt{3}}$.\n",
    "\n",
    "This is called the [Gauss-Legendre quadrature](https://en.wikipedia.org/wiki/Gaussian_quadrature#Gauss%E2%80%93Legendre_quadrature)."
   ]
  },
  {
   "cell_type": "markdown",
   "metadata": {},
   "source": [
    "To find $x_i$ and $A_i$, it is known that $x_i$ are the roots of the [Legendre polynomials](https://en.wikipedia.org/wiki/Legendre_polynomials). To find Legendre polynomials, we can use the recursive formula\n",
    "$$\n",
    "L_n(x) = \\frac{1}{n}((2n-1)xL_{n-1}(x) - (n-1)L_{n-2}(x))\n",
    "$$\n",
    "where $L_0=1$ and $L_1=x$.\n",
    "\n",
    "Here we try to find the coeffients of the Legendre polynomials."
   ]
  },
  {
   "cell_type": "code",
   "execution_count": 18,
   "metadata": {},
   "outputs": [
    {
     "data": {
      "text/plain": [
       "Legendre_poly (generic function with 1 method)"
      ]
     },
     "execution_count": 18,
     "metadata": {},
     "output_type": "execute_result"
    }
   ],
   "source": [
    "function Legendre_poly(n)\n",
    "    if n<=0\n",
    "        c=[1.0];\n",
    "    elseif n==1\n",
    "        c = [1.0,0.0]\n",
    "    else\n",
    "        a = Legendre_poly(n-1)\n",
    "        append!(a,0.0)\n",
    "        \n",
    "        c = Legendre_poly(n-2)\n",
    "        b = [0.0,0.0]\n",
    "        append!(b,c)\n",
    "        \n",
    "        c = ((2*n-1)*a-(n-1)*b)/n\n",
    "    end\n",
    "    \n",
    "    return c\n",
    "end"
   ]
  },
  {
   "cell_type": "markdown",
   "metadata": {},
   "source": [
    "For $n=2$, calculation gives us "
   ]
  },
  {
   "cell_type": "code",
   "execution_count": 19,
   "metadata": {},
   "outputs": [
    {
     "data": {
      "text/plain": [
       "3-element Array{Float64,1}:\n",
       "  1.5\n",
       "  0.0\n",
       " -0.5"
      ]
     },
     "execution_count": 19,
     "metadata": {},
     "output_type": "execute_result"
    }
   ],
   "source": [
    "Legendre_poly(2)"
   ]
  },
  {
   "cell_type": "markdown",
   "metadata": {},
   "source": [
    "which means $L_2(x) = 1.5x^2 + 0x - 0.5$. Which has roots $\\frac{1}{\\sqrt{3}},-\\frac{1}{\\sqrt{3}}$, same as the calculation above."
   ]
  },
  {
   "cell_type": "markdown",
   "metadata": {},
   "source": [
    "Next, we need to calculate to roots of $L_n(x)$ and the weights $A_i$. This is not quite simple. We solve it by the help of Polynomials.jl."
   ]
  },
  {
   "cell_type": "code",
   "execution_count": 20,
   "metadata": {},
   "outputs": [
    {
     "name": "stdout",
     "output_type": "stream",
     "text": [
      "\u001b[32m\u001b[1m  Updating\u001b[22m\u001b[39m registry at `~/.julia/registries/General`\n",
      "\u001b[32m\u001b[1m  Updating\u001b[22m\u001b[39m git-repo `https://github.com/JuliaRegistries/General.git`\n",
      "\u001b[?25l\u001b[2K\u001b[?25h\u001b[32m\u001b[1m Resolving\u001b[22m\u001b[39m package versions...\n",
      "\u001b[32m\u001b[1m  Updating\u001b[22m\u001b[39m `~/.julia/environments/v1.1/Project.toml`\n",
      "\u001b[90m [no changes]\u001b[39m\n",
      "\u001b[32m\u001b[1m  Updating\u001b[22m\u001b[39m `~/.julia/environments/v1.1/Manifest.toml`\n",
      "\u001b[90m [no changes]\u001b[39m\n"
     ]
    }
   ],
   "source": [
    "using Pkg\n",
    "Pkg.add(\"Polynomials\")"
   ]
  },
  {
   "cell_type": "code",
   "execution_count": 21,
   "metadata": {},
   "outputs": [],
   "source": [
    "using Polynomials"
   ]
  },
  {
   "cell_type": "code",
   "execution_count": 22,
   "metadata": {},
   "outputs": [
    {
     "data": {
      "text/plain": [
       "Gauss_Legendre (generic function with 1 method)"
      ]
     },
     "execution_count": 22,
     "metadata": {},
     "output_type": "execute_result"
    }
   ],
   "source": [
    "function Gauss_Legendre(n)\n",
    "    # returns x: the roots of Lenendre polynomails of order n\n",
    "    #         w: the desired weights(A_i's)\n",
    "    \n",
    "    p = Poly(reverse(Legendre_poly(n)))\n",
    "    x = roots(p)\n",
    "    \n",
    "    A = zeros(n,n)\n",
    "    b = zeros(n,1)\n",
    "    A[1,:] = ones(n)\n",
    "    b[1] = 2\n",
    "    for i=2:n\n",
    "        for j=1:n\n",
    "            A[i,j] = x[j]^(i-1)\n",
    "        end\n",
    "        if i%2 ==0\n",
    "            b[i] = 0\n",
    "        else\n",
    "            b[i] = (2.0)/i\n",
    "        end\n",
    "    end\n",
    "    \n",
    "    w = A\\b\n",
    "    \n",
    "    return x,w\n",
    "end"
   ]
  },
  {
   "cell_type": "markdown",
   "metadata": {},
   "source": [
    "Finally, we define a function that returns the Gauss-Legendre quadrature inegration"
   ]
  },
  {
   "cell_type": "code",
   "execution_count": 23,
   "metadata": {},
   "outputs": [
    {
     "data": {
      "text/plain": [
       "Gauss_Legendre_quadrature (generic function with 1 method)"
      ]
     },
     "execution_count": 23,
     "metadata": {},
     "output_type": "execute_result"
    }
   ],
   "source": [
    "function Gauss_Legendre_quadrature(f::Function,n::Int)\n",
    "    x,w = Gauss_Legendre(n)\n",
    "    y=f.(x)\n",
    "    \n",
    "    return  (y'*w)[1]\n",
    "end"
   ]
  },
  {
   "cell_type": "markdown",
   "metadata": {},
   "source": [
    "## Example 5\n",
    "Evaulate $\\int_{-1}^1 e^x dx$ using the Gauss-Legendre quadrature for $n=10,20$."
   ]
  },
  {
   "cell_type": "markdown",
   "metadata": {},
   "source": [
    "We apply the defined function above."
   ]
  },
  {
   "cell_type": "code",
   "execution_count": 24,
   "metadata": {},
   "outputs": [
    {
     "data": {
      "text/plain": [
       "2.3504023872876028"
      ]
     },
     "execution_count": 24,
     "metadata": {},
     "output_type": "execute_result"
    }
   ],
   "source": [
    "Gauss_Legendre_quadrature(exp,10)"
   ]
  },
  {
   "cell_type": "code",
   "execution_count": 25,
   "metadata": {},
   "outputs": [
    {
     "data": {
      "text/plain": [
       "2.3504023872876028"
      ]
     },
     "execution_count": 25,
     "metadata": {},
     "output_type": "execute_result"
    }
   ],
   "source": [
    "Gauss_Legendre_quadrature(exp,20)"
   ]
  },
  {
   "cell_type": "markdown",
   "metadata": {},
   "source": [
    "For this example, we can see that this gives a really close number to the exact result for $n=10$. "
   ]
  }
 ],
 "metadata": {
  "@webio": {
   "lastCommId": null,
   "lastKernelId": null
  },
  "kernelspec": {
   "display_name": "Julia 1.1.1",
   "language": "julia",
   "name": "julia-1.1"
  },
  "language_info": {
   "file_extension": ".jl",
   "mimetype": "application/julia",
   "name": "julia",
   "version": "1.1.1"
  }
 },
 "nbformat": 4,
 "nbformat_minor": 2
}
