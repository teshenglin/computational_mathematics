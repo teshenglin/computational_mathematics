{
  "nbformat": 4,
  "nbformat_minor": 0,
  "metadata": {
    "colab": {
      "name": "power_method.ipynb",
      "provenance": [],
      "collapsed_sections": [],
      "authorship_tag": "ABX9TyPfkqnoJMGwsP5FVO4BBybO"
    },
    "kernelspec": {
      "name": "python3",
      "display_name": "Python 3"
    },
    "language_info": {
      "name": "python"
    }
  },
  "cells": [
    {
      "cell_type": "markdown",
      "source": [
        "# Power method"
      ],
      "metadata": {
        "id": "7GYCbf4MxTS9"
      }
    },
    {
      "cell_type": "code",
      "execution_count": 1,
      "metadata": {
        "id": "DRjmKc4HxRX5"
      },
      "outputs": [],
      "source": [
        "import numpy as np"
      ]
    },
    {
      "cell_type": "code",
      "source": [
        "A = np.array([\n",
        "    [2.0, 1.0, 5.0],\n",
        "    [5.0, 7.0, 9.0],\n",
        "    [4.0, 6.0, 1.0],\n",
        "])\n",
        "print('A= ')\n",
        "print(A)"
      ],
      "metadata": {
        "colab": {
          "base_uri": "https://localhost:8080/"
        },
        "id": "M8Als-QFxXg8",
        "outputId": "28b7ac0f-2265-4c74-c8e2-f95830c378c9"
      },
      "execution_count": 2,
      "outputs": [
        {
          "output_type": "stream",
          "name": "stdout",
          "text": [
            "A= \n",
            "[[2. 1. 5.]\n",
            " [5. 7. 9.]\n",
            " [4. 6. 1.]]\n"
          ]
        }
      ]
    },
    {
      "cell_type": "code",
      "source": [
        "w, v = np.linalg.eig(A)\n",
        "print('eigenvalues = ', w)"
      ],
      "metadata": {
        "colab": {
          "base_uri": "https://localhost:8080/"
        },
        "id": "NcqD4py6T72X",
        "outputId": "1bdb8047-5889-4047-97b5-55411f630900"
      },
      "execution_count": 3,
      "outputs": [
        {
          "output_type": "stream",
          "name": "stdout",
          "text": [
            "eigenvalues =  [13.78378635  0.83287417 -4.61666053]\n"
          ]
        }
      ]
    },
    {
      "cell_type": "markdown",
      "source": [
        "## Power method to find the largest (in absolute value) eigenvalue"
      ],
      "metadata": {
        "id": "w-jp3s8mQBgP"
      }
    },
    {
      "cell_type": "markdown",
      "source": [
        "### Algorithm 0 - test\n",
        "\n",
        "> $10$ iterations on power method"
      ],
      "metadata": {
        "id": "kejmXaobU1Gn"
      }
    },
    {
      "cell_type": "code",
      "source": [
        "# initial guess\n",
        "u = np.random.random((3,1))\n",
        "# itmax: max. iteration number\n",
        "itmx = 10\n",
        "# initial iteration\n",
        "k=0\n",
        "while (k<itmx):\n",
        "  v = A.dot(u)\n",
        "  lamb = np.linalg.norm(v)\n",
        "  u = v/lamb\n",
        "  k = k+1\n",
        "  print('k= ', k, '   lamb= ', lamb, '    error = ', abs(lamb-w[0]))"
      ],
      "metadata": {
        "colab": {
          "base_uri": "https://localhost:8080/"
        },
        "id": "RDUILF86xwJS",
        "outputId": "b19a28b0-1205-44ec-c527-f075a61157ae"
      },
      "execution_count": 4,
      "outputs": [
        {
          "output_type": "stream",
          "name": "stdout",
          "text": [
            "k=  1    lamb=  9.638281651910617     error =  4.145504700067823\n",
            "k=  2    lamb=  14.051322152502014     error =  0.2675358005235733\n",
            "k=  3    lamb=  13.711001621114265     error =  0.07278473086417492\n",
            "k=  4    lamb=  13.806354053543185     error =  0.022567701564744524\n",
            "k=  5    lamb=  13.775856651205354     error =  0.007929700773086523\n",
            "k=  6    lamb=  13.786389139689726     error =  0.00260278771128597\n",
            "k=  7    lamb=  13.782907945527434     error =  0.0008784064510063416\n",
            "k=  8    lamb=  13.784079773898002     error =  0.00029342191956160946\n",
            "k=  9    lamb=  13.783687984242809     error =  9.83677356316548e-05\n",
            "k=  10    lamb=  13.783819288363574     error =  3.2936385133908175e-05\n"
          ]
        }
      ]
    },
    {
      "cell_type": "markdown",
      "source": [
        "### Algorithm 1\n",
        "\n",
        "$$\n",
        "\\lambda^{(k+1)} = \\|\\hat{x}^{(k+1)}\\| \\to |\\lambda_1|\n",
        "$$"
      ],
      "metadata": {
        "id": "7xyDiqAIRXYU"
      }
    },
    {
      "cell_type": "code",
      "source": [
        "# initial guess\n",
        "u = np.random.random((3,1))\n",
        "u = u/np.linalg.norm(u)\n",
        "# itmax: max. iteration number\n",
        "itmx = 100\n",
        "# initial iteration\n",
        "k=0\n",
        "# initial guess of largest eigenvalue\n",
        "lamb0 = 1.0\n",
        "# tolerance\n",
        "Tol = 1e-10\n",
        "# initial relative difference\n",
        "rel_diff = 1.0\n",
        "while ( (k<itmx) and (rel_diff>Tol) ):\n",
        "  v = A.dot(u)\n",
        "  lamb1 = np.linalg.norm(v)\n",
        "  u = v/lamb1\n",
        "  rel_diff = abs((lamb1-lamb0)/lamb0)\n",
        "  k = k+1\n",
        "  lamb0 = lamb1\n",
        "\n",
        "print('k= ', k, '   lamb= ', lamb1, '    error = ', abs(lamb1-w[0]))"
      ],
      "metadata": {
        "colab": {
          "base_uri": "https://localhost:8080/"
        },
        "id": "AMVFE2PURYQn",
        "outputId": "39b69383-73fd-4f59-9476-88ea06e2d282"
      },
      "execution_count": 5,
      "outputs": [
        {
          "output_type": "stream",
          "name": "stdout",
          "text": [
            "k=  21    lamb=  13.783786352234568     error =  2.561275636026039e-10\n"
          ]
        }
      ]
    },
    {
      "cell_type": "markdown",
      "source": [
        "### Algorithm 2\n",
        "\n",
        "$$\n",
        "\\lambda^{(k+1)} = \\ell(\\hat{x}^{(k+1)}) \\to \\lambda_1\n",
        "$$"
      ],
      "metadata": {
        "id": "ci868OfVU3Qp"
      }
    },
    {
      "cell_type": "code",
      "source": [
        "# initial guess\n",
        "u = np.random.random((3,1))\n",
        "u = u/u[1,0]\n",
        "# itmax: max. iteration number\n",
        "itmx = 100\n",
        "# initial iteration\n",
        "k=0\n",
        "# initial guess of largest eigenvalue\n",
        "lamb0 = 1.0\n",
        "# tolerance\n",
        "Tol = 1e-10\n",
        "# initial relative difference\n",
        "rel_diff = 1.0\n",
        "while ( (k<itmx) and (rel_diff>Tol) ):\n",
        "  v = A.dot(u)\n",
        "  lamb1 = v[1,0]\n",
        "  u = v/lamb1\n",
        "  rel_diff = abs((lamb1-lamb0)/lamb0)\n",
        "  k = k+1\n",
        "  lamb0 = lamb1\n",
        "\n",
        "print('k= ', k, '   lamb= ', lamb1, '    error = ', abs(lamb1-w[0]))"
      ],
      "metadata": {
        "colab": {
          "base_uri": "https://localhost:8080/"
        },
        "id": "xq87gFyVUz57",
        "outputId": "1fe1640a-c5ea-4cc1-c591-fbfc636f48f6"
      },
      "execution_count": 6,
      "outputs": [
        {
          "output_type": "stream",
          "name": "stdout",
          "text": [
            "k=  21    lamb=  13.783786352233516     error =  2.5507596035367897e-10\n"
          ]
        }
      ]
    },
    {
      "cell_type": "markdown",
      "source": [
        "## Inverse power method to find the smallest (in absolute value) eigenvalue"
      ],
      "metadata": {
        "id": "R6WhxV8tVTIe"
      }
    },
    {
      "cell_type": "markdown",
      "source": [
        "### Algorithm 2\n",
        "\n",
        "$$\n",
        "\\mu^{(k+1)} = \\ell(\\hat{x}^{(k+1)}) \\to \\frac{1}{\\lambda_1}\n",
        "$$"
      ],
      "metadata": {
        "id": "hOrk3ulsSRoE"
      }
    },
    {
      "cell_type": "code",
      "source": [
        "# Initial guess\n",
        "u = np.random.random((3,1))\n",
        "u = u/u[1,0]\n",
        "# itmax: max. iteration number\n",
        "itmx = 100\n",
        "# initial iteration\n",
        "k=0\n",
        "# initial guess of largest eigenvalue\n",
        "mu0 = 1.0\n",
        "# tolerance\n",
        "Tol = 1e-10\n",
        "# initial relative difference\n",
        "rel_diff = 1.0\n",
        "while ( (k<itmx) and (rel_diff>Tol) ):\n",
        "  v = np.linalg.solve(A, u)\n",
        "  mu1 = v[1,0]\n",
        "  u = v/mu1\n",
        "  rel_diff = abs((mu1-mu0)/mu0)\n",
        "  k = k+1\n",
        "  mu0 = mu1\n",
        "\n",
        "# eigenvalue = 1/mu\n",
        "lamb = 1.0/mu1\n",
        "print('k= ', k, '   lamb= ', lamb, '    error = ', abs(lamb-w[1]))"
      ],
      "metadata": {
        "id": "-khCPxm9yT-F",
        "colab": {
          "base_uri": "https://localhost:8080/"
        },
        "outputId": "8b9f9f32-ae60-4086-d70b-f5e029190b3c"
      },
      "execution_count": 7,
      "outputs": [
        {
          "output_type": "stream",
          "name": "stdout",
          "text": [
            "k=  16    lamb=  0.8328741741046263     error =  2.617239758251344e-12\n"
          ]
        }
      ]
    },
    {
      "cell_type": "markdown",
      "source": [
        "## Shift-inverse power method to find the eigenvalue that is closest to a given one"
      ],
      "metadata": {
        "id": "2kkYWS7KV46B"
      }
    },
    {
      "cell_type": "markdown",
      "source": [
        "### Algorithm 2\n",
        "\n",
        "$$\n",
        "\\mu^{(k+1)} = \\ell(\\hat{x}^{(k+1)}) \\to \\frac{1}{\\lambda_1-\\sigma}\n",
        "$$"
      ],
      "metadata": {
        "id": "FXyuXgmLTWgC"
      }
    },
    {
      "cell_type": "code",
      "source": [
        "# Initial guess\n",
        "u = np.random.random((3,1))\n",
        "u = u/u[1,0]\n",
        "# shift\n",
        "sigma = 10.0\n",
        "# itmax: max. iteration number\n",
        "itmx = 100\n",
        "# initial iteration\n",
        "k=0\n",
        "# initial guess of largest eigenvalue\n",
        "mu0 = 1.0\n",
        "# tolerance\n",
        "Tol = 1e-10\n",
        "# initial relative difference\n",
        "rel_diff = 1.0\n",
        "# As: shifted matrix\n",
        "# As = A - sigma*I\n",
        "As = A - sigma*np.identity(3)\n",
        "while ( (k<itmx) and (rel_diff>Tol) ):\n",
        "  v = np.linalg.solve(As, u)\n",
        "  mu1 = v[1,0]\n",
        "  u = v/mu1\n",
        "  rel_diff = abs((mu1-mu0)/mu0)\n",
        "  k = k+1\n",
        "  mu0 = mu1\n",
        "\n",
        "# eigenvalue = sigma+1/mu\n",
        "lamb = sigma+1.0/mu1\n",
        "print('k= ', k, '   lamb= ', lamb, '    error = ', abs(lamb-w[0]))"
      ],
      "metadata": {
        "id": "CuUeMh0DFTK3",
        "colab": {
          "base_uri": "https://localhost:8080/"
        },
        "outputId": "cac2a176-8f97-4091-a1b2-98b233a2c6ad"
      },
      "execution_count": 8,
      "outputs": [
        {
          "output_type": "stream",
          "name": "stdout",
          "text": [
            "k=  28    lamb=  13.783786352045096     error =  6.6656014041655e-11\n"
          ]
        }
      ]
    },
    {
      "cell_type": "markdown",
      "source": [
        "## Inverse power method with variant shift to find one of the eigenvalue"
      ],
      "metadata": {
        "id": "gYBhZWrxWkKg"
      }
    },
    {
      "cell_type": "markdown",
      "source": [
        "### Algorithm 2\n",
        "\n",
        "$$\n",
        "\\sigma^{(k+1)} = \\sigma^{(k)} + \\frac{1}{\\ell(\\hat{x}^{(k+1)})} \\to \\lambda\n",
        "$$"
      ],
      "metadata": {
        "id": "yd8HTW-zgTMg"
      }
    },
    {
      "cell_type": "code",
      "source": [
        "# Initial guess\n",
        "u = np.random.random((3,1))\n",
        "u = u/u[1,0]\n",
        "# shift\n",
        "sigma = 10.0\n",
        "# itmax: max. iteration number\n",
        "itmx = 100\n",
        "# initial iteration\n",
        "k=0\n",
        "# initial guess of largest eigenvalue\n",
        "mu0 = 1.0\n",
        "# tolerance\n",
        "Tol = 1e-10\n",
        "# initial relative difference\n",
        "rel_diff = 1.0\n",
        "while ( (k<itmx) and (rel_diff>Tol) ):\n",
        "  sigma0 = sigma\n",
        "  # As: shifted matrix\n",
        "  # As = A - sigma*I\n",
        "  As = A - sigma*np.identity(3)\n",
        "  v = np.linalg.solve(As, u)\n",
        "  mu1 = v[1,0]\n",
        "  u = v/mu1\n",
        "  sigma = sigma + 1.0/mu1\n",
        "  rel_diff = abs((sigma0-sigma)/sigma0)\n",
        "  k = k+1\n",
        "\n",
        "# eigenvalue = sigma\n",
        "lamb = sigma\n",
        "print('k= ', k, '   lamb= ', lamb, '    error = ', abs(lamb-w[0]))"
      ],
      "metadata": {
        "id": "G3BiOtbOWUC8",
        "colab": {
          "base_uri": "https://localhost:8080/"
        },
        "outputId": "2a3dfb3a-32ad-4a95-bc5f-06659d15b204"
      },
      "execution_count": 9,
      "outputs": [
        {
          "output_type": "stream",
          "name": "stdout",
          "text": [
            "k=  5    lamb=  13.783786351978447     error =  7.105427357601002e-15\n"
          ]
        }
      ]
    },
    {
      "cell_type": "markdown",
      "source": [
        "### Algorithm 3: With Rayleigh quotient\n",
        "\n",
        "$$\n",
        "\\sigma^{(k+1)} =(x^{(k+1)})^TAx^{(k+1)} \\to \\lambda\n",
        "$$"
      ],
      "metadata": {
        "id": "pb0prd6KgVXq"
      }
    },
    {
      "cell_type": "code",
      "source": [
        "# Initial guess\n",
        "u = np.random.random((3,1))\n",
        "u = u/np.linalg.norm(u)\n",
        "# shift\n",
        "sigma = 10.0\n",
        "# itmax: max. iteration number\n",
        "itmx = 100\n",
        "# initial iteration\n",
        "k=0\n",
        "# initial guess of largest eigenvalue\n",
        "mu0 = 1.0\n",
        "# tolerance\n",
        "Tol = 1e-10\n",
        "# initial relative difference\n",
        "rel_diff = 1.0\n",
        "while ( (k<itmx) and (rel_diff>Tol) ):\n",
        "  sigma0 = sigma\n",
        "  # As: shifted matrix\n",
        "  # As = A - sigma*I\n",
        "  As = A - sigma*np.identity(3)\n",
        "  v = np.linalg.solve(As, u)\n",
        "  mu1 = np.linalg.norm(v)\n",
        "  u = v/mu1\n",
        "  sigma = (u.T).dot(A.dot(u))\n",
        "  rel_diff = abs((sigma0-sigma)/sigma0)\n",
        "  k = k+1\n",
        "\n",
        "# eigenvalue = sigma\n",
        "lamb = sigma\n",
        "print('k= ', k, '   lamb= ', lamb, '    error = ', abs(lamb-w[0]))"
      ],
      "metadata": {
        "id": "DOYUPi7uhdZX",
        "colab": {
          "base_uri": "https://localhost:8080/"
        },
        "outputId": "f2c4d802-5e1b-40af-a0a7-c3f45c346f9c"
      },
      "execution_count": 10,
      "outputs": [
        {
          "output_type": "stream",
          "name": "stdout",
          "text": [
            "k=  5    lamb=  [[13.78378635]]     error =  [[1.24344979e-14]]\n"
          ]
        }
      ]
    },
    {
      "cell_type": "markdown",
      "source": [
        "## For symmetric matrix"
      ],
      "metadata": {
        "id": "QyQ4gpNNg4Qe"
      }
    },
    {
      "cell_type": "markdown",
      "source": [
        "### Power iteration with Rayleigh Quotient to find the largest (in magnitude) eigenvalue"
      ],
      "metadata": {
        "id": "s9dYLd69hAfb"
      }
    },
    {
      "cell_type": "code",
      "source": [
        "Asym = A+A.T"
      ],
      "metadata": {
        "id": "g1eCye3EgtZp"
      },
      "execution_count": 11,
      "outputs": []
    },
    {
      "cell_type": "code",
      "source": [
        "w, v = np.linalg.eig(Asym)\n",
        "print('eigenvalues = ', w)"
      ],
      "metadata": {
        "colab": {
          "base_uri": "https://localhost:8080/"
        },
        "id": "pi8JgPzagy49",
        "outputId": "fc0081fd-f066-45d9-fd9d-098c296d2b6e"
      },
      "execution_count": 12,
      "outputs": [
        {
          "output_type": "stream",
          "name": "stdout",
          "text": [
            "eigenvalues =  [28.35235284  1.35840528 -9.71075812]\n"
          ]
        }
      ]
    },
    {
      "cell_type": "code",
      "source": [
        "# initial guess\n",
        "u = np.random.random((3,1))\n",
        "u = u/np.linalg.norm(u)\n",
        "# itmax: max. iteration number\n",
        "itmx = 10\n",
        "# initial iteration\n",
        "k=0\n",
        "while (k<itmx):\n",
        "  v = Asym.dot(u)\n",
        "  lamb = (u.T).dot(v)\n",
        "  u = v/np.linalg.norm(v)\n",
        "  k = k+1\n",
        "  print('k= ', k, '   lamb= ', lamb, '    error = ', abs(lamb-w[0]))"
      ],
      "metadata": {
        "id": "UbmMDWhJqxyb",
        "colab": {
          "base_uri": "https://localhost:8080/"
        },
        "outputId": "f1de205f-66de-4877-fd9d-739a36cf1f73"
      },
      "execution_count": 13,
      "outputs": [
        {
          "output_type": "stream",
          "name": "stdout",
          "text": [
            "k=  1    lamb=  [[22.92454796]]     error =  [[5.42780488]]\n",
            "k=  2    lamb=  [[27.73923998]]     error =  [[0.61311286]]\n",
            "k=  3    lamb=  [[28.27968394]]     error =  [[0.0726689]]\n",
            "k=  4    lamb=  [[28.34381448]]     error =  [[0.00853837]]\n",
            "k=  5    lamb=  [[28.35135103]]     error =  [[0.00100182]]\n",
            "k=  6    lamb=  [[28.35223532]]     error =  [[0.00011752]]\n",
            "k=  7    lamb=  [[28.35233906]]     error =  [[1.37865489e-05]]\n",
            "k=  8    lamb=  [[28.35235123]]     error =  [[1.61727461e-06]]\n",
            "k=  9    lamb=  [[28.35235265]]     error =  [[1.89719454e-07]]\n",
            "k=  10    lamb=  [[28.35235282]]     error =  [[2.22556373e-08]]\n"
          ]
        }
      ]
    },
    {
      "cell_type": "code",
      "source": [
        ""
      ],
      "metadata": {
        "id": "wDhJpCQ3gvP2"
      },
      "execution_count": 13,
      "outputs": []
    }
  ]
}