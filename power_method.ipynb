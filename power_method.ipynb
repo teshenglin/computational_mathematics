{
 "cells": [
  {
   "cell_type": "markdown",
   "metadata": {},
   "source": [
    "## Power method\n",
    "\n",
    "As a first example, given a 3-by-3 matrix A"
   ]
  },
  {
   "cell_type": "code",
   "execution_count": 1,
   "metadata": {},
   "outputs": [
    {
     "data": {
      "text/plain": [
       "3×3 Array{Int64,2}:\n",
       " 2  1  5\n",
       " 5  7  9\n",
       " 4  6  1"
      ]
     },
     "execution_count": 1,
     "metadata": {},
     "output_type": "execute_result"
    }
   ],
   "source": [
    "A = [2 1 5; 5 7 9; 4 6 1]"
   ]
  },
  {
   "cell_type": "markdown",
   "metadata": {},
   "source": [
    "All of it's eigenvalues can be evaluated by the comment \"eigvals\""
   ]
  },
  {
   "cell_type": "code",
   "execution_count": 2,
   "metadata": {
    "scrolled": true
   },
   "outputs": [
    {
     "name": "stdout",
     "output_type": "stream",
     "text": [
      "13.78378635197844\n",
      "0.8328741741072435\n",
      "-4.616660526085692\n"
     ]
    }
   ],
   "source": [
    "using LinearAlgebra\n",
    "e_A = eigvals(A); \n",
    "println(e_A[1]) \n",
    "println(e_A[2]) \n",
    "println(e_A[3])"
   ]
  },
  {
   "cell_type": "markdown",
   "metadata": {},
   "source": [
    "# Basic Power method\n",
    "Given a random vector u, we compute A*u several times, here, 10 times."
   ]
  },
  {
   "cell_type": "code",
   "execution_count": 6,
   "metadata": {
    "scrolled": true
   },
   "outputs": [
    {
     "name": "stdout",
     "output_type": "stream",
     "text": [
      "After 10 iterations, \n",
      "\n",
      "the largest eigenvalue is approximately 13.783763471950946\n"
     ]
    }
   ],
   "source": [
    "u = rand(3);\n",
    "for ii=1:10\n",
    "    global mu\n",
    "    global u\n",
    "    v = A*u;\n",
    "    mu = norm(v,2);\n",
    "    u = v/mu;\n",
    "end\n",
    "println(\"After 10 iterations, \\n\")\n",
    "println(\"the largest eigenvalue is approximately \", mu)"
   ]
  },
  {
   "cell_type": "markdown",
   "metadata": {},
   "source": [
    "The second attempt, we define an epsilon to test if the process converges or not."
   ]
  },
  {
   "cell_type": "code",
   "execution_count": 5,
   "metadata": {},
   "outputs": [
    {
     "name": "stdout",
     "output_type": "stream",
     "text": [
      "Largest eigenvalue is 13.78378635199191\n",
      "# of iterations= 25\n"
     ]
    }
   ],
   "source": [
    "u = rand(3);\n",
    "mu0 = 0;\n",
    "mu = 1;\n",
    "eps = 1.0e-10;\n",
    "ii=0;\n",
    "while abs.(mu-mu0)>eps\n",
    "    mu0 = mu;\n",
    "    v = A*u;\n",
    "    mu = v[2];\n",
    "    u = v/mu;\n",
    "    ii=ii+1;\n",
    "end\n",
    "println(\"Largest eigenvalue is \", mu)\n",
    "println(\"# of iterations= \", ii)"
   ]
  },
  {
   "cell_type": "markdown",
   "metadata": {},
   "source": [
    "## Inverse power method\n",
    "To find the smallest eigenvalue we compute $A^{-1}u$ several times until the process converges."
   ]
  },
  {
   "cell_type": "code",
   "execution_count": 6,
   "metadata": {},
   "outputs": [
    {
     "name": "stdout",
     "output_type": "stream",
     "text": [
      "Smallest eigenvalue is 0.8328741741143922\n",
      "# of iterations= 15\n"
     ]
    }
   ],
   "source": [
    "u = rand(3); u=u/norm(u,2);\n",
    "mu0 = 0;\n",
    "mu = 1;\n",
    "eps = 1.0e-10;\n",
    "ii=0;\n",
    "while abs.(mu-mu0)>eps\n",
    "    mu0 = mu;\n",
    "    v = A\\u;\n",
    "    mu = v[2];\n",
    "    u = v/mu;\n",
    "    ii=ii+1;\n",
    "end\n",
    "println(\"Smallest eigenvalue is \", 1/mu)\n",
    "println(\"# of iterations= \", ii)"
   ]
  },
  {
   "cell_type": "markdown",
   "metadata": {},
   "source": [
    "## Shift-inverse power method\n",
    "To find the eigenvalue that is closest to $\\sigma$ we compute $(A-\\sigma I)^{-1}u$ several times until the process converges."
   ]
  },
  {
   "cell_type": "code",
   "execution_count": 7,
   "metadata": {},
   "outputs": [
    {
     "name": "stdout",
     "output_type": "stream",
     "text": [
      "The eigenvalue that is closest to -10 is -4.616660524001687\n",
      "# of iterations= 34\n"
     ]
    }
   ],
   "source": [
    "u = rand(3); u=u/norm(u,2);\n",
    "sigma = -10;\n",
    "mu0 = 0;\n",
    "mu = 1;\n",
    "eps = 1.0e-10;\n",
    "ii=0;\n",
    "while abs.(mu-mu0)>eps\n",
    "    mu0 = mu;\n",
    "    v = (A-sigma*UniformScaling(1))\\u;\n",
    "    mu = v[2];\n",
    "    u = v/mu;\n",
    "    ii = ii+1;\n",
    "end\n",
    "println(\"The eigenvalue that is closest to \", sigma, \" is \", sigma + 1/mu)\n",
    "println(\"# of iterations= \", ii)"
   ]
  },
  {
   "cell_type": "markdown",
   "metadata": {},
   "source": [
    "## Shift-inverse power method - Algorithm 2\n",
    "To find the eigenvalue that is closest to $\\sigma$ we compute $(A-\\sigma I)^{-1}u$ several times until the process converges."
   ]
  },
  {
   "cell_type": "code",
   "execution_count": 8,
   "metadata": {},
   "outputs": [
    {
     "name": "stdout",
     "output_type": "stream",
     "text": [
      "The eigenvalue is 0.8328741741072434\n",
      "# of iterations= 7\n"
     ]
    }
   ],
   "source": [
    "u = rand(3); u=u/norm(u,2);\n",
    "sigma = 0;\n",
    "sigma0 = 1;\n",
    "mu = 1;\n",
    "eps = 1.0e-10;\n",
    "ii=0;\n",
    "while abs.(sigma-sigma0)>eps\n",
    "    sigma0 = sigma;\n",
    "    v = (A-sigma*UniformScaling(1))\\u;\n",
    "    mu = v[2];\n",
    "    u = v/mu;\n",
    "    sigma = sigma+ 1/mu;\n",
    "    ii = ii+1;\n",
    "end\n",
    "println(\"The eigenvalue is \", sigma + 1/mu)\n",
    "println(\"# of iterations= \", ii)"
   ]
  },
  {
   "cell_type": "markdown",
   "metadata": {},
   "source": [
    "## Shift-inverse power method - Algorithm 3\n",
    "To find the eigenvalue that is closest to $\\sigma$ we compute $(A-\\sigma I)^{-1}u$ several times until the process converges."
   ]
  },
  {
   "cell_type": "code",
   "execution_count": 9,
   "metadata": {},
   "outputs": [
    {
     "name": "stdout",
     "output_type": "stream",
     "text": [
      "The eigenvalue is 13.783786351977671\n",
      "# of iterations= 11\n"
     ]
    }
   ],
   "source": [
    "u = rand(3); u=u/norm(u,2);\n",
    "sigma = u'*A*u;\n",
    "sigma0 = 1;\n",
    "mu = 1;\n",
    "eps = 1.0e-10;\n",
    "ii=0;\n",
    "while abs.(sigma-sigma0)>eps\n",
    "    sigma0 = sigma;\n",
    "    v = (A-sigma*UniformScaling(1))\\u;\n",
    "    v = v/norm(v,2);\n",
    "    sigma = v'*A*v;\n",
    "    ii = ii+1;\n",
    "end\n",
    "println(\"The eigenvalue is \", sigma)\n",
    "println(\"# of iterations= \", ii)"
   ]
  },
  {
   "cell_type": "markdown",
   "metadata": {},
   "source": [
    "Let's try a bigger symmetric matrix, with size $n=10$"
   ]
  },
  {
   "cell_type": "code",
   "execution_count": 10,
   "metadata": {},
   "outputs": [
    {
     "name": "stdout",
     "output_type": "stream",
     "text": [
      "-2.604406597766613\n",
      "-1.470962453105976\n",
      "-0.8222941411012477\n",
      "-0.4369893570250568\n",
      "0.22330174731798777\n",
      "0.2488829649192796\n",
      "0.9828412435203444\n",
      "1.2743120919546858\n",
      "1.73955154933266\n",
      "1.920023759840795\n"
     ]
    }
   ],
   "source": [
    "n = 10;\n",
    "B = rand(n,n) .- 0.5; B = B+B';\n",
    "e_B = eigvals(B);\n",
    "for ii=1:n\n",
    "    println(e_B[ii]) \n",
    "end"
   ]
  },
  {
   "cell_type": "markdown",
   "metadata": {},
   "source": [
    "Shift-inverse power method - Algorithm 1"
   ]
  },
  {
   "cell_type": "code",
   "execution_count": 11,
   "metadata": {},
   "outputs": [
    {
     "name": "stdout",
     "output_type": "stream",
     "text": [
      "The eigenvalue is -0.8222941411006368\n",
      "# of iterations= 29\n"
     ]
    }
   ],
   "source": [
    "u = rand(n); u=u/norm(u,2);\n",
    "sigma = -1;\n",
    "mu0 = 0; mu = 1;\n",
    "eps = 1.0e-10; ii=0;\n",
    "while abs.(mu-mu0)>eps\n",
    "    mu0 = mu;\n",
    "    v = (B-sigma*UniformScaling(1))\\u;\n",
    "    mu = v[2];\n",
    "    u = v/mu;\n",
    "    ii = ii+1;\n",
    "end\n",
    "println(\"The eigenvalue is \", sigma + 1/mu)\n",
    "println(\"# of iterations= \", ii)"
   ]
  },
  {
   "cell_type": "markdown",
   "metadata": {},
   "source": [
    "Shift-inverse power method - Algorithm 2"
   ]
  },
  {
   "cell_type": "code",
   "execution_count": 12,
   "metadata": {},
   "outputs": [
    {
     "name": "stdout",
     "output_type": "stream",
     "text": [
      "The eigenvalue is -0.4369893570254946\n",
      "# of iterations= 10\n"
     ]
    }
   ],
   "source": [
    "u = rand(n); u=u/norm(u,2);\n",
    "sigma = -1; sigma0 = 1;\n",
    "mu = 1;\n",
    "eps = 1.0e-10; ii=0;\n",
    "while abs.(sigma-sigma0)>eps\n",
    "    sigma0 = sigma;\n",
    "    v = (B-sigma*UniformScaling(1))\\u;\n",
    "    mu = v[2];\n",
    "    u = v/mu;\n",
    "    sigma = sigma + 1/mu;\n",
    "    ii = ii+1;\n",
    "end\n",
    "println(\"The eigenvalue is \", sigma + 1/mu)\n",
    "println(\"# of iterations= \", ii)"
   ]
  },
  {
   "cell_type": "markdown",
   "metadata": {},
   "source": [
    "Shift-inverse power method - Algorithm 3"
   ]
  },
  {
   "cell_type": "code",
   "execution_count": 13,
   "metadata": {},
   "outputs": [
    {
     "name": "stdout",
     "output_type": "stream",
     "text": [
      "The eigenvalue is -0.8222941411012478\n",
      "# of iterations= 5\n"
     ]
    }
   ],
   "source": [
    "u = rand(n); u=u/norm(u,2);\n",
    "sigma = -1; sigma0 = 1;\n",
    "mu = 1;\n",
    "eps = 1.0e-10; ii=0;\n",
    "while abs.(sigma-sigma0)>eps\n",
    "    global v\n",
    "    sigma0 = sigma;\n",
    "    v = (B-sigma*UniformScaling(1))\\u;\n",
    "    v = v/norm(v,2);\n",
    "    sigma = v'*B*v;\n",
    "    ii = ii+1;\n",
    "end\n",
    "println(\"The eigenvalue is \", sigma)\n",
    "println(\"# of iterations= \", ii)"
   ]
  },
  {
   "cell_type": "code",
   "execution_count": 15,
   "metadata": {},
   "outputs": [],
   "source": [
    "lambda_1 = sigma;\n",
    "v1 = v;"
   ]
  },
  {
   "cell_type": "markdown",
   "metadata": {},
   "source": [
    "## Deflation (For symmetric matrix)\n",
    "Given a symmetric metrix $A$, suppose we found the eigenvalue $\\lambda_1$ and eigenvector $v_1$,\n",
    "we can define a new matrix $B = A - \\lambda_1 vv^T$"
   ]
  },
  {
   "cell_type": "code",
   "execution_count": 16,
   "metadata": {},
   "outputs": [
    {
     "name": "stdout",
     "output_type": "stream",
     "text": [
      "-2.604406597766613    -2.604406597766616\n",
      "-1.470962453105976    -1.470962453105976\n",
      "-0.8222941411012477    -0.436989357025056\n",
      "-0.4369893570250568    1.2851053790877384e-16\n",
      "0.22330174731798777    0.22330174731798702\n",
      "0.2488829649192796    0.24888296491927955\n",
      "0.9828412435203444    0.9828412435203433\n",
      "1.2743120919546858    1.274312091954682\n",
      "1.73955154933266    1.7395515493326585\n",
      "1.920023759840795    1.920023759840793\n"
     ]
    }
   ],
   "source": [
    "B2 = B - lambda_1*v1*v1';\n",
    "e_B2 = eigvals(B2); e_B2 = sort(e_B2);\n",
    "for ii=1:n\n",
    "    println(e_B[ii], \"    \", e_B2[ii])\n",
    "end"
   ]
  },
  {
   "cell_type": "code",
   "execution_count": 17,
   "metadata": {},
   "outputs": [
    {
     "name": "stdout",
     "output_type": "stream",
     "text": [
      "-2.604406597766613    -2.60440659776662\n",
      "-1.470962453105976    -1.4709624531059748\n",
      "-0.8222941411012477    -0.43698935702505726\n",
      "-0.4369893570250568    8.710641312251513e-16\n",
      "0.22330174731798777    0.22330174731798969\n",
      "0.2488829649192796    0.2488829649192773\n",
      "0.9828412435203444    0.982841243520341\n",
      "1.2743120919546858    1.2743120919546826\n",
      "1.73955154933266    1.739551549332659\n",
      "1.920023759840795    1.920023759840797\n"
     ]
    }
   ],
   "source": [
    "x = zeros(n); \n",
    "x[1] = 1/v1[1];\n",
    "B3 = B - lambda_1*v1*x';\n",
    "e_B3 = eigvals(B3); e_B3 = sort(e_B3);\n",
    "for ii=1:n\n",
    "    println(e_B[ii], \"    \", e_B3[ii])\n",
    "end"
   ]
  },
  {
   "cell_type": "markdown",
   "metadata": {},
   "source": [
    "Wielandt Deflation"
   ]
  },
  {
   "cell_type": "code",
   "execution_count": 18,
   "metadata": {},
   "outputs": [
    {
     "name": "stdout",
     "output_type": "stream",
     "text": [
      "-2.604406597766613    -2.604406597766616\n",
      "-1.470962453105976    -1.4709624531059775\n",
      "-0.8222941411012477    -0.43698935702505665\n",
      "-0.4369893570250568    0.0\n",
      "0.22330174731798777    0.22330174731798738\n",
      "0.2488829649192796    0.24888296491927683\n",
      "0.9828412435203444    0.9828412435203433\n",
      "1.2743120919546858    1.2743120919546844\n",
      "1.73955154933266    1.739551549332658\n",
      "1.920023759840795    1.920023759840795\n"
     ]
    }
   ],
   "source": [
    "x = B[1,:]/(lambda_1*v1[1]);\n",
    "B4 = B - lambda_1*v1*x';\n",
    "e_B4 = eigvals(B4); e_B4 = sort(e_B4);\n",
    "for ii=1:n\n",
    "    println(e_B[ii], \"    \", e_B4[ii])\n",
    "end"
   ]
  },
  {
   "cell_type": "markdown",
   "metadata": {},
   "source": [
    "Wielandt Deflation\n",
    "\n",
    "A small test showing that the size of the matrix can be reduced by one"
   ]
  },
  {
   "cell_type": "code",
   "execution_count": 20,
   "metadata": {},
   "outputs": [
    {
     "name": "stdout",
     "output_type": "stream",
     "text": [
      "[-1.1732, 0.269916, 0.535634, 1.12684]\n",
      "[-1.1732, 0.0, 0.535634, 1.12684]\n",
      "[-1.1732, 0.535634, 1.12684]\n"
     ]
    }
   ],
   "source": [
    "n = 4;\n",
    "C = rand(n,n) .- 0.5; C = C+C';\n",
    "e_C = eigvals(C);\n",
    "\n",
    "u = rand(n); u=u/norm(u,2);\n",
    "sigma = 0; sigma0 = 1;\n",
    "mu = 1;\n",
    "eps = 1.0e-10; ii=0;\n",
    "while abs.(sigma-sigma0)>eps\n",
    "    sigma0 = sigma;\n",
    "    v = (C-sigma*UniformScaling(1))\\u;\n",
    "    v = v/norm(v,2);\n",
    "    sigma = v'*C*v;\n",
    "    ii = ii+1;\n",
    "end\n",
    "lambda_1 = sigma; v1 = v;\n",
    "\n",
    "x = C[1,:]/(lambda_1*v1[1]);\n",
    "C2 = C - lambda_1*v1*x';\n",
    "e_C2 = eigvals(C2); e_C2 = sort(e_C2);\n",
    "\n",
    "C3 = C2[2:n, 2:n];\n",
    "e_C3 = eigvals(C3); e_C3 = sort(e_C3);\n",
    "println(e_C)\n",
    "println(e_C2)\n",
    "println(e_C3)"
   ]
  },
  {
   "cell_type": "markdown",
   "metadata": {},
   "source": [
    "## Subspace iteration"
   ]
  },
  {
   "cell_type": "code",
   "execution_count": 21,
   "metadata": {},
   "outputs": [],
   "source": [
    "n=1000;\n",
    "A = rand(n, n).-0.5;\n",
    "A = A+A';"
   ]
  },
  {
   "cell_type": "markdown",
   "metadata": {},
   "source": [
    "Try to find $4$ largest (absolute) eigenvalues"
   ]
  },
  {
   "cell_type": "code",
   "execution_count": 22,
   "metadata": {},
   "outputs": [
    {
     "name": "stdout",
     "output_type": "stream",
     "text": [
      "The 1st eigenvalue is  26.01857313404932\n",
      "The 2nd eigenvalue is  25.644570687246436\n",
      "The 3rd eigenvalue is  25.458012116630716\n",
      "The 4th eigenvalue is  25.115738363725832\n",
      "# of iterations= 4347\n"
     ]
    }
   ],
   "source": [
    "# Constructing a set of orthonormal vectors\n",
    "u2 = zeros(n,4);\n",
    "u = rand(n,1); u = u/norm(u,2); u2[:,1] = u;\n",
    "v = rand(n,1); v = v/norm(u,2);\n",
    "v = v - (v'*u).*u; u2[:,2] = v;\n",
    "w = rand(n,1); w = w/norm(u,2);\n",
    "w = w - (w'*u).*u; w = w - (w'*v).*v;\n",
    "u2[:,3] = w;\n",
    "x = rand(n,1); x = x/norm(u,2);\n",
    "x = x - (x'*u).*u; x = x - (x'*v).*v; x = x - (x'*w).*w;\n",
    "u2[:,4] = x;\n",
    "\n",
    "# Initialize the eigenvalue\n",
    "mu = ones(1,4); mu2 = zeros(1,4);\n",
    "\n",
    "# Define epsilon\n",
    "eps = 1.0e-10; ii=0;\n",
    "\n",
    "# The loop\n",
    "while norm(mu2-mu)>eps\n",
    "    mu2[:] = mu[:];\n",
    "    v2 = A*u2;\n",
    "    u = v2[:,1]; mu[1,1] = norm(u,2); u = u/mu[1,1];\n",
    "    v = v2[:,2]; mu[1,2] = norm(v,2); v = v/mu[1,2];\n",
    "    w = v2[:,3]; mu[1,3] = norm(w,2); w = w/mu[1,3];\n",
    "    x = v2[:,4]; mu[1,4] = norm(x,2); x = x/mu[1,4];\n",
    "    v = v - (v'*u).*u;\n",
    "    w = w - (w'*u).*u; w = w - (w'*v).*v;\n",
    "    x = x - (x'*u).*u; x = x - (x'*v).*v; x = x - (x'*w).*w;\n",
    "    u2[:,1] = u; u2[:,2] = v; u2[:,3] = w; u2[:,4] = x;\n",
    "    ii=ii+1;\n",
    "end\n",
    "println(\"The 1st eigenvalue is  \", mu[1,1])\n",
    "println(\"The 2nd eigenvalue is  \", mu[1,2])\n",
    "println(\"The 3rd eigenvalue is  \", mu[1,3])\n",
    "println(\"The 4th eigenvalue is  \", mu[1,4])\n",
    "println(\"# of iterations= \", ii)"
   ]
  },
  {
   "cell_type": "code",
   "execution_count": 23,
   "metadata": {},
   "outputs": [
    {
     "data": {
      "text/plain": [
       "1000-element Array{Float64,1}:\n",
       " -25.644570687246368\n",
       " -25.09643056892713 \n",
       " -24.9735688903644  \n",
       " -24.85072059475573 \n",
       " -24.847784907302835\n",
       " -24.606717752138284\n",
       " -24.43010373444591 \n",
       " -24.275627068884475\n",
       " -24.235462514262355\n",
       " -24.080698930075716\n",
       " -23.979042924287295\n",
       " -23.904742083231145\n",
       " -23.825387085925037\n",
       "   ⋮                \n",
       "  23.944673986296422\n",
       "  23.95949995637701 \n",
       "  24.136531290175235\n",
       "  24.168050970289773\n",
       "  24.446289468520806\n",
       "  24.713674978581963\n",
       "  24.753237820677505\n",
       "  24.872643185721834\n",
       "  25.067927136820586\n",
       "  25.11573841692058 \n",
       "  25.458012116630748\n",
       "  26.01857313404935 "
      ]
     },
     "execution_count": 23,
     "metadata": {},
     "output_type": "execute_result"
    }
   ],
   "source": [
    "eigvals(A)"
   ]
  },
  {
   "cell_type": "markdown",
   "metadata": {},
   "source": [
    "Try to find $4$ smallest (absolute) eigenvalues"
   ]
  },
  {
   "cell_type": "code",
   "execution_count": 24,
   "metadata": {},
   "outputs": [
    {
     "name": "stdout",
     "output_type": "stream",
     "text": [
      "The 1st eigenvalue is  0.01296238057116173\n",
      "The 2nd eigenvalue is  0.03511223314885392\n",
      "The 3rd eigenvalue is  0.0457727422428922\n",
      "The 4th eigenvalue is  0.060644435858338626\n",
      "# of iterations= 49\n"
     ]
    }
   ],
   "source": [
    "# Constructing a set of orthonormal vectors\n",
    "u2 = zeros(n,4);\n",
    "u = rand(n,1); u = u/norm(u,2); u2[:,1] = u;\n",
    "v = rand(n,1); v = v/norm(u,2);\n",
    "v = v - (v'*u).*u; u2[:,2] = v;\n",
    "w = rand(n,1); w = w/norm(u,2);\n",
    "w = w - (w'*u).*u; w = w - (w'*v).*v;\n",
    "u2[:,3] = w;\n",
    "x = rand(n,1); x = x/norm(u,2);\n",
    "x = x - (x'*u).*u; x = x - (x'*v).*v; x = x - (x'*w).*w;\n",
    "u2[:,4] = x;\n",
    "\n",
    "# Initialize the eigenvalue\n",
    "mu = ones(1,4); mu2 = zeros(1,4);\n",
    "\n",
    "# Define epsilon\n",
    "eps = 1.0e-10; ii=0;\n",
    "\n",
    "# The loop\n",
    "while norm(mu2-mu)>eps\n",
    "    mu2[:] = mu[:];\n",
    "    v2 = A\\u2;\n",
    "    u = v2[:,1]; mu[1,1] = norm(u,2); u = u/mu[1,1];\n",
    "    v = v2[:,2]; mu[1,2] = norm(v,2); v = v/mu[1,2];\n",
    "    w = v2[:,3]; mu[1,3] = norm(w,2); w = w/mu[1,3];\n",
    "    x = v2[:,4]; mu[1,4] = norm(x,2); x = x/mu[1,4];\n",
    "    v = v - (v'*u).*u;\n",
    "    w = w - (w'*u).*u; w = w - (w'*v).*v;\n",
    "    x = x - (x'*u).*u; x = x - (x'*v).*v; x = x - (x'*w).*w;\n",
    "    u2[:,1] = u; u2[:,2] = v; u2[:,3] = w; u2[:,4] = x;\n",
    "    ii=ii+1;\n",
    "end\n",
    "println(\"The 1st eigenvalue is  \", 1/mu[1,1])\n",
    "println(\"The 2nd eigenvalue is  \", 1/mu[1,2])\n",
    "println(\"The 3rd eigenvalue is  \", 1/mu[1,3])\n",
    "println(\"The 4th eigenvalue is  \", 1/mu[1,4])\n",
    "println(\"# of iterations= \", ii)"
   ]
  },
  {
   "cell_type": "markdown",
   "metadata": {},
   "source": [
    "## Subspace iteration - Test for non-symmetric matrix"
   ]
  },
  {
   "cell_type": "code",
   "execution_count": 25,
   "metadata": {},
   "outputs": [
    {
     "name": "stdout",
     "output_type": "stream",
     "text": [
      "[1.0, 2.0, 1.0]\n"
     ]
    },
    {
     "data": {
      "text/plain": [
       "3×3 Array{Float64,2}:\n",
       "  1.2618    -0.926638  -0.0481386\n",
       " -0.217783   1.77084    0.0400447\n",
       "  0.177497  -0.628246   0.967363 "
      ]
     },
     "execution_count": 25,
     "metadata": {},
     "output_type": "execute_result"
    }
   ],
   "source": [
    "B = zeros(3,3);\n",
    "B[:,:] = Diagonal([1;1;2]); B[1,3]=1;\n",
    "C = rand(3,3); Q, R = qr(C); B = Q'*B*Q;\n",
    "println(eigvals(B))\n",
    "B"
   ]
  },
  {
   "cell_type": "code",
   "execution_count": 26,
   "metadata": {},
   "outputs": [
    {
     "name": "stdout",
     "output_type": "stream",
     "text": [
      "The 1st eigenvalue is  2.0000000000697766\n",
      "The 2nd eigenvalue is  0.9999999999956017\n",
      "# of iterations= 36\n"
     ]
    }
   ],
   "source": [
    "n=3; m=2;\n",
    "# Constructing a set of orthonormal vectors\n",
    "u2 = zeros(n,m);\n",
    "u = rand(n,1); u = u/norm(u,2); u2[:,1] = u;\n",
    "v = rand(n,1); v = v/norm(u,2);\n",
    "v = v - (v'*u).*u; u2[:,2] = v;\n",
    "\n",
    "# Initialize the eigenvalue\n",
    "mu = ones(1,m); mu2 = zeros(1,m);\n",
    "\n",
    "# Define epsilon\n",
    "eps = 1.0e-10; ii=0;\n",
    "\n",
    "# The loop\n",
    "while norm(mu2-mu)>eps\n",
    "    mu2[:] = mu[:];\n",
    "    v2 = B*u2;\n",
    "    u = v2[:,1]; mu[1,1] = norm(u,2); u = u/mu[1,1];\n",
    "    v = v2[:,2]; mu[1,2] = norm(v,2); v = v/mu[1,2];\n",
    "    v = v - (v'*u).*u;\n",
    "    u2[:,1] = u; u2[:,2] = v;\n",
    "    ii=ii+1;\n",
    "end\n",
    "println(\"The 1st eigenvalue is  \", mu[1,1])\n",
    "println(\"The 2nd eigenvalue is  \", mu[1,2])\n",
    "println(\"# of iterations= \", ii)"
   ]
  },
  {
   "cell_type": "markdown",
   "metadata": {},
   "source": [
    "## QR algorithm"
   ]
  },
  {
   "cell_type": "code",
   "execution_count": 27,
   "metadata": {},
   "outputs": [
    {
     "name": "stdout",
     "output_type": "stream",
     "text": [
      "The eigenvaluew are  [2.0, 1.0, 1.0]\n",
      "# of iterations= 34\n"
     ]
    }
   ],
   "source": [
    "n=3;\n",
    "Q, R = qr(B);\n",
    "\n",
    "# Define epsilon\n",
    "eps = 1.0e-10; ii=0;\n",
    "mu = ones(n,1); mu2 = zeros(n,1); \n",
    "\n",
    "# The loop\n",
    "while norm(mu2-mu)>eps\n",
    "    global A2\n",
    "    mu2 = mu;\n",
    "    A2 = R*Q;\n",
    "    Q, R = qr(A2);\n",
    "    mu = diag(A2);\n",
    "    ii=ii+1;\n",
    "end\n",
    "println(\"The eigenvaluew are  \", mu)\n",
    "println(\"# of iterations= \", ii)"
   ]
  },
  {
   "cell_type": "code",
   "execution_count": 28,
   "metadata": {},
   "outputs": [
    {
     "data": {
      "text/plain": [
       "3×3 Array{Float64,2}:\n",
       "  2.0          -0.580223     -0.814458   \n",
       " -1.08683e-10   1.0           8.85176e-11\n",
       "  2.20217e-11  -1.27776e-11   1.0        "
      ]
     },
     "execution_count": 28,
     "metadata": {},
     "output_type": "execute_result"
    }
   ],
   "source": [
    "A2"
   ]
  },
  {
   "cell_type": "markdown",
   "metadata": {},
   "source": [
    "## Eigenvalue problem of Laplace operator\n",
    "$$u_{xx} = \\lambda u, \\qquad u(0) = u(1) = 0.$$"
   ]
  },
  {
   "cell_type": "code",
   "execution_count": 29,
   "metadata": {},
   "outputs": [],
   "source": [
    "n = 1000; A = zeros(n-1,n-1);\n",
    "for ii=1:n-1\n",
    "    A[ii,ii] = -2;\n",
    "end\n",
    "for ii=1:n-2\n",
    "    A[ii, ii+1]=1;\n",
    "    A[ii+1, ii]=1;\n",
    "end\n",
    "h = 1/n; A = A/h^2;"
   ]
  },
  {
   "cell_type": "code",
   "execution_count": 30,
   "metadata": {},
   "outputs": [
    {
     "name": "stdout",
     "output_type": "stream",
     "text": [
      "The 1st eigenvalue is  9.86959628366954\n",
      "The 2nd eigenvalue is  39.47828772573999\n",
      "The 3rd eigenvalue is  88.82578210039104\n",
      "The 4th eigenvalue is  157.9115923684798\n",
      "# of iterations= 31\n"
     ]
    }
   ],
   "source": [
    "n = n-1;\n",
    "# Constructing a set of orthonormal vectors\n",
    "u2 = zeros(n,4);\n",
    "u = rand(n,1); u = u/norm(u,2); u2[:,1] = u;\n",
    "v = rand(n,1); v = v/norm(u,2);\n",
    "v = v - (v'*u).*u; u2[:,2] = v;\n",
    "w = rand(n,1); w = w/norm(u,2);\n",
    "w = w - (w'*u).*u; w = w - (w'*v).*v;\n",
    "u2[:,3] = w;\n",
    "x = rand(n,1); x = x/norm(u,2);\n",
    "x = x - (x'*u).*u; x = x - (x'*v).*v; x = x - (x'*w).*w;\n",
    "u2[:,4] = x;\n",
    "\n",
    "# Initialize the eigenvalue\n",
    "mu = ones(1,4); mu2 = zeros(1,4);\n",
    "\n",
    "# Define epsilon\n",
    "eps = 1.0e-13; ii=0;\n",
    "\n",
    "# The loop\n",
    "while norm(mu2-mu)>eps\n",
    "    mu2[:] = mu[:];\n",
    "    v2 = A\\u2;\n",
    "    u = v2[:,1]; mu[1,1] = norm(u,2); u = u/mu[1,1];\n",
    "    v = v2[:,2]; mu[1,2] = norm(v,2); v = v/mu[1,2];\n",
    "    w = v2[:,3]; mu[1,3] = norm(w,2); w = w/mu[1,3];\n",
    "    x = v2[:,4]; mu[1,4] = norm(x,2); x = x/mu[1,4];\n",
    "    v = v - (v'*u).*u;\n",
    "    w = w - (w'*u).*u; w = w - (w'*v).*v;\n",
    "    x = x - (x'*u).*u; x = x - (x'*v).*v; x = x - (x'*w).*w;\n",
    "    u2[:,1] = u; u2[:,2] = v; u2[:,3] = w; u2[:,4] = x;\n",
    "    ii=ii+1;\n",
    "end\n",
    "println(\"The 1st eigenvalue is  \", 1/mu[1,1])\n",
    "println(\"The 2nd eigenvalue is  \", 1/mu[1,2])\n",
    "println(\"The 3rd eigenvalue is  \", 1/mu[1,3])\n",
    "println(\"The 4th eigenvalue is  \", 1/mu[1,4])\n",
    "println(\"# of iterations= \", ii)"
   ]
  },
  {
   "cell_type": "code",
   "execution_count": null,
   "metadata": {},
   "outputs": [],
   "source": []
  }
 ],
 "metadata": {
  "kernelspec": {
   "display_name": "Julia 1.0.3",
   "language": "julia",
   "name": "julia-1.0"
  },
  "language_info": {
   "file_extension": ".jl",
   "mimetype": "application/julia",
   "name": "julia",
   "version": "1.0.3"
  }
 },
 "nbformat": 4,
 "nbformat_minor": 2
}
