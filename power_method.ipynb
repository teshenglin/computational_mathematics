{
  "nbformat": 4,
  "nbformat_minor": 0,
  "metadata": {
    "colab": {
      "name": "power_method.ipynb",
      "provenance": [],
      "collapsed_sections": [],
      "authorship_tag": "ABX9TyOS9P6zlO6+PxNcSJ/QGGqH"
    },
    "kernelspec": {
      "name": "python3",
      "display_name": "Python 3"
    },
    "language_info": {
      "name": "python"
    }
  },
  "cells": [
    {
      "cell_type": "markdown",
      "source": [
        "# Power method"
      ],
      "metadata": {
        "id": "7GYCbf4MxTS9"
      }
    },
    {
      "cell_type": "code",
      "execution_count": null,
      "metadata": {
        "id": "DRjmKc4HxRX5"
      },
      "outputs": [],
      "source": [
        "import numpy as np"
      ]
    },
    {
      "cell_type": "code",
      "source": [
        "A = np.array([\n",
        "    [2.0, 1.0, 5.0],\n",
        "    [5.0, 7.0, 9.0],\n",
        "    [4.0, 6.0, 1.0],\n",
        "])\n",
        "print('A= ')\n",
        "print(A)"
      ],
      "metadata": {
        "colab": {
          "base_uri": "https://localhost:8080/"
        },
        "id": "M8Als-QFxXg8",
        "outputId": "2f240de1-33b9-4293-acfd-af5932197ea0"
      },
      "execution_count": 37,
      "outputs": [
        {
          "output_type": "stream",
          "name": "stdout",
          "text": [
            "A= \n",
            "[[2. 1. 5.]\n",
            " [5. 7. 9.]\n",
            " [4. 6. 1.]]\n"
          ]
        }
      ]
    },
    {
      "cell_type": "code",
      "source": [
        "w, v = np.linalg.eig(A)\n",
        "print('eigenvalues = ', w)"
      ],
      "metadata": {
        "colab": {
          "base_uri": "https://localhost:8080/"
        },
        "id": "NcqD4py6T72X",
        "outputId": "a6f736a7-d6a7-4bfd-a8cc-e76d2c5f510c"
      },
      "execution_count": 38,
      "outputs": [
        {
          "output_type": "stream",
          "name": "stdout",
          "text": [
            "eigenvalues =  [13.78378635  0.83287417 -4.61666053]\n"
          ]
        }
      ]
    },
    {
      "cell_type": "markdown",
      "source": [
        "## Power method to find the largest (in absolute value) eigenvalue"
      ],
      "metadata": {
        "id": "w-jp3s8mQBgP"
      }
    },
    {
      "cell_type": "markdown",
      "source": [
        "### Algorithm 1 - test"
      ],
      "metadata": {
        "id": "kejmXaobU1Gn"
      }
    },
    {
      "cell_type": "code",
      "source": [
        "# initial guess\n",
        "u = np.random.random((3,1))\n",
        "# itmax: max. iteration number\n",
        "itmx = 10\n",
        "# initial iteration\n",
        "k=0\n",
        "while (k<itmx):\n",
        "  v = A.dot(u)\n",
        "  mu1 = np.linalg.norm(v)\n",
        "  v = v/mu1\n",
        "  k = k+1\n",
        "  print('k= ', k, '   mu= ', mu1, '    error = ', abs(mu1-w[0]))\n",
        "  u = v"
      ],
      "metadata": {
        "colab": {
          "base_uri": "https://localhost:8080/"
        },
        "id": "RDUILF86xwJS",
        "outputId": "aea83714-105d-49b4-cee0-124630bc3907"
      },
      "execution_count": null,
      "outputs": [
        {
          "output_type": "stream",
          "name": "stdout",
          "text": [
            "k=  1    mu=  8.947975119299231     error =  4.835811232679209\n",
            "k=  2    mu=  13.011076951387173     error =  0.7727094005912676\n",
            "k=  3    mu=  13.879620395189148     error =  0.09583404321070788\n",
            "k=  4    mu=  13.730979667636797     error =  0.05280668434164326\n",
            "k=  5    mu=  13.799113042780178     error =  0.015326690801737541\n",
            "k=  6    mu=  13.778381774183833     error =  0.005404577794607235\n",
            "k=  7    mu=  13.785565931253908     error =  0.0017795792754675688\n",
            "k=  8    mu=  13.783186858684587     error =  0.000599493293853115\n",
            "k=  9    mu=  13.783986754729934     error =  0.00020040275149391107\n",
            "k=  10    mu=  13.783719186666827     error =  6.71653116128823e-05\n"
          ]
        }
      ]
    },
    {
      "cell_type": "markdown",
      "source": [
        "### Algorithm 1"
      ],
      "metadata": {
        "id": "7xyDiqAIRXYU"
      }
    },
    {
      "cell_type": "code",
      "source": [
        "# initial guess\n",
        "u = np.random.random((3,1))\n",
        "u = u/np.linalg.norm(u)\n",
        "# itmax: max. iteration number\n",
        "itmx = 100\n",
        "# initial iteration\n",
        "k=0\n",
        "# initial guess of largest eigenvalue\n",
        "mu0 = 1.0\n",
        "# tolerance\n",
        "Tol = 1e-10\n",
        "# initial relative difference\n",
        "rel_diff = 1.0\n",
        "while ( (k<itmx) and (rel_diff>Tol) ):\n",
        "  v = A.dot(u)\n",
        "  mu1 = np.linalg.norm(v)\n",
        "  v = v/mu1\n",
        "  rel_diff = abs((mu1-mu0)/mu0)\n",
        "  k = k+1\n",
        "  mu0 = mu1\n",
        "  u = v\n",
        "\n",
        "print('k= ', k, '   mu= ', mu1, '    error = ', abs(mu1-w[0]))"
      ],
      "metadata": {
        "colab": {
          "base_uri": "https://localhost:8080/"
        },
        "id": "AMVFE2PURYQn",
        "outputId": "fc0bf638-47ef-443a-b882-56c3f895df50"
      },
      "execution_count": null,
      "outputs": [
        {
          "output_type": "stream",
          "name": "stdout",
          "text": [
            "k=  21    mu=  13.783786352302874     error =  3.2443381314806174e-10\n"
          ]
        }
      ]
    },
    {
      "cell_type": "markdown",
      "source": [
        "### Algorithm 2"
      ],
      "metadata": {
        "id": "ci868OfVU3Qp"
      }
    },
    {
      "cell_type": "code",
      "source": [
        "# initial guess\n",
        "u = np.random.random((3,1))\n",
        "u = u/u[1,0]\n",
        "# itmax: max. iteration number\n",
        "itmx = 100\n",
        "# initial iteration\n",
        "k=0\n",
        "# initial guess of largest eigenvalue\n",
        "mu0 = 1.0\n",
        "# tolerance\n",
        "Tol = 1e-10\n",
        "# initial relative difference\n",
        "rel_diff = 1.0\n",
        "while ( (k<itmx) and (rel_diff>Tol) ):\n",
        "  v = A.dot(u)\n",
        "  mu1 = v[1,0]\n",
        "  v = v/mu1\n",
        "  rel_diff = abs((mu1-mu0)/mu0)\n",
        "  k = k+1\n",
        "  mu0 = mu1\n",
        "  u = v\n",
        "\n",
        "print('k= ', k, '   mu= ', mu1, '    error = ', abs(mu1-w[0]))"
      ],
      "metadata": {
        "colab": {
          "base_uri": "https://localhost:8080/"
        },
        "id": "xq87gFyVUz57",
        "outputId": "d99f4297-d27c-415f-f3fe-1d2e4dd3d39c"
      },
      "execution_count": null,
      "outputs": [
        {
          "output_type": "stream",
          "name": "stdout",
          "text": [
            "k=  22    mu=  13.78378635184313     error =  1.3531042952763528e-10\n"
          ]
        }
      ]
    },
    {
      "cell_type": "markdown",
      "source": [
        "## Inverse power method to find the smallest (in absolute value) eigenvalue"
      ],
      "metadata": {
        "id": "R6WhxV8tVTIe"
      }
    },
    {
      "cell_type": "markdown",
      "source": [
        "### Algorithm 2"
      ],
      "metadata": {
        "id": "hOrk3ulsSRoE"
      }
    },
    {
      "cell_type": "code",
      "source": [
        "# Initial guess\n",
        "u = np.random.random((3,1))\n",
        "u = u/u[1,0]\n",
        "# itmax: max. iteration number\n",
        "itmx = 100\n",
        "# initial iteration\n",
        "k=0\n",
        "# initial guess of largest eigenvalue\n",
        "mu0 = 1.0\n",
        "# tolerance\n",
        "Tol = 1e-10\n",
        "# initial relative difference\n",
        "rel_diff = 1.0\n",
        "while ( (k<itmx) and (rel_diff>Tol) ):\n",
        "  v = np.linalg.solve(A, u)\n",
        "  mu1 = v[1,0]\n",
        "  v = v/mu1\n",
        "  rel_diff = abs((mu1-mu0)/mu0)\n",
        "  k = k+1\n",
        "  mu0 = mu1\n",
        "  u = v\n",
        "\n",
        "# eigenvalue = 1/mu\n",
        "lamb = 1.0/mu1\n",
        "print('k= ', k, '   mu= ', lamb, '    error = ', abs(lamb-w[1]))"
      ],
      "metadata": {
        "id": "-khCPxm9yT-F",
        "colab": {
          "base_uri": "https://localhost:8080/"
        },
        "outputId": "637d4f43-a6f7-426d-efba-d26906de6971"
      },
      "execution_count": null,
      "outputs": [
        {
          "output_type": "stream",
          "name": "stdout",
          "text": [
            "k=  15    mu=  0.8328741741005522     error =  6.6913141694158185e-12\n"
          ]
        }
      ]
    },
    {
      "cell_type": "markdown",
      "source": [
        "## Shift-inverse power method to find the eigenvalue that is closest to a given one"
      ],
      "metadata": {
        "id": "2kkYWS7KV46B"
      }
    },
    {
      "cell_type": "markdown",
      "source": [
        "### Algorithm 1"
      ],
      "metadata": {
        "id": "FXyuXgmLTWgC"
      }
    },
    {
      "cell_type": "code",
      "source": [
        "# Initial guess\n",
        "u = np.random.random((3,1))\n",
        "u = u/u[1,0]\n",
        "# shift\n",
        "sigma = 10.0\n",
        "# itmax: max. iteration number\n",
        "itmx = 100\n",
        "# initial iteration\n",
        "k=0\n",
        "# initial guess of largest eigenvalue\n",
        "mu0 = 1.0\n",
        "# tolerance\n",
        "Tol = 1e-10\n",
        "# initial relative difference\n",
        "rel_diff = 1.0\n",
        "# As: shifted matrix\n",
        "# As = A - sigma*I\n",
        "As = A - sigma*np.identity(3)\n",
        "while ( (k<itmx) and (rel_diff>Tol) ):\n",
        "  v = np.linalg.solve(As, u)\n",
        "  mu1 = v[1,0]\n",
        "  v = v/mu1\n",
        "  rel_diff = abs((mu1-mu0)/mu0)\n",
        "  k = k+1\n",
        "  mu0 = mu1\n",
        "  u = v\n",
        "\n",
        "# eigenvalue = sigma+1/mu\n",
        "lamb = sigma+1.0/mu1\n",
        "print('k= ', k, '   mu= ', lamb, '    error = ', abs(lamb-w[0]))"
      ],
      "metadata": {
        "id": "CuUeMh0DFTK3",
        "colab": {
          "base_uri": "https://localhost:8080/"
        },
        "outputId": "126e10ce-709f-4983-af4f-62301bede720"
      },
      "execution_count": 41,
      "outputs": [
        {
          "output_type": "stream",
          "name": "stdout",
          "text": [
            "k=  28    mu=  13.783786352036932     error =  5.849187800777145e-11\n"
          ]
        }
      ]
    },
    {
      "cell_type": "markdown",
      "source": [
        "## Shift-inverse power method with adaptive shift to find one of the eigenvalue"
      ],
      "metadata": {
        "id": "gYBhZWrxWkKg"
      }
    },
    {
      "cell_type": "code",
      "source": [
        "# Initial guess\n",
        "u = np.random.random((3,1))\n",
        "u = u/u[1,0]\n",
        "# shift\n",
        "sigma = 10.0\n",
        "# itmax: max. iteration number\n",
        "itmx = 100\n",
        "# initial iteration\n",
        "k=0\n",
        "# initial guess of largest eigenvalue\n",
        "mu0 = 1.0\n",
        "# tolerance\n",
        "Tol = 1e-10\n",
        "# initial relative difference\n",
        "rel_diff = 1.0\n",
        "while ( (k<itmx) and (rel_diff>Tol) ):\n",
        "  sigma0 = sigma\n",
        "  # As: shifted matrix\n",
        "  # As = A - sigma*I\n",
        "  As = A - sigma*np.identity(3)\n",
        "  v = np.linalg.solve(As, u)\n",
        "  mu1 = v[1,0]\n",
        "  v = v/mu1\n",
        "  sigma = sigma + 1.0/mu1\n",
        "  rel_diff = abs((sigma0-sigma)/sigma0)\n",
        "  k = k+1\n",
        "  u = v\n",
        "  print('k= ', k, '   sigma= ', sigma)\n",
        "\n",
        "# eigenvalue = sigma+1/mu\n",
        "lamb = sigma+1.0/mu1\n",
        "print('k= ', k, '   mu= ', lamb)"
      ],
      "metadata": {
        "id": "G3BiOtbOWUC8",
        "colab": {
          "base_uri": "https://localhost:8080/"
        },
        "outputId": "9210da01-41e4-4a77-a387-a44ce8d11db7"
      },
      "execution_count": 39,
      "outputs": [
        {
          "output_type": "stream",
          "name": "stdout",
          "text": [
            "k=  1    sigma=  12.4403857231401\n",
            "k=  2    sigma=  13.93058392922084\n",
            "k=  3    sigma=  13.785237096572004\n",
            "k=  4    sigma=  13.783786500242483\n",
            "k=  5    sigma=  13.783786351978451\n",
            "k=  6    sigma=  13.78378635197845\n",
            "k=  6    mu=  13.783786351978447\n"
          ]
        }
      ]
    },
    {
      "cell_type": "code",
      "source": [
        ""
      ],
      "metadata": {
        "id": "DOYUPi7uhdZX"
      },
      "execution_count": null,
      "outputs": []
    }
  ]
}