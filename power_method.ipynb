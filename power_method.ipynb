{
  "nbformat": 4,
  "nbformat_minor": 0,
  "metadata": {
    "colab": {
      "name": "power_method.ipynb",
      "provenance": [],
      "collapsed_sections": [],
      "authorship_tag": "ABX9TyPlfG5Er3b7agQC9a2qaweI"
    },
    "kernelspec": {
      "name": "python3",
      "display_name": "Python 3"
    },
    "language_info": {
      "name": "python"
    }
  },
  "cells": [
    {
      "cell_type": "markdown",
      "source": [
        "# Power method"
      ],
      "metadata": {
        "id": "7GYCbf4MxTS9"
      }
    },
    {
      "cell_type": "code",
      "execution_count": 1,
      "metadata": {
        "id": "DRjmKc4HxRX5"
      },
      "outputs": [],
      "source": [
        "import numpy as np"
      ]
    },
    {
      "cell_type": "code",
      "source": [
        "A = np.array([\n",
        "    [2.0, 1.0, 5.0],\n",
        "    [5.0, 7.0, 9.0],\n",
        "    [4.0, 6.0, 1.0],\n",
        "])\n",
        "print('A= ')\n",
        "print(A)"
      ],
      "metadata": {
        "colab": {
          "base_uri": "https://localhost:8080/"
        },
        "id": "M8Als-QFxXg8",
        "outputId": "a247f692-cd50-41bc-eba8-c122075242f7"
      },
      "execution_count": 2,
      "outputs": [
        {
          "output_type": "stream",
          "name": "stdout",
          "text": [
            "A= \n",
            "[[2. 1. 5.]\n",
            " [5. 7. 9.]\n",
            " [4. 6. 1.]]\n"
          ]
        }
      ]
    },
    {
      "cell_type": "code",
      "source": [
        "w, v = np.linalg.eig(A)\n",
        "print('eigenvalues = ', w)"
      ],
      "metadata": {
        "colab": {
          "base_uri": "https://localhost:8080/"
        },
        "id": "NcqD4py6T72X",
        "outputId": "997e0762-47e5-40ac-a4a6-ffc5313ea2d7"
      },
      "execution_count": 3,
      "outputs": [
        {
          "output_type": "stream",
          "name": "stdout",
          "text": [
            "eigenvalues =  [13.78378635  0.83287417 -4.61666053]\n"
          ]
        }
      ]
    },
    {
      "cell_type": "markdown",
      "source": [
        "## Power method to find the largest (in absolute value) eigenvalue"
      ],
      "metadata": {
        "id": "w-jp3s8mQBgP"
      }
    },
    {
      "cell_type": "markdown",
      "source": [
        "### Algorithm 0 - test"
      ],
      "metadata": {
        "id": "kejmXaobU1Gn"
      }
    },
    {
      "cell_type": "code",
      "source": [
        "# initial guess\n",
        "u = np.random.random((3,1))\n",
        "# itmax: max. iteration number\n",
        "itmx = 10\n",
        "# initial iteration\n",
        "k=0\n",
        "while (k<itmx):\n",
        "  v = A.dot(u)\n",
        "  lamb = np.linalg.norm(v)\n",
        "  u = v/lamb\n",
        "  k = k+1\n",
        "  print('k= ', k, '   lamb= ', lamb, '    error = ', abs(lamb-w[0]))"
      ],
      "metadata": {
        "colab": {
          "base_uri": "https://localhost:8080/"
        },
        "id": "RDUILF86xwJS",
        "outputId": "676cdbc9-7f0f-46df-97a0-e321692ca7da"
      },
      "execution_count": 7,
      "outputs": [
        {
          "output_type": "stream",
          "name": "stdout",
          "text": [
            "k=  1    lamb=  12.800967650556085     error =  0.9828187014223548\n",
            "k=  2    lamb=  13.259013874695652     error =  0.524772477282788\n",
            "k=  3    lamb=  13.869394591535832     error =  0.08560823955739139\n",
            "k=  4    lamb=  13.743537513410716     error =  0.040248838567723766\n",
            "k=  5    lamb=  13.795880902269896     error =  0.01209455029145623\n",
            "k=  6    lamb=  13.779573484432081     error =  0.004212867546359078\n",
            "k=  7    lamb=  13.785178900260135     error =  0.001392548281694772\n",
            "k=  8    lamb=  13.783317844026826     error =  0.00046850795161468284\n",
            "k=  9    lamb=  13.783943034943864     error =  0.00015668296542337146\n",
            "k=  10    lamb=  13.783733846914052     error =  5.2505064388697065e-05\n"
          ]
        }
      ]
    },
    {
      "cell_type": "markdown",
      "source": [
        "### Algorithm 1\n",
        "\n",
        "$$\n",
        "\\lambda^{(k+1)} = \\|x^{(k+1)}\\| \\to |\\lambda_1|\n",
        "$$"
      ],
      "metadata": {
        "id": "7xyDiqAIRXYU"
      }
    },
    {
      "cell_type": "code",
      "source": [
        "# initial guess\n",
        "u = np.random.random((3,1))\n",
        "u = u/np.linalg.norm(u)\n",
        "# itmax: max. iteration number\n",
        "itmx = 100\n",
        "# initial iteration\n",
        "k=0\n",
        "# initial guess of largest eigenvalue\n",
        "lamb0 = 1.0\n",
        "# tolerance\n",
        "Tol = 1e-10\n",
        "# initial relative difference\n",
        "rel_diff = 1.0\n",
        "while ( (k<itmx) and (rel_diff>Tol) ):\n",
        "  v = A.dot(u)\n",
        "  lamb1 = np.linalg.norm(v)\n",
        "  u = v/lamb1\n",
        "  rel_diff = abs((lamb1-lamb0)/lamb0)\n",
        "  k = k+1\n",
        "  lamb0 = lamb1\n",
        "\n",
        "print('k= ', k, '   lamb= ', lamb1, '    error = ', abs(lamb1-w[0]))"
      ],
      "metadata": {
        "colab": {
          "base_uri": "https://localhost:8080/"
        },
        "id": "AMVFE2PURYQn",
        "outputId": "0eed5df2-f40f-4175-e3e5-8288123ff951"
      },
      "execution_count": 9,
      "outputs": [
        {
          "output_type": "stream",
          "name": "stdout",
          "text": [
            "k=  20    lamb=  13.783786351842322     error =  1.361186718895624e-10\n"
          ]
        }
      ]
    },
    {
      "cell_type": "markdown",
      "source": [
        "### Algorithm 2\n",
        "\n",
        "$$\n",
        "\\lambda^{(k+1)} = \\ell(x^{(k+1)}) \\to \\lambda_1\n",
        "$$"
      ],
      "metadata": {
        "id": "ci868OfVU3Qp"
      }
    },
    {
      "cell_type": "code",
      "source": [
        "# initial guess\n",
        "u = np.random.random((3,1))\n",
        "u = u/u[1,0]\n",
        "# itmax: max. iteration number\n",
        "itmx = 100\n",
        "# initial iteration\n",
        "k=0\n",
        "# initial guess of largest eigenvalue\n",
        "lamb0 = 1.0\n",
        "# tolerance\n",
        "Tol = 1e-10\n",
        "# initial relative difference\n",
        "rel_diff = 1.0\n",
        "while ( (k<itmx) and (rel_diff>Tol) ):\n",
        "  v = A.dot(u)\n",
        "  lamb1 = v[1,0]\n",
        "  u = v/lamb1\n",
        "  rel_diff = abs((lamb1-lamb0)/lamb0)\n",
        "  k = k+1\n",
        "  lamb0 = lamb1\n",
        "\n",
        "print('k= ', k, '   lamb= ', lamb1, '    error = ', abs(lamb1-w[0]))"
      ],
      "metadata": {
        "colab": {
          "base_uri": "https://localhost:8080/"
        },
        "id": "xq87gFyVUz57",
        "outputId": "07cbdaa7-ff69-40c7-c175-fe418b03c73a"
      },
      "execution_count": 13,
      "outputs": [
        {
          "output_type": "stream",
          "name": "stdout",
          "text": [
            "k=  22    lamb=  13.7837863518019     error =  1.765396717701151e-10\n"
          ]
        }
      ]
    },
    {
      "cell_type": "markdown",
      "source": [
        "## Inverse power method to find the smallest (in absolute value) eigenvalue"
      ],
      "metadata": {
        "id": "R6WhxV8tVTIe"
      }
    },
    {
      "cell_type": "markdown",
      "source": [
        "### Algorithm 2\n",
        "\n",
        "$$\n",
        "\\mu^{(k+1)} = \\ell(x^{(k+1)}) \\to \\frac{1}{\\lambda_1}\n",
        "$$"
      ],
      "metadata": {
        "id": "hOrk3ulsSRoE"
      }
    },
    {
      "cell_type": "code",
      "source": [
        "# Initial guess\n",
        "u = np.random.random((3,1))\n",
        "u = u/u[1,0]\n",
        "# itmax: max. iteration number\n",
        "itmx = 100\n",
        "# initial iteration\n",
        "k=0\n",
        "# initial guess of largest eigenvalue\n",
        "mu0 = 1.0\n",
        "# tolerance\n",
        "Tol = 1e-10\n",
        "# initial relative difference\n",
        "rel_diff = 1.0\n",
        "while ( (k<itmx) and (rel_diff>Tol) ):\n",
        "  v = np.linalg.solve(A, u)\n",
        "  mu1 = v[1,0]\n",
        "  u = v/mu1\n",
        "  rel_diff = abs((mu1-mu0)/mu0)\n",
        "  k = k+1\n",
        "  mu0 = mu1\n",
        "\n",
        "# eigenvalue = 1/mu\n",
        "lamb = 1.0/mu1\n",
        "print('k= ', k, '   lamb= ', lamb, '    error = ', abs(lamb-w[1]))"
      ],
      "metadata": {
        "id": "-khCPxm9yT-F",
        "colab": {
          "base_uri": "https://localhost:8080/"
        },
        "outputId": "792d1fc9-f44a-47ce-99c9-692d1cb4ef49"
      },
      "execution_count": 16,
      "outputs": [
        {
          "output_type": "stream",
          "name": "stdout",
          "text": [
            "k=  16    lamb=  0.8328741741112113     error =  3.967826067707847e-12\n"
          ]
        }
      ]
    },
    {
      "cell_type": "markdown",
      "source": [
        "## Shift-inverse power method to find the eigenvalue that is closest to a given one"
      ],
      "metadata": {
        "id": "2kkYWS7KV46B"
      }
    },
    {
      "cell_type": "markdown",
      "source": [
        "### Algorithm 2\n",
        "\n",
        "$$\n",
        "\\mu^{(k+1)} = \\ell(x^{(k+1)}) \\to \\frac{1}{\\lambda_1-\\sigma}\n",
        "$$"
      ],
      "metadata": {
        "id": "FXyuXgmLTWgC"
      }
    },
    {
      "cell_type": "code",
      "source": [
        "# Initial guess\n",
        "u = np.random.random((3,1))\n",
        "u = u/u[1,0]\n",
        "# shift\n",
        "sigma = 10.0\n",
        "# itmax: max. iteration number\n",
        "itmx = 100\n",
        "# initial iteration\n",
        "k=0\n",
        "# initial guess of largest eigenvalue\n",
        "mu0 = 1.0\n",
        "# tolerance\n",
        "Tol = 1e-10\n",
        "# initial relative difference\n",
        "rel_diff = 1.0\n",
        "# As: shifted matrix\n",
        "# As = A - sigma*I\n",
        "As = A - sigma*np.identity(3)\n",
        "while ( (k<itmx) and (rel_diff>Tol) ):\n",
        "  v = np.linalg.solve(As, u)\n",
        "  mu1 = v[1,0]\n",
        "  u = v/mu1\n",
        "  rel_diff = abs((mu1-mu0)/mu0)\n",
        "  k = k+1\n",
        "  mu0 = mu1\n",
        "\n",
        "# eigenvalue = sigma+1/mu\n",
        "lamb = sigma+1.0/mu1\n",
        "print('k= ', k, '   lamb= ', lamb, '    error = ', abs(lamb-w[0]))"
      ],
      "metadata": {
        "id": "CuUeMh0DFTK3",
        "colab": {
          "base_uri": "https://localhost:8080/"
        },
        "outputId": "85c8e537-5036-4733-d03b-48244a5e144c"
      },
      "execution_count": 20,
      "outputs": [
        {
          "output_type": "stream",
          "name": "stdout",
          "text": [
            "k=  28    lamb=  13.783786352063938     error =  8.549783103717346e-11\n"
          ]
        }
      ]
    },
    {
      "cell_type": "markdown",
      "source": [
        "## Inverse power method with variant shift to find one of the eigenvalue"
      ],
      "metadata": {
        "id": "gYBhZWrxWkKg"
      }
    },
    {
      "cell_type": "markdown",
      "source": [
        "### Algorithm 2"
      ],
      "metadata": {
        "id": "yd8HTW-zgTMg"
      }
    },
    {
      "cell_type": "code",
      "source": [
        "# Initial guess\n",
        "u = np.random.random((3,1))\n",
        "u = u/u[1,0]\n",
        "# shift\n",
        "sigma = 10.0\n",
        "# itmax: max. iteration number\n",
        "itmx = 100\n",
        "# initial iteration\n",
        "k=0\n",
        "# initial guess of largest eigenvalue\n",
        "mu0 = 1.0\n",
        "# tolerance\n",
        "Tol = 1e-10\n",
        "# initial relative difference\n",
        "rel_diff = 1.0\n",
        "while ( (k<itmx) and (rel_diff>Tol) ):\n",
        "  sigma0 = sigma\n",
        "  # As: shifted matrix\n",
        "  # As = A - sigma*I\n",
        "  As = A - sigma*np.identity(3)\n",
        "  v = np.linalg.solve(As, u)\n",
        "  mu1 = v[1,0]\n",
        "  u = v/mu1\n",
        "  sigma = sigma + 1.0/mu1\n",
        "  rel_diff = abs((sigma0-sigma)/sigma0)\n",
        "  k = k+1\n",
        "\n",
        "# eigenvalue = sigma\n",
        "lamb = sigma\n",
        "print('k= ', k, '   lamb= ', lamb, '    error = ', abs(lamb-w[0]))"
      ],
      "metadata": {
        "id": "G3BiOtbOWUC8",
        "colab": {
          "base_uri": "https://localhost:8080/"
        },
        "outputId": "7e2e8ef6-69c5-4547-8226-d16d163c1398"
      },
      "execution_count": 50,
      "outputs": [
        {
          "output_type": "stream",
          "name": "stdout",
          "text": [
            "k=  5    lamb=  13.78378635197845     error =  8.881784197001252e-15\n"
          ]
        }
      ]
    },
    {
      "cell_type": "markdown",
      "source": [
        "### Algorithm 3: With Rayleigh quotient"
      ],
      "metadata": {
        "id": "pb0prd6KgVXq"
      }
    },
    {
      "cell_type": "code",
      "source": [
        "# Initial guess\n",
        "u = np.random.random((3,1))\n",
        "u = u/np.linalg.norm(u)\n",
        "# shift\n",
        "sigma = 10.0\n",
        "# itmax: max. iteration number\n",
        "itmx = 100\n",
        "# initial iteration\n",
        "k=0\n",
        "# initial guess of largest eigenvalue\n",
        "mu0 = 1.0\n",
        "# tolerance\n",
        "Tol = 1e-10\n",
        "# initial relative difference\n",
        "rel_diff = 1.0\n",
        "while ( (k<itmx) and (rel_diff>Tol) ):\n",
        "  sigma0 = sigma\n",
        "  # As: shifted matrix\n",
        "  # As = A - sigma*I\n",
        "  As = A - sigma*np.identity(3)\n",
        "  v = np.linalg.solve(As, u)\n",
        "  mu1 = np.linalg.norm(v)\n",
        "  u = v/mu1\n",
        "  sigma = (u.T).dot(A.dot(u))\n",
        "  rel_diff = abs((sigma0-sigma)/sigma0)\n",
        "  k = k+1\n",
        "\n",
        "# eigenvalue = sigma\n",
        "lamb = sigma\n",
        "print('k= ', k, '   lamb= ', lamb, '    error = ', abs(lamb-w[0]))"
      ],
      "metadata": {
        "id": "DOYUPi7uhdZX",
        "colab": {
          "base_uri": "https://localhost:8080/"
        },
        "outputId": "ebb1bf54-d29a-4c91-f8dd-8f1840f3015e"
      },
      "execution_count": 51,
      "outputs": [
        {
          "output_type": "stream",
          "name": "stdout",
          "text": [
            "k=  5    lamb=  [[13.78378635]]     error =  [[7.10542736e-15]]\n"
          ]
        }
      ]
    },
    {
      "cell_type": "code",
      "source": [
        ""
      ],
      "metadata": {
        "id": "UbmMDWhJqxyb"
      },
      "execution_count": null,
      "outputs": []
    }
  ]
}