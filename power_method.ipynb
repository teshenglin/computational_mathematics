{
 "cells": [
  {
   "cell_type": "markdown",
   "metadata": {},
   "source": [
    "## Power method\n",
    "\n",
    "As a first example, given a 3-by-3 matrix A"
   ]
  },
  {
   "cell_type": "code",
   "execution_count": 1,
   "metadata": {},
   "outputs": [
    {
     "data": {
      "text/plain": [
       "3×3 Array{Int64,2}:\n",
       " 2  1  5\n",
       " 5  7  9\n",
       " 4  6  1"
      ]
     },
     "execution_count": 1,
     "metadata": {},
     "output_type": "execute_result"
    }
   ],
   "source": [
    "A = [2 1 5; 5 7 9; 4 6 1]"
   ]
  },
  {
   "cell_type": "markdown",
   "metadata": {},
   "source": [
    "All of it's eigenvalues can be evaluated by the comment \"eigvals\""
   ]
  },
  {
   "cell_type": "code",
   "execution_count": 2,
   "metadata": {
    "scrolled": true
   },
   "outputs": [
    {
     "name": "stdout",
     "output_type": "stream",
     "text": [
      "13.78378635197844\n",
      "0.8328741741072435\n",
      "-4.616660526085692\n"
     ]
    }
   ],
   "source": [
    "using LinearAlgebra\n",
    "e_A = eigvals(A); \n",
    "println(e_A[1]) \n",
    "println(e_A[2]) \n",
    "println(e_A[3])"
   ]
  },
  {
   "cell_type": "markdown",
   "metadata": {},
   "source": [
    "# Basic Power method\n",
    "1. Start with a vector $u:=u^{(0)}$\n",
    "2. for i=1,2,...,k  Compute (1) $v^{(i)}=Au^{(i-1)}$ (2)$\\mu^{(i)}=\\|v^{(i)}\\|_2$ or $\\mu^{(i)}=v^{(i)}_2$  (3) $u^{(i)}=v^{(i)}/\\mu^{(i)}$\n",
    "3. $\\mu^{(k)}$ is the largest eigenvalue, and $u^{(k)}$ is the corresponding eigenvector"
   ]
  },
  {
   "cell_type": "markdown",
   "metadata": {},
   "source": [
    "Given a random vector u, we compute A*u several times, here, 10 times."
   ]
  },
  {
   "cell_type": "code",
   "execution_count": 3,
   "metadata": {
    "scrolled": true
   },
   "outputs": [
    {
     "name": "stdout",
     "output_type": "stream",
     "text": [
      "After 10 iterations, \n",
      "\n",
      "the largest eigenvalue is approximately 13.783738490583946\n"
     ]
    }
   ],
   "source": [
    "# Start with a random vector u\n",
    "u = rand(3);\n",
    "\n",
    "# The loop.\n",
    "for ii=1:10\n",
    "    v = A*u;\n",
    "    global mu = norm(v,2);\n",
    "    u = v/mu;\n",
    "end\n",
    "println(\"After 10 iterations, \\n\")\n",
    "println(\"the largest eigenvalue is approximately \", mu)"
   ]
  },
  {
   "cell_type": "markdown",
   "metadata": {},
   "source": [
    "The second attempt, we define an epsilon to test if the process converges or not.\n",
    "\n",
    "Given $\\varepsilon$, if $|\\mu_i-\\mu_{i-1}|<\\varepsilon$, stop the loop."
   ]
  },
  {
   "cell_type": "code",
   "execution_count": 4,
   "metadata": {},
   "outputs": [
    {
     "name": "stdout",
     "output_type": "stream",
     "text": [
      "Largest eigenvalue is 13.783786351969674\n",
      "# of iterations= 24\n"
     ]
    }
   ],
   "source": [
    "# Start with a random vector u\n",
    "u = rand(3);\n",
    "mu0 = 0;\n",
    "mu = 1;\n",
    "\n",
    "# Define epsilon\n",
    "eps = 1.0e-10;\n",
    "ii=0;\n",
    "\n",
    "# The loop\n",
    "while abs.(mu-mu0)>eps\n",
    "    mu0 = mu;\n",
    "    v = A*u;\n",
    "    \n",
    "    # Take the second component of v\n",
    "    mu = v[2];\n",
    "    \n",
    "    u = v/mu;\n",
    "    ii=ii+1;\n",
    "end\n",
    "println(\"Largest eigenvalue is \", mu)\n",
    "println(\"# of iterations= \", ii)"
   ]
  },
  {
   "cell_type": "markdown",
   "metadata": {},
   "source": [
    "## Inverse power method\n",
    "1. Start with a vector $u:=u^{(0)}$ with $\\|u\\|_2 = 1$\n",
    "2. for i=1,2,...,k  Compute (1) $v^{(i)}=A^{-1}u^{(i-1)}$ (2)$\\mu^{(i)}=v^{(i)}_2$  (3) $u^{(i)}=v^{(i)}/\\mu^{(i)}$\n",
    "3. $\\mu^{(k)}$ is the smallest eigenvalue, and $u^{(k)}$ is the corresponding eigenvector"
   ]
  },
  {
   "cell_type": "markdown",
   "metadata": {},
   "source": [
    "To find the smallest eigenvalue we compute $A^{-1}u$ several times until the process converges."
   ]
  },
  {
   "cell_type": "code",
   "execution_count": 5,
   "metadata": {},
   "outputs": [
    {
     "name": "stdout",
     "output_type": "stream",
     "text": [
      "Smallest eigenvalue is 0.8328741741038486\n",
      "# of iterations= 16\n"
     ]
    }
   ],
   "source": [
    "# Start with a normalized vector\n",
    "u = rand(3); u=u/norm(u,2);\n",
    "\n",
    "mu0 = 0;\n",
    "mu = 1;\n",
    "eps = 1.0e-10;\n",
    "ii=0;\n",
    "while abs.(mu-mu0)>eps\n",
    "    mu0 = mu;\n",
    "    \n",
    "    # Compute A^{-1}u by A\\u\n",
    "    v = A\\u;\n",
    "    \n",
    "    mu = v[2];\n",
    "    u = v/mu;\n",
    "    ii=ii+1;\n",
    "end\n",
    "println(\"Smallest eigenvalue is \", 1/mu)\n",
    "println(\"# of iterations= \", ii)"
   ]
  },
  {
   "cell_type": "markdown",
   "metadata": {},
   "source": [
    "## Shift-inverse power method\n",
    "Given $\\sigma$\n",
    "1. Start with a vector $u:=u^{(0)}$ with $\\|u\\|_2 = 1$\n",
    "2. for i=1,2,...,k  Compute (1) $v^{(i)}=(A-\\sigma I)^{-1}u^{(i-1)}$ (2)$\\mu^{(i)}=\\|v^{(i)}\\|_2$ or $\\mu^{(i)}=v^{(i)}_2$  (3) $u^{(i)}=v^{(i)}/\\mu^{(i)}$\n",
    "3. $\\mu^{(k)}$ is the eigenvalue closest to $\\sigma$, and $u^{(k)}$ is the corresponding eigenvector"
   ]
  },
  {
   "cell_type": "markdown",
   "metadata": {},
   "source": [
    "To find the eigenvalue that is closest to $\\sigma$ we compute $(A-\\sigma I)^{-1}u$ several times until the process converges."
   ]
  },
  {
   "cell_type": "code",
   "execution_count": 6,
   "metadata": {},
   "outputs": [
    {
     "name": "stdout",
     "output_type": "stream",
     "text": [
      "The eigenvalue that is closest to -10 is -4.616660523697937\n",
      "# of iterations= 30\n"
     ]
    }
   ],
   "source": [
    "u = rand(3); u=u/norm(u,2);\n",
    "sigma = -10;\n",
    "mu0 = 0;\n",
    "mu = 1;\n",
    "eps = 1.0e-10;\n",
    "ii=0;\n",
    "while abs.(mu-mu0)>eps\n",
    "    mu0 = mu;\n",
    "    v = (A-sigma*UniformScaling(1))\\u;\n",
    "    mu = v[2];\n",
    "    u = v/mu;\n",
    "    ii = ii+1;\n",
    "end\n",
    "println(\"The eigenvalue that is closest to \", sigma, \" is \", sigma + 1/mu)\n",
    "println(\"# of iterations= \", ii)"
   ]
  },
  {
   "cell_type": "markdown",
   "metadata": {},
   "source": [
    "## Shift-inverse power method - Algorithm 2\n",
    "Given $\\sigma$\n",
    "1. Start with a vector $u:=u^{(0)}$ with $\\|u\\|_2 = 1$. $\\sigma := \\sigma^{(0)}$\n",
    "2. for i=1,2,...,k  Compute (1) $v^{(i)}=(A-\\sigma^{(i-1)} I)^{-1}u^{(i-1)}$ (2)$\\mu^{(i)}=v^{(i)}_2$  (3) $u^{(i)}=v^{(i)}/\\mu^{(i)}$  (4) $\\sigma^{(i)} = \\sigma^{(i-1)}+ 1/\\mu^{(i)}$\n",
    "3. $\\mu^{(k)}$ is the eigenvalue closest to $\\sigma$, and $u^{(k)}$ is the corresponding eigenvector"
   ]
  },
  {
   "cell_type": "markdown",
   "metadata": {},
   "source": [
    "We take variant shifts $\\sigma^{(i)} = \\sigma^{(i-1)}+ 1/\\mu^{(i)}$ to get a faster convergence."
   ]
  },
  {
   "cell_type": "code",
   "execution_count": 7,
   "metadata": {},
   "outputs": [
    {
     "name": "stdout",
     "output_type": "stream",
     "text": [
      "The eigenvalue is 13.783786351978446\n",
      "# of iterations= 7\n"
     ]
    }
   ],
   "source": [
    "u = rand(3); u=u/norm(u,2);\n",
    "sigma = 0;\n",
    "sigma0 = 1;\n",
    "mu = 1;\n",
    "eps = 1.0e-10;\n",
    "ii=0;\n",
    "while abs.(sigma-sigma0)>eps\n",
    "    sigma0 = sigma;\n",
    "    v = (A-sigma*UniformScaling(1))\\u;\n",
    "    mu = v[2];\n",
    "    u = v/mu;\n",
    "    sigma = sigma+ 1/mu;\n",
    "    ii = ii+1;\n",
    "end\n",
    "println(\"The eigenvalue is \", sigma + 1/mu)\n",
    "println(\"# of iterations= \", ii)"
   ]
  },
  {
   "cell_type": "markdown",
   "metadata": {},
   "source": [
    "## Shift-inverse power method - Algorithm 3\n",
    "Given $\\sigma$\n",
    "1. Start with a vector $u:=u^{(0)}$ with $\\|u\\|_2 = 1$. $\\sigma := \\sigma^{(0)}$\n",
    "2. for i=1,2,...,k  Compute (1) $v^{(i)}=(A-\\sigma^{(i-1)} I)^{-1}u^{(i-1)}$ (2)$\\mu^{(i)}=\\|v^{(i)}\\|_2$  (3) $u^{(i)}=v^{(i)}/\\mu^{(i)}$  (4) $\\sigma^{(i)} = (v^{(i)})^{\\top}Av^{(i)}$\n",
    "3. $\\mu^{(k)}$ is the eigenvalue closest to $\\sigma$, and $u^{(k)}$ is the corresponding eigenvector"
   ]
  },
  {
   "cell_type": "markdown",
   "metadata": {},
   "source": [
    "Here we take variant shifts $\\sigma^{(i)} = (v^{(i)})^{\\top}Av^{(i)}$"
   ]
  },
  {
   "cell_type": "code",
   "execution_count": 8,
   "metadata": {},
   "outputs": [
    {
     "name": "stdout",
     "output_type": "stream",
     "text": [
      "The eigenvalue is 0.9680194857371368\n",
      "# of iterations= 371\n"
     ]
    }
   ],
   "source": [
    "u = rand(3); u=u/norm(u,2);\n",
    "sigma = u'*A*u;\n",
    "sigma0 = 1;\n",
    "mu = 1;\n",
    "eps = 1.0e-10;\n",
    "ii=0;\n",
    "while abs.(sigma-sigma0)>eps\n",
    "    sigma0 = sigma;\n",
    "    v = (A-sigma*UniformScaling(1))\\u;\n",
    "    v = v/norm(v,2);\n",
    "    sigma = v'*A*v;\n",
    "    ii = ii+1;\n",
    "end\n",
    "println(\"The eigenvalue is \", sigma)\n",
    "println(\"# of iterations= \", ii)"
   ]
  },
  {
   "cell_type": "markdown",
   "metadata": {},
   "source": [
    "Let's try a bigger symmetric matrix $B$, with size $n=10$. We'll compute the eigenvalue closet to -1 ($\\sigma:=-1$) with all 3 algorithms."
   ]
  },
  {
   "cell_type": "code",
   "execution_count": 9,
   "metadata": {},
   "outputs": [
    {
     "name": "stdout",
     "output_type": "stream",
     "text": [
      "-2.5202110301277574\n",
      "-1.403719923670342\n",
      "-1.0143557767212243\n",
      "-0.6702647055502657\n",
      "-0.2627246193187113\n",
      "0.17939266198089765\n",
      "0.30484927327071903\n",
      "1.0656139184962172\n",
      "1.5071434258996255\n",
      "1.6830250192285676\n"
     ]
    }
   ],
   "source": [
    "n = 10;\n",
    "# Construct a symmectic matrix B\n",
    "B = rand(n,n) .- 0.5; B = B+B';\n",
    "\n",
    "e_B = eigvals(B);\n",
    "for ii=1:n\n",
    "    println(e_B[ii]) \n",
    "end"
   ]
  },
  {
   "cell_type": "markdown",
   "metadata": {},
   "source": [
    "Shift-inverse power method - Algorithm 1"
   ]
  },
  {
   "cell_type": "code",
   "execution_count": 10,
   "metadata": {},
   "outputs": [
    {
     "name": "stdout",
     "output_type": "stream",
     "text": [
      "The eigenvalue is -1.014355776721224\n",
      "# of iterations= 11\n"
     ]
    }
   ],
   "source": [
    "u = rand(n); u=u/norm(u,2);\n",
    "sigma = -1;\n",
    "mu0 = 0; mu = 1;\n",
    "eps = 1.0e-10; ii=0;\n",
    "while abs.(mu-mu0)>eps\n",
    "    mu0 = mu;\n",
    "    v = (B-sigma*UniformScaling(1))\\u;\n",
    "    mu = v[2];\n",
    "    u = v/mu;\n",
    "    ii = ii+1;\n",
    "end\n",
    "println(\"The eigenvalue is \", sigma + 1/mu)\n",
    "println(\"# of iterations= \", ii)"
   ]
  },
  {
   "cell_type": "markdown",
   "metadata": {},
   "source": [
    "Shift-inverse power method - Algorithm 2"
   ]
  },
  {
   "cell_type": "code",
   "execution_count": 11,
   "metadata": {},
   "outputs": [
    {
     "name": "stdout",
     "output_type": "stream",
     "text": [
      "The eigenvalue is -1.0143557767226348\n",
      "# of iterations= 7\n"
     ]
    }
   ],
   "source": [
    "u = rand(n); u=u/norm(u,2);\n",
    "sigma = -1; sigma0 = 1;\n",
    "mu = 1;\n",
    "eps = 1.0e-10; ii=0;\n",
    "while abs.(sigma-sigma0)>eps\n",
    "    sigma0 = sigma;\n",
    "    v = (B-sigma*UniformScaling(1))\\u;\n",
    "    mu = v[2];\n",
    "    u = v/mu;\n",
    "    sigma = sigma + 1/mu;\n",
    "    ii = ii+1;\n",
    "end\n",
    "println(\"The eigenvalue is \", sigma + 1/mu)\n",
    "println(\"# of iterations= \", ii)"
   ]
  },
  {
   "cell_type": "markdown",
   "metadata": {},
   "source": [
    "Shift-inverse power method - Algorithm 3"
   ]
  },
  {
   "cell_type": "code",
   "execution_count": 12,
   "metadata": {},
   "outputs": [
    {
     "name": "stdout",
     "output_type": "stream",
     "text": [
      "The eigenvalue is -1.0143557767212246\n",
      "# of iterations= 4\n"
     ]
    }
   ],
   "source": [
    "u = rand(n); u=u/norm(u,2);\n",
    "sigma = -1; sigma0 = 1;\n",
    "mu = 1;\n",
    "eps = 1.0e-10; ii=0;\n",
    "while abs.(sigma-sigma0)>eps\n",
    "    sigma0 = sigma;\n",
    "    global v = (B-sigma*UniformScaling(1))\\u;\n",
    "    v = v/norm(v,2);\n",
    "    sigma = v'*B*v;\n",
    "    ii = ii+1;\n",
    "end\n",
    "println(\"The eigenvalue is \", sigma)\n",
    "println(\"# of iterations= \", ii)"
   ]
  },
  {
   "cell_type": "markdown",
   "metadata": {},
   "source": [
    "Do you see the difference of numbers of iterations?"
   ]
  },
  {
   "cell_type": "code",
   "execution_count": 13,
   "metadata": {},
   "outputs": [],
   "source": [
    "lambda_1 = sigma;\n",
    "v1 = v;"
   ]
  },
  {
   "cell_type": "markdown",
   "metadata": {},
   "source": [
    "## Deflation (For symmetric matrix)\n",
    "Given a symmetric metrix $B$, suppose we found the eigenvalue $\\lambda_1$ and eigenvector $v_1$,\n",
    "we can define a new matrix $B_2 = B - \\lambda_1 v_1v_1^T$.\n",
    "\n",
    "Note that $v_1^{\\top}v_1=1$"
   ]
  },
  {
   "cell_type": "code",
   "execution_count": 14,
   "metadata": {},
   "outputs": [
    {
     "name": "stdout",
     "output_type": "stream",
     "text": [
      "Eigenvalues of B\tEigenvalues of B2\n",
      "-2.5202110301277574\t-2.5202110301277605\n",
      "-1.403719923670342\t-1.4037199236703433\n",
      "-1.0143557767212243\t-0.6702647055502654\n",
      "-0.6702647055502657\t-0.2627246193187119\n",
      "-0.2627246193187113\t2.9633845653316814e-17\n",
      "0.17939266198089765\t0.17939266198089773\n",
      "0.30484927327071903\t0.30484927327071903\n",
      "1.0656139184962172\t1.0656139184962168\n",
      "1.5071434258996255\t1.5071434258996268\n",
      "1.6830250192285676\t1.6830250192285707\n"
     ]
    }
   ],
   "source": [
    "B2 = B - lambda_1*v1*v1';\n",
    "e_B2 = eigvals(B2); e_B2 = sort(e_B2);\n",
    "println(\"Eigenvalues of B\",\"\\t\",\"Eigenvalues of B2\")\n",
    "for ii=1:n\n",
    "    println(e_B[ii], \"\\t\", e_B2[ii])\n",
    "end"
   ]
  },
  {
   "cell_type": "markdown",
   "metadata": {},
   "source": [
    "We want to choose $x$ such that $x^{\\top}v_1=1$. Define $x^{\\top} = (1/v_1[1],0,0,...,0)$, $B_3 = B-\\lambda_1v_1x^{\\top}$."
   ]
  },
  {
   "cell_type": "code",
   "execution_count": 15,
   "metadata": {},
   "outputs": [
    {
     "name": "stdout",
     "output_type": "stream",
     "text": [
      "Eigenvalues of B\tEigenvalues of B3\n",
      "-2.5202110301277574\t-2.520211030128337\n",
      "-1.403719923670342\t-1.4037199236732558\n",
      "-1.0143557767212243\t-0.6702647055504336\n",
      "-0.6702647055502657\t-0.26272461930593005\n",
      "-0.2627246193187113\t-1.315157160414284e-11\n",
      "0.17939266198089765\t0.17939266197531967\n",
      "0.30484927327071903\t0.3048492732781795\n",
      "1.0656139184962172\t1.0656139184955158\n",
      "1.5071434258996255\t1.507143425903716\n",
      "1.6830250192285676\t1.6830250192273224\n"
     ]
    }
   ],
   "source": [
    "x = zeros(n); \n",
    "x[1] = 1/v1[1];\n",
    "B3 = B - lambda_1*v1*x';\n",
    "e_B3 = eigvals(B3); e_B3 = sort(e_B3);\n",
    "println(\"Eigenvalues of B\",\"\\t\",\"Eigenvalues of B3\")\n",
    "for ii=1:n\n",
    "    println(e_B[ii], \"\\t\", e_B3[ii])\n",
    "end"
   ]
  },
  {
   "cell_type": "markdown",
   "metadata": {},
   "source": [
    "Wielandt Deflation. Define $x=B[1,:]/(\\lambda_1 v_1[1])$, $B_4 = B-\\lambda v_1 x^{\\top}$"
   ]
  },
  {
   "cell_type": "code",
   "execution_count": 16,
   "metadata": {},
   "outputs": [
    {
     "name": "stdout",
     "output_type": "stream",
     "text": [
      "Eigenvalues of B\tEigenvalues of B4\n",
      "-2.5202110301277574\t-2.5202110301291785\n",
      "-1.403719923670342\t-1.40371992367438\n",
      "-1.0143557767212243\t-0.6702647055503771\n",
      "-0.6702647055502657\t-0.2627246193154017\n",
      "-0.2627246193187113\t3.9433475065709685e-16\n",
      "0.17939266198089765\t0.17939266198188464\n",
      "0.30484927327071903\t0.30484927326847766\n",
      "1.0656139184962172\t1.065613918496956\n",
      "1.5071434258996255\t1.50714342589355\n",
      "1.6830250192285676\t1.6830250192306384\n"
     ]
    }
   ],
   "source": [
    "x = B[1,:]/(lambda_1*v1[1]);\n",
    "B4 = B - lambda_1*v1*x';\n",
    "e_B4 = eigvals(B4); e_B4 = sort(e_B4);\n",
    "println(\"Eigenvalues of B\",\"\\t\",\"Eigenvalues of B4\")\n",
    "for ii=1:n\n",
    "    println(e_B[ii], \"\\t\", e_B4[ii])\n",
    "end"
   ]
  },
  {
   "cell_type": "markdown",
   "metadata": {},
   "source": [
    "Wielandt Deflation\n",
    "\n",
    "A small test showing that the size of the matrix can be reduced by one\n",
    "\n",
    "Start with $4\\times4$ symmetric matrix $C$, define $x=C[1,:]/(\\lambda_1 v_1[1])$, $C_2=C - \\lambda_1 v_1 x^{\\top}$ and $C_3=C_2[2:4,2:4]$."
   ]
  },
  {
   "cell_type": "code",
   "execution_count": 17,
   "metadata": {},
   "outputs": [
    {
     "name": "stdout",
     "output_type": "stream",
     "text": [
      "Eigenvalues of C:\t[-1.27753, -0.429024, -0.307532, 0.993219]\n",
      "Eigenvalues of C2:\t[-1.27753, -0.307532, 2.22045e-16, 0.993219]\n",
      "Eigenvalues of C3:\t[-1.27753, -0.307532, 0.993219]\n"
     ]
    }
   ],
   "source": [
    "n = 4;\n",
    "C = rand(n,n) .- 0.5; C = C+C';\n",
    "e_C = eigvals(C);\n",
    "\n",
    "u = rand(n); u=u/norm(u,2);\n",
    "sigma = 0; sigma0 = 1;\n",
    "mu = 1;\n",
    "eps = 1.0e-10; ii=0;\n",
    "while abs.(sigma-sigma0)>eps\n",
    "    sigma0 = sigma;\n",
    "    v = (C-sigma*UniformScaling(1))\\u;\n",
    "    v = v/norm(v,2);\n",
    "    sigma = v'*C*v;\n",
    "    ii = ii+1;\n",
    "end\n",
    "lambda_1 = sigma; v1 = v;\n",
    "\n",
    "x = C[1,:]/(lambda_1*v1[1]);\n",
    "C2 = C - lambda_1*v1*x';\n",
    "e_C2 = eigvals(C2); e_C2 = sort(e_C2);\n",
    "\n",
    "C3 = C2[2:n, 2:n];\n",
    "e_C3 = eigvals(C3); e_C3 = sort(e_C3);\n",
    "println(\"Eigenvalues of C:\", \"\\t\", e_C)\n",
    "println(\"Eigenvalues of C2:\", \"\\t\", e_C2)\n",
    "println(\"Eigenvalues of C3:\", \"\\t\", e_C3)"
   ]
  },
  {
   "cell_type": "markdown",
   "metadata": {},
   "source": [
    "## Subspace iteration\n",
    "1. Construct a matrix $Q_0\\in \\mathbb{R}^{n\\times p}$ of orthonormal column vectors.\n",
    "2. for $k=1,2,...m$  (1) $Z_k = AQ_{k-1}$ (2) $Q_kR_k = Z_k$ (QR-decomposition)\n",
    "3. The p largest (absolute) eigenvalues are $\\|Q_m(:,1)\\|_2,\\cdots,\\|Q_m(:,p)\\|_2$. (Where $Q_m(:,l)$ is the $l$ column vector of $Q_m$.)\n",
    "\n",
    "Note that when $p=1$ this is just the power method."
   ]
  },
  {
   "cell_type": "code",
   "execution_count": 18,
   "metadata": {},
   "outputs": [],
   "source": [
    "# Construct a symmetric matrix\n",
    "n=1000;\n",
    "A = rand(n, n).-0.5;\n",
    "A = A+A';"
   ]
  },
  {
   "cell_type": "markdown",
   "metadata": {},
   "source": [
    "Try to find $4$ largest (absolute) eigenvalues"
   ]
  },
  {
   "cell_type": "code",
   "execution_count": 19,
   "metadata": {},
   "outputs": [
    {
     "name": "stdout",
     "output_type": "stream",
     "text": [
      "The 1st eigenvalue is  25.62858180852502\n",
      "The 2nd eigenvalue is  25.607533277830854\n",
      "The 3rd eigenvalue is  25.529981069201355\n",
      "The 4th eigenvalue is  25.40467425824393\n",
      "# of iterations= 7417\n"
     ]
    }
   ],
   "source": [
    "# Constructing a set of orthonormal vectors\n",
    "u2 = zeros(n,4);\n",
    "u = rand(n,1); u = u/norm(u,2); u2[:,1] = u;\n",
    "v = rand(n,1); v = v/norm(u,2);\n",
    "v = v - (v'*u).*u; u2[:,2] = v;\n",
    "w = rand(n,1); w = w/norm(u,2);\n",
    "w = w - (w'*u).*u; w = w - (w'*v).*v;\n",
    "u2[:,3] = w;\n",
    "x = rand(n,1); x = x/norm(u,2);\n",
    "x = x - (x'*u).*u; x = x - (x'*v).*v; x = x - (x'*w).*w;\n",
    "u2[:,4] = x;\n",
    "\n",
    "# Initialize the eigenvalue\n",
    "mu = ones(1,4); mu2 = zeros(1,4);\n",
    "\n",
    "# Define epsilon\n",
    "eps = 1.0e-10; ii=0;\n",
    "\n",
    "# The loop\n",
    "while norm(mu2-mu)>eps\n",
    "    mu2[:] = mu[:];\n",
    "    v2 = A*u2;\n",
    "    u = v2[:,1]; mu[1,1] = norm(u,2); u = u/mu[1,1];\n",
    "    v = v2[:,2]; mu[1,2] = norm(v,2); v = v/mu[1,2];\n",
    "    w = v2[:,3]; mu[1,3] = norm(w,2); w = w/mu[1,3];\n",
    "    x = v2[:,4]; mu[1,4] = norm(x,2); x = x/mu[1,4];\n",
    "    v = v - (v'*u).*u;\n",
    "    w = w - (w'*u).*u; w = w - (w'*v).*v;\n",
    "    x = x - (x'*u).*u; x = x - (x'*v).*v; x = x - (x'*w).*w;\n",
    "    u2[:,1] = u; u2[:,2] = v; u2[:,3] = w; u2[:,4] = x;\n",
    "    ii=ii+1;\n",
    "end\n",
    "println(\"The 1st eigenvalue is  \", mu[1,1])\n",
    "println(\"The 2nd eigenvalue is  \", mu[1,2])\n",
    "println(\"The 3rd eigenvalue is  \", mu[1,3])\n",
    "println(\"The 4th eigenvalue is  \", mu[1,4])\n",
    "println(\"# of iterations= \", ii)"
   ]
  },
  {
   "cell_type": "code",
   "execution_count": 20,
   "metadata": {},
   "outputs": [
    {
     "data": {
      "text/plain": [
       "1000-element Array{Float64,1}:\n",
       " -25.607533234863382\n",
       " -25.52998106920135 \n",
       " -25.362270901105173\n",
       " -25.18962738817082 \n",
       " -25.15635697559802 \n",
       " -24.83529547185557 \n",
       " -24.725779300021422\n",
       " -24.577900123972373\n",
       " -24.475620107517535\n",
       " -24.320835013924963\n",
       " -24.05449313694945 \n",
       " -23.9228554002026  \n",
       " -23.82559928533295 \n",
       "   ⋮                \n",
       "  23.90156764420104 \n",
       "  24.036442118732328\n",
       "  24.166733416416893\n",
       "  24.349898332767644\n",
       "  24.448326930612676\n",
       "  24.72407638965626 \n",
       "  24.844971261403163\n",
       "  24.922309758762864\n",
       "  25.034471759177194\n",
       "  25.2586492991905  \n",
       "  25.404674258244587\n",
       "  25.62858185152801 "
      ]
     },
     "execution_count": 20,
     "metadata": {},
     "output_type": "execute_result"
    }
   ],
   "source": [
    "eigvals(A)"
   ]
  },
  {
   "cell_type": "markdown",
   "metadata": {},
   "source": [
    "Try to find $4$ smallest (absolute) eigenvalues. (By timing $A^{-1}$, similar to the inverse power method)"
   ]
  },
  {
   "cell_type": "code",
   "execution_count": 21,
   "metadata": {},
   "outputs": [
    {
     "name": "stdout",
     "output_type": "stream",
     "text": [
      "The 1st eigenvalue is  0.0071452731182238835\n",
      "The 2nd eigenvalue is  0.02899078131444122\n",
      "The 3rd eigenvalue is  0.03288354569132178\n",
      "The 4th eigenvalue is  0.0800797667298756\n",
      "# of iterations= 286\n"
     ]
    }
   ],
   "source": [
    "# Constructing a set of orthonormal vectors\n",
    "u2 = zeros(n,4);\n",
    "u = rand(n,1); u = u/norm(u,2); u2[:,1] = u;\n",
    "v = rand(n,1); v = v/norm(u,2);\n",
    "v = v - (v'*u).*u; u2[:,2] = v;\n",
    "w = rand(n,1); w = w/norm(u,2);\n",
    "w = w - (w'*u).*u; w = w - (w'*v).*v;\n",
    "u2[:,3] = w;\n",
    "x = rand(n,1); x = x/norm(u,2);\n",
    "x = x - (x'*u).*u; x = x - (x'*v).*v; x = x - (x'*w).*w;\n",
    "u2[:,4] = x;\n",
    "\n",
    "# Initialize the eigenvalue\n",
    "mu = ones(1,4); mu2 = zeros(1,4);\n",
    "\n",
    "# Define epsilon\n",
    "eps = 1.0e-10; ii=0;\n",
    "\n",
    "# The loop\n",
    "while norm(mu2-mu)>eps\n",
    "    mu2[:] = mu[:];\n",
    "    v2 = A\\u2;\n",
    "    u = v2[:,1]; mu[1,1] = norm(u,2); u = u/mu[1,1];\n",
    "    v = v2[:,2]; mu[1,2] = norm(v,2); v = v/mu[1,2];\n",
    "    w = v2[:,3]; mu[1,3] = norm(w,2); w = w/mu[1,3];\n",
    "    x = v2[:,4]; mu[1,4] = norm(x,2); x = x/mu[1,4];\n",
    "    v = v - (v'*u).*u;\n",
    "    w = w - (w'*u).*u; w = w - (w'*v).*v;\n",
    "    x = x - (x'*u).*u; x = x - (x'*v).*v; x = x - (x'*w).*w;\n",
    "    u2[:,1] = u; u2[:,2] = v; u2[:,3] = w; u2[:,4] = x;\n",
    "    ii=ii+1;\n",
    "end\n",
    "println(\"The 1st eigenvalue is  \", 1/mu[1,1])\n",
    "println(\"The 2nd eigenvalue is  \", 1/mu[1,2])\n",
    "println(\"The 3rd eigenvalue is  \", 1/mu[1,3])\n",
    "println(\"The 4th eigenvalue is  \", 1/mu[1,4])\n",
    "println(\"# of iterations= \", ii)"
   ]
  },
  {
   "cell_type": "markdown",
   "metadata": {},
   "source": [
    "## Subspace iteration - Test for non-symmetric matrix"
   ]
  },
  {
   "cell_type": "code",
   "execution_count": 22,
   "metadata": {},
   "outputs": [
    {
     "name": "stdout",
     "output_type": "stream",
     "text": [
      "[2.0, 1.0, 1.0]\n"
     ]
    },
    {
     "data": {
      "text/plain": [
       "3×3 Array{Float64,2}:\n",
       "  1.71977     0.170929   -1.14464 \n",
       " -0.0700045   0.983376    0.111327\n",
       " -0.186665   -0.0443285   1.29685 "
      ]
     },
     "execution_count": 22,
     "metadata": {},
     "output_type": "execute_result"
    }
   ],
   "source": [
    "B = zeros(3,3);\n",
    "B[:,:] = Diagonal([1;1;2]); B[1,3]=1;\n",
    "C = rand(3,3); Q, R = qr(C); B = Q'*B*Q;\n",
    "println(eigvals(B))\n",
    "B"
   ]
  },
  {
   "cell_type": "code",
   "execution_count": 23,
   "metadata": {},
   "outputs": [
    {
     "name": "stdout",
     "output_type": "stream",
     "text": [
      "The 1st eigenvalue is  2.000000000059948\n",
      "The 2nd eigenvalue is  1.0000000000735452\n",
      "# of iterations= 35\n"
     ]
    }
   ],
   "source": [
    "n=3; m=2;\n",
    "# Constructing a set of orthonormal vectors\n",
    "u2 = zeros(n,m);\n",
    "u = rand(n,1); u = u/norm(u,2); u2[:,1] = u;\n",
    "v = rand(n,1); v = v/norm(u,2);\n",
    "v = v - (v'*u).*u; u2[:,2] = v;\n",
    "\n",
    "# Initialize the eigenvalue\n",
    "mu = ones(1,m); mu2 = zeros(1,m);\n",
    "\n",
    "# Define epsilon\n",
    "eps = 1.0e-10; ii=0;\n",
    "\n",
    "# The loop\n",
    "while norm(mu2-mu)>eps\n",
    "    mu2[:] = mu[:];\n",
    "    v2 = B*u2;\n",
    "    u = v2[:,1]; mu[1,1] = norm(u,2); u = u/mu[1,1];\n",
    "    v = v2[:,2]; mu[1,2] = norm(v,2); v = v/mu[1,2];\n",
    "    v = v - (v'*u).*u;\n",
    "    u2[:,1] = u; u2[:,2] = v;\n",
    "    ii=ii+1;\n",
    "end\n",
    "println(\"The 1st eigenvalue is  \", mu[1,1])\n",
    "println(\"The 2nd eigenvalue is  \", mu[1,2])\n",
    "println(\"# of iterations= \", ii)"
   ]
  },
  {
   "cell_type": "markdown",
   "metadata": {},
   "source": [
    "## QR algorithm\n",
    "1. $Q_0 R_0 = qr(B)$ (QR-decomposition)\n",
    "2. for $i=1,2,...,k$  (1) $B_i = R_{i-1}Q_{i-1}$ (2) $Q_i R_i=B_i$ (3) $\\mu_i=diag(B_i)$\n",
    "3. components of $\\mu_k$ are the desired eigenvalues"
   ]
  },
  {
   "cell_type": "code",
   "execution_count": 24,
   "metadata": {},
   "outputs": [
    {
     "name": "stdout",
     "output_type": "stream",
     "text": [
      "The eigenvalues are  [2.0, 1.0, 1.0]\n",
      "# of iterations= 33\n"
     ]
    }
   ],
   "source": [
    "n=3;\n",
    "Q, R = qr(B);\n",
    "\n",
    "# Define epsilon\n",
    "eps = 1.0e-10; ii=0;\n",
    "mu = ones(n,1); mu2 = zeros(n,1); \n",
    "\n",
    "# The loop\n",
    "while norm(mu2-mu)>eps\n",
    "    global A2\n",
    "    mu2 = mu;\n",
    "    A2 = R*Q;\n",
    "    Q, R = qr(A2);\n",
    "    mu = diag(A2);\n",
    "    ii=ii+1;\n",
    "end\n",
    "println(\"The eigenvalues are  \", mu)\n",
    "println(\"# of iterations= \", ii)"
   ]
  },
  {
   "cell_type": "code",
   "execution_count": 25,
   "metadata": {},
   "outputs": [
    {
     "data": {
      "text/plain": [
       "3×3 Array{Float64,2}:\n",
       "  2.0          0.330564      0.943783   \n",
       " -1.17252e-11  1.0          -1.10661e-11\n",
       "  3.99197e-11  1.31961e-11   1.0        "
      ]
     },
     "execution_count": 25,
     "metadata": {},
     "output_type": "execute_result"
    }
   ],
   "source": [
    "A2"
   ]
  },
  {
   "cell_type": "markdown",
   "metadata": {},
   "source": [
    "## Eigenvalue problem of Laplace operator\n",
    "$$u_{xx} = \\lambda u, \\qquad u(0) = u(1) = 0.$$"
   ]
  },
  {
   "cell_type": "markdown",
   "metadata": {},
   "source": [
    "We can solve this numerically by the difference method.\n",
    "\n",
    "$$u_{xx} \\approx \\frac{u(x-h)-2u(x)+u(x+h)}{h^2}$$\n",
    "\n",
    "$$A:=\\frac{1}{h^2}\\begin{bmatrix}\n",
    "-2 & 1 & & & 0\\\\\n",
    "1  & -2 & 1 \\\\\n",
    "  & 1 & -2 & \\ddots \\\\\n",
    "  & & \\ddots & \\ddots & 1 \\\\\n",
    "  0 & & & 1 &-2\n",
    "\\end{bmatrix}$$"
   ]
  },
  {
   "cell_type": "code",
   "execution_count": 26,
   "metadata": {},
   "outputs": [],
   "source": [
    "n = 1000; A = zeros(n-1,n-1);\n",
    "for ii=1:n-1\n",
    "    A[ii,ii] = -2;\n",
    "end\n",
    "for ii=1:n-2\n",
    "    A[ii, ii+1]=1;\n",
    "    A[ii+1, ii]=1;\n",
    "end\n",
    "h = 1/n; A = A/h^2;"
   ]
  },
  {
   "cell_type": "markdown",
   "metadata": {},
   "source": [
    "Solve the 4 smallest (absolute) eigenvalues by subspace iteration."
   ]
  },
  {
   "cell_type": "code",
   "execution_count": 27,
   "metadata": {},
   "outputs": [
    {
     "name": "stdout",
     "output_type": "stream",
     "text": [
      "The 1st eigenvalue is  9.86959628366954\n",
      "The 2nd eigenvalue is  39.47828772573999\n",
      "The 3rd eigenvalue is  88.82578210039097\n",
      "The 4th eigenvalue is  157.91159236880276\n",
      "# of iterations= 35\n"
     ]
    }
   ],
   "source": [
    "n = n-1;\n",
    "# Constructing a set of orthonormal vectors\n",
    "u2 = zeros(n,4);\n",
    "u = rand(n,1); u = u/norm(u,2); u2[:,1] = u;\n",
    "v = rand(n,1); v = v/norm(u,2);\n",
    "v = v - (v'*u).*u; u2[:,2] = v;\n",
    "w = rand(n,1); w = w/norm(u,2);\n",
    "w = w - (w'*u).*u; w = w - (w'*v).*v;\n",
    "u2[:,3] = w;\n",
    "x = rand(n,1); x = x/norm(u,2);\n",
    "x = x - (x'*u).*u; x = x - (x'*v).*v; x = x - (x'*w).*w;\n",
    "u2[:,4] = x;\n",
    "\n",
    "# Initialize the eigenvalue\n",
    "mu = ones(1,4); mu2 = zeros(1,4);\n",
    "\n",
    "# Define epsilon\n",
    "eps = 1.0e-13; ii=0;\n",
    "\n",
    "# The loop\n",
    "while norm(mu2-mu)>eps\n",
    "    mu2[:] = mu[:];\n",
    "    v2 = A\\u2;\n",
    "    u = v2[:,1]; mu[1,1] = norm(u,2); u = u/mu[1,1];\n",
    "    v = v2[:,2]; mu[1,2] = norm(v,2); v = v/mu[1,2];\n",
    "    w = v2[:,3]; mu[1,3] = norm(w,2); w = w/mu[1,3];\n",
    "    x = v2[:,4]; mu[1,4] = norm(x,2); x = x/mu[1,4];\n",
    "    v = v - (v'*u).*u;\n",
    "    w = w - (w'*u).*u; w = w - (w'*v).*v;\n",
    "    x = x - (x'*u).*u; x = x - (x'*v).*v; x = x - (x'*w).*w;\n",
    "    u2[:,1] = u; u2[:,2] = v; u2[:,3] = w; u2[:,4] = x;\n",
    "    ii=ii+1;\n",
    "end\n",
    "println(\"The 1st eigenvalue is  \", 1/mu[1,1])\n",
    "println(\"The 2nd eigenvalue is  \", 1/mu[1,2])\n",
    "println(\"The 3rd eigenvalue is  \", 1/mu[1,3])\n",
    "println(\"The 4th eigenvalue is  \", 1/mu[1,4])\n",
    "println(\"# of iterations= \", ii)"
   ]
  }
 ],
 "metadata": {
  "kernelspec": {
   "display_name": "Julia 1.0.3",
   "language": "julia",
   "name": "julia-1.0"
  },
  "language_info": {
   "file_extension": ".jl",
   "mimetype": "application/julia",
   "name": "julia",
   "version": "1.0.3"
  }
 },
 "nbformat": 4,
 "nbformat_minor": 2
}
