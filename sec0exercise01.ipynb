{
  "cells": [
    {
      "cell_type": "code",
      "execution_count": null,
      "id": "6624deec-9401-420d-b664-4df031319f21",
      "metadata": {
        "colab": {
          "base_uri": "https://localhost:8080/"
        },
        "id": "6624deec-9401-420d-b664-4df031319f21",
        "outputId": "b6481e64-b018-43e2-994e-9bbe3617f954"
      },
      "outputs": [
        {
          "output_type": "stream",
          "name": "stdout",
          "text": [
            "evaluating the function f(x) = (e^x - 1)/x\n",
            "\n",
            "a. Use the \"obvious\" algorithm to compute the values\n",
            "x =  0.1 \tf(x) =  1.0517091807564771\n",
            "x =  0.01 \tf(x) =  1.005016708416795\n",
            "x =  0.001 \tf(x) =  1.0005001667083846\n",
            "x =  0.0001 \tf(x) =  1.000050001667141\n",
            "x =  1e-05 \tf(x) =  1.000005000006965\n",
            "x =  1e-06 \tf(x) =  1.0000004999621837\n",
            "x =  1e-07 \tf(x) =  1.0000000494336803\n",
            "x =  1e-08 \tf(x) =  0.999999993922529\n",
            "x =  1e-09 \tf(x) =  1.000000082740371\n",
            "x =  1e-10 \tf(x) =  1.000000082740371\n",
            "x =  1e-11 \tf(x) =  1.000000082740371\n"
          ]
        }
      ],
      "source": [
        "import math\n",
        "\n",
        "e = math.e\n",
        "\n",
        "def f(x):\n",
        "    f = (pow(e, x) - 1)/x\n",
        "    return f\n",
        "\n",
        "obvious_algorithm = []\n",
        "# evaluating the function f(x) = (e^x - 1)/x at x = 10^-1, 10^-2, ... , 10^-11\n",
        "# a. Use the \"obious\" algorithm to compute the values\n",
        "print('evaluating the function f(x) = (e^x - 1)/x\\n')\n",
        "print('a. Use the \"obvious\" algorithm to compute the values')\n",
        "for i in range(-1, -12, -1):\n",
        "    x = pow(10, i)\n",
        "    ans = f(x)\n",
        "    obvious_algorithm.append(ans)\n",
        "    print('x = ', x, '\\tf(x) = ', ans)"
      ]
    },
    {
      "cell_type": "code",
      "execution_count": null,
      "id": "ecd2d794-de5b-4041-9304-31e03d4e1581",
      "metadata": {
        "colab": {
          "base_uri": "https://localhost:8080/"
        },
        "id": "ecd2d794-de5b-4041-9304-31e03d4e1581",
        "outputId": "23811bd9-ac7c-4d95-e407-993a064e8583"
      },
      "outputs": [
        {
          "output_type": "stream",
          "name": "stdout",
          "text": [
            "b. Expand the function using a 8-term Taylor's expansion, and use the expansion to coompte the values\n",
            "x =  0.1 \tg(x) =  1.0517091807564485\n",
            "x =  0.01 \tg(x) =  1.0050167084168056\n",
            "x =  0.001 \tg(x) =  1.0005001667083417\n",
            "x =  0.0001 \tg(x) =  1.0000500016667084\n",
            "x =  1e-05 \tg(x) =  1.0000050000166667\n",
            "x =  1e-06 \tg(x) =  1.0000005000001668\n",
            "x =  1e-07 \tg(x) =  1.0000000500000017\n",
            "x =  1e-08 \tg(x) =  1.000000005\n",
            "x =  1e-09 \tg(x) =  1.0000000005\n",
            "x =  1e-10 \tg(x) =  1.00000000005\n",
            "x =  1e-11 \tg(x) =  1.000000000005\n"
          ]
        }
      ],
      "source": [
        "# b. Expand the function using a 8-term Taylor's expansion, and use the expansion to coompte the values\n",
        "print('b. Expand the function using a 8-term Taylor\\'s expansion, and use the expansion to coompte the values')\n",
        "\n",
        "def factorial(x):\n",
        "    if x == 0:\n",
        "        return 0\n",
        "    \n",
        "    value = 1\n",
        "    for i in range(x, 0, -1):\n",
        "        value *= i\n",
        "    return value\n",
        "\n",
        "# g(x) = 1 + x/2! + x^2/3! + ... + x^7/8!\n",
        "def g(x):\n",
        "    g = 0\n",
        "    for i in range(0, 8):\n",
        "        g += pow(x, i)/factorial(i+1)\n",
        "    return g\n",
        "\n",
        "Taylor_s_expansion = []\n",
        "for i in range(-1, -12, -1):\n",
        "    x = pow(10, i)\n",
        "    ans = g(x)\n",
        "    Taylor_s_expansion.append(ans)\n",
        "    print('x = ', x, '\\tg(x) = ', ans)\n",
        "        \n"
      ]
    },
    {
      "cell_type": "code",
      "execution_count": null,
      "id": "7af719f2-37fa-44b9-a79e-3afb3a2b9a13",
      "metadata": {
        "colab": {
          "base_uri": "https://localhost:8080/"
        },
        "id": "7af719f2-37fa-44b9-a79e-3afb3a2b9a13",
        "outputId": "91da730f-9a8c-435a-9e28-679d45577979"
      },
      "outputs": [
        {
          "output_type": "stream",
          "name": "stdout",
          "text": [
            "+---------+--------------------+---------------------------+\n",
            "| x value | obvious algorithm  | 8-term Taylor's expansion |\n",
            "+---------+--------------------+---------------------------+\n",
            "|   0.1   | 1.0517091807564771 |     1.0517091807564485    |\n",
            "|   0.01  | 1.005016708416795  |     1.0050167084168056    |\n",
            "|  0.001  | 1.0005001667083846 |     1.0005001667083417    |\n",
            "|  0.0001 | 1.000050001667141  |     1.0000500016667084    |\n",
            "|  1e-05  | 1.000005000006965  |     1.0000050000166667    |\n",
            "|  1e-06  | 1.0000004999621837 |     1.0000005000001668    |\n",
            "|  1e-07  | 1.0000000494336803 |     1.0000000500000017    |\n",
            "|  1e-08  | 0.999999993922529  |        1.000000005        |\n",
            "|  1e-09  | 1.000000082740371  |        1.0000000005       |\n",
            "|  1e-10  | 1.000000082740371  |       1.00000000005       |\n",
            "|  1e-11  | 1.000000082740371  |       1.000000000005      |\n",
            "+---------+--------------------+---------------------------+\n"
          ]
        }
      ],
      "source": [
        "from prettytable import PrettyTable\n",
        "result_table = PrettyTable()\n",
        "\n",
        "result_table.field_names = [\"x value\", \"obvious algorithm\", \"8-term Taylor\\'s expansion\"]\n",
        "for i in range(len(obvious_algorithm)):\n",
        "    result_table.add_row([pow(10, -i-1), obvious_algorithm[i], Taylor_s_expansion[i]])\n",
        "\n",
        "print(result_table)"
      ]
    },
    {
      "cell_type": "code",
      "execution_count": 5,
      "id": "919e7b58-8a93-49db-b18c-5eb9a38b5aa2",
      "metadata": {
        "colab": {
          "base_uri": "https://localhost:8080/"
        },
        "id": "919e7b58-8a93-49db-b18c-5eb9a38b5aa2",
        "outputId": "c62dadeb-e56f-4bd7-a629-259fd0b0bc5e"
      },
      "outputs": [
        {
          "output_type": "stream",
          "name": "stdout",
          "text": [
            "Which algorithm is more accurate, and why?\n",
            "ans: Taylor's expansion is more accurate, \n",
            "since 「plus」is more accurate than 「subtracting two nearly equal numbers」with floating point numbers.\n"
          ]
        }
      ],
      "source": [
        "# Which algorithm is more accurate, and why?\n",
        "print('Which algorithm is more accurate, and why?')\n",
        "print('ans: Taylor\\'s expansion is more accurate, \\n since 「plus」is more accurate than 「subtracting two nearly equal numbers」with floating point numbers.')"
      ]
    }
  ],
  "metadata": {
    "kernelspec": {
      "display_name": "Python 3 (ipykernel)",
      "language": "python",
      "name": "python3"
    },
    "language_info": {
      "codemirror_mode": {
        "name": "ipython",
        "version": 3
      },
      "file_extension": ".py",
      "mimetype": "text/x-python",
      "name": "python",
      "nbconvert_exporter": "python",
      "pygments_lexer": "ipython3",
      "version": "3.8.8"
    },
    "colab": {
      "name": "sec0exercise01.ipynb",
      "provenance": [],
      "collapsed_sections": []
    }
  },
  "nbformat": 4,
  "nbformat_minor": 5
}