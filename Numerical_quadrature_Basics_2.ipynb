{
  "cells": [
    {
      "cell_type": "code",
      "execution_count": null,
      "id": "4cd2d82a-833a-4996-bb4b-ca2d865cb42c",
      "metadata": {
        "colab": {
          "base_uri": "https://localhost:8080/"
        },
        "id": "4cd2d82a-833a-4996-bb4b-ca2d865cb42c",
        "outputId": "0f07d83f-ec7c-4814-8200-bb0a075a4c99"
      },
      "outputs": [
        {
          "output_type": "execute_result",
          "data": {
            "text/plain": [
              "0.003912771899297507"
            ]
          },
          "metadata": {},
          "execution_count": 1
        }
      ],
      "source": [
        "import numpy as np\n",
        "\n",
        "def f(x):\n",
        "    return np.exp(x)\n",
        "\n",
        "def midpoint(f, n):\n",
        "    x = np.linspace(-1, 1, n+1)\n",
        "    x_sum = []\n",
        "    for i in range(n):\n",
        "        x_sum.append((x[i] + x[i+1])/2)\n",
        "    s = 0\n",
        "    for i in range(n):\n",
        "        s += f(x_sum[i]) * (2/n)\n",
        "    return s\n",
        "\n",
        "exact = np.exp(1) - np.exp(-1)\n",
        "\n",
        "abs(midpoint(f, 10) - exact)"
      ]
    },
    {
      "cell_type": "code",
      "execution_count": null,
      "id": "af81a4d2-3df2-4c9f-b70a-273b691f53b2",
      "metadata": {
        "colab": {
          "base_uri": "https://localhost:8080/"
        },
        "id": "af81a4d2-3df2-4c9f-b70a-273b691f53b2",
        "outputId": "59bff072-d147-4a0c-d496-aad66743ef8b"
      },
      "outputs": [
        {
          "output_type": "execute_result",
          "data": {
            "text/plain": [
              "0.007829456477304042"
            ]
          },
          "metadata": {},
          "execution_count": 2
        }
      ],
      "source": [
        "def trapezoidal(f, n):\n",
        "    x = np.linspace(-1, 1, n+1)\n",
        "    s = 0\n",
        "    for i in range(n):\n",
        "        s += ((f(x[i]) + f(x[i+1]))/2) * (x[2] - x[1])\n",
        "    return s\n",
        "\n",
        "abs(trapezoidal(f, 10) - exact)"
      ]
    },
    {
      "cell_type": "code",
      "execution_count": null,
      "id": "88912be4-9e7c-41f0-a627-6e64cf8f3195",
      "metadata": {
        "colab": {
          "base_uri": "https://localhost:8080/"
        },
        "id": "88912be4-9e7c-41f0-a627-6e64cf8f3195",
        "outputId": "b4a747f4-1457-4f61-e88c-064789855e69"
      },
      "outputs": [
        {
          "output_type": "execute_result",
          "data": {
            "text/plain": [
              "2.079339388094681e-05"
            ]
          },
          "metadata": {},
          "execution_count": 3
        }
      ],
      "source": [
        "def simpson(f, n):\n",
        "    x = np.linspace(-1, 1, n+1)\n",
        "    s = 0\n",
        "    for i in range(n+1):\n",
        "        if i == 0 or i == n:\n",
        "            s += (2/(3*n))*f(x[i])\n",
        "        elif i % 2 == 1:\n",
        "            s += 4*(2/(3*n)) * f(x[i])\n",
        "        else:\n",
        "            s += 2*(2/(3*n)) * f(x[i])\n",
        "    return s\n",
        "abs(simpson(f, 10) - exact)      "
      ]
    },
    {
      "cell_type": "code",
      "execution_count": null,
      "id": "358e6fd8-cb09-45cf-bd96-613450d695fa",
      "metadata": {
        "colab": {
          "base_uri": "https://localhost:8080/"
        },
        "id": "358e6fd8-cb09-45cf-bd96-613450d695fa",
        "outputId": "d23bfb03-6379-4246-b4fe-280b8d1d830e"
      },
      "outputs": [
        {
          "output_type": "stream",
          "name": "stdout",
          "text": [
            "+----------+------------------------+-----------------------+------------------------+\n",
            "| n\\Method |        Midpoint        |      Trapezoidal      |       Simpson's        |\n",
            "+----------+------------------------+-----------------------+------------------------+\n",
            "|    10    |  0.003912771899297507  |  0.007829456477304042 | 2.079339388094681e-05  |\n",
            "|   100    | 3.917291610378015e-05  | 7.834622393820823e-05 | 2.089148409822883e-09  |\n",
            "|   1000   | 3.9173368460154734e-07 | 7.834674118356588e-07 | 2.0961010704922955e-13 |\n",
            "+----------+------------------------+-----------------------+------------------------+\n"
          ]
        }
      ],
      "source": [
        "from prettytable import PrettyTable\n",
        "result_table = PrettyTable()\n",
        "\n",
        "result_table.field_names = [\"n\\Method\", \"Midpoint\", \"Trapezoidal\", \"Simpson's\"]\n",
        "\n",
        "n_list = [10, 100, 1000]\n",
        "for n in n_list:\n",
        "    result_table.add_row([n, abs(midpoint(f, n) - exact), abs(trapezoidal(f, n) - exact), abs(simpson(f, n) - exact)])\n",
        "print(result_table)"
      ]
    },
    {
      "cell_type": "code",
      "execution_count": null,
      "id": "fafe8713-3ed7-4c26-b777-5d455fc882d1",
      "metadata": {
        "id": "fafe8713-3ed7-4c26-b777-5d455fc882d1"
      },
      "outputs": [],
      "source": [
        ""
      ]
    }
  ],
  "metadata": {
    "kernelspec": {
      "display_name": "Python 3 (ipykernel)",
      "language": "python",
      "name": "python3"
    },
    "language_info": {
      "codemirror_mode": {
        "name": "ipython",
        "version": 3
      },
      "file_extension": ".py",
      "mimetype": "text/x-python",
      "name": "python",
      "nbconvert_exporter": "python",
      "pygments_lexer": "ipython3",
      "version": "3.8.2"
    },
    "colab": {
      "name": "Numerical_quadrature_Basics_2.ipynb",
      "provenance": [],
      "collapsed_sections": []
    }
  },
  "nbformat": 4,
  "nbformat_minor": 5
}