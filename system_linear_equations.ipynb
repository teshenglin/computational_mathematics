{
  "nbformat": 4,
  "nbformat_minor": 0,
  "metadata": {
    "colab": {
      "name": "system_linear_equations.ipynb",
      "provenance": [],
      "collapsed_sections": [],
      "authorship_tag": "ABX9TyM8WR/VFbu6tRVRCYymfcdN"
    },
    "kernelspec": {
      "name": "python3",
      "display_name": "Python 3"
    },
    "language_info": {
      "name": "python"
    }
  },
  "cells": [
    {
      "cell_type": "markdown",
      "source": [
        "# System of linear equations\n",
        "\n",
        ">    To solve $Ax=b$, where $A$ is an $n\\times n$ matrix.\n",
        "\n",
        "1. Pivoting\n",
        "2. Timing between solving $Ax=b$ and $x = A^{-1}*b$\n",
        "3. LU-factorization\n",
        "4. Condition number\n",
        "5. Jacobi method to solve a linear system\n"
      ],
      "metadata": {
        "id": "ugpohfyUTbhl"
      }
    },
    {
      "cell_type": "markdown",
      "source": [
        "## Pivoting"
      ],
      "metadata": {
        "id": "xMh5WAWrCImM"
      }
    },
    {
      "cell_type": "markdown",
      "source": [
        "Consider the linear system: \n",
        "$$\n",
        "\\left[\\begin{matrix}\\epsilon & 1 \\\\ 1 & 1\\end{matrix}\\right]\n",
        "\\left[\\begin{matrix} x \\\\ y\\end{matrix}\\right] = \n",
        "\\left[\\begin{matrix} 1 \\\\ 2\\end{matrix}\\right]\n",
        "$$\n",
        "Without pivoting, the solution is given as\n",
        "$$\n",
        "y_1 = \\frac{2-1/\\epsilon}{1-1/\\epsilon}, \\quad x_1 = \\frac{1-y}{\\epsilon}.\n",
        "$$\n",
        "With pivoting, the solution is given as\n",
        "$$\n",
        "y_2 = \\frac{1-2\\epsilon}{1-\\epsilon}, \\quad x_2 = 2-y.\n",
        "$$\n"
      ],
      "metadata": {
        "id": "XPLs8THrTp8w"
      }
    },
    {
      "cell_type": "code",
      "source": [
        "import numpy as np"
      ],
      "metadata": {
        "id": "2IrnObixTdyp"
      },
      "execution_count": 1,
      "outputs": []
    },
    {
      "cell_type": "code",
      "execution_count": 2,
      "metadata": {
        "id": "dQtEHpMmTXoI",
        "colab": {
          "base_uri": "https://localhost:8080/"
        },
        "outputId": "aba8df62-0581-4445-dacb-d8dd173494b1"
      },
      "outputs": [
        {
          "output_type": "stream",
          "name": "stdout",
          "text": [
            "epsilon equals to  1e-16\n",
            "Without pivoting:  2.220446049250313 0.9999999999999998\n",
            "With    pivoting:  1.0 0.9999999999999999\n"
          ]
        }
      ],
      "source": [
        "eps = 10**(-16)\n",
        "y1 = (2.0-1.0/eps)/(1.0-1.0/eps)\n",
        "x1 = (1.0-y1)/eps\n",
        "y2 = (1.0-2.0*eps)/(1.0-eps)\n",
        "x2 = 2.0-y2\n",
        "print('epsilon equals to ', eps)\n",
        "print('Without pivoting: ', x1, y1)\n",
        "print('With    pivoting: ', x2, y2)"
      ]
    },
    {
      "cell_type": "markdown",
      "source": [
        "## Timing"
      ],
      "metadata": {
        "id": "x5nsMrcYCMvP"
      }
    },
    {
      "cell_type": "markdown",
      "source": [
        "To have a feeling on the time requried between the following operations:\n",
        "1. matrix-vector multiplication: $A\\times b$\n",
        "2. Solve a linear system: $Ax=b$\n",
        "3. Solve a linear system by matrix inversion: $x=A^{-1}b$\n",
        "\n",
        "*Caution: *\n",
        "矩陣與向量乘法不能直接寫 A*b, 要用要用 np.matmul(A,b)"
      ],
      "metadata": {
        "id": "jokAMsqMG6Dd"
      }
    },
    {
      "cell_type": "code",
      "source": [
        "m = 2\n",
        "A = m*np.identity(m) + np.random.random((m,m))\n",
        "b = np.random.random((m,1))\n",
        "print('A= ')\n",
        "print(A)\n",
        "print('b= ')\n",
        "print(b)\n",
        "print('A*b= ')\n",
        "print(A*b)\n",
        "print('np.matmul= ')\n",
        "print(np.matmul(A,b))"
      ],
      "metadata": {
        "colab": {
          "base_uri": "https://localhost:8080/"
        },
        "id": "2ugP6zApMDMp",
        "outputId": "04a5d2f1-4ee4-4f4f-bf52-ef94a0dab11a"
      },
      "execution_count": 3,
      "outputs": [
        {
          "output_type": "stream",
          "name": "stdout",
          "text": [
            "A= \n",
            "[[2.39317501 0.10438147]\n",
            " [0.68014152 2.96214479]]\n",
            "b= \n",
            "[[0.68679701]\n",
            " [0.16362262]]\n",
            "A*b= \n",
            "[[1.64362544 0.07168888]\n",
            " [0.11128654 0.48467389]]\n",
            "np.matmul= \n",
            "[[1.66070461]\n",
            " [0.95179305]]\n"
          ]
        }
      ]
    },
    {
      "cell_type": "code",
      "source": [
        "from timeit import timeit"
      ],
      "metadata": {
        "id": "9Q_acalhDqPU"
      },
      "execution_count": 4,
      "outputs": []
    },
    {
      "cell_type": "code",
      "source": [
        "def multiplicationtime():\n",
        "  return np.matmul(A, b)\n",
        "def solvetime():\n",
        "  return np.linalg.solve(A, b)\n",
        "def solveinvtime():\n",
        "  return np.linalg.inv(A)*b"
      ],
      "metadata": {
        "id": "F0Ypp-jgD3Yn"
      },
      "execution_count": 5,
      "outputs": []
    },
    {
      "cell_type": "markdown",
      "source": [
        "Generate a $m\\times m$ non-singular random matrix $A$ and a $m\\times 1$ random vector $b$."
      ],
      "metadata": {
        "id": "_BRBA-y0Jije"
      }
    },
    {
      "cell_type": "code",
      "source": [
        "m = 2000\n",
        "A = m*np.identity(m) + np.random.random((m,m))\n",
        "b = np.random.random((m,1))"
      ],
      "metadata": {
        "id": "ptHDT84vUWEw"
      },
      "execution_count": 6,
      "outputs": []
    },
    {
      "cell_type": "code",
      "source": [
        "print('m=   ', m)\n",
        "print('The time takes for A times b is ', timeit(stmt=multiplicationtime, number=10))\n",
        "print('The time takes for solving Ax=b is ', timeit(stmt=solvetime, number=10))\n",
        "print('The time takes for A^(-1) times b is ', timeit(stmt=solveinvtime, number=10))"
      ],
      "metadata": {
        "colab": {
          "base_uri": "https://localhost:8080/"
        },
        "id": "I3xDbMySDcOv",
        "outputId": "906810ed-359b-4c5a-91b6-e7e50b0e1c2e"
      },
      "execution_count": 7,
      "outputs": [
        {
          "output_type": "stream",
          "name": "stdout",
          "text": [
            "m=    2000\n",
            "The time takes for A times b is  0.04743755300000885\n",
            "The time takes for solving Ax=b is  2.676150108999991\n",
            "The time takes for A^(-1) times b is  10.222251559000142\n"
          ]
        }
      ]
    },
    {
      "cell_type": "markdown",
      "source": [
        "## LU-factorization"
      ],
      "metadata": {
        "id": "psciiQlFFrmV"
      }
    },
    {
      "cell_type": "code",
      "source": [
        "import numpy as np\n",
        "import scipy\n",
        "import scipy.linalg"
      ],
      "metadata": {
        "id": "bHgmRm1kGLFk"
      },
      "execution_count": 8,
      "outputs": []
    },
    {
      "cell_type": "code",
      "source": [
        "A = np.array([\n",
        "    [1.0, -2.0, 3.0, 0.0],\n",
        "    [3.0, -6.0, 9.0, 3.0],\n",
        "    [2.0, 1.0, 4.0, 1.0],\n",
        "    [1.0, -2.0, 2.0, 2.0]\n",
        "])\n",
        "print(A)"
      ],
      "metadata": {
        "colab": {
          "base_uri": "https://localhost:8080/"
        },
        "id": "87M3FfvLGT1k",
        "outputId": "19b0853d-2ac2-428b-9862-20fb4febb6be"
      },
      "execution_count": 9,
      "outputs": [
        {
          "output_type": "stream",
          "name": "stdout",
          "text": [
            "[[ 1. -2.  3.  0.]\n",
            " [ 3. -6.  9.  3.]\n",
            " [ 2.  1.  4.  1.]\n",
            " [ 1. -2.  2.  2.]]\n"
          ]
        }
      ]
    },
    {
      "cell_type": "code",
      "source": [
        "### LU-factorization of A\n",
        "P, L, U = scipy.linalg.lu(A)\n",
        "print(f'P = ')\n",
        "print(P)\n",
        "print(f'L = ')\n",
        "print(L)\n",
        "print(f'U = ')\n",
        "print(U)\n",
        "print(f'P*L*U= ')\n",
        "print(P.dot(L).dot(U))"
      ],
      "metadata": {
        "colab": {
          "base_uri": "https://localhost:8080/"
        },
        "id": "maoN5Fo4F3tf",
        "outputId": "6fd4694a-006d-4704-9e75-ebc673be22dc"
      },
      "execution_count": 10,
      "outputs": [
        {
          "output_type": "stream",
          "name": "stdout",
          "text": [
            "P = \n",
            "[[0. 0. 0. 1.]\n",
            " [1. 0. 0. 0.]\n",
            " [0. 1. 0. 0.]\n",
            " [0. 0. 1. 0.]]\n",
            "L = \n",
            "[[ 1.          0.          0.          0.        ]\n",
            " [ 0.66666667  1.          0.          0.        ]\n",
            " [ 0.33333333  0.          1.          0.        ]\n",
            " [ 0.33333333  0.         -0.          1.        ]]\n",
            "U = \n",
            "[[ 3. -6.  9.  3.]\n",
            " [ 0.  5. -2. -1.]\n",
            " [ 0.  0. -1.  1.]\n",
            " [ 0.  0.  0. -1.]]\n",
            "P*L*U= \n",
            "[[ 1. -2.  3.  0.]\n",
            " [ 3. -6.  9.  3.]\n",
            " [ 2.  1.  4.  1.]\n",
            " [ 1. -2.  2.  2.]]\n"
          ]
        }
      ]
    },
    {
      "cell_type": "markdown",
      "source": [
        "## Condition number"
      ],
      "metadata": {
        "id": "rdJhU_l9HFMF"
      }
    },
    {
      "cell_type": "code",
      "source": [
        "import numpy as np\n",
        "from numpy import linalg as LA"
      ],
      "metadata": {
        "id": "haEs8I6QHIxC"
      },
      "execution_count": 11,
      "outputs": []
    },
    {
      "cell_type": "code",
      "source": [
        "A = np.array([\n",
        "    [1.01, -2.0, 3.0, 0.0],\n",
        "    [3.0, -6.0, 9.0, 3.0],\n",
        "    [2.0, 1.0, 4.0, 1.0],\n",
        "    [1.0, -2.0, 2.0, 2.0]\n",
        "])\n",
        "print('A= ')\n",
        "print(A)\n",
        "print('condition number of A in 2-norm = ', LA.cond(A))"
      ],
      "metadata": {
        "colab": {
          "base_uri": "https://localhost:8080/"
        },
        "id": "wIISt4hNnnJw",
        "outputId": "8d050c5d-ad01-4c35-9728-13e154d4d331"
      },
      "execution_count": 12,
      "outputs": [
        {
          "output_type": "stream",
          "name": "stdout",
          "text": [
            "A= \n",
            "[[ 1.01 -2.    3.    0.  ]\n",
            " [ 3.   -6.    9.    3.  ]\n",
            " [ 2.    1.    4.    1.  ]\n",
            " [ 1.   -2.    2.    2.  ]]\n",
            "condition number of A in 2-norm =  55.51183485384228\n"
          ]
        }
      ]
    },
    {
      "cell_type": "code",
      "source": [
        "B = np.array([\n",
        "    [1.01, 0.99],\n",
        "    [0.99, 1.01]\n",
        "])\n",
        "print('B= ')\n",
        "print(B)\n",
        "print('condition number of B in inf-norm = ', LA.cond(B, np.inf))"
      ],
      "metadata": {
        "colab": {
          "base_uri": "https://localhost:8080/"
        },
        "id": "pOqnIPBbnsT3",
        "outputId": "3613fdae-21d5-4f7d-bcf0-c01e742f5fe8"
      },
      "execution_count": 13,
      "outputs": [
        {
          "output_type": "stream",
          "name": "stdout",
          "text": [
            "B= \n",
            "[[1.01 0.99]\n",
            " [0.99 1.01]]\n",
            "condition number of B in inf-norm =  99.99999999999991\n"
          ]
        }
      ]
    },
    {
      "cell_type": "markdown",
      "source": [
        "## Jacobi method to solve a linear system"
      ],
      "metadata": {
        "id": "JvMN9QheCTBp"
      }
    },
    {
      "cell_type": "code",
      "source": [
        "import numpy as np\n",
        "from numpy import linalg as LA"
      ],
      "metadata": {
        "id": "frFEbdZACfmh"
      },
      "execution_count": 14,
      "outputs": []
    },
    {
      "cell_type": "markdown",
      "source": [
        "Construct a $m\\times m$ diagonal dominant matrix by adding a diagonal matrix with its element to be $m$. "
      ],
      "metadata": {
        "id": "A9gmFM-Satk1"
      }
    },
    {
      "cell_type": "code",
      "source": [
        "m = 2000\n",
        "# A: the m-by-m diagonal dominant matrix\n",
        "A = m*np.identity(m) + np.random.random((m,m))\n",
        "# xe: the exact solution\n",
        "xe = np.random.random((m,1))\n",
        "# b: the right hand side vector, b = Ax\n",
        "b = A.dot(xe)\n",
        "print('shape of A = ', np.shape(A))\n",
        "print('shape of b = ', np.shape(b))"
      ],
      "metadata": {
        "id": "1mqncB9KoXEo",
        "colab": {
          "base_uri": "https://localhost:8080/"
        },
        "outputId": "e3a1198b-eaf8-4ef0-bbe2-bde83ca4cfeb"
      },
      "execution_count": 15,
      "outputs": [
        {
          "output_type": "stream",
          "name": "stdout",
          "text": [
            "shape of A =  (2000, 2000)\n",
            "shape of b =  (2000, 1)\n"
          ]
        }
      ]
    },
    {
      "cell_type": "markdown",
      "source": [
        "Calculate the condition number of A"
      ],
      "metadata": {
        "id": "8yaeBg24b5Vn"
      }
    },
    {
      "cell_type": "code",
      "source": [
        "print('condition number of A in 2-norm = ', LA.cond(A))"
      ],
      "metadata": {
        "colab": {
          "base_uri": "https://localhost:8080/"
        },
        "id": "msY7qiQDbrAK",
        "outputId": "d1566f50-be1b-457f-c4f7-b1d185bdc90f"
      },
      "execution_count": 16,
      "outputs": [
        {
          "output_type": "stream",
          "name": "stdout",
          "text": [
            "condition number of A in 2-norm =  1.5139476230733664\n"
          ]
        }
      ]
    },
    {
      "cell_type": "markdown",
      "source": [
        "Split the matrix into $D$, $L$ and $U$.\n",
        "\n",
        "Define `dAinv` to be $D^{-1}$."
      ],
      "metadata": {
        "id": "DIqrCT5Jb8Z2"
      }
    },
    {
      "cell_type": "code",
      "source": [
        "### Splitting A into D, L and U\n",
        "D = np.diag(A)\n",
        "dA = D.reshape(m,1)\n",
        "D = np.diag(D)\n",
        "U = np.triu(A, 1)\n",
        "L = A - D - U\n",
        "dAinv = np.reciprocal(dA)"
      ],
      "metadata": {
        "id": "R8sbX-rIRfIb"
      },
      "execution_count": 17,
      "outputs": []
    },
    {
      "cell_type": "markdown",
      "source": [
        "Jacobi iteration:\n",
        "$$\n",
        "x^{(k+1)} = D^{-1}(b - (L+U)x^{(k)}).\n",
        "$$\n",
        "* `mtrJ`: $L+U$\n",
        "* `xk`: $x^{(k)}$\n",
        "* `xkp1`: $x^{(k+1)}$\n",
        "\n",
        "We measure the residual $\\|b - Ax\\|$ and the difference between two steps $\\|x^{(k+1)}-x^{(k)}\\|$. "
      ],
      "metadata": {
        "id": "VIzEugLicMdO"
      }
    },
    {
      "cell_type": "code",
      "source": [
        "### Jacobi iteration\n",
        "mtrJ = L + U\n",
        "k = 0\n",
        "xk = b\n",
        "tolr = 1e-15\n",
        "itmx = 100\n",
        "\n",
        "b_inf = np.linalg.norm(b, np.inf)\n",
        "rel_res_inf = 1.0\n",
        "rel_dif_inf = 1.0\n",
        "\n",
        "print('')\n",
        "print('Jacobi iteration:')\n",
        "print('')\n",
        "\n",
        "while ( (rel_res_inf>tolr) and (rel_dif_inf>tolr) and (k<itmx) ):\n",
        "    # Jacobi iterative step\n",
        "    xkp1 = dAinv*(b - mtrJ.dot(xk))\n",
        "\n",
        "    # relative residual\n",
        "    res = b - np.matmul(A, xkp1)\n",
        "    rel_res_inf = np.linalg.norm(res, np.inf)/b_inf\n",
        "    dif = xkp1 - xk\n",
        "    rel_dif_inf = np.linalg.norm(dif, np.inf)/np.linalg.norm(xk, np.inf)\n",
        "    k += 1\n",
        "    print('Iter %4d, relative residual: %.4e, relative difference: %.4e' % (k, rel_res_inf, rel_dif_inf) )\n",
        "    xk = xkp1"
      ],
      "metadata": {
        "id": "4c_U8V_WTZqZ",
        "colab": {
          "base_uri": "https://localhost:8080/"
        },
        "outputId": "84e7da81-ddf2-46ef-df1e-df2811c51593"
      },
      "execution_count": 18,
      "outputs": [
        {
          "output_type": "stream",
          "name": "stdout",
          "text": [
            "\n",
            "Jacobi iteration:\n",
            "\n",
            "Iter    1, relative residual: 9.2775e+02, relative difference: 1.3036e+00\n",
            "Iter    2, relative residual: 4.6443e+02, relative difference: 1.4974e+00\n",
            "Iter    3, relative residual: 2.3211e+02, relative difference: 1.4985e+00\n",
            "Iter    4, relative residual: 1.1600e+02, relative difference: 1.5024e+00\n",
            "Iter    5, relative residual: 5.7971e+01, relative difference: 1.4945e+00\n",
            "Iter    6, relative residual: 2.8972e+01, relative difference: 1.5103e+00\n",
            "Iter    7, relative residual: 1.4479e+01, relative difference: 1.4560e+00\n",
            "Iter    8, relative residual: 7.2361e+00, relative difference: 1.5246e+00\n",
            "Iter    9, relative residual: 3.6163e+00, relative difference: 1.3062e+00\n",
            "Iter   10, relative residual: 1.8073e+00, relative difference: 1.5377e+00\n",
            "Iter   11, relative residual: 9.0323e-01, relative difference: 9.1546e-01\n",
            "Iter   12, relative residual: 4.5140e-01, relative difference: 1.5522e+00\n",
            "Iter   13, relative residual: 2.2559e-01, relative difference: 4.1378e-01\n",
            "Iter   14, relative residual: 1.1274e-01, relative difference: 3.4428e-01\n",
            "Iter   15, relative residual: 5.6345e-02, relative difference: 1.2953e-01\n",
            "Iter   16, relative residual: 2.8159e-02, relative difference: 7.3928e-02\n",
            "Iter   17, relative residual: 1.4073e-02, relative difference: 3.4498e-02\n",
            "Iter   18, relative residual: 7.0331e-03, relative difference: 1.7831e-02\n",
            "Iter   19, relative residual: 3.5149e-03, relative difference: 8.7615e-03\n",
            "Iter   20, relative residual: 1.7566e-03, relative difference: 4.4158e-03\n",
            "Iter   21, relative residual: 8.7789e-04, relative difference: 2.1975e-03\n",
            "Iter   22, relative residual: 4.3874e-04, relative difference: 1.1006e-03\n",
            "Iter   23, relative residual: 2.1926e-04, relative difference: 5.4944e-04\n",
            "Iter   24, relative residual: 1.0958e-04, relative difference: 2.7474e-04\n",
            "Iter   25, relative residual: 5.4764e-05, relative difference: 1.3727e-04\n",
            "Iter   26, relative residual: 2.7369e-05, relative difference: 6.8610e-05\n",
            "Iter   27, relative residual: 1.3678e-05, relative difference: 3.4287e-05\n",
            "Iter   28, relative residual: 6.8358e-06, relative difference: 1.7136e-05\n",
            "Iter   29, relative residual: 3.4163e-06, relative difference: 8.5636e-06\n",
            "Iter   30, relative residual: 1.7073e-06, relative difference: 4.2798e-06\n",
            "Iter   31, relative residual: 8.5326e-07, relative difference: 2.1389e-06\n",
            "Iter   32, relative residual: 4.2643e-07, relative difference: 1.0689e-06\n",
            "Iter   33, relative residual: 2.1311e-07, relative difference: 5.3422e-07\n",
            "Iter   34, relative residual: 1.0651e-07, relative difference: 2.6698e-07\n",
            "Iter   35, relative residual: 5.3228e-08, relative difference: 1.3343e-07\n",
            "Iter   36, relative residual: 2.6601e-08, relative difference: 6.6682e-08\n",
            "Iter   37, relative residual: 1.3294e-08, relative difference: 3.3325e-08\n",
            "Iter   38, relative residual: 6.6440e-09, relative difference: 1.6655e-08\n",
            "Iter   39, relative residual: 3.3204e-09, relative difference: 8.3234e-09\n",
            "Iter   40, relative residual: 1.6594e-09, relative difference: 4.1597e-09\n",
            "Iter   41, relative residual: 8.2932e-10, relative difference: 2.0789e-09\n",
            "Iter   42, relative residual: 4.1446e-10, relative difference: 1.0390e-09\n",
            "Iter   43, relative residual: 2.0713e-10, relative difference: 5.1923e-10\n",
            "Iter   44, relative residual: 1.0352e-10, relative difference: 2.5949e-10\n",
            "Iter   45, relative residual: 5.1735e-11, relative difference: 1.2968e-10\n",
            "Iter   46, relative residual: 2.5855e-11, relative difference: 6.4811e-11\n",
            "Iter   47, relative residual: 1.2921e-11, relative difference: 3.2390e-11\n",
            "Iter   48, relative residual: 6.4576e-12, relative difference: 1.6187e-11\n",
            "Iter   49, relative residual: 3.2274e-12, relative difference: 8.0898e-12\n",
            "Iter   50, relative residual: 1.6128e-12, relative difference: 4.0429e-12\n",
            "Iter   51, relative residual: 8.0601e-13, relative difference: 2.0204e-12\n",
            "Iter   52, relative residual: 4.0296e-13, relative difference: 1.0098e-12\n",
            "Iter   53, relative residual: 2.0180e-13, relative difference: 5.0457e-13\n",
            "Iter   54, relative residual: 1.0085e-13, relative difference: 2.5220e-13\n",
            "Iter   55, relative residual: 5.0744e-14, relative difference: 1.2616e-13\n",
            "Iter   56, relative residual: 2.6688e-14, relative difference: 6.3051e-14\n",
            "Iter   57, relative residual: 1.3980e-14, relative difference: 3.1498e-14\n",
            "Iter   58, relative residual: 7.9883e-15, relative difference: 1.5804e-14\n",
            "Iter   59, relative residual: 4.5388e-15, relative difference: 7.9994e-15\n",
            "Iter   60, relative residual: 3.4495e-15, relative difference: 4.1247e-15\n",
            "Iter   61, relative residual: 2.2694e-15, relative difference: 2.2221e-15\n",
            "Iter   62, relative residual: 2.1786e-15, relative difference: 1.2221e-15\n",
            "Iter   63, relative residual: 1.7248e-15, relative difference: 6.6662e-16\n"
          ]
        }
      ]
    },
    {
      "cell_type": "markdown",
      "source": [
        "Here we solve the system $Ax=b$ directly by `np.linalg.solve`. Denote this solution as `xs`."
      ],
      "metadata": {
        "id": "Q3MGeRQsdAb8"
      }
    },
    {
      "cell_type": "code",
      "source": [
        "### Solve linear system directly\n",
        "xs = np.linalg.solve(A, b)\n",
        "print('relative residual: ', np.linalg.norm(b - A.dot(xs), np.inf)/b_inf)"
      ],
      "metadata": {
        "colab": {
          "base_uri": "https://localhost:8080/"
        },
        "id": "-Ijd0WzECheo",
        "outputId": "2a93a819-64c9-4413-d9bc-7167138dec8e"
      },
      "execution_count": 19,
      "outputs": [
        {
          "output_type": "stream",
          "name": "stdout",
          "text": [
            "relative residual:  3.994174646508111e-15\n"
          ]
        }
      ]
    },
    {
      "cell_type": "markdown",
      "source": [
        "The error between the solutions obtained using two approaches."
      ],
      "metadata": {
        "id": "c1t3_uAoeIHz"
      }
    },
    {
      "cell_type": "code",
      "source": [
        "# the error of the solution obtained using the Jacobi method\n",
        "err_jac = np.linalg.norm(xk-xe, np.inf)\n",
        "# the error of the solution obtained using the linear solver\n",
        "err_lin = np.linalg.norm(xs-xe, np.inf)\n",
        "print('Error of Jacobi = ', err_jac)\n",
        "print('Error of linalg.solve = ', err_lin)"
      ],
      "metadata": {
        "colab": {
          "base_uri": "https://localhost:8080/"
        },
        "id": "wksVmaduedSk",
        "outputId": "1fa88772-fff0-4c22-c7a3-320511c8d38e"
      },
      "execution_count": 20,
      "outputs": [
        {
          "output_type": "stream",
          "name": "stdout",
          "text": [
            "Error of Jacobi =  2.220446049250313e-15\n",
            "Error of linalg.solve =  4.773959005888173e-15\n"
          ]
        }
      ]
    },
    {
      "cell_type": "code",
      "source": [
        ""
      ],
      "metadata": {
        "id": "5tbGMZxLe7Ak"
      },
      "execution_count": 20,
      "outputs": []
    }
  ]
}