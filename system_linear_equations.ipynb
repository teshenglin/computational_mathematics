{
  "nbformat": 4,
  "nbformat_minor": 0,
  "metadata": {
    "colab": {
      "name": "system_linear_equations.ipynb",
      "provenance": [],
      "collapsed_sections": [],
      "authorship_tag": "ABX9TyN3/MoJlgCIwecjTs04eenS"
    },
    "kernelspec": {
      "name": "python3",
      "display_name": "Python 3"
    },
    "language_info": {
      "name": "python"
    }
  },
  "cells": [
    {
      "cell_type": "markdown",
      "source": [
        "# System of linear equations\n",
        "\n",
        ">    To solve $Ax=b$, where $A$ is an $n\\times n$ matrix.\n",
        "\n",
        "1. Pivoting\n",
        "2. Timing between solving $Ax=b$ and $x = A^{-1}*b$\n",
        "3. LU-factorization\n",
        "4. Condition number\n",
        "5. Jacobi method to solve a linear system\n"
      ],
      "metadata": {
        "id": "ugpohfyUTbhl"
      }
    },
    {
      "cell_type": "markdown",
      "source": [
        "## Pivoting"
      ],
      "metadata": {
        "id": "xMh5WAWrCImM"
      }
    },
    {
      "cell_type": "markdown",
      "source": [
        "Consider the linear system: \n",
        "$$\n",
        "\\left[\\begin{matrix}\\epsilon & 1 \\\\ 1 & 1\\end{matrix}\\right]\n",
        "\\left[\\begin{matrix} x \\\\ y\\end{matrix}\\right] = \n",
        "\\left[\\begin{matrix} 1 \\\\ 2\\end{matrix}\\right]\n",
        "$$\n",
        "Without pivoting, the solution is given as\n",
        "$$\n",
        "y_1 = \\frac{2-1/\\epsilon}{1-1/\\epsilon}, \\quad x_1 = \\frac{1-y}{\\epsilon}.\n",
        "$$\n",
        "With pivoting, the solution is given as\n",
        "$$\n",
        "y_2 = \\frac{1-2\\epsilon}{1-\\epsilon}, \\quad x_2 = 2-y.\n",
        "$$\n"
      ],
      "metadata": {
        "id": "XPLs8THrTp8w"
      }
    },
    {
      "cell_type": "code",
      "source": [
        "import numpy as np"
      ],
      "metadata": {
        "id": "2IrnObixTdyp"
      },
      "execution_count": 1,
      "outputs": []
    },
    {
      "cell_type": "code",
      "execution_count": 2,
      "metadata": {
        "id": "dQtEHpMmTXoI",
        "colab": {
          "base_uri": "https://localhost:8080/"
        },
        "outputId": "527ffb24-8eb6-45ec-e048-5cf8a52caf30"
      },
      "outputs": [
        {
          "output_type": "stream",
          "name": "stdout",
          "text": [
            "epsilon equals to  1e-16\n",
            "Without pivoting:  2.220446049250313 0.9999999999999998\n",
            "With    pivoting:  1.0 0.9999999999999999\n"
          ]
        }
      ],
      "source": [
        "eps = 10**(-16)\n",
        "y1 = (2.0-1.0/eps)/(1.0-1.0/eps)\n",
        "x1 = (1.0-y1)/eps\n",
        "y2 = (1.0-2.0*eps)/(1.0-eps)\n",
        "x2 = 2.0-y2\n",
        "print('epsilon equals to ', eps)\n",
        "print('Without pivoting: ', x1, y1)\n",
        "print('With    pivoting: ', x2, y2)"
      ]
    },
    {
      "cell_type": "markdown",
      "source": [
        "### Quick conclusion\n",
        "* Gaussian elimination without pivoting is *unstable*. \n",
        "* Gaussian elimination with pivoting is *stable*. "
      ],
      "metadata": {
        "id": "dt2_PcnfOfbW"
      }
    },
    {
      "cell_type": "markdown",
      "source": [
        "## Timing"
      ],
      "metadata": {
        "id": "x5nsMrcYCMvP"
      }
    },
    {
      "cell_type": "markdown",
      "source": [
        "To have a feeling on the time requried between the following operations:\n",
        "1. matrix-vector multiplication: $A\\times b$\n",
        "2. Solve a linear system: $Ax=b$\n",
        "3. Solve a linear system by matrix inversion: $x=A^{-1}b$\n",
        "\n",
        "*Caution:*\n",
        "\n",
        "矩陣與向量乘法不能直接寫 `A*b`, 要用 `np.matmul(A,b)` 或是 `A.dot(b)`."
      ],
      "metadata": {
        "id": "jokAMsqMG6Dd"
      }
    },
    {
      "cell_type": "code",
      "source": [
        "m = 2\n",
        "A = m*np.identity(m) + np.random.random((m,m))\n",
        "b = np.random.random((m,1))\n",
        "print('A= ')\n",
        "print(A)\n",
        "print('b= ')\n",
        "print(b)\n",
        "print('A*b= ')\n",
        "print(A*b)\n",
        "print('np.matmul= ')\n",
        "print(np.matmul(A,b))\n",
        "print('.dot= ')\n",
        "print(A.dot(b))"
      ],
      "metadata": {
        "colab": {
          "base_uri": "https://localhost:8080/"
        },
        "id": "2ugP6zApMDMp",
        "outputId": "8dc3e44a-e6f4-4b1f-f42e-739d101374d9"
      },
      "execution_count": 3,
      "outputs": [
        {
          "output_type": "stream",
          "name": "stdout",
          "text": [
            "A= \n",
            "[[2.15274406 0.40673631]\n",
            " [0.1886845  2.94319257]]\n",
            "b= \n",
            "[[0.3111491 ]\n",
            " [0.22915371]]\n",
            "A*b= \n",
            "[[0.66982437 0.12655564]\n",
            " [0.04323775 0.6744435 ]]\n",
            "np.matmul= \n",
            "[[0.7630295 ]\n",
            " [0.73315251]]\n",
            ".dot= \n",
            "[[0.7630295 ]\n",
            " [0.73315251]]\n"
          ]
        }
      ]
    },
    {
      "cell_type": "code",
      "source": [
        "from timeit import timeit"
      ],
      "metadata": {
        "id": "9Q_acalhDqPU"
      },
      "execution_count": 4,
      "outputs": []
    },
    {
      "cell_type": "code",
      "source": [
        "def multiplicationtime():\n",
        "  return np.matmul(A, b)\n",
        "def solvetime():\n",
        "  return np.linalg.solve(A, b)\n",
        "def solveinvtime():\n",
        "  return np.linalg.inv(A)*b"
      ],
      "metadata": {
        "id": "F0Ypp-jgD3Yn"
      },
      "execution_count": 5,
      "outputs": []
    },
    {
      "cell_type": "markdown",
      "source": [
        "Generate a $m\\times m$ non-singular random matrix $A$ and a $m\\times 1$ random vector $b$."
      ],
      "metadata": {
        "id": "_BRBA-y0Jije"
      }
    },
    {
      "cell_type": "code",
      "source": [
        "m = 2000\n",
        "A = m*np.identity(m) + np.random.random((m,m))\n",
        "b = np.random.random((m,1))"
      ],
      "metadata": {
        "id": "ptHDT84vUWEw"
      },
      "execution_count": 6,
      "outputs": []
    },
    {
      "cell_type": "code",
      "source": [
        "print('m=   ', m)\n",
        "print('The time takes for A times b is ', timeit(stmt=multiplicationtime, number=10))\n",
        "print('The time takes for solving Ax=b is ', timeit(stmt=solvetime, number=10))\n",
        "print('The time takes for A^(-1) times b is ', timeit(stmt=solveinvtime, number=10))"
      ],
      "metadata": {
        "colab": {
          "base_uri": "https://localhost:8080/"
        },
        "id": "I3xDbMySDcOv",
        "outputId": "0ef93731-14af-4887-85fa-8917925e5c25"
      },
      "execution_count": 7,
      "outputs": [
        {
          "output_type": "stream",
          "name": "stdout",
          "text": [
            "m=    2000\n",
            "The time takes for A times b is  0.042201954999995905\n",
            "The time takes for solving Ax=b is  2.455234055999995\n",
            "The time takes for A^(-1) times b is  10.980635658999972\n"
          ]
        }
      ]
    },
    {
      "cell_type": "markdown",
      "source": [
        "### Quick conclusion\n",
        "The solution to the linear system is $x = A^{-1}b$, but in practice we should not use this formula to evaluate the solution."
      ],
      "metadata": {
        "id": "cMuUtYqaPGef"
      }
    },
    {
      "cell_type": "markdown",
      "source": [
        "## LU-factorization"
      ],
      "metadata": {
        "id": "psciiQlFFrmV"
      }
    },
    {
      "cell_type": "code",
      "source": [
        "import numpy as np\n",
        "import scipy\n",
        "import scipy.linalg"
      ],
      "metadata": {
        "id": "bHgmRm1kGLFk"
      },
      "execution_count": 8,
      "outputs": []
    },
    {
      "cell_type": "code",
      "source": [
        "A = np.array([\n",
        "    [1.0, -2.0, 3.0, 0.0],\n",
        "    [3.0, -6.0, 9.0, 3.0],\n",
        "    [2.0, 1.0, 4.0, 1.0],\n",
        "    [1.0, -2.0, 2.0, 2.0]\n",
        "])\n",
        "print(A)"
      ],
      "metadata": {
        "colab": {
          "base_uri": "https://localhost:8080/"
        },
        "id": "87M3FfvLGT1k",
        "outputId": "b2722ee1-8d36-4cb2-e95b-262e0dabc101"
      },
      "execution_count": 9,
      "outputs": [
        {
          "output_type": "stream",
          "name": "stdout",
          "text": [
            "[[ 1. -2.  3.  0.]\n",
            " [ 3. -6.  9.  3.]\n",
            " [ 2.  1.  4.  1.]\n",
            " [ 1. -2.  2.  2.]]\n"
          ]
        }
      ]
    },
    {
      "cell_type": "code",
      "source": [
        "### LU-factorization of A\n",
        "P, L, U = scipy.linalg.lu(A)\n",
        "print(f'P = ')\n",
        "print(P)\n",
        "print(f'L = ')\n",
        "print(L)\n",
        "print(f'U = ')\n",
        "print(U)\n",
        "print(f'P*L*U= ')\n",
        "print(P.dot(L).dot(U))"
      ],
      "metadata": {
        "colab": {
          "base_uri": "https://localhost:8080/"
        },
        "id": "maoN5Fo4F3tf",
        "outputId": "df3af412-2202-4211-f2e0-16ec491d6668"
      },
      "execution_count": 10,
      "outputs": [
        {
          "output_type": "stream",
          "name": "stdout",
          "text": [
            "P = \n",
            "[[0. 0. 0. 1.]\n",
            " [1. 0. 0. 0.]\n",
            " [0. 1. 0. 0.]\n",
            " [0. 0. 1. 0.]]\n",
            "L = \n",
            "[[ 1.          0.          0.          0.        ]\n",
            " [ 0.66666667  1.          0.          0.        ]\n",
            " [ 0.33333333  0.          1.          0.        ]\n",
            " [ 0.33333333  0.         -0.          1.        ]]\n",
            "U = \n",
            "[[ 3. -6.  9.  3.]\n",
            " [ 0.  5. -2. -1.]\n",
            " [ 0.  0. -1.  1.]\n",
            " [ 0.  0.  0. -1.]]\n",
            "P*L*U= \n",
            "[[ 1. -2.  3.  0.]\n",
            " [ 3. -6.  9.  3.]\n",
            " [ 2.  1.  4.  1.]\n",
            " [ 1. -2.  2.  2.]]\n"
          ]
        }
      ]
    },
    {
      "cell_type": "markdown",
      "source": [
        "## Condition number"
      ],
      "metadata": {
        "id": "rdJhU_l9HFMF"
      }
    },
    {
      "cell_type": "code",
      "source": [
        "import numpy as np\n",
        "from numpy import linalg as LA"
      ],
      "metadata": {
        "id": "haEs8I6QHIxC"
      },
      "execution_count": 11,
      "outputs": []
    },
    {
      "cell_type": "code",
      "source": [
        "A = np.array([\n",
        "    [1.01, -2.0, 3.0, 0.0],\n",
        "    [3.0, -6.0, 9.0, 3.0],\n",
        "    [2.0, 1.0, 4.0, 1.0],\n",
        "    [1.0, -2.0, 2.0, 2.0]\n",
        "])\n",
        "print('A= ')\n",
        "print(A)\n",
        "print('condition number of A in 2-norm = ', LA.cond(A))"
      ],
      "metadata": {
        "colab": {
          "base_uri": "https://localhost:8080/"
        },
        "id": "wIISt4hNnnJw",
        "outputId": "51003661-6aa6-4f71-e96f-4e2a28a7c69a"
      },
      "execution_count": 12,
      "outputs": [
        {
          "output_type": "stream",
          "name": "stdout",
          "text": [
            "A= \n",
            "[[ 1.01 -2.    3.    0.  ]\n",
            " [ 3.   -6.    9.    3.  ]\n",
            " [ 2.    1.    4.    1.  ]\n",
            " [ 1.   -2.    2.    2.  ]]\n",
            "condition number of A in 2-norm =  55.51183485384228\n"
          ]
        }
      ]
    },
    {
      "cell_type": "code",
      "source": [
        "B = np.array([\n",
        "    [1.01, 0.99],\n",
        "    [0.99, 1.01]\n",
        "])\n",
        "print('B= ')\n",
        "print(B)\n",
        "print('condition number of B in inf-norm = ', LA.cond(B, np.inf))"
      ],
      "metadata": {
        "colab": {
          "base_uri": "https://localhost:8080/"
        },
        "id": "pOqnIPBbnsT3",
        "outputId": "0323345b-d811-49b0-a255-d7626761ed17"
      },
      "execution_count": 13,
      "outputs": [
        {
          "output_type": "stream",
          "name": "stdout",
          "text": [
            "B= \n",
            "[[1.01 0.99]\n",
            " [0.99 1.01]]\n",
            "condition number of B in inf-norm =  99.99999999999991\n"
          ]
        }
      ]
    },
    {
      "cell_type": "code",
      "source": [
        "from timeit import timeit"
      ],
      "metadata": {
        "id": "7BtW8uCFPeRV"
      },
      "execution_count": 14,
      "outputs": []
    },
    {
      "cell_type": "code",
      "source": [
        "def conditiontime():\n",
        "  return LA.cond(A)"
      ],
      "metadata": {
        "id": "KqkNuF2bPl9E"
      },
      "execution_count": 15,
      "outputs": []
    },
    {
      "cell_type": "code",
      "source": [
        "m = 100\n",
        "A = np.random.random((m,m))"
      ],
      "metadata": {
        "id": "fe0SnkQuPl5x"
      },
      "execution_count": 16,
      "outputs": []
    },
    {
      "cell_type": "code",
      "source": [
        "print('The time takes to evaluate a matrix of size ', m, ' is ', timeit(stmt=conditiontime, number=10))"
      ],
      "metadata": {
        "colab": {
          "base_uri": "https://localhost:8080/"
        },
        "id": "SmZ_N1ObPl2I",
        "outputId": "616568ca-8e95-48f4-f839-99d0e51b337d"
      },
      "execution_count": 17,
      "outputs": [
        {
          "output_type": "stream",
          "name": "stdout",
          "text": [
            "The time takes to evaluate a matrix of size  100  is  0.026157093000051646\n"
          ]
        }
      ]
    },
    {
      "cell_type": "markdown",
      "source": [
        "## Jacobi method to solve a linear system"
      ],
      "metadata": {
        "id": "JvMN9QheCTBp"
      }
    },
    {
      "cell_type": "code",
      "source": [
        "import numpy as np\n",
        "from numpy import linalg as LA"
      ],
      "metadata": {
        "id": "frFEbdZACfmh"
      },
      "execution_count": 18,
      "outputs": []
    },
    {
      "cell_type": "markdown",
      "source": [
        "Construct a $m\\times m$ diagonal dominant matrix by adding a diagonal matrix with its element to be $m$. "
      ],
      "metadata": {
        "id": "A9gmFM-Satk1"
      }
    },
    {
      "cell_type": "code",
      "source": [
        "m = 2000\n",
        "# A: the m-by-m diagonal dominant matrix\n",
        "A = m*np.identity(m) + np.random.random((m,m))\n",
        "# xe: the exact solution\n",
        "xe = np.random.random((m,1))\n",
        "# b: the right hand side vector, b = Ax\n",
        "b = A.dot(xe)\n",
        "print('shape of A = ', np.shape(A))\n",
        "print('shape of b = ', np.shape(b))"
      ],
      "metadata": {
        "id": "1mqncB9KoXEo",
        "colab": {
          "base_uri": "https://localhost:8080/"
        },
        "outputId": "0da4f5ad-3df2-4b11-a1bb-2d855666f6ac"
      },
      "execution_count": 19,
      "outputs": [
        {
          "output_type": "stream",
          "name": "stdout",
          "text": [
            "shape of A =  (2000, 2000)\n",
            "shape of b =  (2000, 1)\n"
          ]
        }
      ]
    },
    {
      "cell_type": "markdown",
      "source": [
        "Calculate the condition number of A"
      ],
      "metadata": {
        "id": "8yaeBg24b5Vn"
      }
    },
    {
      "cell_type": "code",
      "source": [
        "print('condition number of A in 2-norm = ', LA.cond(A))"
      ],
      "metadata": {
        "colab": {
          "base_uri": "https://localhost:8080/"
        },
        "id": "msY7qiQDbrAK",
        "outputId": "6229a2aa-41e2-4b53-a40f-351a58af811f"
      },
      "execution_count": 20,
      "outputs": [
        {
          "output_type": "stream",
          "name": "stdout",
          "text": [
            "condition number of A in 2-norm =  1.5137468501953022\n"
          ]
        }
      ]
    },
    {
      "cell_type": "markdown",
      "source": [
        "Split the matrix into $D$, $L$ and $U$.\n",
        "\n",
        "Define `dAinv` to be $D^{-1}$."
      ],
      "metadata": {
        "id": "DIqrCT5Jb8Z2"
      }
    },
    {
      "cell_type": "code",
      "source": [
        "### Splitting A into D, L and U\n",
        "D = np.diag(A)\n",
        "dA = D.reshape(m,1)\n",
        "D = np.diag(D)\n",
        "U = np.triu(A, 1)\n",
        "L = A - D - U\n",
        "dAinv = np.reciprocal(dA)"
      ],
      "metadata": {
        "id": "R8sbX-rIRfIb"
      },
      "execution_count": 21,
      "outputs": []
    },
    {
      "cell_type": "markdown",
      "source": [
        "Jacobi iteration:\n",
        "$$\n",
        "x^{(k+1)} = D^{-1}(b - (L+U)x^{(k)}).\n",
        "$$\n",
        "* `mtrJ`: $L+U$\n",
        "* `xk`: $x^{(k)}$\n",
        "* `xkp1`: $x^{(k+1)}$\n",
        "\n",
        "We measure the residual $\\|b - Ax\\|$ and the difference between two steps $\\|x^{(k+1)}-x^{(k)}\\|$. "
      ],
      "metadata": {
        "id": "VIzEugLicMdO"
      }
    },
    {
      "cell_type": "code",
      "source": [
        "### Jacobi iteration\n",
        "mtrJ = L + U\n",
        "k = 0\n",
        "xk = b\n",
        "tolr = 1e-15\n",
        "itmx = 100\n",
        "\n",
        "b_inf = np.linalg.norm(b, np.inf)\n",
        "rel_res_inf = 1.0\n",
        "rel_dif_inf = 1.0\n",
        "\n",
        "print('')\n",
        "print('Jacobi iteration:')\n",
        "print('')\n",
        "\n",
        "while ( (rel_res_inf>tolr) and (rel_dif_inf>tolr) and (k<itmx) ):\n",
        "    # Jacobi iterative step\n",
        "    xkp1 = dAinv*(b - mtrJ.dot(xk))\n",
        "\n",
        "    # relative residual\n",
        "    res = b - np.matmul(A, xkp1)\n",
        "    rel_res_inf = np.linalg.norm(res, np.inf)/b_inf\n",
        "    dif = xkp1 - xk\n",
        "    rel_dif_inf = np.linalg.norm(dif, np.inf)/np.linalg.norm(xk, np.inf)\n",
        "    k += 1\n",
        "    print('Iter %4d, relative residual: %.4e, relative difference: %.4e' % (k, rel_res_inf, rel_dif_inf) )\n",
        "    xk = xkp1"
      ],
      "metadata": {
        "id": "4c_U8V_WTZqZ",
        "colab": {
          "base_uri": "https://localhost:8080/"
        },
        "outputId": "2ee78b36-bd21-4823-d4f3-5eac84797593"
      },
      "execution_count": 22,
      "outputs": [
        {
          "output_type": "stream",
          "name": "stdout",
          "text": [
            "\n",
            "Jacobi iteration:\n",
            "\n",
            "Iter    1, relative residual: 9.5120e+02, relative difference: 1.3151e+00\n",
            "Iter    2, relative residual: 4.7868e+02, relative difference: 1.4945e+00\n",
            "Iter    3, relative residual: 2.3913e+02, relative difference: 1.4972e+00\n",
            "Iter    4, relative residual: 1.1946e+02, relative difference: 1.5043e+00\n",
            "Iter    5, relative residual: 5.9677e+01, relative difference: 1.4902e+00\n",
            "Iter    6, relative residual: 2.9812e+01, relative difference: 1.5188e+00\n",
            "Iter    7, relative residual: 1.4893e+01, relative difference: 1.4580e+00\n",
            "Iter    8, relative residual: 7.4400e+00, relative difference: 1.5327e+00\n",
            "Iter    9, relative residual: 3.7168e+00, relative difference: 1.3066e+00\n",
            "Iter   10, relative residual: 1.8567e+00, relative difference: 1.5378e+00\n",
            "Iter   11, relative residual: 9.2756e-01, relative difference: 9.2271e-01\n",
            "Iter   12, relative residual: 4.6337e-01, relative difference: 1.5474e+00\n",
            "Iter   13, relative residual: 2.3148e-01, relative difference: 4.2379e-01\n",
            "Iter   14, relative residual: 1.1564e-01, relative difference: 3.5937e-01\n",
            "Iter   15, relative residual: 5.7770e-02, relative difference: 1.3371e-01\n",
            "Iter   16, relative residual: 2.8859e-02, relative difference: 7.6705e-02\n",
            "Iter   17, relative residual: 1.4417e-02, relative difference: 3.5719e-02\n",
            "Iter   18, relative residual: 7.2022e-03, relative difference: 1.8475e-02\n",
            "Iter   19, relative residual: 3.5980e-03, relative difference: 9.0718e-03\n",
            "Iter   20, relative residual: 1.7974e-03, relative difference: 4.5710e-03\n",
            "Iter   21, relative residual: 8.9791e-04, relative difference: 2.2737e-03\n",
            "Iter   22, relative residual: 4.4856e-04, relative difference: 1.1383e-03\n",
            "Iter   23, relative residual: 2.2408e-04, relative difference: 5.6804e-04\n",
            "Iter   24, relative residual: 1.1194e-04, relative difference: 2.8392e-04\n",
            "Iter   25, relative residual: 5.5923e-05, relative difference: 1.4180e-04\n",
            "Iter   26, relative residual: 2.7937e-05, relative difference: 7.0847e-05\n",
            "Iter   27, relative residual: 1.3956e-05, relative difference: 3.5390e-05\n",
            "Iter   28, relative residual: 6.9720e-06, relative difference: 1.7680e-05\n",
            "Iter   29, relative residual: 3.4830e-06, relative difference: 8.8321e-06\n",
            "Iter   30, relative residual: 1.7399e-06, relative difference: 4.4122e-06\n",
            "Iter   31, relative residual: 8.6921e-07, relative difference: 2.2042e-06\n",
            "Iter   32, relative residual: 4.3423e-07, relative difference: 1.1011e-06\n",
            "Iter   33, relative residual: 2.1692e-07, relative difference: 5.5008e-07\n",
            "Iter   34, relative residual: 1.0837e-07, relative difference: 2.7480e-07\n",
            "Iter   35, relative residual: 5.4136e-08, relative difference: 1.3728e-07\n",
            "Iter   36, relative residual: 2.7044e-08, relative difference: 6.8579e-08\n",
            "Iter   37, relative residual: 1.3510e-08, relative difference: 3.4259e-08\n",
            "Iter   38, relative residual: 6.7492e-09, relative difference: 1.7115e-08\n",
            "Iter   39, relative residual: 3.3716e-09, relative difference: 8.5498e-09\n",
            "Iter   40, relative residual: 1.6843e-09, relative difference: 4.2712e-09\n",
            "Iter   41, relative residual: 8.4143e-10, relative difference: 2.1337e-09\n",
            "Iter   42, relative residual: 4.2035e-10, relative difference: 1.0659e-09\n",
            "Iter   43, relative residual: 2.0999e-10, relative difference: 5.3249e-10\n",
            "Iter   44, relative residual: 1.0490e-10, relative difference: 2.6601e-10\n",
            "Iter   45, relative residual: 5.2405e-11, relative difference: 1.3289e-10\n",
            "Iter   46, relative residual: 2.6180e-11, relative difference: 6.6387e-11\n",
            "Iter   47, relative residual: 1.3078e-11, relative difference: 3.3164e-11\n",
            "Iter   48, relative residual: 6.5331e-12, relative difference: 1.6567e-11\n",
            "Iter   49, relative residual: 3.2639e-12, relative difference: 8.2763e-12\n",
            "Iter   50, relative residual: 1.6309e-12, relative difference: 4.1347e-12\n",
            "Iter   51, relative residual: 8.1416e-13, relative difference: 2.0657e-12\n",
            "Iter   52, relative residual: 4.0703e-13, relative difference: 1.0318e-12\n",
            "Iter   53, relative residual: 2.0293e-13, relative difference: 5.1554e-13\n",
            "Iter   54, relative residual: 1.0138e-13, relative difference: 2.5777e-13\n",
            "Iter   55, relative residual: 5.1811e-14, relative difference: 1.2877e-13\n",
            "Iter   56, relative residual: 2.5861e-14, relative difference: 6.4332e-14\n",
            "Iter   57, relative residual: 1.3469e-14, relative difference: 3.2332e-14\n",
            "Iter   58, relative residual: 7.7222e-15, relative difference: 1.6333e-14\n",
            "Iter   59, relative residual: 4.4897e-15, relative difference: 8.1109e-15\n",
            "Iter   60, relative residual: 3.0530e-15, relative difference: 4.2638e-15\n",
            "Iter   61, relative residual: 2.3346e-15, relative difference: 2.2777e-15\n",
            "Iter   62, relative residual: 1.9755e-15, relative difference: 1.2777e-15\n",
            "Iter   63, relative residual: 1.6163e-15, relative difference: 7.7776e-16\n"
          ]
        }
      ]
    },
    {
      "cell_type": "markdown",
      "source": [
        "Here we solve the system $Ax=b$ directly by `np.linalg.solve`. Denote this solution as `xs`."
      ],
      "metadata": {
        "id": "Q3MGeRQsdAb8"
      }
    },
    {
      "cell_type": "code",
      "source": [
        "### Solve linear system directly\n",
        "xs = np.linalg.solve(A, b)\n",
        "print('relative residual: ', np.linalg.norm(b - A.dot(xs), np.inf)/b_inf)"
      ],
      "metadata": {
        "colab": {
          "base_uri": "https://localhost:8080/"
        },
        "id": "-Ijd0WzECheo",
        "outputId": "0ae74295-98c7-4f0e-9418-ae41f04c8464"
      },
      "execution_count": 23,
      "outputs": [
        {
          "output_type": "stream",
          "name": "stdout",
          "text": [
            "relative residual:  3.771328343821646e-15\n"
          ]
        }
      ]
    },
    {
      "cell_type": "markdown",
      "source": [
        "The error between the solutions obtained using two approaches."
      ],
      "metadata": {
        "id": "c1t3_uAoeIHz"
      }
    },
    {
      "cell_type": "code",
      "source": [
        "# the error of the solution obtained using the Jacobi method\n",
        "err_jac = np.linalg.norm(xk-xe, np.inf)\n",
        "# the error of the solution obtained using the linear solver\n",
        "err_lin = np.linalg.norm(xs-xe, np.inf)\n",
        "print('Error of Jacobi = ', err_jac)\n",
        "print('Error of linalg.solve = ', err_lin)"
      ],
      "metadata": {
        "colab": {
          "base_uri": "https://localhost:8080/"
        },
        "id": "wksVmaduedSk",
        "outputId": "237c4750-0567-4864-fba4-e895b177f90b"
      },
      "execution_count": 24,
      "outputs": [
        {
          "output_type": "stream",
          "name": "stdout",
          "text": [
            "Error of Jacobi =  2.1094237467877974e-15\n",
            "Error of linalg.solve =  4.773959005888173e-15\n"
          ]
        }
      ]
    }
  ]
}