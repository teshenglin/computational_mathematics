{
  "nbformat": 4,
  "nbformat_minor": 0,
  "metadata": {
    "colab": {
      "name": "system_linear_equations.ipynb",
      "provenance": [],
      "collapsed_sections": [],
      "authorship_tag": "ABX9TyP7TQyU2G/NE7/VxFHHbZ71"
    },
    "kernelspec": {
      "name": "python3",
      "display_name": "Python 3"
    },
    "language_info": {
      "name": "python"
    }
  },
  "cells": [
    {
      "cell_type": "markdown",
      "source": [
        "# System of linear equations\n",
        "\n",
        ">    To solve $Ax=b$, where $A$ is an $n\\times n$ matrix.\n",
        "\n",
        "1. Pivoting\n"
      ],
      "metadata": {
        "id": "ugpohfyUTbhl"
      }
    },
    {
      "cell_type": "code",
      "source": [
        "import numpy as np"
      ],
      "metadata": {
        "id": "2IrnObixTdyp"
      },
      "execution_count": null,
      "outputs": []
    },
    {
      "cell_type": "markdown",
      "source": [
        "## Pivoting\n",
        "\n",
        "Consider the linear system: \n",
        "$$\n",
        "\\left[\\begin{matrix}\\epsilon & 1 \\\\ 1 & 1\\end{matrix}\\right]\n",
        "\\left[\\begin{matrix} x \\\\ y\\end{matrix}\\right] = \n",
        "\\left[\\begin{matrix} 1 \\\\ 2\\end{matrix}\\right]\n",
        "$$\n",
        "Without pivoting, the solution is given as\n",
        "$$\n",
        "y_1 = \\frac{2-1/\\epsilon}{1-1/\\epsilon}, \\quad x_1 = \\frac{1-y}{\\epsilon}.\n",
        "$$\n",
        "With pivoting, the solution is given as\n",
        "$$\n",
        "y_2 = \\frac{1-2\\epsilon}{1-\\epsilon}, \\quad x_2 = 2-y.\n",
        "$$\n"
      ],
      "metadata": {
        "id": "XPLs8THrTp8w"
      }
    },
    {
      "cell_type": "code",
      "execution_count": null,
      "metadata": {
        "id": "dQtEHpMmTXoI",
        "colab": {
          "base_uri": "https://localhost:8080/"
        },
        "outputId": "c3919467-ab39-418d-b59c-6be19d25a316"
      },
      "outputs": [
        {
          "output_type": "stream",
          "name": "stdout",
          "text": [
            "epsilon equals to  1e-16\n",
            "Without pivoting:  2.220446049250313 0.9999999999999998\n",
            "With    pivoting:  1.0 0.9999999999999999\n"
          ]
        }
      ],
      "source": [
        "eps = 10**(-16)\n",
        "y1 = (2.0-1.0/eps)/(1.0-1.0/eps)\n",
        "x1 = (1.0-y1)/eps\n",
        "y2 = (1.0-2.0*eps)/(1.0-eps)\n",
        "x2 = 2.0-y2\n",
        "print('epsilon equals to ', eps)\n",
        "print('Without pivoting: ', x1, y1)\n",
        "print('With    pivoting: ', x2, y2)"
      ]
    },
    {
      "cell_type": "markdown",
      "source": [
        "## Timing\n",
        "\n",
        "To have a feeling on the time requried between the following operations:\n",
        "1. matrix-vector multiplication: $A\\times b$\n",
        "2. Solve a linear system: $Ax=b$\n",
        "3. Solve a linear system by matrix inversion: $x=A^{-1}b$\n",
        "\n",
        "*Caution: *\n",
        "矩陣與向量乘法不能直接寫 A*b, 要用要用 np.matmul(A,b)"
      ],
      "metadata": {
        "id": "jokAMsqMG6Dd"
      }
    },
    {
      "cell_type": "code",
      "source": [
        "m = 2\n",
        "A = m*np.identity(m) + np.random.random((m,m))\n",
        "b = np.random.random((m,1))\n",
        "print('A= ')\n",
        "print(A)\n",
        "print('b= ')\n",
        "print(b)\n",
        "print('A*b= ')\n",
        "print(A*b)\n",
        "print('np.matmul= ')\n",
        "print(np.matmul(A,b))"
      ],
      "metadata": {
        "colab": {
          "base_uri": "https://localhost:8080/"
        },
        "id": "2ugP6zApMDMp",
        "outputId": "aa5e59eb-ca43-4766-b880-d018bb917eb1"
      },
      "execution_count": null,
      "outputs": [
        {
          "output_type": "stream",
          "name": "stdout",
          "text": [
            "A= \n",
            "[[2.79014313 0.02626708]\n",
            " [0.22434019 2.2497326 ]]\n",
            "b= \n",
            "[[0.38308052]\n",
            " [0.00761566]]\n",
            "A*b= \n",
            "[[1.06884949 0.01006241]\n",
            " [0.0017085  0.01713319]]\n",
            "np.matmul= \n",
            "[[1.06904953]\n",
            " [0.10307355]]\n"
          ]
        }
      ]
    },
    {
      "cell_type": "code",
      "source": [
        "from timeit import timeit"
      ],
      "metadata": {
        "id": "9Q_acalhDqPU"
      },
      "execution_count": null,
      "outputs": []
    },
    {
      "cell_type": "code",
      "source": [
        "def multiplicationtime():\n",
        "  return np.matmul(A, b)\n",
        "def solvetime():\n",
        "  return np.linalg.solve(A, b)\n",
        "def solveinvtime():\n",
        "  return np.linalg.inv(A)*b"
      ],
      "metadata": {
        "id": "F0Ypp-jgD3Yn"
      },
      "execution_count": null,
      "outputs": []
    },
    {
      "cell_type": "markdown",
      "source": [
        "Generate a $m\\times m$ non-singular random matrix $A$ and a $m\\times 1$ random vector $b$."
      ],
      "metadata": {
        "id": "_BRBA-y0Jije"
      }
    },
    {
      "cell_type": "code",
      "source": [
        "m = 2000\n",
        "A = m*np.identity(m) + np.random.random((m,m))\n",
        "b = np.random.random((m,1))"
      ],
      "metadata": {
        "id": "ptHDT84vUWEw"
      },
      "execution_count": null,
      "outputs": []
    },
    {
      "cell_type": "code",
      "source": [
        "print('m=   ', m)\n",
        "print('The time takes for A times b is ', timeit(stmt=multiplicationtime, number=10))\n",
        "print('The time takes for solving Ax=b is ', timeit(stmt=solvetime, number=10))\n",
        "print('The time takes for A^(-1) times b is ', timeit(stmt=solveinvtime, number=10))"
      ],
      "metadata": {
        "colab": {
          "base_uri": "https://localhost:8080/"
        },
        "id": "I3xDbMySDcOv",
        "outputId": "ddaa1a7d-cfb4-4826-a944-3bf665ee0016"
      },
      "execution_count": null,
      "outputs": [
        {
          "output_type": "stream",
          "name": "stdout",
          "text": [
            "m=    2000\n",
            "The time takes for A times b is  0.032167476000267925\n",
            "The time takes for solving Ax=b is  2.4206090729999232\n",
            "The time takes for A^(-1) times b is  7.981646703000024\n"
          ]
        }
      ]
    }
  ]
}