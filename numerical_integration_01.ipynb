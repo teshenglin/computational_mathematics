{
 "cells": [
  {
   "cell_type": "markdown",
   "metadata": {},
   "source": [
    "# Section: Numerical integration - Lecture 1\n",
    "\n",
    "**Goal:** Given a function $f(x)$, $a\\le x\\le b$, we want to evaluate or approximate $\\int^b_{a} f(x)dx$."
   ]
  },
  {
   "cell_type": "markdown",
   "metadata": {},
   "source": [
    "## [1] Integration via Polynomial Interpolation\n",
    "Suppose that we want to approximate $\\int_a^b f(x) dx$. We can select nodes $x_0,x_1,\\cdots,x_n$ in $[a,b]$ and set up a Langrange interpolation process by defining\n",
    "$$\\ell_i(x) = \\prod\\limits_{j=0\\\\j\\neq i}^{n}\\frac{x-x_j}{x_i-x_j}, \\quad 0\\leq i\\leq n. \\quad p(x)=\\sum\\limits_{i=0}^nf(x_i)\\ell_i(x).$$\n",
    "Then\n",
    "$$\\int_a^b f(x)dx \\approx \\int_a^b p(x)dx = \\sum\\limits_{i=0}^nf(x_i)\\int_a^b\\ell_i(x)dx.$$\n",
    "We obtain that\n",
    "$$\\int_a^bf(x)dx \\approx \\sum\\limits_{i=0}^nA_if(x_i),\\text{ where }A_i = \\int_a^b\\ell_i(x)dx$$\n",
    "This gives us a fourmula how an integration can be approximate numerically.\n",
    "\n",
    "So, the integration depends on how the nodes $x_0,x_1,\\cdots,x_n$ being chosen. An example is the so-called **Newton-Cotes formula** where the nodes are equally spaced."
   ]
  },
  {
   "cell_type": "markdown",
   "metadata": {},
   "source": [
    "We define a function to evaluate the integral."
   ]
  },
  {
   "cell_type": "markdown",
   "metadata": {},
   "source": [
    "We then evaluate the absolute difference between the numerical approximated integration and the exact integration value. We \"hope\" that as the number of points increases, the error will decreases."
   ]
  },
  {
   "cell_type": "markdown",
   "metadata": {},
   "source": [
    "### [1.1] Midpoint rule\n",
    "\n",
    "Suppose we want to use one single point to approximate the integral, then $n=0$ and the natural choice is the midpoint $x_0 = \\frac{a+b}{2}$. Therefore\n",
    "$$ \\int^b_a f(x)dx \\approx (b-a) f\\left(\\frac{a+b}{2}\\right) $$\n",
    "\n",
    "More generally, consider equally spaced nodes $a=x_0<x_1\\cdots<x_n=b$, where $x_i=a + i\\Delta x$, $\\Delta x = \\frac{b-a}{n}$. If we use midpoint rule in each interval $[x_{i-1},x_{i}]$, then \n",
    "$$\\int_a^b f(x)dx \\approx \\sum\\limits_{i=1}^n \\Delta x f(x_i^*)$$\n",
    "where $x_i^* = (x_{i-1} + x_{i})/2$.\n",
    "\n",
    "An illustration of the midpoint rule is shown in the following figure:\n",
    "![midpoint](midpoint.png)"
   ]
  },
  {
   "cell_type": "markdown",
   "metadata": {},
   "source": [
    "<div style=\"page-break-after: always; visibility: hidden\"> \n",
    "\\pagebreak \n",
    "</div>\n",
    "\n",
    "#### Example 1\n",
    "\n",
    "Evaulate $\\int_{-1}^1 e^x dx$ using the Midpoint rule with equally spaced nodes for $n=10,100,1000$. Note that the exact solution for this integral is $e - \\frac{1}{e}$."
   ]
  },
  {
   "cell_type": "code",
   "execution_count": 1,
   "metadata": {},
   "outputs": [
    {
     "data": {
      "text/plain": [
       "2.3504023872876028"
      ]
     },
     "execution_count": 1,
     "metadata": {},
     "output_type": "execute_result"
    }
   ],
   "source": [
    "exact = exp(1) - exp(-1)"
   ]
  },
  {
   "cell_type": "markdown",
   "metadata": {},
   "source": [
    "We define a function to evaluate the integral."
   ]
  },
  {
   "cell_type": "code",
   "execution_count": 2,
   "metadata": {},
   "outputs": [
    {
     "data": {
      "text/plain": [
       "Midpoint (generic function with 1 method)"
      ]
     },
     "execution_count": 2,
     "metadata": {},
     "output_type": "execute_result"
    }
   ],
   "source": [
    "function Midpoint(f::Function,n)\n",
    "    xi = range(-1,1;length=n+1)\n",
    "    xi_s = zeros(n)\n",
    "    for i=1:n\n",
    "        xi_s[i] = (xi[i] + xi[i+1])/2\n",
    "    end\n",
    "    sum=0\n",
    "    for i=1:n\n",
    "        sum=sum+(f(xi_s[i]))*(2/n)\n",
    "    end\n",
    "    return sum\n",
    "end"
   ]
  },
  {
   "cell_type": "markdown",
   "metadata": {},
   "source": [
    "For different number of points, the error between the numerical approximation and the exact value are shown in the following:"
   ]
  },
  {
   "cell_type": "code",
   "execution_count": 3,
   "metadata": {},
   "outputs": [
    {
     "data": {
      "text/plain": [
       "0.003912771899297507"
      ]
     },
     "execution_count": 3,
     "metadata": {},
     "output_type": "execute_result"
    }
   ],
   "source": [
    "abs(Midpoint(exp,10)-exact)"
   ]
  },
  {
   "cell_type": "code",
   "execution_count": 4,
   "metadata": {},
   "outputs": [
    {
     "data": {
      "text/plain": [
       "3.917291610378015e-5"
      ]
     },
     "execution_count": 4,
     "metadata": {},
     "output_type": "execute_result"
    }
   ],
   "source": [
    "abs(Midpoint(exp,100)-exact)"
   ]
  },
  {
   "cell_type": "code",
   "execution_count": 5,
   "metadata": {},
   "outputs": [
    {
     "data": {
      "text/plain": [
       "3.9173368460154734e-7"
      ]
     },
     "execution_count": 5,
     "metadata": {},
     "output_type": "execute_result"
    }
   ],
   "source": [
    "abs(Midpoint(exp,1000)-exact)"
   ]
  },
  {
   "cell_type": "markdown",
   "metadata": {},
   "source": [
    "<div style=\"page-break-after: always; visibility: hidden\"> \n",
    "\\pagebreak \n",
    "</div>\n",
    "\n",
    "### [1.2] Trapezoidal rule\n",
    "\n",
    "Suppose we want to approximate the integral using two points and we choose the two end points $x_0=a$ and $x_1=b$, we obtian\n",
    "$$\\int_a^b f(x)dx \\approx \\frac{b-a}{2}[f(a)+f(b)].$$\n",
    "\n",
    "More generally, if we choose nodes $x_0,x_1,\\cdots,x_n$ and we use trapezoidal rule to approximate the integral in each subinterval, we have\n",
    "$$\\int_a^bf(x)dx \\approx \\sum\\limits_{i=1}^{n} \\frac{f(x_{i-1})+f(x_i)}{2}\\Delta x_i,\\text{ where } \\Delta x_i = x_i -x_{i-1}.$$\n",
    "\n",
    "An illustration of the trapezoidal rule is shown in the following figure:\n",
    "![trapezoidal](trapezoidal.png)\n",
    "\n",
    "See Trapezoidal rule in [wiki](https://en.wikipedia.org/wiki/Trapezoidal_rule) for further details."
   ]
  },
  {
   "cell_type": "markdown",
   "metadata": {},
   "source": [
    "<div style=\"page-break-after: always; visibility: hidden\"> \n",
    "\\pagebreak \n",
    "</div>\n",
    "\n",
    "#### Example 1\n",
    "\n",
    "Evaulate $\\int_{-1}^1 e^x dx$ using the trapezoidal rule with equally spaced nodes for $n=10,100,1000$."
   ]
  },
  {
   "cell_type": "code",
   "execution_count": 6,
   "metadata": {},
   "outputs": [
    {
     "data": {
      "text/plain": [
       "Trapezoidal (generic function with 1 method)"
      ]
     },
     "execution_count": 6,
     "metadata": {},
     "output_type": "execute_result"
    }
   ],
   "source": [
    "function Trapezoidal(f::Function,n::Int)\n",
    "    xi = range(-1,1;length=n+1)\n",
    "    sum=0\n",
    "    for i=1:n\n",
    "        sum=sum+((f(xi[i])+f(xi[i+1]))/2)*(xi[2]-xi[1])\n",
    "    end\n",
    "    return sum\n",
    "end"
   ]
  },
  {
   "cell_type": "code",
   "execution_count": 7,
   "metadata": {},
   "outputs": [
    {
     "data": {
      "text/plain": [
       "0.00782945647730271"
      ]
     },
     "execution_count": 7,
     "metadata": {},
     "output_type": "execute_result"
    }
   ],
   "source": [
    "abs(Trapezoidal(exp,10)-exact)"
   ]
  },
  {
   "cell_type": "code",
   "execution_count": 8,
   "metadata": {},
   "outputs": [
    {
     "data": {
      "text/plain": [
       "7.834622393865232e-5"
      ]
     },
     "execution_count": 8,
     "metadata": {},
     "output_type": "execute_result"
    }
   ],
   "source": [
    "abs(Trapezoidal(exp,100)-exact)"
   ]
  },
  {
   "cell_type": "code",
   "execution_count": 9,
   "metadata": {},
   "outputs": [
    {
     "data": {
      "text/plain": [
       "7.834674118356588e-7"
      ]
     },
     "execution_count": 9,
     "metadata": {},
     "output_type": "execute_result"
    }
   ],
   "source": [
    "abs(Trapezoidal(exp,1000)-exact)"
   ]
  },
  {
   "cell_type": "markdown",
   "metadata": {},
   "source": [
    "<div style=\"page-break-after: always; visibility: hidden\"> \n",
    "\\pagebreak \n",
    "</div>\n",
    "\n",
    "### [1.3] Simpson's rule\n",
    "\n",
    "Suppose we want to use three points to approximate the integral and we choose the two end points and the midpoint, that is, $x_0=a$, $x_1=\\frac{a+b}{2}$ and $x_2=b$, this gives us\n",
    "$$\\int_a^bf(x)dx \\approx \\frac{b-a}{6}\\left[f(a) + 4f\\left(\\frac{a+b}{2}\\right) + f(b) \\right]$$\n",
    "This is called the Simpson's rule.\n",
    "\n",
    "More genrally, we have\n",
    "$$\\int_a^b f(x)dx \\approx \\frac{b-a}{3n} \\left[ f(x_0) + 4f(x_1) + 2f(x_2) + 4f(x_3) + 2f(x_4) + \\cdots + 4f(x_{n-1}) + f(x_n) \\right] $$\n",
    "for equally spaced nodes $x_0,x_1,\\cdots,x_n$ and even $n$.\n",
    "\n",
    "See Simpson's rule in [wiki](https://en.wikipedia.org/wiki/Simpson%27s_rule) for further details."
   ]
  },
  {
   "cell_type": "markdown",
   "metadata": {},
   "source": [
    "<div style=\"page-break-after: always; visibility: hidden\"> \n",
    "\\pagebreak \n",
    "</div>\n",
    "\n",
    "#### Example 3\n",
    "\n",
    "Evaulate $\\int_{-1}^1 e^x dx$ using the Simpson's rule with equally spaced nodes for $n=10,100,1000$.\n",
    "\n",
    "We define a function to evaulate the integral."
   ]
  },
  {
   "cell_type": "code",
   "execution_count": 10,
   "metadata": {},
   "outputs": [
    {
     "data": {
      "text/plain": [
       "Simpson (generic function with 1 method)"
      ]
     },
     "execution_count": 10,
     "metadata": {},
     "output_type": "execute_result"
    }
   ],
   "source": [
    "function Simpson(f::Function, n::Int)\n",
    "    x_i = range(-1,1;length=n+1)\n",
    "    sum=0\n",
    "    for i=1:n+1\n",
    "        if (i==1 || i== n+1)\n",
    "            sum = sum + (2/(3*n))*f(x_i[i])\n",
    "        elseif (i%2 == 0)\n",
    "            sum = sum + 4*(2/(3*n))*f(x_i[i])\n",
    "        else\n",
    "            sum = sum + 2*(2/(3*n))*f(x_i[i])\n",
    "        end\n",
    "    end\n",
    "    return sum\n",
    "end"
   ]
  },
  {
   "cell_type": "code",
   "execution_count": 11,
   "metadata": {},
   "outputs": [
    {
     "data": {
      "text/plain": [
       "2.079339388094681e-5"
      ]
     },
     "execution_count": 11,
     "metadata": {},
     "output_type": "execute_result"
    }
   ],
   "source": [
    "abs(Simpson(exp,10)-exact)"
   ]
  },
  {
   "cell_type": "code",
   "execution_count": 12,
   "metadata": {},
   "outputs": [
    {
     "data": {
      "text/plain": [
       "2.089148409822883e-9"
      ]
     },
     "execution_count": 12,
     "metadata": {},
     "output_type": "execute_result"
    }
   ],
   "source": [
    "abs(Simpson(exp,100)-exact)"
   ]
  },
  {
   "cell_type": "code",
   "execution_count": 13,
   "metadata": {},
   "outputs": [
    {
     "data": {
      "text/plain": [
       "2.0961010704922955e-13"
      ]
     },
     "execution_count": 13,
     "metadata": {},
     "output_type": "execute_result"
    }
   ],
   "source": [
    "abs(Simpson(exp,1000)-exact)"
   ]
  },
  {
   "cell_type": "markdown",
   "metadata": {},
   "source": [
    "<div style=\"page-break-after: always; visibility: hidden\"> \n",
    "\\pagebreak \n",
    "</div>\n",
    "\n",
    "## Conclusion\n",
    "\n",
    "A comparison between the results of the above three methods is shown in the following\n",
    "\n",
    " n\\Method    | Midpoint | Trapezoidal  | Simpson's \n",
    " -------- | -------- | -------- | -------- \n",
    " 10 | 3.91e-3| 7.83e-3  | 2.08e-5\n",
    " 100 | 3.92e-5| 7.83e-5  | 2.09e-9\n",
    " 1000 | 3.92e-7| 7.83e-7  | 2.10e-13\n",
    " \n",
    "In particular, one can see that the Midpoint rule and Trapezoidal rule  both have error in the order $O(n^{-2})$ while the error in Simpson's method is $O(n^{-4})$.\n",
    "\n",
    "Furthermore, as we pointed out in the very begining of this lecture, the Newton Cotes formula are groups of formula of numerical quadrature rule in equally spaced points. See Newton–Cotes formulas in [wiki](https://en.wikipedia.org/wiki/Newton–Cotes_formulas) for further details."
   ]
  }
 ],
 "metadata": {
  "@webio": {
   "lastCommId": null,
   "lastKernelId": null
  },
  "kernelspec": {
   "display_name": "Julia 1.1.0",
   "language": "julia",
   "name": "julia-1.1"
  },
  "language_info": {
   "file_extension": ".jl",
   "mimetype": "application/julia",
   "name": "julia",
   "version": "1.1.0"
  }
 },
 "nbformat": 4,
 "nbformat_minor": 2
}
