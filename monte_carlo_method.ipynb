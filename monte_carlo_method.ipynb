{
 "cells": [
  {
   "cell_type": "markdown",
   "metadata": {},
   "source": [
    "# Section: Monte Carlo Method\n",
    "Monte Carlo method is a class of algorithms that relys on repeated random sampling to obtain numerical results. They are often used in physical and mathematical problems and are most useful when it is difficult or impossible to use other approaches. In mathematics, it can be used to solve integration, simulation, optimization, inverse problems, etc.\n",
    "\n",
    "## Monte Carlo Integration\n",
    "Monte Carlo integration is a technique for numerical integration using random numbers. This method is particularly useful for higher-dimensional integrals.\n",
    "\n",
    "Consider a function $f(x):\\Omega \\to \\mathbb{R}$ defined on $\\Omega \\subset \\mathbb{R}^m$. We wish to calculate \n",
    "$$I:=\\int_\\Omega f(x)dx.$$\n",
    "Let\n",
    "$$V:=\\int_\\Omega 1dx$$\n",
    "be the volume of $\\Omega$, and\n",
    "$$x_1,x_2,\\cdots,x_n\\in\\Omega$$\n",
    "are $n$ random points chosen uniformly in $\\Omega$.\n",
    "\n",
    "Then\n",
    "$$I = \\lim\\limits_{n\\to \\infty}V\\frac{1}{n}\\sum\\limits_{i=1}^{n}f(x_i).$$\n",
    "\n",
    "Therefore, $I$ can be aprroximated by\n",
    "$$I \\approx V\\frac{1}{n}\\sum\\limits_{i=1}^{n}f(x_i).$$\n",
    "This can be proved by the law of large numbers.\n",
    "\n",
    "References : [Monte Carlo integration](https://en.wikipedia.org/wiki/Monte_Carlo_integration), [Monte Carlo method](https://en.wikipedia.org/wiki/Monte_Carlo_method)"
   ]
  },
  {
   "cell_type": "markdown",
   "metadata": {},
   "source": [
    "## Example 1: Estimating $\\pi$\n",
    "\n",
    "We can use Monte Carlo Method to estimate $\\pi$. Or in other words, estimate the area of the unit circle.\n",
    "\n",
    "Consider the function\n",
    "$$    f(x)= \n",
    "\\begin{cases}\n",
    "    1,& \\text{if } \\|x\\|_2^2<1\\\\\n",
    "    0,              & \\text{otherwise}\n",
    "\\end{cases}$$\n",
    "and $\\Omega = [0,1]\\times[0,1]$ with $V=1$.\n",
    "\n",
    "Consider $n$ random points $\\{x_i\\}_{i=1}^{n}$ in $\\Omega$.\n",
    "Then \n",
    "$$\\frac{\\pi}{4}=I \\approx \\frac{1}{n}\\sum\\limits_{i=1}^{n}f(x_i).$$\n",
    "\n",
    "So \n",
    "$$\\pi \\approx 4\\frac{1}{n}\\sum\\limits_{i=1}^{n}f(x_i).$$\n",
    "\n",
    "Or in other words,\n",
    "\n",
    "$$\\pi \\approx 4\\times\\frac{\\text{# of points that generated inside the quarter circle}}{\\text{# of total generated points in }[0,1]\\times[0,1]}.$$"
   ]
  },
  {
   "cell_type": "markdown",
   "metadata": {},
   "source": [
    "We now apply this method with different size of $n$."
   ]
  },
  {
   "cell_type": "code",
   "execution_count": 1,
   "metadata": {},
   "outputs": [],
   "source": [
    "# We need the LinearAlgebra Package to calculate norm\n",
    "using LinearAlgebra"
   ]
  },
  {
   "cell_type": "code",
   "execution_count": 2,
   "metadata": {},
   "outputs": [
    {
     "data": {
      "text/plain": [
       "2-element Array{Float64,1}:\n",
       " 0.5956055847508064 \n",
       " 0.25257545778689194"
      ]
     },
     "execution_count": 2,
     "metadata": {},
     "output_type": "execute_result"
    }
   ],
   "source": [
    "# We use rand(2) to construct a random point in [0,1]x[0,1]\n",
    "x1 = rand(2)"
   ]
  },
  {
   "cell_type": "code",
   "execution_count": 3,
   "metadata": {},
   "outputs": [
    {
     "name": "stdout",
     "output_type": "stream",
     "text": [
      "2.96\n"
     ]
    }
   ],
   "source": [
    "# Setup parameter n\n",
    "n=10^2;\n",
    "\n",
    "# pi_mc: the number of points that is inside the quarter circle\n",
    "pi_mc = 0;\n",
    "\n",
    "# Run the loop for i=1...n\n",
    "for ii=1:n\n",
    "    # Uniformly choose a random point in [0,1]x[0,1]\n",
    "    x1 = rand(2);\n",
    "    \n",
    "    # Determine if the point lies in the quarter circle\n",
    "    if(norm(x1,2)<1);\n",
    "        pi_mc = pi_mc+1;\n",
    "    end\n",
    "end\n",
    "\n",
    "# Print the approximation of pi\n",
    "println(4*pi_mc/n)"
   ]
  },
  {
   "cell_type": "code",
   "execution_count": 4,
   "metadata": {},
   "outputs": [
    {
     "name": "stdout",
     "output_type": "stream",
     "text": [
      "3.104\n"
     ]
    }
   ],
   "source": [
    "# Setup parameter n\n",
    "n=10^3;\n",
    "\n",
    "# pi_mc: the number of points that is inside the quarter circle\n",
    "pi_mc = 0;\n",
    "\n",
    "# Run the loop for i=1...n\n",
    "for ii=1:n\n",
    "    # Uniformly choose a random point in [0,1]x[0,1]\n",
    "    x1 = rand(2);\n",
    "    \n",
    "    # Determine if the point lies in the quarter circle\n",
    "    if(norm(x1,2)<1);\n",
    "        pi_mc = pi_mc+1;\n",
    "    end\n",
    "end\n",
    "\n",
    "# Print the approximation of pi\n",
    "println(4*pi_mc/n)"
   ]
  },
  {
   "cell_type": "code",
   "execution_count": 5,
   "metadata": {},
   "outputs": [
    {
     "name": "stdout",
     "output_type": "stream",
     "text": [
      "3.1428\n"
     ]
    }
   ],
   "source": [
    "# Setup parameter n\n",
    "n=10^4;\n",
    "\n",
    "# pi_mc: the number of points that is inside the quarter circle\n",
    "pi_mc = 0;\n",
    "\n",
    "# Run the loop for i=1...n\n",
    "for ii=1:n\n",
    "    # Uniformly choose a random point in [0,1]x[0,1]\n",
    "    x1 = rand(2);\n",
    "    \n",
    "    # Determine if the point lies in the quarter circle\n",
    "    if(norm(x1,2)<1);\n",
    "        pi_mc = pi_mc+1;\n",
    "    end\n",
    "end\n",
    "\n",
    "# Print the approximation of pi\n",
    "println(4*pi_mc/n)"
   ]
  },
  {
   "cell_type": "code",
   "execution_count": 6,
   "metadata": {},
   "outputs": [
    {
     "name": "stdout",
     "output_type": "stream",
     "text": [
      "3.14628\n"
     ]
    }
   ],
   "source": [
    "# Setup parameter n\n",
    "n=10^5;\n",
    "\n",
    "# pi_mc: the number of points that is inside the quarter circle\n",
    "pi_mc = 0;\n",
    "\n",
    "# Run the loop for i=1...n\n",
    "for ii=1:n\n",
    "    # Uniformly choose a random point in [0,1]x[0,1]\n",
    "    x1 = rand(2);\n",
    "    \n",
    "    # Determine if the point lies in the quarter circle\n",
    "    if(norm(x1,2)<1);\n",
    "        pi_mc = pi_mc+1;\n",
    "    end\n",
    "end\n",
    "\n",
    "# Print the approximation of pi\n",
    "println(4*pi_mc/n)"
   ]
  },
  {
   "cell_type": "code",
   "execution_count": 7,
   "metadata": {},
   "outputs": [
    {
     "name": "stdout",
     "output_type": "stream",
     "text": [
      "3.139936\n"
     ]
    }
   ],
   "source": [
    "# Setup parameter n\n",
    "n=10^6;\n",
    "\n",
    "# pi_mc: the number of points that is inside the quarter circle\n",
    "pi_mc = 0;\n",
    "\n",
    "# Run the loop for i=1...n\n",
    "for ii=1:n\n",
    "    # Uniformly choose a random point in [0,1]x[0,1]\n",
    "    x1 = rand(2);\n",
    "    \n",
    "    # Determine if the point lies in the quarter circle\n",
    "    if(norm(x1,2)<1);\n",
    "        pi_mc = pi_mc+1;\n",
    "    end\n",
    "end\n",
    "\n",
    "# Print the approximation of pi\n",
    "println(4*pi_mc/n)"
   ]
  },
  {
   "cell_type": "code",
   "execution_count": 8,
   "metadata": {},
   "outputs": [
    {
     "name": "stdout",
     "output_type": "stream",
     "text": [
      "3.1419532\n"
     ]
    }
   ],
   "source": [
    "# Setup parameter n\n",
    "n=10^7;\n",
    "\n",
    "# pi_mc: the number of points that is inside the quarter circle\n",
    "pi_mc = 0;\n",
    "\n",
    "# Run the loop for i=1...n\n",
    "for ii=1:n\n",
    "    # Uniformly choose a random point in [0,1]x[0,1]\n",
    "    x1 = rand(2);\n",
    "    \n",
    "    # Determine if the point lies in the quarter circle\n",
    "    if(norm(x1,2)<1);\n",
    "        pi_mc = pi_mc+1;\n",
    "    end\n",
    "end\n",
    "\n",
    "# Print the approximation of pi\n",
    "println(4*pi_mc/n)"
   ]
  },
  {
   "cell_type": "code",
   "execution_count": 9,
   "metadata": {},
   "outputs": [
    {
     "name": "stdout",
     "output_type": "stream",
     "text": [
      "3.14167776\n"
     ]
    }
   ],
   "source": [
    "# Setup parameter n\n",
    "n=10^8;\n",
    "\n",
    "# pi_mc: the number of points that is inside the quarter circle\n",
    "pi_mc = 0;\n",
    "\n",
    "# Run the loop for i=1...n\n",
    "for ii=1:n\n",
    "    # Uniformly choose a random point in [0,1]x[0,1]\n",
    "    x1 = rand(2);\n",
    "    \n",
    "    # Determine if the point lies in the quarter circle\n",
    "    if(norm(x1,2)<1);\n",
    "        pi_mc = pi_mc+1;\n",
    "    end\n",
    "end\n",
    "\n",
    "# Print the approximation of pi\n",
    "println(4*pi_mc/n)"
   ]
  },
  {
   "cell_type": "markdown",
   "metadata": {},
   "source": [
    "## Example 2\n",
    "Continued by Example 1, for each $k=1,2,3,...,10$, take a random point $y_k = [y_{k1}, y_{k2}]^{\\top}$, consider\n",
    "$$\\hat{y_{k1}}= \\frac{1}{10}(y_{k1} + (k-1)),$$\n",
    "$$ x_i^{(k)} =  [\\hat{y_{k1}}, y_{k2}]^{\\top},$$\n",
    "\n",
    "and we have points $x_i^{(1)},x_i^{(2)},\\cdots,x_i^{(10)}$. By doing this for $i=1,\\cdots,n$, we get $10n$ points in total.\n",
    "\n",
    "Now apply Monte Carlo method to these $10n$ points."
   ]
  },
  {
   "cell_type": "code",
   "execution_count": 10,
   "metadata": {},
   "outputs": [
    {
     "name": "stdout",
     "output_type": "stream",
     "text": [
      "3.1474\n"
     ]
    }
   ],
   "source": [
    "# Setup parameter n\n",
    "n=10^4;\n",
    "\n",
    "# pi_mc: the number of points that is inside the quarter circle\n",
    "pi_mc = 0;\n",
    "\n",
    "# Run the loop for 1...n\n",
    "for nn=1:n\n",
    "    for ii=1:10\n",
    "        # Uniformly choose a random point in [0,1]x[0,1]\n",
    "        x1 = rand(2);\n",
    "        \n",
    "        # Do the transformation to the point\n",
    "        x1[1] = (x1[1] + (ii-1))*0.1;\n",
    "        \n",
    "        # Determine if the point lies in the quarter circle\n",
    "        if(norm(x1,2)<1);\n",
    "            pi_mc = pi_mc+1;\n",
    "        end\n",
    "    end\n",
    "end\n",
    "\n",
    "# Print the approximation of pi\n",
    "println(4*pi_mc/(10*n))"
   ]
  },
  {
   "cell_type": "markdown",
   "metadata": {},
   "source": [
    "Now what if we do this to both $x$ and $y$ coordinate?"
   ]
  },
  {
   "cell_type": "code",
   "execution_count": 11,
   "metadata": {},
   "outputs": [
    {
     "data": {
      "text/plain": [
       "2-element Array{Float64,1}:\n",
       " 0.7852924224178304\n",
       " 0.7037836038995706"
      ]
     },
     "execution_count": 11,
     "metadata": {},
     "output_type": "execute_result"
    }
   ],
   "source": [
    "rand(2)"
   ]
  },
  {
   "cell_type": "code",
   "execution_count": 12,
   "metadata": {},
   "outputs": [
    {
     "name": "stdout",
     "output_type": "stream",
     "text": [
      "2.9756\n"
     ]
    }
   ],
   "source": [
    "# Setup parameter n\n",
    "n=100;\n",
    "\n",
    "# pi_mc: the number of points that is inside the quarter circle\n",
    "pi_mc = 0;\n",
    "\n",
    "# Run the loop for 1...n\n",
    "for nn=1:n\n",
    "    for ii=1:10\n",
    "        # Uniformly choose a random point in [0,1]x[0,1]\n",
    "        x1 = rand(2);\n",
    "        \n",
    "        for jj=1:10\n",
    "            # Do the transformation to the point\n",
    "            x1[1] = (x1[1] + (ii-1))*0.1;\n",
    "            x1[2] = (x1[2] + (jj-1))*0.1;\n",
    "            \n",
    "            # Determine if the point lies in the quarter circle\n",
    "            if(norm(x1,2)<1);\n",
    "                pi_mc = pi_mc+1;\n",
    "            end          \n",
    "        end\n",
    "    end\n",
    "end\n",
    "\n",
    "# Print the approximation of pi\n",
    "println(4*pi_mc/(100*n))"
   ]
  },
  {
   "cell_type": "code",
   "execution_count": 13,
   "metadata": {},
   "outputs": [
    {
     "name": "stdout",
     "output_type": "stream",
     "text": [
      "2.97744\n"
     ]
    }
   ],
   "source": [
    "# Setup parameter n\n",
    "n=1000;\n",
    "\n",
    "# pi_mc: the number of points that is inside the quarter circle\n",
    "pi_mc = 0;\n",
    "\n",
    "# Run the loop for 1...n\n",
    "for nn=1:n\n",
    "    for ii=1:10\n",
    "        # Uniformly choose a random point in [0,1]x[0,1]\n",
    "        x1 = rand(2);\n",
    "        \n",
    "        for jj=1:10\n",
    "            # Do the transformation to the point\n",
    "            x1[1] = (x1[1] + (ii-1))*0.1;\n",
    "            x1[2] = (x1[2] + (jj-1))*0.1;\n",
    "            \n",
    "            # Determine if the point lies in the quarter circle\n",
    "            if(norm(x1,2)<1);\n",
    "                pi_mc = pi_mc+1;\n",
    "            end\n",
    "        end\n",
    "    end\n",
    "end\n",
    "\n",
    "# Print the approximation of pi\n",
    "println(4*pi_mc/(100*n))"
   ]
  },
  {
   "cell_type": "code",
   "execution_count": 14,
   "metadata": {},
   "outputs": [
    {
     "name": "stdout",
     "output_type": "stream",
     "text": [
      "2.97720912\n"
     ]
    }
   ],
   "source": [
    "# Setup parameter n\n",
    "n=1000000;\n",
    "\n",
    "# pi_mc: the number of points that is inside the quarter circle\n",
    "pi_mc = 0;\n",
    "\n",
    "# Run the loop for 1...n\n",
    "for nn=1:n\n",
    "    for ii=1:10\n",
    "        # Uniformly choose a random point in [0,1]x[0,1]\n",
    "        x1 = rand(2);\n",
    "        for jj=1:10\n",
    "            # Do the transformation to the point\n",
    "            x1[1] = (x1[1] + (ii-1))*0.1;\n",
    "            x1[2] = (x1[2] + (jj-1))*0.1;\n",
    "            \n",
    "            # Determine if the point lies in the quarter circle\n",
    "            if(norm(x1,2)<1);\n",
    "                pi_mc = pi_mc+1;\n",
    "            end\n",
    "        end\n",
    "    end\n",
    "end\n",
    "\n",
    "# Print the approximation of pi\n",
    "println(4*pi_mc/(100*n))"
   ]
  },
  {
   "cell_type": "markdown",
   "metadata": {},
   "source": [
    "## Summary\n",
    "1. We have shown how one can use Monte Carlo method to approximate $\\pi$ in Example 1. We see that as $n$ becomes large, the solution seems to aprroximate $\\pi$ better. Here are some questions:\n",
    "\n",
    "    * What is the convergence rate of the method? Is it fast/slow?\n",
    "    * How can we estimate the error between the aprroximated solution and the real solution for each $n$?\n",
    "    \n",
    "\n",
    "2. In Example 2, we see that they do not aprroximate the desired solution well as in Example 1.\n",
    "\n",
    "    * Why does this happen?\n",
    "    * What is the condition about choosing the random points if we want a better approximation?"
   ]
  }
 ],
 "metadata": {
  "@webio": {
   "lastCommId": null,
   "lastKernelId": null
  },
  "kernelspec": {
   "display_name": "Julia 1.0.3",
   "language": "julia",
   "name": "julia-1.0"
  },
  "language_info": {
   "file_extension": ".jl",
   "mimetype": "application/julia",
   "name": "julia",
   "version": "1.0.3"
  }
 },
 "nbformat": 4,
 "nbformat_minor": 2
}
