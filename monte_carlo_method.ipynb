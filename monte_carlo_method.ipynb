{
 "cells": [
  {
   "cell_type": "code",
   "execution_count": 1,
   "metadata": {},
   "outputs": [
    {
     "data": {
      "text/plain": [
       "2-element Array{Float64,1}:\n",
       " 0.290939\n",
       " 0.256881"
      ]
     },
     "execution_count": 1,
     "metadata": {},
     "output_type": "execute_result"
    }
   ],
   "source": [
    "x1 = rand(2)"
   ]
  },
  {
   "cell_type": "code",
   "execution_count": 14,
   "metadata": {},
   "outputs": [
    {
     "name": "stdout",
     "output_type": "stream",
     "text": [
      "3.52\n"
     ]
    }
   ],
   "source": [
    "n=10^2;\n",
    "pi_mc = 0;\n",
    "for ii=1:n\n",
    "    x1 = rand(2);\n",
    "    if(norm(x1,2)<1);\n",
    "        pi_mc = pi_mc+1;\n",
    "    end\n",
    "end\n",
    "println(4*pi_mc/n)"
   ]
  },
  {
   "cell_type": "code",
   "execution_count": 15,
   "metadata": {},
   "outputs": [
    {
     "name": "stdout",
     "output_type": "stream",
     "text": [
      "3.092\n"
     ]
    }
   ],
   "source": [
    "n=10^3;\n",
    "pi_mc = 0;\n",
    "for ii=1:n\n",
    "    x1 = rand(2);\n",
    "    if(norm(x1,2)<1);\n",
    "        pi_mc = pi_mc+1;\n",
    "    end\n",
    "end\n",
    "println(4*pi_mc/n)"
   ]
  },
  {
   "cell_type": "code",
   "execution_count": 16,
   "metadata": {},
   "outputs": [
    {
     "name": "stdout",
     "output_type": "stream",
     "text": [
      "3.1532\n"
     ]
    }
   ],
   "source": [
    "n=10^4;\n",
    "pi_mc = 0;\n",
    "for ii=1:n\n",
    "    x1 = rand(2);\n",
    "    if(norm(x1,2)<1);\n",
    "        pi_mc = pi_mc+1;\n",
    "    end\n",
    "end\n",
    "println(4*pi_mc/n)"
   ]
  },
  {
   "cell_type": "code",
   "execution_count": 17,
   "metadata": {},
   "outputs": [
    {
     "name": "stdout",
     "output_type": "stream",
     "text": [
      "3.1438\n"
     ]
    }
   ],
   "source": [
    "n=10^5;\n",
    "pi_mc = 0;\n",
    "for ii=1:n\n",
    "    x1 = rand(2);\n",
    "    if(norm(x1,2)<1);\n",
    "        pi_mc = pi_mc+1;\n",
    "    end\n",
    "end\n",
    "println(4*pi_mc/n)"
   ]
  },
  {
   "cell_type": "code",
   "execution_count": 13,
   "metadata": {},
   "outputs": [
    {
     "name": "stdout",
     "output_type": "stream",
     "text": [
      "3.140904\n"
     ]
    }
   ],
   "source": [
    "n=10^6;\n",
    "pi_mc = 0;\n",
    "for ii=1:n\n",
    "    x1 = rand(2);\n",
    "    if(norm(x1,2)<1);\n",
    "        pi_mc = pi_mc+1;\n",
    "    end\n",
    "end\n",
    "println(4*pi_mc/n)"
   ]
  },
  {
   "cell_type": "code",
   "execution_count": 18,
   "metadata": {},
   "outputs": [
    {
     "name": "stdout",
     "output_type": "stream",
     "text": [
      "3.1420144\n"
     ]
    }
   ],
   "source": [
    "n=10^7;\n",
    "pi_mc = 0;\n",
    "for ii=1:n\n",
    "    x1 = rand(2);\n",
    "    if(norm(x1,2)<1);\n",
    "        pi_mc = pi_mc+1;\n",
    "    end\n",
    "end\n",
    "println(4*pi_mc/n)"
   ]
  },
  {
   "cell_type": "code",
   "execution_count": 19,
   "metadata": {},
   "outputs": [
    {
     "name": "stdout",
     "output_type": "stream",
     "text": [
      "3.14169592\n"
     ]
    }
   ],
   "source": [
    "n=10^8;\n",
    "pi_mc = 0;\n",
    "for ii=1:n\n",
    "    x1 = rand(2);\n",
    "    if(norm(x1,2)<1);\n",
    "        pi_mc = pi_mc+1;\n",
    "    end\n",
    "end\n",
    "println(4*pi_mc/n)"
   ]
  },
  {
   "cell_type": "code",
   "execution_count": 96,
   "metadata": {},
   "outputs": [
    {
     "name": "stdout",
     "output_type": "stream",
     "text": [
      "3.14052\n"
     ]
    }
   ],
   "source": [
    "n=10^4;\n",
    "pi_mc = 0;\n",
    "for nn=1:n\n",
    "for ii=1:10\n",
    "    x1 = rand(2);\n",
    "    x1[1] = (x1[1] + (ii-1))*0.1;\n",
    "    if(norm(x1,2)<1);\n",
    "        pi_mc = pi_mc+1;\n",
    "    end\n",
    "end\n",
    "end\n",
    "println(4*pi_mc/(10*n))"
   ]
  },
  {
   "cell_type": "code",
   "execution_count": 87,
   "metadata": {},
   "outputs": [
    {
     "data": {
      "text/plain": [
       "2-element Array{Float64,1}:\n",
       " 0.123846\n",
       " 0.330859"
      ]
     },
     "execution_count": 87,
     "metadata": {},
     "output_type": "execute_result"
    }
   ],
   "source": [
    "rand(2)"
   ]
  },
  {
   "cell_type": "code",
   "execution_count": 49,
   "metadata": {},
   "outputs": [
    {
     "name": "stdout",
     "output_type": "stream",
     "text": [
      "2.9788\n"
     ]
    }
   ],
   "source": [
    "n=100;\n",
    "pi_mc = 0;\n",
    "for nn=1:n\n",
    "for ii=1:10\n",
    "    x1 = rand(2);\n",
    "    for jj=1:10\n",
    "        x1[1] = (x1[1] + (ii-1))*0.1;\n",
    "        x1[2] = (x1[2] + (jj-1))*0.1;\n",
    "        if(norm(x1,2)<1);\n",
    "            pi_mc = pi_mc+1;\n",
    "        end\n",
    "    end\n",
    "end\n",
    "end\n",
    "println(4*pi_mc/(100*n))"
   ]
  },
  {
   "cell_type": "code",
   "execution_count": 50,
   "metadata": {},
   "outputs": [
    {
     "name": "stdout",
     "output_type": "stream",
     "text": [
      "2.97728\n"
     ]
    }
   ],
   "source": [
    "n=1000;\n",
    "pi_mc = 0;\n",
    "for nn=1:n\n",
    "for ii=1:10\n",
    "    x1 = rand(2);\n",
    "    for jj=1:10\n",
    "        x1[1] = (x1[1] + (ii-1))*0.1;\n",
    "        x1[2] = (x1[2] + (jj-1))*0.1;\n",
    "        if(norm(x1,2)<1);\n",
    "            pi_mc = pi_mc+1;\n",
    "        end\n",
    "    end\n",
    "end\n",
    "end\n",
    "println(4*pi_mc/(100*n))"
   ]
  },
  {
   "cell_type": "code",
   "execution_count": null,
   "metadata": {},
   "outputs": [],
   "source": []
  }
 ],
 "metadata": {
  "kernelspec": {
   "display_name": "Julia 0.6.2",
   "language": "julia",
   "name": "julia-0.6"
  },
  "language_info": {
   "file_extension": ".jl",
   "mimetype": "application/julia",
   "name": "julia",
   "version": "0.6.2"
  }
 },
 "nbformat": 4,
 "nbformat_minor": 2
}
