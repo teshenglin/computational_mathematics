{
 "cells": [
  {
   "cell_type": "markdown",
   "metadata": {},
   "source": [
    "# Monte Carlo Method\n",
    "## Monte Carlo Integration\n",
    "Monte Carlo integration is a technique for numerical integration using random numbers.\n",
    "\n",
    "Consider a function $f(x):\\Omega \\to \\mathbb{R}$ defined on $\\Omega \\subset \\mathbb{R}^m$. We wish to calculate \n",
    "$$I:=\\int_\\Omega f(x)dx.$$\n",
    "Let\n",
    "$$V:=\\int_\\Omega 1dx$$\n",
    "be the volume of $\\Omega$, and\n",
    "$$x_1,x_2,\\cdots,x_n\\in\\Omega$$\n",
    "are $n$ random points chosen uniformly in $\\Omega$.\n",
    "\n",
    "Then\n",
    "$$I = \\lim\\limits_{n\\to \\infty}V\\frac{1}{n}\\sum\\limits_{i=1}^{n}f(x_i).$$\n",
    "\n",
    "Therefore, $I$ can be aprroximated by\n",
    "$$I \\approx V\\frac{1}{n}\\sum\\limits_{i=1}^{n}f(x_i).$$\n",
    "\n",
    "References : [Monte Carlo integration](https://en.wikipedia.org/wiki/Monte_Carlo_integration), [Monte Carlo method](https://en.wikipedia.org/wiki/Monte_Carlo_method)"
   ]
  },
  {
   "cell_type": "markdown",
   "metadata": {},
   "source": [
    "## Example1: Calculating $\\pi$\n",
    "\n",
    "We can use Monte Carlo Method to calculate $\\pi$. Or in other words, calculate the area of the unit circle.\n",
    "\n",
    "Consider the function\n",
    "$$    f(x)= \n",
    "\\begin{cases}\n",
    "    1,& \\text{if } x^2+y^2<1\\\\\n",
    "    0,              & \\text{otherwise}\n",
    "\\end{cases}$$\n",
    "and $\\Omega = [0,1]\\times[0,1]$ with $V=1$.\n",
    "\n",
    "Consider $n$ random points $\\{x_i\\}_{i=1}^{n}$ in $\\Omega$.\n",
    "Then \n",
    "$$\\frac{\\pi}{4}=I \\approx \\frac{1}{n}\\sum\\limits_{i=1}^{n}f(x_i)$$\n",
    "\n",
    "So \n",
    "$$\\pi \\approx 4\\frac{1}{n}\\sum\\limits_{i=1}^{n}f(x_i)$$"
   ]
  },
  {
   "cell_type": "markdown",
   "metadata": {},
   "source": [
    "We now apply this method with different $n$."
   ]
  },
  {
   "cell_type": "code",
   "execution_count": 1,
   "metadata": {},
   "outputs": [],
   "source": [
    "using LinearAlgebra"
   ]
  },
  {
   "cell_type": "code",
   "execution_count": 2,
   "metadata": {},
   "outputs": [
    {
     "data": {
      "text/plain": [
       "2-element Array{Float64,1}:\n",
       " 0.9948098812484252\n",
       " 0.6776122640870839"
      ]
     },
     "execution_count": 2,
     "metadata": {},
     "output_type": "execute_result"
    }
   ],
   "source": [
    "x1 = rand(2)"
   ]
  },
  {
   "cell_type": "code",
   "execution_count": 3,
   "metadata": {},
   "outputs": [
    {
     "name": "stdout",
     "output_type": "stream",
     "text": [
      "3.16\n"
     ]
    }
   ],
   "source": [
    "# Starts with n points\n",
    "n=10^2;\n",
    "\n",
    "# Define a variable to calculate the number of points that is inside the circle\n",
    "pi_mc = 0;\n",
    "\n",
    "# Run the loop for i=1...n\n",
    "for ii=1:n\n",
    "    x1 = rand(2);\n",
    "    if(norm(x1,2)<1);\n",
    "        pi_mc = pi_mc+1;\n",
    "    end\n",
    "end\n",
    "println(4*pi_mc/n)"
   ]
  },
  {
   "cell_type": "code",
   "execution_count": 4,
   "metadata": {},
   "outputs": [
    {
     "name": "stdout",
     "output_type": "stream",
     "text": [
      "3.168\n"
     ]
    }
   ],
   "source": [
    "n=10^3;\n",
    "pi_mc = 0;\n",
    "for ii=1:n\n",
    "    x1 = rand(2);\n",
    "    if(norm(x1,2)<1);\n",
    "        pi_mc = pi_mc+1;\n",
    "    end\n",
    "end\n",
    "println(4*pi_mc/n)"
   ]
  },
  {
   "cell_type": "code",
   "execution_count": 5,
   "metadata": {},
   "outputs": [
    {
     "name": "stdout",
     "output_type": "stream",
     "text": [
      "3.1452\n"
     ]
    }
   ],
   "source": [
    "n=10^4;\n",
    "pi_mc = 0;\n",
    "for ii=1:n\n",
    "    x1 = rand(2);\n",
    "    if(norm(x1,2)<1);\n",
    "        pi_mc = pi_mc+1;\n",
    "    end\n",
    "end\n",
    "println(4*pi_mc/n)"
   ]
  },
  {
   "cell_type": "code",
   "execution_count": 6,
   "metadata": {},
   "outputs": [
    {
     "name": "stdout",
     "output_type": "stream",
     "text": [
      "3.14384\n"
     ]
    }
   ],
   "source": [
    "n=10^5;\n",
    "pi_mc = 0;\n",
    "for ii=1:n\n",
    "    x1 = rand(2);\n",
    "    if(norm(x1,2)<1);\n",
    "        pi_mc = pi_mc+1;\n",
    "    end\n",
    "end\n",
    "println(4*pi_mc/n)"
   ]
  },
  {
   "cell_type": "code",
   "execution_count": 7,
   "metadata": {},
   "outputs": [
    {
     "name": "stdout",
     "output_type": "stream",
     "text": [
      "3.139612\n"
     ]
    }
   ],
   "source": [
    "n=10^6;\n",
    "pi_mc = 0;\n",
    "for ii=1:n\n",
    "    x1 = rand(2);\n",
    "    if(norm(x1,2)<1);\n",
    "        pi_mc = pi_mc+1;\n",
    "    end\n",
    "end\n",
    "println(4*pi_mc/n)"
   ]
  },
  {
   "cell_type": "code",
   "execution_count": 8,
   "metadata": {},
   "outputs": [
    {
     "name": "stdout",
     "output_type": "stream",
     "text": [
      "3.1421648\n"
     ]
    }
   ],
   "source": [
    "n=10^7;\n",
    "pi_mc = 0;\n",
    "for ii=1:n\n",
    "    x1 = rand(2);\n",
    "    if(norm(x1,2)<1);\n",
    "        pi_mc = pi_mc+1;\n",
    "    end\n",
    "end\n",
    "println(4*pi_mc/n)"
   ]
  },
  {
   "cell_type": "code",
   "execution_count": 9,
   "metadata": {},
   "outputs": [
    {
     "name": "stdout",
     "output_type": "stream",
     "text": [
      "3.14164036\n"
     ]
    }
   ],
   "source": [
    "n=10^8;\n",
    "pi_mc = 0;\n",
    "for ii=1:n\n",
    "    x1 = rand(2);\n",
    "    if(norm(x1,2)<1);\n",
    "        pi_mc = pi_mc+1;\n",
    "    end\n",
    "end\n",
    "println(4*pi_mc/n)"
   ]
  },
  {
   "cell_type": "code",
   "execution_count": 10,
   "metadata": {},
   "outputs": [
    {
     "name": "stdout",
     "output_type": "stream",
     "text": [
      "3.14628\n"
     ]
    }
   ],
   "source": [
    "n=10^4;\n",
    "pi_mc = 0;\n",
    "for nn=1:n\n",
    "    for ii=1:10\n",
    "        x1 = rand(2);\n",
    "        x1[1] = (x1[1] + (ii-1))*0.1;\n",
    "        if(norm(x1,2)<1);\n",
    "            pi_mc = pi_mc+1;\n",
    "        end\n",
    "    end\n",
    "end\n",
    "println(4*pi_mc/(10*n))"
   ]
  },
  {
   "cell_type": "markdown",
   "metadata": {},
   "source": [
    "## Example 2:"
   ]
  },
  {
   "cell_type": "code",
   "execution_count": 11,
   "metadata": {},
   "outputs": [
    {
     "data": {
      "text/plain": [
       "2-element Array{Float64,1}:\n",
       " 0.5765529980890403 \n",
       " 0.24028097696677375"
      ]
     },
     "execution_count": 11,
     "metadata": {},
     "output_type": "execute_result"
    }
   ],
   "source": [
    "rand(2)"
   ]
  },
  {
   "cell_type": "code",
   "execution_count": 12,
   "metadata": {},
   "outputs": [
    {
     "name": "stdout",
     "output_type": "stream",
     "text": [
      "2.9764\n"
     ]
    }
   ],
   "source": [
    "n=100;\n",
    "pi_mc = 0;\n",
    "for nn=1:n\n",
    "for ii=1:10\n",
    "    x1 = rand(2);\n",
    "    for jj=1:10\n",
    "        x1[1] = (x1[1] + (ii-1))*0.1;\n",
    "        x1[2] = (x1[2] + (jj-1))*0.1;\n",
    "        if(norm(x1,2)<1);\n",
    "            pi_mc = pi_mc+1;\n",
    "        end\n",
    "    end\n",
    "end\n",
    "end\n",
    "println(4*pi_mc/(100*n))"
   ]
  },
  {
   "cell_type": "code",
   "execution_count": 13,
   "metadata": {},
   "outputs": [
    {
     "name": "stdout",
     "output_type": "stream",
     "text": [
      "2.9782\n"
     ]
    }
   ],
   "source": [
    "n=1000;\n",
    "pi_mc = 0;\n",
    "for nn=1:n\n",
    "for ii=1:10\n",
    "    x1 = rand(2);\n",
    "    for jj=1:10\n",
    "        x1[1] = (x1[1] + (ii-1))*0.1;\n",
    "        x1[2] = (x1[2] + (jj-1))*0.1;\n",
    "        if(norm(x1,2)<1);\n",
    "            pi_mc = pi_mc+1;\n",
    "        end\n",
    "    end\n",
    "end\n",
    "end\n",
    "println(4*pi_mc/(100*n))"
   ]
  },
  {
   "cell_type": "code",
   "execution_count": 14,
   "metadata": {},
   "outputs": [
    {
     "name": "stdout",
     "output_type": "stream",
     "text": [
      "2.97719824\n"
     ]
    }
   ],
   "source": [
    "n=1000000;\n",
    "pi_mc = 0;\n",
    "for nn=1:n\n",
    "for ii=1:10\n",
    "    x1 = rand(2);\n",
    "    for jj=1:10\n",
    "        x1[1] = (x1[1] + (ii-1))*0.1;\n",
    "        x1[2] = (x1[2] + (jj-1))*0.1;\n",
    "        if(norm(x1,2)<1);\n",
    "            pi_mc = pi_mc+1;\n",
    "        end\n",
    "    end\n",
    "end\n",
    "end\n",
    "println(4*pi_mc/(100*n))"
   ]
  },
  {
   "cell_type": "code",
   "execution_count": null,
   "metadata": {},
   "outputs": [],
   "source": []
  }
 ],
 "metadata": {
  "kernelspec": {
   "display_name": "Julia 1.0.3",
   "language": "julia",
   "name": "julia-1.0"
  },
  "language_info": {
   "file_extension": ".jl",
   "mimetype": "application/julia",
   "name": "julia",
   "version": "1.0.3"
  }
 },
 "nbformat": 4,
 "nbformat_minor": 2
}
