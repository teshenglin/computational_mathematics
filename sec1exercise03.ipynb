{
  "nbformat": 4,
  "nbformat_minor": 0,
  "metadata": {
    "colab": {
      "name": "sec1exercise03.ipynb",
      "provenance": [],
      "collapsed_sections": []
    },
    "kernelspec": {
      "name": "python3",
      "display_name": "Python 3"
    },
    "language_info": {
      "name": "python"
    }
  },
  "cells": [
    {
      "cell_type": "markdown",
      "source": [
        "# **Section1-Exercise3**\n",
        "Implement the method of false position with appropriate stopping condition."
      ],
      "metadata": {
        "id": "HsVnwCw47I9t"
      }
    },
    {
      "cell_type": "code",
      "source": [
        "import numpy as np"
      ],
      "metadata": {
        "id": "GFd2KL2ERAOS"
      },
      "execution_count": null,
      "outputs": []
    },
    {
      "cell_type": "markdown",
      "source": [
        "Take $f(x) = x^3 + 2x^2 - 3x -1$ as example."
      ],
      "metadata": {
        "id": "DypCykug_rqP"
      }
    },
    {
      "cell_type": "code",
      "source": [
        "def f(x):\n",
        "  return (x * x * x + 2 * x * x - 3 * x - 1)"
      ],
      "metadata": {
        "id": "DyxK02D095hB"
      },
      "execution_count": null,
      "outputs": []
    },
    {
      "cell_type": "markdown",
      "source": [
        "Algorithm of the method of false position：\n",
        "1. if $f(a)f(b) < 0$ with $a \\neq b$, then we can continue\n",
        "2. iterate $p_n = b_n - f(b_n)\\frac{b_n-a_n}{f(b_n) - f(a_n)}$\n",
        "3. from the lecture note, we have $|e_n| ≈ \\frac{|p_n-p_{n-1}|^2}{|p_n-2p_{n-1}+p_{n-2}|}$, and so terminating the iteration when  $\\frac{|p_n-p_{n-1}|^2}{|p_n-2p_{n-1}+p_{n-2}|} < ϵ = tol$"
      ],
      "metadata": {
        "id": "DZXvlq-6_6zf"
      }
    },
    {
      "cell_type": "markdown",
      "source": [
        "NOTE：\n",
        "Since the method of false position and the bisection method are both linear convergence, the former is sometimes faster and sometmes slower than the latter. In the following code, I set $10 \\times⌈ log_2\\frac{|b-a|}{tol} ⌉$(10 times than the max iteration number of the bisection method) to be the max iteration number to avoid infinite loops."
      ],
      "metadata": {
        "id": "R9CL9x9WDi_l"
      }
    },
    {
      "cell_type": "code",
      "source": [
        "# define function of the method of false position\n",
        "# input : \n",
        "#   a, b : the endpoints of the initial interval\n",
        "#   tol : convergence tolerence\n",
        "# output :\n",
        "#   an, bn : the endpoints of the final interval\n",
        "#   pn : approximated root of the given equation f(x) = 0\n",
        "\n",
        "def FalsePosition(a, b, tol): # assume that a < b\n",
        "  fa, fb = f(a), f(b)\n",
        "\n",
        "  # check if f(a)f(b) < 0 is satisfied or not\n",
        "  if fa * fb >= 0:\n",
        "    print('Need to implement the method with condition f(a)f(b) < 0')\n",
        "    return a, b, -1\n",
        "  \n",
        "  p0, p1, p2 = a, b, a # set initial value of p\n",
        "  max_iter = np.ceil(np.log2(abs(b-a)/tol)).astype(int) * 10 # to avoid infinite loops, give a value as limitation\n",
        "  print('max iteration:', max_iter)\n",
        "\n",
        "  for i in range(1, max_iter + 1):\n",
        "    # use method of false position to iterate p\n",
        "    p2 = b - fb * (b - a) / (fb - fa)\n",
        "    fp = f(p2)\n",
        "    # check if the new p is root or not\n",
        "    if fp == 0: # case 1: p is a root\n",
        "      break\n",
        "    elif fp * fa < 0: # case 2: p is not a root, but a root exists between a and p\n",
        "      b = p2\n",
        "    else: # case 3: p is not a root, but a root exists between p and b\n",
        "      a = p2\n",
        "    fa, fb = f(a), f(b) # update f(a) and f(b)\n",
        "    print('i =', '%3d' % i, '  a =', '%.9e' % a, '  b =','%.9e' % b, '  p =', '%.9e' % p2, '  |f(p)| = ', '%.4e' % abs(fp))\n",
        "\n",
        "    # if there are at least 3 terms of pn, then we can check the stop condition\n",
        "    if i >= 3:\n",
        "      approx_e = (p2 - p1) * (p2 - p1) / abs(p2 - 2 * p1 + p0)\n",
        "      print('          p0=', '%.9e' % p0,'  p1=', '%.9e' % p1,'  p2=', '%.9e' % p2, '  approx_e =', '%.4e' % approx_e)\n",
        "      p0, p1 = p1, p2\n",
        "      if approx_e < tol:\n",
        "        break\n",
        "  \n",
        "  print('result:')\n",
        "  print('i =', '%3d' % (i+1), '  a =', '%.9e' % a, '  b =','%.9e' % b, '  p = ', '%.9e' % p2, '  |f(p)| = ', '%.4e' % abs(fp), '   approx_e = ', '%.4e' % approx_e)\n",
        "  return a, b, p2"
      ],
      "metadata": {
        "id": "ZaXnOF008y0y"
      },
      "execution_count": null,
      "outputs": []
    },
    {
      "cell_type": "code",
      "source": [
        "# input: (a, b) = (1, 2)\n",
        "an, bn, pn = FalsePosition(1, 2, 1e-9)"
      ],
      "metadata": {
        "colab": {
          "base_uri": "https://localhost:8080/"
        },
        "id": "Zoo67UeG8y9y",
        "outputId": "3d693288-2f66-44e8-f0aa-53a66a683ec2"
      },
      "execution_count": null,
      "outputs": [
        {
          "output_type": "stream",
          "name": "stdout",
          "text": [
            "max iteration: 300\n",
            "i =   1   a = 1.100000000e+00   b = 2.000000000e+00   p = 1.100000000e+00   |f(p)| =  5.4900e-01\n",
            "i =   2   a = 1.151743638e+00   b = 2.000000000e+00   p = 1.151743638e+00   |f(p)| =  2.7440e-01\n",
            "i =   3   a = 1.176840910e+00   b = 2.000000000e+00   p = 1.176840910e+00   |f(p)| =  1.3074e-01\n",
            "          p0= 1.000000000e+00   p1= 2.000000000e+00   p2= 1.176840910e+00   approx_e = 3.7166e-01\n",
            "i =   4   a = 1.188627673e+00   b = 2.000000000e+00   p = 1.188627673e+00   |f(p)| =  6.0876e-02\n",
            "          p0= 2.000000000e+00   p1= 1.176840910e+00   p2= 1.188627673e+00   approx_e = 1.6639e-04\n",
            "i =   5   a = 1.194078911e+00   b = 2.000000000e+00   p = 1.194078911e+00   |f(p)| =  2.8041e-02\n",
            "          p0= 1.176840910e+00   p1= 1.188627673e+00   p2= 1.194078911e+00   approx_e = 4.6904e-03\n",
            "i =   6   a = 1.196582088e+00   b = 2.000000000e+00   p = 1.196582088e+00   |f(p)| =  1.2852e-02\n",
            "          p0= 1.188627673e+00   p1= 1.194078911e+00   p2= 1.196582088e+00   approx_e = 2.1254e-03\n",
            "i =   7   a = 1.197727754e+00   b = 2.000000000e+00   p = 1.197727754e+00   |f(p)| =  5.8772e-03\n",
            "          p0= 1.194078911e+00   p1= 1.196582088e+00   p2= 1.197727754e+00   approx_e = 9.6688e-04\n",
            "i =   8   a = 1.198251318e+00   b = 2.000000000e+00   p = 1.198251318e+00   |f(p)| =  2.6848e-03\n",
            "          p0= 1.196582088e+00   p1= 1.197727754e+00   p2= 1.198251318e+00   approx_e = 4.4063e-04\n",
            "i =   9   a = 1.198490418e+00   b = 2.000000000e+00   p = 1.198490418e+00   |f(p)| =  1.2259e-03\n",
            "          p0= 1.197727754e+00   p1= 1.198251318e+00   p2= 1.198490418e+00   approx_e = 2.0097e-04\n",
            "i =  10   a = 1.198599576e+00   b = 2.000000000e+00   p = 1.198599576e+00   |f(p)| =  5.5961e-04\n",
            "          p0= 1.198251318e+00   p1= 1.198490418e+00   p2= 1.198599576e+00   approx_e = 9.1698e-05\n",
            "i =  11   a = 1.198649404e+00   b = 2.000000000e+00   p = 1.198649404e+00   |f(p)| =  2.5544e-04\n",
            "          p0= 1.198490418e+00   p1= 1.198599576e+00   p2= 1.198649404e+00   approx_e = 4.1846e-05\n",
            "i =  12   a = 1.198672147e+00   b = 2.000000000e+00   p = 1.198672147e+00   |f(p)| =  1.1659e-04\n",
            "          p0= 1.198599576e+00   p1= 1.198649404e+00   p2= 1.198672147e+00   approx_e = 1.9098e-05\n",
            "i =  13   a = 1.198682527e+00   b = 2.000000000e+00   p = 1.198682527e+00   |f(p)| =  5.3214e-05\n",
            "          p0= 1.198649404e+00   p1= 1.198672147e+00   p2= 1.198682527e+00   approx_e = 8.7163e-06\n",
            "i =  14   a = 1.198687265e+00   b = 2.000000000e+00   p = 1.198687265e+00   |f(p)| =  2.4288e-05\n",
            "          p0= 1.198672147e+00   p1= 1.198682527e+00   p2= 1.198687265e+00   approx_e = 3.9782e-06\n",
            "i =  15   a = 1.198689428e+00   b = 2.000000000e+00   p = 1.198689428e+00   |f(p)| =  1.1085e-05\n",
            "          p0= 1.198682527e+00   p1= 1.198687265e+00   p2= 1.198689428e+00   approx_e = 1.8157e-06\n",
            "i =  16   a = 1.198690415e+00   b = 2.000000000e+00   p = 1.198690415e+00   |f(p)| =  5.0595e-06\n",
            "          p0= 1.198687265e+00   p1= 1.198689428e+00   p2= 1.198690415e+00   approx_e = 8.2871e-07\n",
            "i =  17   a = 1.198690865e+00   b = 2.000000000e+00   p = 1.198690865e+00   |f(p)| =  2.3093e-06\n",
            "          p0= 1.198689428e+00   p1= 1.198690415e+00   p2= 1.198690865e+00   approx_e = 3.7823e-07\n",
            "i =  18   a = 1.198691071e+00   b = 2.000000000e+00   p = 1.198691071e+00   |f(p)| =  1.0540e-06\n",
            "          p0= 1.198690415e+00   p1= 1.198690865e+00   p2= 1.198691071e+00   approx_e = 1.7263e-07\n",
            "i =  19   a = 1.198691165e+00   b = 2.000000000e+00   p = 1.198691165e+00   |f(p)| =  4.8105e-07\n",
            "          p0= 1.198690865e+00   p1= 1.198691071e+00   p2= 1.198691165e+00   approx_e = 7.8792e-08\n",
            "i =  20   a = 1.198691208e+00   b = 2.000000000e+00   p = 1.198691208e+00   |f(p)| =  2.1956e-07\n",
            "          p0= 1.198691071e+00   p1= 1.198691165e+00   p2= 1.198691208e+00   approx_e = 3.5962e-08\n",
            "i =  21   a = 1.198691227e+00   b = 2.000000000e+00   p = 1.198691227e+00   |f(p)| =  1.0021e-07\n",
            "          p0= 1.198691165e+00   p1= 1.198691208e+00   p2= 1.198691227e+00   approx_e = 1.6413e-08\n",
            "i =  22   a = 1.198691236e+00   b = 2.000000000e+00   p = 1.198691236e+00   |f(p)| =  4.5737e-08\n",
            "          p0= 1.198691208e+00   p1= 1.198691227e+00   p2= 1.198691236e+00   approx_e = 7.4913e-09\n",
            "i =  23   a = 1.198691240e+00   b = 2.000000000e+00   p = 1.198691240e+00   |f(p)| =  2.0875e-08\n",
            "          p0= 1.198691227e+00   p1= 1.198691236e+00   p2= 1.198691240e+00   approx_e = 3.4192e-09\n",
            "i =  24   a = 1.198691242e+00   b = 2.000000000e+00   p = 1.198691242e+00   |f(p)| =  9.5277e-09\n",
            "          p0= 1.198691236e+00   p1= 1.198691240e+00   p2= 1.198691242e+00   approx_e = 1.5606e-09\n",
            "i =  25   a = 1.198691243e+00   b = 2.000000000e+00   p = 1.198691243e+00   |f(p)| =  4.3486e-09\n",
            "          p0= 1.198691240e+00   p1= 1.198691242e+00   p2= 1.198691243e+00   approx_e = 7.1226e-10\n",
            "result:\n",
            "i =  26   a = 1.198691243e+00   b = 2.000000000e+00   p =  1.198691243e+00   |f(p)| =  4.3486e-09    approx_e =  7.1226e-10\n"
          ]
        }
      ]
    },
    {
      "cell_type": "code",
      "source": [
        "# input: (a, b) = (-3, -2)\n",
        "an, bn, pn = FalsePosition(-3, -2, 1e-9)"
      ],
      "metadata": {
        "colab": {
          "base_uri": "https://localhost:8080/"
        },
        "id": "dr0_L1XFHzE3",
        "outputId": "30d6f206-9b69-4d83-9eb9-2b469e1eaad6"
      },
      "execution_count": null,
      "outputs": [
        {
          "output_type": "stream",
          "name": "stdout",
          "text": [
            "max iteration: 300\n",
            "i =   1   a = -3.000000000e+00   b = -2.833333333e+00   p = -2.833333333e+00   |f(p)| =  8.1019e-01\n",
            "i =   2   a = -3.000000000e+00   b = -2.907928389e+00   p = -2.907928389e+00   |f(p)| =  4.6300e-02\n",
            "i =   3   a = -3.000000000e+00   b = -2.912002629e+00   p = -2.912002629e+00   |f(p)| =  2.4451e-03\n",
            "          p0= -3.000000000e+00   p1= -2.000000000e+00   p2= -2.912002629e+00   approx_e = 4.3501e-01\n",
            "i =   4   a = -3.000000000e+00   b = -2.912217267e+00   p = -2.912217267e+00   |f(p)| =  1.2858e-04\n",
            "          p0= -2.000000000e+00   p1= -2.912002629e+00   p2= -2.912217267e+00   approx_e = 5.0526e-08\n",
            "i =   5   a = -3.000000000e+00   b = -2.912228552e+00   p = -2.912228552e+00   |f(p)| =  6.7599e-06\n",
            "          p0= -2.912002629e+00   p1= -2.912217267e+00   p2= -2.912228552e+00   approx_e = 6.2632e-07\n",
            "i =   6   a = -3.000000000e+00   b = -2.912229146e+00   p = -2.912229146e+00   |f(p)| =  3.5539e-07\n",
            "          p0= -2.912217267e+00   p1= -2.912228552e+00   p2= -2.912229146e+00   approx_e = 3.2924e-08\n",
            "i =   7   a = -3.000000000e+00   b = -2.912229177e+00   p = -2.912229177e+00   |f(p)| =  1.8684e-08\n",
            "          p0= -2.912228552e+00   p1= -2.912229146e+00   p2= -2.912229177e+00   approx_e = 1.7309e-09\n",
            "i =   8   a = -3.000000000e+00   b = -2.912229178e+00   p = -2.912229178e+00   |f(p)| =  9.8231e-10\n",
            "          p0= -2.912229146e+00   p1= -2.912229177e+00   p2= -2.912229178e+00   approx_e = 9.1002e-11\n",
            "result:\n",
            "i =   9   a = -3.000000000e+00   b = -2.912229178e+00   p =  -2.912229178e+00   |f(p)| =  9.8231e-10    approx_e =  9.1002e-11\n"
          ]
        }
      ]
    },
    {
      "cell_type": "markdown",
      "source": [
        "Compare with the bisection method："
      ],
      "metadata": {
        "id": "jFJrWVcxE-sT"
      }
    },
    {
      "cell_type": "code",
      "source": [
        "# define function of the bisection method\n",
        "# input : \n",
        "#   a, b : the endpoints of the initial interval\n",
        "#   tol : convergence tolerence\n",
        "# output :\n",
        "#   an, bn : the endpoints of the final interval\n",
        "#   pn : approximated root of the given equation f(x) = 0\n",
        "def bisection(a, b, tol):\n",
        "  fa, fb = f(a), f(b)\n",
        "  if fa * fb >= 0:\n",
        "    print('Need to implement the method with condition f(a)f(b) < 0')\n",
        "    return a, b, -1\n",
        "  \n",
        "  max_iter = np.ceil(np.log2(abs(b-a)/tol)).astype(int)\n",
        "  print('max iteration:', max_iter)\n",
        "\n",
        "  for i in range(1, max_iter + 1):\n",
        "    p = 0.5 * (a + b)\n",
        "    fp = f(p)\n",
        "    print('i =', '%3d' % i, '  p = ', '%.16e' % p, '  |f(p)| = ', '%.4e' % abs(fp))\n",
        "\n",
        "    if fp == 0:\n",
        "      break\n",
        "    elif fa * fp < 0:  \n",
        "      b = p\n",
        "      fb = fp\n",
        "    else:\n",
        "      a = p\n",
        "      fa = fp\n",
        "  \n",
        "  print('result:')\n",
        "  print('i =', '%3d' % (i+1), '  a =', '%.9e' % a, '  b =','%.9e' % b, '  p = ', '%.9e' % p, '  |f(p)| = ', '%.4e' % abs(fp))\n",
        "  return a, b, p"
      ],
      "metadata": {
        "id": "kVugNsgA8zeM"
      },
      "execution_count": null,
      "outputs": []
    },
    {
      "cell_type": "code",
      "source": [
        "# input: (a, b) = (1, 2)\n",
        "an, bn, pn = bisection(1, 2, 1e-9)"
      ],
      "metadata": {
        "colab": {
          "base_uri": "https://localhost:8080/"
        },
        "id": "TjaToczeG_th",
        "outputId": "ff767574-bb7f-41c3-c1b3-0f0cfc9e3f37"
      },
      "execution_count": null,
      "outputs": [
        {
          "output_type": "stream",
          "name": "stdout",
          "text": [
            "max iteration: 30\n",
            "i =   1   p =  1.5000000000000000e+00   |f(p)| =  2.3750e+00\n",
            "i =   2   p =  1.2500000000000000e+00   |f(p)| =  3.2812e-01\n",
            "i =   3   p =  1.1250000000000000e+00   |f(p)| =  4.1992e-01\n",
            "i =   4   p =  1.1875000000000000e+00   |f(p)| =  6.7627e-02\n",
            "i =   5   p =  1.2187500000000000e+00   |f(p)| =  1.2473e-01\n",
            "i =   6   p =  1.2031250000000000e+00   |f(p)| =  2.7180e-02\n",
            "i =   7   p =  1.1953125000000000e+00   |f(p)| =  2.0565e-02\n",
            "i =   8   p =  1.1992187500000000e+00   |f(p)| =  3.2222e-03\n",
            "i =   9   p =  1.1972656250000000e+00   |f(p)| =  8.6925e-03\n",
            "i =  10   p =  1.1982421875000000e+00   |f(p)| =  2.7405e-03\n",
            "i =  11   p =  1.1987304687500000e+00   |f(p)| =  2.3949e-04\n",
            "i =  12   p =  1.1984863281250000e+00   |f(p)| =  1.2508e-03\n",
            "i =  13   p =  1.1986083984375000e+00   |f(p)| =  5.0576e-04\n",
            "i =  14   p =  1.1986694335937500e+00   |f(p)| =  1.3315e-04\n",
            "i =  15   p =  1.1986999511718750e+00   |f(p)| =  5.3164e-05\n",
            "i =  16   p =  1.1986846923828125e+00   |f(p)| =  3.9997e-05\n",
            "i =  17   p =  1.1986923217773438e+00   |f(p)| =  6.5832e-06\n",
            "i =  18   p =  1.1986885070800781e+00   |f(p)| =  1.6707e-05\n",
            "i =  19   p =  1.1986904144287109e+00   |f(p)| =  5.0619e-06\n",
            "i =  20   p =  1.1986913681030273e+00   |f(p)| =  7.6065e-07\n",
            "i =  21   p =  1.1986908912658691e+00   |f(p)| =  2.1506e-06\n",
            "i =  22   p =  1.1986911296844482e+00   |f(p)| =  6.9498e-07\n",
            "i =  23   p =  1.1986912488937378e+00   |f(p)| =  3.2833e-08\n",
            "i =  24   p =  1.1986911892890930e+00   |f(p)| =  3.3107e-07\n",
            "i =  25   p =  1.1986912190914154e+00   |f(p)| =  1.4912e-07\n",
            "i =  26   p =  1.1986912339925766e+00   |f(p)| =  5.8144e-08\n",
            "i =  27   p =  1.1986912414431572e+00   |f(p)| =  1.2655e-08\n",
            "i =  28   p =  1.1986912451684475e+00   |f(p)| =  1.0089e-08\n",
            "i =  29   p =  1.1986912433058023e+00   |f(p)| =  1.2833e-09\n",
            "i =  30   p =  1.1986912442371249e+00   |f(p)| =  4.4027e-09\n",
            "result:\n",
            "i =  31   a = 1.198691243e+00   b = 1.198691244e+00   p =  1.198691244e+00   |f(p)| =  4.4027e-09\n"
          ]
        }
      ]
    },
    {
      "cell_type": "code",
      "source": [
        "# input: (a, b) = (-3, -2)\n",
        "an, bn, pn = bisection(-3, -2, 1e-9)"
      ],
      "metadata": {
        "colab": {
          "base_uri": "https://localhost:8080/"
        },
        "id": "lxRHDEH6IO5I",
        "outputId": "3f69da94-6a73-41f0-db04-36ee5717e33f"
      },
      "execution_count": null,
      "outputs": [
        {
          "output_type": "stream",
          "name": "stdout",
          "text": [
            "max iteration: 30\n",
            "i =   1   p =  -2.5000000000000000e+00   |f(p)| =  3.3750e+00\n",
            "i =   2   p =  -2.7500000000000000e+00   |f(p)| =  1.5781e+00\n",
            "i =   3   p =  -2.8750000000000000e+00   |f(p)| =  3.9258e-01\n",
            "i =   4   p =  -2.9375000000000000e+00   |f(p)| =  2.7710e-01\n",
            "i =   5   p =  -2.9062500000000000e+00   |f(p)| =  6.4301e-02\n",
            "i =   6   p =  -2.9218750000000000e+00   |f(p)| =  1.0475e-01\n",
            "i =   7   p =  -2.9140625000000000e+00   |f(p)| =  1.9812e-02\n",
            "i =   8   p =  -2.9101562500000000e+00   |f(p)| =  2.2347e-02\n",
            "i =   9   p =  -2.9121093750000000e+00   |f(p)| =  1.2931e-03\n",
            "i =  10   p =  -2.9130859375000000e+00   |f(p)| =  9.2531e-03\n",
            "i =  11   p =  -2.9125976562500000e+00   |f(p)| =  3.9784e-03\n",
            "i =  12   p =  -2.9123535156250000e+00   |f(p)| =  1.3422e-03\n",
            "i =  13   p =  -2.9122314453125000e+00   |f(p)| =  2.4469e-05\n",
            "i =  14   p =  -2.9121704101562500e+00   |f(p)| =  6.3434e-04\n",
            "i =  15   p =  -2.9122009277343750e+00   |f(p)| =  3.0494e-04\n",
            "i =  16   p =  -2.9122161865234375e+00   |f(p)| =  1.4024e-04\n",
            "i =  17   p =  -2.9122238159179688e+00   |f(p)| =  5.7885e-05\n",
            "i =  18   p =  -2.9122276306152344e+00   |f(p)| =  1.6708e-05\n",
            "i =  19   p =  -2.9122295379638672e+00   |f(p)| =  3.8803e-06\n",
            "i =  20   p =  -2.9122285842895508e+00   |f(p)| =  6.4139e-06\n",
            "i =  21   p =  -2.9122290611267090e+00   |f(p)| =  1.2668e-06\n",
            "i =  22   p =  -2.9122292995452881e+00   |f(p)| =  1.3068e-06\n",
            "i =  23   p =  -2.9122291803359985e+00   |f(p)| =  1.9987e-08\n",
            "i =  24   p =  -2.9122291207313538e+00   |f(p)| =  6.2340e-07\n",
            "i =  25   p =  -2.9122291505336761e+00   |f(p)| =  3.0171e-07\n",
            "i =  26   p =  -2.9122291654348373e+00   |f(p)| =  1.4086e-07\n",
            "i =  27   p =  -2.9122291728854179e+00   |f(p)| =  6.0437e-08\n",
            "i =  28   p =  -2.9122291766107082e+00   |f(p)| =  2.0225e-08\n",
            "i =  29   p =  -2.9122291784733534e+00   |f(p)| =  1.1920e-10\n",
            "i =  30   p =  -2.9122291794046760e+00   |f(p)| =  9.9338e-09\n",
            "result:\n",
            "i =  31   a = -2.912229179e+00   b = -2.912229178e+00   p =  -2.912229179e+00   |f(p)| =  9.9338e-09\n"
          ]
        }
      ]
    },
    {
      "cell_type": "markdown",
      "source": [
        "In this example：\n",
        "1. $(a,b)=(1,2)$：the number of iteration of two methods are similar\n",
        "2. $(a,b)=(-3,-2)$：the number of iteration of two methods differs a lot "
      ],
      "metadata": {
        "id": "ug_hDkS3Hfga"
      }
    }
  ]
}