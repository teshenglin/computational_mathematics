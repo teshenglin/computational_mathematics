{
  "nbformat": 4,
  "nbformat_minor": 0,
  "metadata": {
    "colab": {
      "name": "rootfinding.ipynb",
      "provenance": [],
      "collapsed_sections": [],
      "authorship_tag": "ABX9TyOQwA2sOxsI6emUnP/kOhTA"
    },
    "kernelspec": {
      "name": "python3",
      "display_name": "Python 3"
    },
    "language_info": {
      "name": "python"
    }
  },
  "cells": [
    {
      "cell_type": "markdown",
      "source": [
        "# Rootfinding methods\n",
        "\n",
        ">    To find $p\\in \\mathbb{R}$ such that $f(p) = 0$.\n",
        "\n",
        "1. The bisection method\n",
        "2. Newton's method"
      ],
      "metadata": {
        "id": "ugpohfyUTbhl"
      }
    },
    {
      "cell_type": "code",
      "source": [
        "import numpy as np"
      ],
      "metadata": {
        "id": "2IrnObixTdyp"
      },
      "execution_count": 1,
      "outputs": []
    },
    {
      "cell_type": "markdown",
      "source": [
        "## Bisection method\n",
        "\n",
        "Inputs: \n",
        "* myfun: the handle function \n",
        "* initial interval: [a b]\n",
        "* tolerance: tol\n",
        "\n",
        "Outputs:\n",
        "* approximated root: p\n",
        "* residual: f(p)"
      ],
      "metadata": {
        "id": "XPLs8THrTp8w"
      }
    },
    {
      "cell_type": "code",
      "execution_count": 2,
      "metadata": {
        "id": "dQtEHpMmTXoI"
      },
      "outputs": [],
      "source": [
        "def myfun(x):\n",
        "    y = x**3 + x - 1.0\n",
        "    return y"
      ]
    },
    {
      "cell_type": "code",
      "source": [
        "##### define the function of bisection iteration\n",
        "###\n",
        "###    input: \n",
        "###        a, b: endpoints of the initial interval\n",
        "###        tol: tolerence\n",
        "###\n",
        "###    output:\n",
        "###        pc: approximated root of the given equation f(x)=0\n",
        "###        fc: the residual f(x)\n",
        "###\n",
        "def mybisect(a, b, tol):\n",
        "    \n",
        "    ### function values at x=a and x=b\n",
        "    fa = myfun(a)\n",
        "    fb = myfun(b)\n",
        "\n",
        "    ### check if the root condition is satisfied\n",
        "    ### If NOT, print a warning and return a huge function value\n",
        "    if ( fa * fb >= 0 ):\n",
        "        print('Root condition is NOT satisfied, f(a)*f(b)>=0')\n",
        "        return 0, 100000\n",
        "\n",
        "    ### the tolerence and storage\n",
        "    itmax = np.ceil(np.log2(abs(b-a)/tol)).astype(int)\n",
        "    print('max iteration is ', itmax)\n",
        "    \n",
        "    ### for loop\n",
        "    for ii in range(1, itmax+1):\n",
        "        # middle point and function value\n",
        "        pc = 0.5*(a+b)\n",
        "        fp = myfun(pc)\n",
        "        print('k =', '%3d' % ii, '  p = ', '%.16e' % pc, '  |f(p)| = ', '%.4e' % abs(fp))\n",
        "\n",
        "        # check subinterval for root location\n",
        "        if ( fa*fp < 0.):\n",
        "            # fa and fc have different sign  \n",
        "            b = pc\n",
        "            fb = fp\n",
        "        else:\n",
        "            # fb and fc have different sign\n",
        "            a = pc\n",
        "            fa = fp\n",
        "\n",
        "    # new midpoint is the best approximation\n",
        "    print('The size of the interval |b-a| = ', abs(b-a))\n",
        "    pc = 0.5*(a+b)\n",
        "    fp = myfun(pc)\n",
        "    print('k =', '%3d' % (ii+1), '  p = ', '%.9e' % pc, '  |f(p)| = ', '%.4e' % abs(fp))\n",
        "    return pc, fp"
      ],
      "metadata": {
        "id": "nHk2BqrtTquJ"
      },
      "execution_count": 3,
      "outputs": []
    },
    {
      "cell_type": "code",
      "source": [
        "pc, fp = mybisect(0, 1.0, 1e-15)"
      ],
      "metadata": {
        "colab": {
          "base_uri": "https://localhost:8080/"
        },
        "id": "5vnS_TLJUzEq",
        "outputId": "59f03f46-bb41-4bd3-d6d0-19d1b00b866d"
      },
      "execution_count": 4,
      "outputs": [
        {
          "output_type": "stream",
          "name": "stdout",
          "text": [
            "max iteration is  50\n",
            "k =   1   p =  5.0000000000000000e-01   |f(p)| =  3.7500e-01\n",
            "k =   2   p =  7.5000000000000000e-01   |f(p)| =  1.7188e-01\n",
            "k =   3   p =  6.2500000000000000e-01   |f(p)| =  1.3086e-01\n",
            "k =   4   p =  6.8750000000000000e-01   |f(p)| =  1.2451e-02\n",
            "k =   5   p =  6.5625000000000000e-01   |f(p)| =  6.1127e-02\n",
            "k =   6   p =  6.7187500000000000e-01   |f(p)| =  2.4830e-02\n",
            "k =   7   p =  6.7968750000000000e-01   |f(p)| =  6.3138e-03\n",
            "k =   8   p =  6.8359375000000000e-01   |f(p)| =  3.0374e-03\n",
            "k =   9   p =  6.8164062500000000e-01   |f(p)| =  1.6460e-03\n",
            "k =  10   p =  6.8261718750000000e-01   |f(p)| =  6.9374e-04\n",
            "k =  11   p =  6.8212890625000000e-01   |f(p)| =  4.7662e-04\n",
            "k =  12   p =  6.8237304687500000e-01   |f(p)| =  1.0844e-04\n",
            "k =  13   p =  6.8225097656250000e-01   |f(p)| =  1.8412e-04\n",
            "k =  14   p =  6.8231201171875000e-01   |f(p)| =  3.7849e-05\n",
            "k =  15   p =  6.8234252929687500e-01   |f(p)| =  3.5293e-05\n",
            "k =  16   p =  6.8232727050781250e-01   |f(p)| =  1.2782e-06\n",
            "k =  17   p =  6.8233489990234375e-01   |f(p)| =  1.7007e-05\n",
            "k =  18   p =  6.8233108520507812e-01   |f(p)| =  7.8645e-06\n",
            "k =  19   p =  6.8232917785644531e-01   |f(p)| =  3.2932e-06\n",
            "k =  20   p =  6.8232822418212891e-01   |f(p)| =  1.0075e-06\n",
            "k =  21   p =  6.8232774734497070e-01   |f(p)| =  1.3537e-07\n",
            "k =  22   p =  6.8232798576354980e-01   |f(p)| =  4.3605e-07\n",
            "k =  23   p =  6.8232786655426025e-01   |f(p)| =  1.5034e-07\n",
            "k =  24   p =  6.8232780694961548e-01   |f(p)| =  7.4816e-09\n",
            "k =  25   p =  6.8232777714729309e-01   |f(p)| =  6.3946e-08\n",
            "k =  26   p =  6.8232779204845428e-01   |f(p)| =  2.8232e-08\n",
            "k =  27   p =  6.8232779949903488e-01   |f(p)| =  1.0375e-08\n",
            "k =  28   p =  6.8232780322432518e-01   |f(p)| =  1.4469e-09\n",
            "k =  29   p =  6.8232780508697033e-01   |f(p)| =  3.0173e-09\n",
            "k =  30   p =  6.8232780415564775e-01   |f(p)| =  7.8523e-10\n",
            "k =  31   p =  6.8232780368998647e-01   |f(p)| =  3.3083e-10\n",
            "k =  32   p =  6.8232780392281711e-01   |f(p)| =  2.2720e-10\n",
            "k =  33   p =  6.8232780380640179e-01   |f(p)| =  5.1811e-11\n",
            "k =  34   p =  6.8232780386460945e-01   |f(p)| =  8.7696e-11\n",
            "k =  35   p =  6.8232780383550562e-01   |f(p)| =  1.7943e-11\n",
            "k =  36   p =  6.8232780382095370e-01   |f(p)| =  1.6934e-11\n",
            "k =  37   p =  6.8232780382822966e-01   |f(p)| =  5.0404e-13\n",
            "k =  38   p =  6.8232780382459168e-01   |f(p)| =  8.2151e-12\n",
            "k =  39   p =  6.8232780382641067e-01   |f(p)| =  3.8555e-12\n",
            "k =  40   p =  6.8232780382732017e-01   |f(p)| =  1.6757e-12\n",
            "k =  41   p =  6.8232780382777491e-01   |f(p)| =  5.8575e-13\n",
            "k =  42   p =  6.8232780382800229e-01   |f(p)| =  4.0856e-14\n",
            "k =  43   p =  6.8232780382811598e-01   |f(p)| =  2.3159e-13\n",
            "k =  44   p =  6.8232780382805913e-01   |f(p)| =  9.5479e-14\n",
            "k =  45   p =  6.8232780382803071e-01   |f(p)| =  2.7311e-14\n",
            "k =  46   p =  6.8232780382801650e-01   |f(p)| =  6.7724e-15\n",
            "k =  47   p =  6.8232780382802360e-01   |f(p)| =  1.0214e-14\n",
            "k =  48   p =  6.8232780382802005e-01   |f(p)| =  1.7764e-15\n",
            "k =  49   p =  6.8232780382801828e-01   |f(p)| =  2.4425e-15\n",
            "k =  50   p =  6.8232780382801916e-01   |f(p)| =  4.4409e-16\n",
            "The size of the interval |b-a| =  8.881784197001252e-16\n",
            "k =  51   p =  6.823278038e-01   |f(p)| =  6.6613e-16\n"
          ]
        }
      ]
    },
    {
      "cell_type": "markdown",
      "source": [
        "## Newton's method\n",
        "\n",
        "Inputs: \n",
        "* myfun: the handle function\n",
        "* myfunderivative: the derivative of the handle function\n",
        "* initial guess: p0\n",
        "* tolerance: tol\n",
        "\n",
        "Outputs:\n",
        "* approximated root: p\n",
        "* residual: f(p)"
      ],
      "metadata": {
        "id": "X6YBCiI4j9jt"
      }
    },
    {
      "cell_type": "code",
      "source": [
        "def myfun(x):\n",
        "#    y = x**3 + x - 1.0\n",
        "    y = x*np.sin(x)\n",
        "    return y\n",
        "\n",
        "def myfunderivative(x):\n",
        "#    y = 3.0*(x**2) + 1.0\n",
        "    y = np.sin(x) + x*np.cos(x)\n",
        "    return y"
      ],
      "metadata": {
        "id": "1bqkgIK98as1"
      },
      "execution_count": 5,
      "outputs": []
    },
    {
      "cell_type": "code",
      "source": [
        "##### define the function of Newton method\n",
        "###\n",
        "###    input: \n",
        "###        p0: initial guess\n",
        "###        tol: tolerence\n",
        "###\n",
        "###    output:\n",
        "###        p1: approximated root of the given equation f(x)=0\n",
        "###        px: the residual f(p1)\n",
        "###\n",
        "def myNewton(p0, tol):\n",
        "    \n",
        "    ### function value of p0\n",
        "    fp0 = myfun(p0)\n",
        "    dfp0 = myfunderivative(p0)\n",
        "    \n",
        "    if ( abs(dfp0)<1e-15 ):\n",
        "        print(f'|df/dx| = {abs(dfp0)}: the derivative is nearly vanishing!')\n",
        "    \n",
        "    itmax = 50\n",
        "    pn1 = p0\n",
        "    \n",
        "    for ii in range(1, itmax+1):\n",
        "        p1 = p0 - fp0/dfp0\n",
        "        fp1 = myfun(p1)\n",
        "        dfp1 = myfunderivative(p1)\n",
        "        if ( ii>1 ):\n",
        "            lambd = (p1-p0)/(p0-pn1)\n",
        "            pn1 = p0\n",
        "            print('k =', '%3d' % ii, '  p = ', '%.16e' % p1, '  |f(p)| = ', '%.4e' % abs(fp1), '  multiplicity=', '%3d' % round(1.0/(1.0-lambd)))\n",
        "\n",
        "        if ( abs(p1-p0)<tol ):\n",
        "            print('Tolerance achieved, |p1-p0|= ', '%.4e' % abs(p1-p0))\n",
        "            break\n",
        "\n",
        "        if ( abs(dfp1)<1e-15 ):\n",
        "            print(f'|df/dx| = {abs(dfp1)}: the derivative is nearly vanishing!')   \n",
        "            break\n",
        "\n",
        "\n",
        "\n",
        "        p0 = p1\n",
        "        fp0 = fp1\n",
        "        dfp0 = dfp1\n",
        "        \n",
        "    return p1, fp1"
      ],
      "metadata": {
        "id": "0jjZgz3D8hrB"
      },
      "execution_count": 6,
      "outputs": []
    },
    {
      "cell_type": "code",
      "source": [
        "pc, fp = myNewton(1.0, 1e-15)"
      ],
      "metadata": {
        "colab": {
          "base_uri": "https://localhost:8080/"
        },
        "id": "kPgGL8YqIGK7",
        "outputId": "f8236798-7313-49c9-e74e-985d664c079b"
      },
      "execution_count": 7,
      "outputs": [
        {
          "output_type": "stream",
          "name": "stdout",
          "text": [
            "k =   2   p =  1.9034374168959914e-01   |f(p)| =  3.6012e-02   multiplicity=   1\n",
            "k =   3   p =  9.4592278393849594e-02   |f(p)| =  8.9344e-03   multiplicity=   2\n",
            "k =   4   p =  4.7225459684434624e-02   |f(p)| =  2.2294e-03   multiplicity=   2\n",
            "k =   5   p =  2.3603948247268219e-02   |f(p)| =  5.5709e-04   multiplicity=   2\n",
            "k =   6   p =  1.1800878076633858e-02   |f(p)| =  1.3926e-04   multiplicity=   2\n",
            "k =   7   p =  5.9003020839652502e-03   |f(p)| =  3.4813e-05   multiplicity=   2\n",
            "k =   8   p =  2.9501339242978884e-03   |f(p)| =  8.7033e-06   multiplicity=   2\n",
            "k =   9   p =  1.4750648224886335e-03   |f(p)| =  2.1758e-06   multiplicity=   2\n",
            "k =  10   p =  7.3753214378834912e-04   |f(p)| =  5.4395e-07   multiplicity=   2\n",
            "k =  11   p =  3.6876603846222779e-04   |f(p)| =  1.3599e-07   multiplicity=   2\n",
            "k =  12   p =  1.8438301505212208e-04   |f(p)| =  3.3997e-08   multiplicity=   2\n",
            "k =  13   p =  9.2191507003687120e-05   |f(p)| =  8.4993e-09   multiplicity=   2\n",
            "k =  14   p =  4.6095753436546820e-05   |f(p)| =  2.1248e-09   multiplicity=   2\n",
            "k =  15   p =  2.3047876710111316e-05   |f(p)| =  5.3120e-10   multiplicity=   2\n",
            "k =  16   p =  1.1523938354035397e-05   |f(p)| =  1.3280e-10   multiplicity=   2\n",
            "k =  17   p =  5.7619691768901656e-06   |f(p)| =  3.3200e-11   multiplicity=   2\n",
            "k =  18   p =  2.8809845884291412e-06   |f(p)| =  8.3001e-12   multiplicity=   2\n",
            "k =  19   p =  1.4404922942125780e-06   |f(p)| =  2.0750e-12   multiplicity=   2\n",
            "k =  20   p =  7.2024614710603985e-07   |f(p)| =  5.1875e-13   multiplicity=   2\n",
            "k =  21   p =  3.6012307355298880e-07   |f(p)| =  1.2969e-13   multiplicity=   2\n",
            "k =  22   p =  1.8006153677649051e-07   |f(p)| =  3.2422e-14   multiplicity=   2\n",
            "k =  23   p =  9.0030768388244764e-08   |f(p)| =  8.1055e-15   multiplicity=   2\n",
            "k =  24   p =  4.5015384194122316e-08   |f(p)| =  2.0264e-15   multiplicity=   2\n",
            "k =  25   p =  2.2507692097061148e-08   |f(p)| =  5.0660e-16   multiplicity=   2\n",
            "k =  26   p =  1.1253846048530571e-08   |f(p)| =  1.2665e-16   multiplicity=   2\n",
            "k =  27   p =  5.6269230242652853e-09   |f(p)| =  3.1662e-17   multiplicity=   2\n",
            "k =  28   p =  2.8134615121326427e-09   |f(p)| =  7.9156e-18   multiplicity=   2\n",
            "k =  29   p =  1.4067307560663213e-09   |f(p)| =  1.9789e-18   multiplicity=   2\n",
            "k =  30   p =  7.0336537803316067e-10   |f(p)| =  4.9472e-19   multiplicity=   2\n",
            "k =  31   p =  3.5168268901658033e-10   |f(p)| =  1.2368e-19   multiplicity=   2\n",
            "k =  32   p =  1.7584134450829017e-10   |f(p)| =  3.0920e-20   multiplicity=   2\n",
            "k =  33   p =  8.7920672254145083e-11   |f(p)| =  7.7300e-21   multiplicity=   2\n",
            "k =  34   p =  4.3960336127072542e-11   |f(p)| =  1.9325e-21   multiplicity=   2\n",
            "k =  35   p =  2.1980168063536271e-11   |f(p)| =  4.8313e-22   multiplicity=   2\n",
            "k =  36   p =  1.0990084031768135e-11   |f(p)| =  1.2078e-22   multiplicity=   2\n",
            "k =  37   p =  5.4950420158840677e-12   |f(p)| =  3.0195e-23   multiplicity=   2\n",
            "k =  38   p =  2.7475210079420339e-12   |f(p)| =  7.5489e-24   multiplicity=   2\n",
            "k =  39   p =  1.3737605039710169e-12   |f(p)| =  1.8872e-24   multiplicity=   2\n",
            "k =  40   p =  6.8688025198550846e-13   |f(p)| =  4.7180e-25   multiplicity=   2\n",
            "k =  41   p =  3.4344012599275423e-13   |f(p)| =  1.1795e-25   multiplicity=   2\n",
            "k =  42   p =  1.7172006299637712e-13   |f(p)| =  2.9488e-26   multiplicity=   2\n",
            "k =  43   p =  8.5860031498188558e-14   |f(p)| =  7.3719e-27   multiplicity=   2\n",
            "k =  44   p =  4.2930015749094279e-14   |f(p)| =  1.8430e-27   multiplicity=   2\n",
            "k =  45   p =  2.1465007874547139e-14   |f(p)| =  4.6075e-28   multiplicity=   2\n",
            "k =  46   p =  1.0732503937273570e-14   |f(p)| =  1.1519e-28   multiplicity=   2\n",
            "k =  47   p =  5.3662519686367849e-15   |f(p)| =  2.8797e-29   multiplicity=   2\n",
            "k =  48   p =  2.6831259843183924e-15   |f(p)| =  7.1992e-30   multiplicity=   2\n",
            "k =  49   p =  1.3415629921591962e-15   |f(p)| =  1.7998e-30   multiplicity=   2\n",
            "k =  50   p =  6.7078149607959811e-16   |f(p)| =  4.4995e-31   multiplicity=   2\n",
            "Tolerance achieved, |p1-p0|=  6.7078e-16\n"
          ]
        }
      ]
    },
    {
      "cell_type": "markdown",
      "source": [
        "## Secant method\n",
        "\n",
        "Inputs: \n",
        "* myfun: the handle function\n",
        "* initial guess: p0, p1\n",
        "* tolerance: tol\n",
        "\n",
        "Outputs:\n",
        "* approximated root: p\n",
        "* residual: f(p)"
      ],
      "metadata": {
        "id": "rLxK7dT46kEx"
      }
    },
    {
      "cell_type": "code",
      "source": [
        "def myfun(x):\n",
        "    y = x**3 + x - 1.0\n",
        "#    y = x*np.sin(x)\n",
        "    return y"
      ],
      "metadata": {
        "id": "OaIuF3EZJfm_"
      },
      "execution_count": 8,
      "outputs": []
    },
    {
      "cell_type": "code",
      "source": [
        "##### define the function of Newton method\n",
        "###\n",
        "###    input: \n",
        "###        p0, p1: initial guess\n",
        "###        tol: tolerence\n",
        "###\n",
        "###    output:\n",
        "###        p2: approximated root of the given equation f(x)=0\n",
        "###        px: the residual f(p2)\n",
        "###\n",
        "def mysecant(p0, p1, tol):\n",
        "    \n",
        "    ### function value of p1\n",
        "    fp0 = myfun(p0)\n",
        "    fp1 = myfun(p1)\n",
        "    \n",
        "    itmax = 50\n",
        "    \n",
        "    for ii in range(1, itmax+1):\n",
        "        p2 = p1 - fp1*(p1-p0)/(fp1-fp0)\n",
        "        fp2 = myfun(p2)\n",
        "        print('k =', '%3d' % ii, '  p = ', '%.16e' % p2, '  |f(p)| = ', '%.4e' % abs(fp2))\n",
        "        if ( abs(p2-p1)<tol ):\n",
        "            print('Tolerance achieved, |p2-p1|= ', '%.4e' % abs(p2-p1))\n",
        "            break\n",
        "\n",
        "        p0 = p1\n",
        "        p1 = p2\n",
        "        fp0 = fp1\n",
        "        fp1 = fp2\n",
        "        \n",
        "    return p2, fp2"
      ],
      "metadata": {
        "id": "j3vqb4pc6r-d"
      },
      "execution_count": 9,
      "outputs": []
    },
    {
      "cell_type": "code",
      "source": [
        "pc, fc = mysecant(-1.1, 1.0, 1e-15)"
      ],
      "metadata": {
        "colab": {
          "base_uri": "https://localhost:8080/"
        },
        "id": "nFrfmYCj77pk",
        "outputId": "accdab09-1fbc-4afc-f175-57019f45857d"
      },
      "execution_count": 10,
      "outputs": [
        {
          "output_type": "stream",
          "name": "stdout",
          "text": [
            "k =   1   p =  5.2606635071090058e-01   |f(p)| =  3.2835e-01\n",
            "k =   2   p =  6.4321547634312093e-01   |f(p)| =  9.0669e-02\n",
            "k =   3   p =  6.8790564152409928e-01   |f(p)| =  1.3432e-02\n",
            "k =   4   p =  6.8213923327920090e-01   |f(p)| =  4.5188e-04\n",
            "k =   5   p =  6.8232690726676626e-01   |f(p)| =  2.1488e-06\n",
            "k =   6   p =  6.8232780397242421e-01   |f(p)| =  3.4610e-10\n",
            "k =   7   p =  6.8232780382801916e-01   |f(p)| =  4.4409e-16\n",
            "k =   8   p =  6.8232780382801939e-01   |f(p)| =  2.2204e-16\n",
            "Tolerance achieved, |p2-p1|=  2.2204e-16\n"
          ]
        }
      ]
    },
    {
      "cell_type": "code",
      "source": [
        ""
      ],
      "metadata": {
        "id": "ptHDT84vUWEw"
      },
      "execution_count": 10,
      "outputs": []
    }
  ]
}