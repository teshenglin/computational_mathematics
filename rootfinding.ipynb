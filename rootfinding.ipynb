{
  "nbformat": 4,
  "nbformat_minor": 0,
  "metadata": {
    "colab": {
      "name": "rootfinding.ipynb",
      "provenance": [],
      "collapsed_sections": [
        "XPLs8THrTp8w"
      ],
      "authorship_tag": "ABX9TyOIPd0vEgKHzsjDBlswbQVv"
    },
    "kernelspec": {
      "name": "python3",
      "display_name": "Python 3"
    },
    "language_info": {
      "name": "python"
    }
  },
  "cells": [
    {
      "cell_type": "markdown",
      "source": [
        "# Rootfinding methods\n",
        "\n",
        ">    To find $p\\in \\mathbb{R}$ such that $f(p) = 0$.\n",
        "\n",
        "1. The bisection method\n",
        "2. Newton's method"
      ],
      "metadata": {
        "id": "ugpohfyUTbhl"
      }
    },
    {
      "cell_type": "code",
      "source": [
        "import numpy as np"
      ],
      "metadata": {
        "id": "2IrnObixTdyp"
      },
      "execution_count": 39,
      "outputs": []
    },
    {
      "cell_type": "markdown",
      "source": [
        "## Bisection method\n",
        "\n",
        "Inputs: \n",
        "* myfunc: the handle function \n",
        "* initial interval: [a b]\n",
        "* tolerance: tol\n",
        "\n",
        "Outputs:\n",
        "* approximated root: p\n",
        "* residual: f(p)"
      ],
      "metadata": {
        "id": "XPLs8THrTp8w"
      }
    },
    {
      "cell_type": "code",
      "execution_count": 52,
      "metadata": {
        "id": "dQtEHpMmTXoI"
      },
      "outputs": [],
      "source": [
        "def myfunc(x):\n",
        "    y = x**3 + x - 1.0\n",
        "    return y"
      ]
    },
    {
      "cell_type": "code",
      "source": [
        "##### define the function of bisection iteration\n",
        "###\n",
        "###    input: \n",
        "###        a, b: endpoints of the initial interval\n",
        "###        tol: tolerence\n",
        "###\n",
        "###    output:\n",
        "###        pc: approximation root of given function f(x)\n",
        "###        fc: the residual\n",
        "###\n",
        "def mybisect(a, b, tol):\n",
        "    \n",
        "    ### function values at x=a and x=b\n",
        "    fa = myfunc(a)\n",
        "    fb = myfunc(b)\n",
        "\n",
        "    ### check if the root condition is satisfied\n",
        "    ### If NOT, print a warning and return a huge function value\n",
        "    if ( fa * fb >= 0 ):\n",
        "        print('Root condition is NOT satisfied, f(a)*f(b)>=0')\n",
        "        return 0, 100000\n",
        "\n",
        "    ### the tolerence and storage\n",
        "    itmax = np.ceil(np.log2(abs(b-a)/tol)).astype(int)\n",
        "    print('max iteration is ', itmax)\n",
        "    \n",
        "    ### for loop\n",
        "    for ii in range(1, itmax+1):\n",
        "        # middle point and function value\n",
        "        pc = 0.5*(a+b)\n",
        "        fc = myfunc(pc)\n",
        "        print('k =', '%3d' % ii, '  p = ', '%.16e' % pc, '  |f(p)| = ', '%.4e' % abs(fc))\n",
        "        \n",
        "        if ( abs(b-a) < tol):\n",
        "            print('The root is approximated p= ', '%.8e' % pc)\n",
        "            return pc, fc\n",
        "    \n",
        "        # check subinterval for root location\n",
        "        if ( fa*fc < 0.):\n",
        "            # fa and fc have different sign  \n",
        "            b = pc\n",
        "            fb = fc\n",
        "        else:\n",
        "            # fb and fc have different sign\n",
        "            a = pc\n",
        "            fa = fc\n",
        "\n",
        "    # new midpoint is the best approximation\n",
        "    print('The size of the interval |b-a| = ', abs(b-a))\n",
        "    pc = 0.5*(a+b)\n",
        "    fc = myfunc(pc)\n",
        "    print('k =', '%3d' % (ii+1), '  p = ', '%.9e' % pc, '  |f(p)| = ', '%.4e' % abs(fc))\n",
        "    return pc, fc"
      ],
      "metadata": {
        "id": "nHk2BqrtTquJ"
      },
      "execution_count": 53,
      "outputs": []
    },
    {
      "cell_type": "code",
      "source": [
        "pc, fc = mybisect(0, 2.0, 1e-15)"
      ],
      "metadata": {
        "colab": {
          "base_uri": "https://localhost:8080/"
        },
        "id": "5vnS_TLJUzEq",
        "outputId": "3457f276-01e0-45b2-f3aa-737bd011da41"
      },
      "execution_count": 54,
      "outputs": [
        {
          "output_type": "stream",
          "name": "stdout",
          "text": [
            "max iteration is  51\n",
            "k =   1   p =  1.0000000000000000e+00   |f(p)| =  1.0000e+00\n",
            "k =   2   p =  5.0000000000000000e-01   |f(p)| =  3.7500e-01\n",
            "k =   3   p =  7.5000000000000000e-01   |f(p)| =  1.7188e-01\n",
            "k =   4   p =  6.2500000000000000e-01   |f(p)| =  1.3086e-01\n",
            "k =   5   p =  6.8750000000000000e-01   |f(p)| =  1.2451e-02\n",
            "k =   6   p =  6.5625000000000000e-01   |f(p)| =  6.1127e-02\n",
            "k =   7   p =  6.7187500000000000e-01   |f(p)| =  2.4830e-02\n",
            "k =   8   p =  6.7968750000000000e-01   |f(p)| =  6.3138e-03\n",
            "k =   9   p =  6.8359375000000000e-01   |f(p)| =  3.0374e-03\n",
            "k =  10   p =  6.8164062500000000e-01   |f(p)| =  1.6460e-03\n",
            "k =  11   p =  6.8261718750000000e-01   |f(p)| =  6.9374e-04\n",
            "k =  12   p =  6.8212890625000000e-01   |f(p)| =  4.7662e-04\n",
            "k =  13   p =  6.8237304687500000e-01   |f(p)| =  1.0844e-04\n",
            "k =  14   p =  6.8225097656250000e-01   |f(p)| =  1.8412e-04\n",
            "k =  15   p =  6.8231201171875000e-01   |f(p)| =  3.7849e-05\n",
            "k =  16   p =  6.8234252929687500e-01   |f(p)| =  3.5293e-05\n",
            "k =  17   p =  6.8232727050781250e-01   |f(p)| =  1.2782e-06\n",
            "k =  18   p =  6.8233489990234375e-01   |f(p)| =  1.7007e-05\n",
            "k =  19   p =  6.8233108520507812e-01   |f(p)| =  7.8645e-06\n",
            "k =  20   p =  6.8232917785644531e-01   |f(p)| =  3.2932e-06\n",
            "k =  21   p =  6.8232822418212891e-01   |f(p)| =  1.0075e-06\n",
            "k =  22   p =  6.8232774734497070e-01   |f(p)| =  1.3537e-07\n",
            "k =  23   p =  6.8232798576354980e-01   |f(p)| =  4.3605e-07\n",
            "k =  24   p =  6.8232786655426025e-01   |f(p)| =  1.5034e-07\n",
            "k =  25   p =  6.8232780694961548e-01   |f(p)| =  7.4816e-09\n",
            "k =  26   p =  6.8232777714729309e-01   |f(p)| =  6.3946e-08\n",
            "k =  27   p =  6.8232779204845428e-01   |f(p)| =  2.8232e-08\n",
            "k =  28   p =  6.8232779949903488e-01   |f(p)| =  1.0375e-08\n",
            "k =  29   p =  6.8232780322432518e-01   |f(p)| =  1.4469e-09\n",
            "k =  30   p =  6.8232780508697033e-01   |f(p)| =  3.0173e-09\n",
            "k =  31   p =  6.8232780415564775e-01   |f(p)| =  7.8523e-10\n",
            "k =  32   p =  6.8232780368998647e-01   |f(p)| =  3.3083e-10\n",
            "k =  33   p =  6.8232780392281711e-01   |f(p)| =  2.2720e-10\n",
            "k =  34   p =  6.8232780380640179e-01   |f(p)| =  5.1811e-11\n",
            "k =  35   p =  6.8232780386460945e-01   |f(p)| =  8.7696e-11\n",
            "k =  36   p =  6.8232780383550562e-01   |f(p)| =  1.7943e-11\n",
            "k =  37   p =  6.8232780382095370e-01   |f(p)| =  1.6934e-11\n",
            "k =  38   p =  6.8232780382822966e-01   |f(p)| =  5.0404e-13\n",
            "k =  39   p =  6.8232780382459168e-01   |f(p)| =  8.2151e-12\n",
            "k =  40   p =  6.8232780382641067e-01   |f(p)| =  3.8555e-12\n",
            "k =  41   p =  6.8232780382732017e-01   |f(p)| =  1.6757e-12\n",
            "k =  42   p =  6.8232780382777491e-01   |f(p)| =  5.8575e-13\n",
            "k =  43   p =  6.8232780382800229e-01   |f(p)| =  4.0856e-14\n",
            "k =  44   p =  6.8232780382811598e-01   |f(p)| =  2.3159e-13\n",
            "k =  45   p =  6.8232780382805913e-01   |f(p)| =  9.5479e-14\n",
            "k =  46   p =  6.8232780382803071e-01   |f(p)| =  2.7311e-14\n",
            "k =  47   p =  6.8232780382801650e-01   |f(p)| =  6.7724e-15\n",
            "k =  48   p =  6.8232780382802360e-01   |f(p)| =  1.0214e-14\n",
            "k =  49   p =  6.8232780382802005e-01   |f(p)| =  1.7764e-15\n",
            "k =  50   p =  6.8232780382801828e-01   |f(p)| =  2.4425e-15\n",
            "k =  51   p =  6.8232780382801916e-01   |f(p)| =  4.4409e-16\n",
            "The size of the interval |b-a| =  8.881784197001252e-16\n",
            "k =  52   p =  6.823278038e-01   |f(p)| =  6.6613e-16\n"
          ]
        }
      ]
    },
    {
      "cell_type": "markdown",
      "source": [
        "## Newton's method\n",
        "\n",
        "TBD"
      ],
      "metadata": {
        "id": "X6YBCiI4j9jt"
      }
    }
  ]
}