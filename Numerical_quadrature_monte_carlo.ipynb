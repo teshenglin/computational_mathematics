{
  "nbformat": 4,
  "nbformat_minor": 0,
  "metadata": {
    "colab": {
      "name": "Numerical_quadrature_monte_carlo.ipynb",
      "provenance": [],
      "collapsed_sections": []
    },
    "kernelspec": {
      "name": "python3",
      "display_name": "Python 3"
    },
    "language_info": {
      "name": "python"
    }
  },
  "cells": [
    {
      "cell_type": "code",
      "execution_count": null,
      "metadata": {
        "id": "nK6fJ3LIuRce"
      },
      "outputs": [],
      "source": [
        "import random\n",
        "import matplotlib.pyplot as plt\n",
        "import math"
      ]
    },
    {
      "cell_type": "code",
      "source": [
        "a=10 #橢圓在x軸的長度\n",
        "b=3 #橢圓在y軸的長度\n",
        "points=100000 #取樣次數\n",
        "X=[]\n",
        "Y=[]\n",
        "co=[]\n",
        "count=0\n",
        "for i in range(points):\n",
        "  x=2*a*random.random()-a\n",
        "  y=2*b*random.random()-b\n",
        "  X.append(x)\n",
        "  Y.append(y)\n",
        "  if((x/a)**2+(y/b)**2<=1):\n",
        "    count=count+1\n",
        "    co.append('r')\n",
        "  else:\n",
        "    co.append('b')\n",
        "cX=[]\n",
        "cY=[]\n",
        "for i in range(10000):\n",
        "  cX.append(a*math.cos(i))\n",
        "  cY.append(b*math.sin(i))\n",
        "\n",
        "plt.scatter(cX,cY,s=0.1,c='black')\n",
        "plt.scatter(X,Y,s=2,c=co)\n",
        "plt.axis('equal')\n",
        "plt.show()\n",
        "\n",
        "print('Estimated Area =',(count/points)*a*b*4)\n",
        "print('Accurate Area =',a*b*math.pi)"
      ],
      "metadata": {
        "colab": {
          "base_uri": "https://localhost:8080/",
          "height": 321
        },
        "id": "JvcFT9A9uXmO",
        "outputId": "26c58193-b894-4575-8459-761a1110d311"
      },
      "execution_count": null,
      "outputs": [
        {
          "output_type": "display_data",
          "data": {
            "text/plain": [
              "<Figure size 432x288 with 1 Axes>"
            ],
            "image/png": "[encoded data removed]"
          },
          "metadata": {
            "needs_background": "light"
          }
        },
        {
          "output_type": "stream",
          "name": "stdout",
          "text": [
            "Estimated Area = 94.608\n",
            "Accurate Area = 94.24777960769379\n"
          ]
        }
      ]
    },
    {
      "cell_type": "code",
      "source": [
        ""
      ],
      "metadata": {
        "id": "wwg6gFg95J8i"
      },
      "execution_count": null,
      "outputs": []
    }
  ]
}