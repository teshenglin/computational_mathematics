{
 "cells": [
  {
   "cell_type": "markdown",
   "metadata": {},
   "source": [
    "# Section: Power method - Lecture 02\n",
    "\n",
    "In this lecture we will explaine how to find the second eigenvalue and how to find several eigenvalues together, but not all of them."
   ]
  },
  {
   "cell_type": "markdown",
   "metadata": {},
   "source": [
    "## [4] Deflation (For symmetric matrix)\n",
    "\n",
    "So, suppose we have found the first eigenvalue, how to find the second one? We can use deflation. \n",
    "\n",
    "### Method 1\n",
    "Given a symmetric metrix $B$, suppose we found the eigenvalue $\\lambda_1$ and eigenvector $v_1$, we can define a new matrix $B_2 = B - \\lambda_1 v_1v_1^T$. Then, one can show that the eigenvalues of $B2$ and $B$ are exactly the same except $\\lambda_1$ had been shifted to $0$.\n",
    "\n",
    "Note that $v_1^{\\top}v_1=1$\n",
    "\n",
    "#### Example\n",
    "In the following example we show how the deflation works."
   ]
  },
  {
   "cell_type": "code",
   "execution_count": 18,
   "metadata": {},
   "outputs": [
    {
     "name": "stdout",
     "output_type": "stream",
     "text": [
      "13.78378635197844\n"
     ]
    }
   ],
   "source": [
    "## Define a 3-by-3 matrix A\n",
    "A = [2 1 5; 5 7 9; 4 6 1];\n",
    "\n",
    "## Evaluate the eigenvalues\n",
    "using LinearAlgebra\n",
    "e_A = eigvals(A);\n",
    "\n",
    "## Take one of them that to be shifted to 0\n",
    "lambda = e_A[1];\n",
    "println(lambda)\n",
    "\n",
    "## Get the corresponding eigenvector\n",
    "v_A = eigvecs(A);\n",
    "v1 = v_A[:,1];"
   ]
  },
  {
   "cell_type": "code",
   "execution_count": 17,
   "metadata": {},
   "outputs": [
    {
     "name": "stdout",
     "output_type": "stream",
     "text": [
      "Eigenvalues of B\tEigenvalues of B2\n",
      "13.78378635197844\t-4.616660526085693\n",
      "0.8328741741072435\t7.993605777301127e-15\n",
      "-4.616660526085692\t0.8328741741072436\n"
     ]
    }
   ],
   "source": [
    "A2 = A - lambda*v1*v1';\n",
    "e_A2 = eigvals(A2); e_A2 = sort(e_A2);\n",
    "println(\"Eigenvalues of A\",\"\\t\",\"Eigenvalues of A2\")\n",
    "for ii=1:3\n",
    "    println(e_A[ii], \"\\t\", e_A2[ii])\n",
    "end"
   ]
  },
  {
   "cell_type": "markdown",
   "metadata": {},
   "source": [
    "Do you see the difference of eigenvalues of $A$ and $A_2$? The first eigenvalue has been shifted to $0$ (or almost $0$).\n",
    "\n",
    "So if we apply power method to $A_2$ we should be able to obtain the second eigenvalue."
   ]
  },
  {
   "cell_type": "markdown",
   "metadata": {},
   "source": [
    "### Method 2\n",
    "In fact, the deflation procedure is not unique. In general, we want to choose $x$ such that $x^{\\top}v_1=1$, then $A_3 = A-\\lambda_1v_1x^{\\top}$ should work.\n",
    "\n",
    "For example, define $x^{\\top} = (1/v_1[1],0,0,...,0)$, and $A_3 = A-\\lambda_1v_1x^{\\top}$.\n",
    "\n",
    "(Where $v_1[1]$ is the first component of vector $v_1$.)"
   ]
  },
  {
   "cell_type": "code",
   "execution_count": 22,
   "metadata": {},
   "outputs": [
    {
     "name": "stdout",
     "output_type": "stream",
     "text": [
      "Eigenvalues of A\tEigenvalues of A3\n",
      "13.78378635197844\t-4.616660526085702\n",
      "0.8328741741072435\t-2.0372592501871623e-14\n",
      "-4.616660526085692\t0.8328741741072727\n"
     ]
    }
   ],
   "source": [
    "x = zeros(3);\n",
    "x[1] = 1/v1[1];\n",
    "A3 = A - lambda*v1*x';\n",
    "e_A3 = eigvals(A3); e_A3 = sort(e_A3);\n",
    "println(\"Eigenvalues of A\",\"\\t\",\"Eigenvalues of A3\")\n",
    "for ii=1:3\n",
    "    println(e_A[ii], \"\\t\", e_A3[ii])\n",
    "end"
   ]
  },
  {
   "cell_type": "markdown",
   "metadata": {},
   "source": [
    "Again, as you can see, the first eigenvalue has been shifted to $0$ in $A_3$.\n",
    "\n",
    "### Method 3 - Wielandt Deflation\n",
    "\n",
    "There is a very special choice of the vector $x$. Define $x=A[1,:]/(\\lambda_1 v_1[1])$ and $A_4 = A-\\lambda v_1 x^{\\top}$.\n",
    "\n",
    "(Where $A[1,:]$ is the first row vector of $A$.)\n",
    "\n",
    "A little bit of bonus in Wielandt Deflation is that the size of the new matrix can be reduced by one, one of its row is entirely zero."
   ]
  },
  {
   "cell_type": "code",
   "execution_count": 28,
   "metadata": {},
   "outputs": [
    {
     "name": "stdout",
     "output_type": "stream",
     "text": [
      "Eigenvalues of B\tEigenvalues of B4\n",
      "13.78378635197844\t-4.616660526085691\n",
      "0.8328741741072435\t0.0\n",
      "-4.616660526085692\t0.8328741741072467\n",
      "\n",
      "The matrix A4\n",
      "[0.0, 0.0, 0.0]\n",
      "[-1.10705, 3.94647, -6.26763]\n",
      "[0.507896, 4.25395, -7.73026]\n"
     ]
    }
   ],
   "source": [
    "x = A[1,:]/(lambda*v1[1]);\n",
    "A4 = A - lambda*v1*x';\n",
    "e_A4 = eigvals(A4); e_A4 = sort(e_A4);\n",
    "println(\"Eigenvalues of B\",\"\\t\",\"Eigenvalues of B4\")\n",
    "for ii=1:3\n",
    "    println(e_A[ii], \"\\t\", e_A4[ii])\n",
    "end\n",
    "\n",
    "println()\n",
    "println(\"The matrix A4\")\n",
    "for ii=1:3\n",
    "    println(A4[ii,:])\n",
    "end"
   ]
  },
  {
   "cell_type": "markdown",
   "metadata": {},
   "source": [
    "We see that the first row of $A4$ is indeed exactly zero.\n",
    "\n",
    "#### Example - Wielandt Deflation\n",
    "\n",
    "In the following, we show a small test explaining that the size of the matrix can be reduced by one.\n",
    "\n",
    "Start with $4\\times4$ symmetric matrix $C$, define $x=C[1,:]/(\\lambda_1 v_1[1])$, $C_2=C - \\lambda_1 v_1 x^{\\top}$ and $C_3=C_2[2:4,2:4]$."
   ]
  },
  {
   "cell_type": "code",
   "execution_count": 35,
   "metadata": {},
   "outputs": [
    {
     "name": "stdout",
     "output_type": "stream",
     "text": [
      "Eigenvalues of C:\t[-0.401399, 0.244015, 0.993442, 1.39261]\n",
      "The smallest eigenvalue lambda_1 is\t-0.40139877365078946\n",
      "Eigenvalues of C2:\t[0.0, 0.244015, 0.993442, 1.39261]\n",
      "Eigenvalues of C3:\t[0.244015, 0.993442, 1.39261]\n"
     ]
    }
   ],
   "source": [
    "## Construct a 4-by-4 matrix\n",
    "n = 4;\n",
    "C = rand(n,n) .- 0.5; C = C+C';\n",
    "e_C = eigvals(C);\n",
    "\n",
    "## Find the smallest eigenvalue and corresponding eigenvector\n",
    "u = rand(n); u=u/norm(u,2);\n",
    "sigma = 0; sigma0 = 1;\n",
    "mu = 1;\n",
    "eps = 1.0e-10; ii=0;\n",
    "while abs.(sigma-sigma0)>eps\n",
    "    sigma0 = sigma;\n",
    "    global v = (C-sigma*UniformScaling(1))\\u;\n",
    "    v = v/norm(v,2);\n",
    "    sigma = v'*C*v;\n",
    "    ii = ii+1;\n",
    "end\n",
    "lambda_1 = sigma; v1 = v;\n",
    "\n",
    "## Use deflation to define the matrix C2\n",
    "x = C[1,:]/(lambda_1*v1[1]);\n",
    "C2 = C - lambda_1*v1*x';\n",
    "e_C2 = eigvals(C2); e_C2 = sort(e_C2);\n",
    "\n",
    "## As we know, the first row of C2 is zero\n",
    "## So we define a smaller matrix C3 and show its eigenvalues\n",
    "C3 = C2[2:n, 2:n];\n",
    "e_C3 = eigvals(C3); e_C3 = sort(e_C3);\n",
    "println(\"Eigenvalues of C:\", \"\\t\", e_C)\n",
    "println(\"The smallest eigenvalue lambda_1 is\",\"\\t\", sigma)\n",
    "println(\"Eigenvalues of C2:\", \"\\t\", e_C2)\n",
    "println(\"Eigenvalues of C3:\", \"\\t\", e_C3)"
   ]
  },
  {
   "cell_type": "markdown",
   "metadata": {},
   "source": [
    "## [5] Subspace iteration\n",
    "Can we find several eigenvalues in the same time? Yes!\n",
    "\n",
    "### Algorithm:\n",
    "1. Construct a matrix $Q_0\\in \\mathbb{R}^{n\\times p}$ of orthonormal column vectors.\n",
    "2. for $k=1,2,...m$  (1) $Z_k = AQ_{k-1}$ (2) $Q_kR_k = Z_k$ (QR-decomposition)\n",
    "3. The p largest (absolute) eigenvalues are $\\|Q_m(:,1)\\|_2,\\cdots,\\|Q_m(:,p)\\|_2$. (Where $Q_m(:,l)$ is the $l$ column vector of $Q_m$.)\n",
    "\n",
    "Note that when $p=1$ this is just the power method."
   ]
  },
  {
   "cell_type": "code",
   "execution_count": 36,
   "metadata": {},
   "outputs": [],
   "source": [
    "# Construct a symmetric matrix\n",
    "n=1000;\n",
    "A = rand(n, n).-0.5;\n",
    "A = A+A';"
   ]
  },
  {
   "cell_type": "markdown",
   "metadata": {},
   "source": [
    "Try to find $4$ largest (absolute) eigenvalues"
   ]
  },
  {
   "cell_type": "code",
   "execution_count": 37,
   "metadata": {},
   "outputs": [
    {
     "name": "stdout",
     "output_type": "stream",
     "text": [
      "The 1st eigenvalue is  25.625496745162256\n",
      "The 2nd eigenvalue is  25.55390053598934\n",
      "The 3rd eigenvalue is  25.492736253154703\n",
      "The 4th eigenvalue is  25.32194814725078\n",
      "# of iterations= 3813\n"
     ]
    }
   ],
   "source": [
    "# Constructing a set of orthonormal vectors\n",
    "u2 = zeros(n,4);\n",
    "u = rand(n,1); u = u/norm(u,2); u2[:,1] = u;\n",
    "v = rand(n,1); v = v/norm(u,2);\n",
    "v = v - (v'*u).*u; u2[:,2] = v;\n",
    "w = rand(n,1); w = w/norm(u,2);\n",
    "w = w - (w'*u).*u; w = w - (w'*v).*v;\n",
    "u2[:,3] = w;\n",
    "x = rand(n,1); x = x/norm(u,2);\n",
    "x = x - (x'*u).*u; x = x - (x'*v).*v; x = x - (x'*w).*w;\n",
    "u2[:,4] = x;\n",
    "\n",
    "# Initialize the eigenvalue\n",
    "mu = ones(1,4); mu2 = zeros(1,4);\n",
    "\n",
    "# Define epsilon\n",
    "eps = 1.0e-10; ii=0;\n",
    "\n",
    "# The loop\n",
    "while norm(mu2-mu)>eps\n",
    "    mu2[:] = mu[:];\n",
    "    v2 = A*u2;\n",
    "    u = v2[:,1]; mu[1,1] = norm(u,2); u = u/mu[1,1];\n",
    "    v = v2[:,2]; mu[1,2] = norm(v,2); v = v/mu[1,2];\n",
    "    w = v2[:,3]; mu[1,3] = norm(w,2); w = w/mu[1,3];\n",
    "    x = v2[:,4]; mu[1,4] = norm(x,2); x = x/mu[1,4];\n",
    "    v = v - (v'*u).*u;\n",
    "    w = w - (w'*u).*u; w = w - (w'*v).*v;\n",
    "    x = x - (x'*u).*u; x = x - (x'*v).*v; x = x - (x'*w).*w;\n",
    "    u2[:,1] = u; u2[:,2] = v; u2[:,3] = w; u2[:,4] = x;\n",
    "    ii=ii+1;\n",
    "end\n",
    "println(\"The 1st eigenvalue is  \", mu[1,1])\n",
    "println(\"The 2nd eigenvalue is  \", mu[1,2])\n",
    "println(\"The 3rd eigenvalue is  \", mu[1,3])\n",
    "println(\"The 4th eigenvalue is  \", mu[1,4])\n",
    "println(\"# of iterations= \", ii)"
   ]
  },
  {
   "cell_type": "code",
   "execution_count": 38,
   "metadata": {},
   "outputs": [
    {
     "data": {
      "text/plain": [
       "1000-element Array{Float64,1}:\n",
       " -25.55390055071426 \n",
       " -25.49273623846501 \n",
       " -25.07297226022513 \n",
       " -25.031529206139744\n",
       " -24.751845169690455\n",
       " -24.667147082617593\n",
       " -24.640702160694268\n",
       " -24.410154441981888\n",
       " -24.346425364819023\n",
       " -24.168058539544013\n",
       " -24.056576493620646\n",
       " -24.0384983111136  \n",
       " -23.812732259714835\n",
       "   ⋮                \n",
       "  23.99097703142358 \n",
       "  24.109124650709415\n",
       "  24.15419482437092 \n",
       "  24.400006176865723\n",
       "  24.50990445656496 \n",
       "  24.569429013037578\n",
       "  24.82285026049988 \n",
       "  24.930559137774665\n",
       "  25.140264352233473\n",
       "  25.21460425766708 \n",
       "  25.321948147251813\n",
       "  25.62549674516199 "
      ]
     },
     "execution_count": 38,
     "metadata": {},
     "output_type": "execute_result"
    }
   ],
   "source": [
    "eigvals(A)"
   ]
  },
  {
   "cell_type": "markdown",
   "metadata": {},
   "source": [
    "Try to find $4$ smallest (absolute) eigenvalues. (By timing $A^{-1}$, similar to the inverse power method)"
   ]
  },
  {
   "cell_type": "code",
   "execution_count": 39,
   "metadata": {},
   "outputs": [
    {
     "name": "stdout",
     "output_type": "stream",
     "text": [
      "The 1st eigenvalue is  0.03311930379088369\n",
      "The 2nd eigenvalue is  0.05074606701304302\n",
      "The 3rd eigenvalue is  0.06706882622958633\n",
      "The 4th eigenvalue is  0.10242229420618781\n",
      "# of iterations= 169\n"
     ]
    }
   ],
   "source": [
    "# Constructing a set of orthonormal vectors\n",
    "u2 = zeros(n,4);\n",
    "u = rand(n,1); u = u/norm(u,2); u2[:,1] = u;\n",
    "v = rand(n,1); v = v/norm(u,2);\n",
    "v = v - (v'*u).*u; u2[:,2] = v;\n",
    "w = rand(n,1); w = w/norm(u,2);\n",
    "w = w - (w'*u).*u; w = w - (w'*v).*v;\n",
    "u2[:,3] = w;\n",
    "x = rand(n,1); x = x/norm(u,2);\n",
    "x = x - (x'*u).*u; x = x - (x'*v).*v; x = x - (x'*w).*w;\n",
    "u2[:,4] = x;\n",
    "\n",
    "# Initialize the eigenvalue\n",
    "mu = ones(1,4); mu2 = zeros(1,4);\n",
    "\n",
    "# Define epsilon\n",
    "eps = 1.0e-10; ii=0;\n",
    "\n",
    "# The loop\n",
    "while norm(mu2-mu)>eps\n",
    "    mu2[:] = mu[:];\n",
    "    v2 = A\\u2;\n",
    "    u = v2[:,1]; mu[1,1] = norm(u,2); u = u/mu[1,1];\n",
    "    v = v2[:,2]; mu[1,2] = norm(v,2); v = v/mu[1,2];\n",
    "    w = v2[:,3]; mu[1,3] = norm(w,2); w = w/mu[1,3];\n",
    "    x = v2[:,4]; mu[1,4] = norm(x,2); x = x/mu[1,4];\n",
    "    v = v - (v'*u).*u;\n",
    "    w = w - (w'*u).*u; w = w - (w'*v).*v;\n",
    "    x = x - (x'*u).*u; x = x - (x'*v).*v; x = x - (x'*w).*w;\n",
    "    u2[:,1] = u; u2[:,2] = v; u2[:,3] = w; u2[:,4] = x;\n",
    "    ii=ii+1;\n",
    "end\n",
    "println(\"The 1st eigenvalue is  \", 1/mu[1,1])\n",
    "println(\"The 2nd eigenvalue is  \", 1/mu[1,2])\n",
    "println(\"The 3rd eigenvalue is  \", 1/mu[1,3])\n",
    "println(\"The 4th eigenvalue is  \", 1/mu[1,4])\n",
    "println(\"# of iterations= \", ii)"
   ]
  },
  {
   "cell_type": "markdown",
   "metadata": {},
   "source": [
    "## Subspace iteration - Test for non-symmetric matrix"
   ]
  },
  {
   "cell_type": "code",
   "execution_count": 40,
   "metadata": {},
   "outputs": [
    {
     "name": "stdout",
     "output_type": "stream",
     "text": [
      "[2.0, 1.0, 1.0]\n"
     ]
    },
    {
     "data": {
      "text/plain": [
       "3×3 Array{Float64,2}:\n",
       "  1.56537     -0.465441    -0.735656\n",
       " -0.523134     1.43067      0.680702\n",
       " -0.00304395   0.00250594   1.00396 "
      ]
     },
     "execution_count": 40,
     "metadata": {},
     "output_type": "execute_result"
    }
   ],
   "source": [
    "B = zeros(3,3);\n",
    "B[:,:] = Diagonal([1;1;2]); B[1,3]=1;\n",
    "C = rand(3,3); Q, R = qr(C); B = Q'*B*Q;\n",
    "println(eigvals(B))\n",
    "B"
   ]
  },
  {
   "cell_type": "code",
   "execution_count": 41,
   "metadata": {},
   "outputs": [
    {
     "name": "stdout",
     "output_type": "stream",
     "text": [
      "The 1st eigenvalue is  2.000000000078225\n",
      "The 2nd eigenvalue is  1.0000000000131641\n",
      "# of iterations= 34\n"
     ]
    }
   ],
   "source": [
    "n=3; m=2;\n",
    "# Constructing a set of orthonormal vectors\n",
    "u2 = zeros(n,m);\n",
    "u = rand(n,1); u = u/norm(u,2); u2[:,1] = u;\n",
    "v = rand(n,1); v = v/norm(u,2);\n",
    "v = v - (v'*u).*u; u2[:,2] = v;\n",
    "\n",
    "# Initialize the eigenvalue\n",
    "mu = ones(1,m); mu2 = zeros(1,m);\n",
    "\n",
    "# Define epsilon\n",
    "eps = 1.0e-10; ii=0;\n",
    "\n",
    "# The loop\n",
    "while norm(mu2-mu)>eps\n",
    "    mu2[:] = mu[:];\n",
    "    v2 = B*u2;\n",
    "    u = v2[:,1]; mu[1,1] = norm(u,2); u = u/mu[1,1];\n",
    "    v = v2[:,2]; mu[1,2] = norm(v,2); v = v/mu[1,2];\n",
    "    v = v - (v'*u).*u;\n",
    "    u2[:,1] = u; u2[:,2] = v;\n",
    "    ii=ii+1;\n",
    "end\n",
    "println(\"The 1st eigenvalue is  \", mu[1,1])\n",
    "println(\"The 2nd eigenvalue is  \", mu[1,2])\n",
    "println(\"# of iterations= \", ii)"
   ]
  },
  {
   "cell_type": "markdown",
   "metadata": {},
   "source": [
    "## QR algorithm\n",
    "\n",
    "#### Algorithm:\n",
    "1. $Q_0 R_0 = qr(B)$ (QR-decomposition)\n",
    "2. for $i=1,2,...,k$  \n",
    "    1. $B_i = R_{i-1}Q_{i-1}$ \n",
    "    2. $Q_i R_i=B_i$ \n",
    "    3. $\\mu_i=diag(B_i)$\n",
    "3. components of $\\mu_k$ are the desired eigenvalues"
   ]
  },
  {
   "cell_type": "code",
   "execution_count": 42,
   "metadata": {},
   "outputs": [
    {
     "name": "stdout",
     "output_type": "stream",
     "text": [
      "The eigenvalues are  [2.0, 1.0, 1.0]\n",
      "# of iterations= 30\n"
     ]
    }
   ],
   "source": [
    "n=3;\n",
    "Q, R = qr(B);\n",
    "\n",
    "# Define epsilon\n",
    "eps = 1.0e-10; ii=0;\n",
    "mu = ones(n,1); mu2 = zeros(n,1); \n",
    "\n",
    "# The loop\n",
    "while norm(mu2-mu)>eps\n",
    "    global A2\n",
    "    mu2 = mu;\n",
    "    A2 = R*Q;\n",
    "    Q, R = qr(A2);\n",
    "    mu = diag(A2);\n",
    "    ii=ii+1;\n",
    "end\n",
    "println(\"The eigenvalues are  \", mu)\n",
    "println(\"# of iterations= \", ii)"
   ]
  },
  {
   "cell_type": "code",
   "execution_count": 43,
   "metadata": {},
   "outputs": [
    {
     "data": {
      "text/plain": [
       "3×3 Array{Float64,2}:\n",
       "  2.0           0.0579215    -0.998321   \n",
       " -8.21161e-10   1.0           8.19783e-10\n",
       " -3.69499e-12  -2.13865e-13   1.0        "
      ]
     },
     "execution_count": 43,
     "metadata": {},
     "output_type": "execute_result"
    }
   ],
   "source": [
    "A2"
   ]
  },
  {
   "cell_type": "markdown",
   "metadata": {},
   "source": [
    "## Eigenvalue problem of Laplace operator\n",
    "$$u_{xx} = \\lambda u, \\qquad u(0) = u(1) = 0.$$\n",
    "We can solve this numerically by the difference method.\n",
    "\n",
    "$$u_{xx} \\approx \\frac{u(x-h)-2u(x)+u(x+h)}{h^2}$$\n",
    "\n",
    "$$A:=\\frac{1}{h^2}\\begin{bmatrix}\n",
    "-2 & 1 & & & 0\\\\\n",
    "1  & -2 & 1 \\\\\n",
    "  & 1 & -2 & \\ddots \\\\\n",
    "  & & \\ddots & \\ddots & 1 \\\\\n",
    "  0 & & & 1 &-2\n",
    "\\end{bmatrix}$$"
   ]
  },
  {
   "cell_type": "code",
   "execution_count": 44,
   "metadata": {},
   "outputs": [],
   "source": [
    "n = 1000; A = zeros(n-1,n-1);\n",
    "for ii=1:n-1\n",
    "    A[ii,ii] = -2;\n",
    "end\n",
    "for ii=1:n-2\n",
    "    A[ii, ii+1]=1;\n",
    "    A[ii+1, ii]=1;\n",
    "end\n",
    "h = 1/n; A = A/h^2;"
   ]
  },
  {
   "cell_type": "markdown",
   "metadata": {},
   "source": [
    "Solve the 4 smallest (absolute) eigenvalues by subspace iteration."
   ]
  },
  {
   "cell_type": "code",
   "execution_count": 45,
   "metadata": {},
   "outputs": [
    {
     "name": "stdout",
     "output_type": "stream",
     "text": [
      "The 1st eigenvalue is  9.86959628366954\n",
      "The 2nd eigenvalue is  39.47828772573998\n",
      "The 3rd eigenvalue is  88.82578210039149\n",
      "The 4th eigenvalue is  157.91159236855148\n",
      "# of iterations= 28\n"
     ]
    }
   ],
   "source": [
    "n = n-1;\n",
    "# Constructing a set of orthonormal vectors\n",
    "u2 = zeros(n,4);\n",
    "u = rand(n,1); u = u/norm(u,2); u2[:,1] = u;\n",
    "v = rand(n,1); v = v/norm(u,2);\n",
    "v = v - (v'*u).*u; u2[:,2] = v;\n",
    "w = rand(n,1); w = w/norm(u,2);\n",
    "w = w - (w'*u).*u; w = w - (w'*v).*v;\n",
    "u2[:,3] = w;\n",
    "x = rand(n,1); x = x/norm(u,2);\n",
    "x = x - (x'*u).*u; x = x - (x'*v).*v; x = x - (x'*w).*w;\n",
    "u2[:,4] = x;\n",
    "\n",
    "# Initialize the eigenvalue\n",
    "mu = ones(1,4); mu2 = zeros(1,4);\n",
    "\n",
    "# Define epsilon\n",
    "eps = 1.0e-13; ii=0;\n",
    "\n",
    "# The loop\n",
    "while norm(mu2-mu)>eps\n",
    "    mu2[:] = mu[:];\n",
    "    v2 = A\\u2;\n",
    "    u = v2[:,1]; mu[1,1] = norm(u,2); u = u/mu[1,1];\n",
    "    v = v2[:,2]; mu[1,2] = norm(v,2); v = v/mu[1,2];\n",
    "    w = v2[:,3]; mu[1,3] = norm(w,2); w = w/mu[1,3];\n",
    "    x = v2[:,4]; mu[1,4] = norm(x,2); x = x/mu[1,4];\n",
    "    v = v - (v'*u).*u;\n",
    "    w = w - (w'*u).*u; w = w - (w'*v).*v;\n",
    "    x = x - (x'*u).*u; x = x - (x'*v).*v; x = x - (x'*w).*w;\n",
    "    u2[:,1] = u; u2[:,2] = v; u2[:,3] = w; u2[:,4] = x;\n",
    "    ii=ii+1;\n",
    "end\n",
    "println(\"The 1st eigenvalue is  \", 1/mu[1,1])\n",
    "println(\"The 2nd eigenvalue is  \", 1/mu[1,2])\n",
    "println(\"The 3rd eigenvalue is  \", 1/mu[1,3])\n",
    "println(\"The 4th eigenvalue is  \", 1/mu[1,4])\n",
    "println(\"# of iterations= \", ii)"
   ]
  },
  {
   "cell_type": "markdown",
   "metadata": {},
   "source": [
    "## Conclusion\n",
    "\n",
    "In this two lectures we have explain quit a bit of the methods of finding eigenvalues. All the algorithm are explained using test examples but there is no proof or anything rigorous which shall be complete by reading textbook."
   ]
  },
  {
   "cell_type": "code",
   "execution_count": null,
   "metadata": {},
   "outputs": [],
   "source": []
  }
 ],
 "metadata": {
  "kernelspec": {
   "display_name": "Julia 1.1.0",
   "language": "julia",
   "name": "julia-1.1"
  },
  "language_info": {
   "file_extension": ".jl",
   "mimetype": "application/julia",
   "name": "julia",
   "version": "1.1.0"
  }
 },
 "nbformat": 4,
 "nbformat_minor": 2
}
