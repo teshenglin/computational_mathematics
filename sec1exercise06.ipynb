{
  "cells": [
    {
      "cell_type": "markdown",
      "metadata": {
        "id": "VSFtEMbN6VRg"
      },
      "source": [
        "# Compute the first $N$ positive roots of the equation $\\tan(x)=x$"
      ]
    },
    {
      "cell_type": "code",
      "execution_count": 1,
      "metadata": {
        "id": "HdF-jKUm6VRi"
      },
      "outputs": [],
      "source": [
        "import numpy as np"
      ]
    },
    {
      "cell_type": "markdown",
      "metadata": {
        "id": "GXOfUPCy6VRi"
      },
      "source": [
        "## Reformulate the problem\n",
        "\n",
        "$\\tan(x) = x \\Leftrightarrow \\cot(x) = \\frac{1}{x}$ \n",
        "\n",
        "We set $f(x) = cot(x)-\\frac{1}{x}$ and use Newton's method to look for the roots."
      ]
    },
    {
      "cell_type": "code",
      "execution_count": 2,
      "metadata": {
        "id": "at0mnnp-6VRj"
      },
      "outputs": [],
      "source": [
        "def myfun(x):\n",
        "    y = (1.0 / np.tan(x)) - (1.0 / x)\n",
        "    return y\n",
        "\n",
        "def myfunderivative(x):\n",
        "    y = - ((1.0 / np.sin(x)) ** 2) + (1.0 / (x ** 2))\n",
        "    return y"
      ]
    },
    {
      "cell_type": "markdown",
      "metadata": {
        "id": "em8BZ3UB6VRj"
      },
      "source": [
        "## To look for the roots\n"
      ]
    },
    {
      "cell_type": "markdown",
      "source": [
        "#### Newton's method\n",
        "\n",
        "Inputs:\n",
        "\n",
        "- f: the handle function\n",
        "- fd: the derivative of the handle function\n",
        "- p0: initial guess\n",
        "- tol: tolerance\n",
        "\n",
        "Outputs:\n",
        "\n",
        "- root: p\n",
        "- residual: f(p)"
      ],
      "metadata": {
        "id": "LXWFl-Q5wAZ3"
      }
    },
    {
      "cell_type": "code",
      "execution_count": 3,
      "metadata": {
        "id": "BCb6JPx66VRj"
      },
      "outputs": [],
      "source": [
        "def myNewton(f, fd, p0, tol):\n",
        "    ### function value of p0\n",
        "    fp0 = f(p0)\n",
        "    dfp0 = fd(p0)\n",
        "    \n",
        "    #if ( abs(dfp0) < 1e-15 ):\n",
        "        #print(f'|df/dx| = {abs(dfp0)}: the derivative is nearly vanishing!')\n",
        "    \n",
        "    itmax = 50\n",
        "    pn1 = p0\n",
        "    \n",
        "    for iter in range(1, itmax+1):\n",
        "        p1 = p0 - fp0/dfp0\n",
        "        fp1 = f(p1)\n",
        "        dfp1 = fd(p1)\n",
        "        if ( abs(p1-p0)<tol ):\n",
        "            #print('Tolerance achieved, |p1-p0|= ', '%.4e' % abs(p1-p0))\n",
        "            break\n",
        "\n",
        "        if ( abs(dfp1)<1e-15 ):\n",
        "            #print(f'|df/dx| = {abs(dfp1)}: the derivative is nearly vanishing!')   \n",
        "            break\n",
        "\n",
        "        p0 = p1\n",
        "        fp0 = fp1\n",
        "        dfp0 = dfp1\n",
        "        \n",
        "    return p1, fp1"
      ]
    },
    {
      "cell_type": "markdown",
      "metadata": {
        "id": "Qmm7Y70A6VRk"
      },
      "source": [
        "#### Key idea for the initial guess\n",
        "\n",
        "1. There's a root in $(n\\pi, (n+1)\\pi)$ for every $n\\in\\mathbb{N}$.\n",
        "2. Because $1/x \\to 0$, when n is efficiently large, the root in $(n\\pi, (n+1)\\pi)$ will be close to the point where $cot(x)=0$, which is $n\\pi+\\frac{\\pi}{2}$.\n",
        "\n",
        "Thus, we choose the intial guess as $p_0 = n\\pi+\\frac{\\pi}{2}$."
      ]
    },
    {
      "cell_type": "markdown",
      "metadata": {
        "id": "mX_vHozl6VRk"
      },
      "source": [
        "Inputs:\n",
        "- rootAmount: Number of roots to be found.\n",
        "\n",
        "Outputs:\n",
        "- First $N$ positive roots of $x = tan(x)$, where $N=$rootAmount."
      ]
    },
    {
      "cell_type": "code",
      "execution_count": 4,
      "metadata": {
        "id": "LODksS4K6VRk"
      },
      "outputs": [],
      "source": [
        "def getPositiveRoots(rootAmount):\n",
        "    for n in range(1, rootAmount+1):\n",
        "        p0 = np.pi / 2 + np.pi * n\n",
        "        pc, fp = myNewton(myfun, myfunderivative, p0, 1e-16)\n",
        "        print('%3d' % n + '-th root', '  p = ', '%.16e' % pc, '  |f(p)| = ', '%.4e' % abs(fp))"
      ]
    },
    {
      "cell_type": "code",
      "execution_count": 5,
      "metadata": {
        "colab": {
          "base_uri": "https://localhost:8080/"
        },
        "id": "ZPvyK5XS6VRk",
        "outputId": "2cad51e3-3c1e-47cf-bb4b-c54e50568f7c"
      },
      "outputs": [
        {
          "output_type": "stream",
          "name": "stdout",
          "text": [
            "  1-th root   p =  4.4934094579090642e+00   |f(p)| =  2.7756e-17\n",
            "  2-th root   p =  7.7252518369377068e+00   |f(p)| =  3.8858e-16\n",
            "  3-th root   p =  1.0904121659428899e+01   |f(p)| =  8.3267e-16\n",
            "  4-th root   p =  1.4066193912831473e+01   |f(p)| =  6.9389e-16\n",
            "  5-th root   p =  1.7220755271930770e+01   |f(p)| =  1.2004e-15\n",
            "  6-th root   p =  2.0371302959287561e+01   |f(p)| =  1.4433e-15\n",
            "  7-th root   p =  2.3519452498689006e+01   |f(p)| =  6.5226e-16\n",
            "  8-th root   p =  2.6666054258812675e+01   |f(p)| =  1.6862e-15\n",
            "  9-th root   p =  2.9811598790892958e+01   |f(p)| =  5.6205e-16\n",
            " 10-th root   p =  3.2956389039822476e+01   |f(p)| =  1.0270e-15\n",
            " 11-th root   p =  3.6100622244375607e+01   |f(p)| =  3.4035e-15\n",
            " 12-th root   p =  3.9244432361164193e+01   |f(p)| =  5.8287e-16\n",
            " 13-th root   p =  4.2387913568131921e+01   |f(p)| =  1.3843e-15\n",
            " 14-th root   p =  4.5531134013991277e+01   |f(p)| =  2.5813e-15\n",
            " 15-th root   p =  4.8674144231954386e+01   |f(p)| =  7.0083e-16\n",
            " 16-th root   p =  5.1816982487279667e+01   |f(p)| =  2.7998e-15\n",
            " 17-th root   p =  5.4959678287888934e+01   |f(p)| =  1.5925e-15\n",
            " 18-th root   p =  5.8102254754495590e+01   |f(p)| =  2.7443e-15\n",
            " 19-th root   p =  6.1244730260374403e+01   |f(p)| =  3.1121e-15\n",
            " 20-th root   p =  6.4387119590557418e+01   |f(p)| =  4.5797e-15\n",
            " 21-th root   p =  6.7529434777144118e+01   |f(p)| =  1.2247e-15\n",
            " 22-th root   p =  7.0671685711619503e+01   |f(p)| =  2.1927e-15\n",
            " 23-th root   p =  7.3813880600680648e+01   |f(p)| =  4.3455e-15\n",
            " 24-th root   p =  7.6956026310331183e+01   |f(p)| =  1.5613e-17\n",
            " 25-th root   p =  8.0098128628945119e+01   |f(p)| =  5.7992e-15\n",
            " 26-th root   p =  8.3240192470723400e+01   |f(p)| =  4.3472e-15\n",
            " 27-th root   p =  8.6382222034728713e+01   |f(p)| =  1.5318e-15\n",
            " 28-th root   p =  8.9524220930417187e+01   |f(p)| =  2.6090e-15\n",
            " 29-th root   p =  9.2666192277622841e+01   |f(p)| =  3.2127e-15\n",
            " 30-th root   p =  9.5808138786861704e+01   |f(p)| =  5.4592e-15\n",
            " 31-th root   p =  9.8950062824331880e+01   |f(p)| =  2.4460e-16\n",
            " 32-th root   p =  1.0209196646490764e+02   |f(p)| =  9.6104e-16\n",
            " 33-th root   p =  1.0523385153563760e+02   |f(p)| =  4.5103e-17\n",
            " 34-th root   p =  1.0837571965167469e+02   |f(p)| =  3.3116e-15\n",
            " 35-th root   p =  1.1151757224613101e+02   |f(p)| =  1.7313e-15\n",
            " 36-th root   p =  1.1465941059502308e+02   |f(p)| =  3.1902e-15\n",
            " 37-th root   p =  1.1780123583822439e+02   |f(p)| =  3.4504e-15\n",
            " 38-th root   p =  1.2094304899715149e+02   |f(p)| =  2.2794e-15\n",
            " 39-th root   p =  1.2408485098976276e+02   |f(p)| =  3.4469e-15\n",
            " 40-th root   p =  1.2722664264333433e+02   |f(p)| =  3.9985e-15\n",
            " 41-th root   p =  1.3036842470538841e+02   |f(p)| =  6.7177e-15\n",
            " 42-th root   p =  1.3351019785307838e+02   |f(p)| =  9.1680e-15\n",
            " 43-th root   p =  1.3665196270127899e+02   |f(p)| =  5.1981e-15\n",
            " 44-th root   p =  1.3979371980958541e+02   |f(p)| =  8.6363e-15\n",
            " 45-th root   p =  1.4293546968838928e+02   |f(p)| =  1.1275e-14\n",
            " 46-th root   p =  1.4607721280417036e+02   |f(p)| =  9.5323e-16\n",
            " 47-th root   p =  1.4921894958411983e+02   |f(p)| =  3.8554e-15\n",
            " 48-th root   p =  1.5236068042019124e+02   |f(p)| =  6.8955e-15\n",
            " 49-th root   p =  1.5550240567266067e+02   |f(p)| =  4.5745e-15\n",
            " 50-th root   p =  1.5864412567326343e+02   |f(p)| =  9.9660e-15\n"
          ]
        }
      ],
      "source": [
        "getPositiveRoots(50)"
      ]
    },
    {
      "cell_type": "markdown",
      "source": [
        "### Timing\n",
        "\n",
        "That's evaluate the time taken for compute $N$ roots."
      ],
      "metadata": {
        "id": "zjMcE0rRxy9h"
      }
    },
    {
      "cell_type": "code",
      "execution_count": 6,
      "metadata": {
        "id": "cgYwBASO6VRl"
      },
      "outputs": [],
      "source": [
        "from timeit import timeit"
      ]
    },
    {
      "cell_type": "code",
      "source": [
        "def rootfindingtime():\n",
        "  return getPositiveRoots2(numberofroots)\n",
        "\n",
        "def getPositiveRoots2(rootAmount):\n",
        "    for n in range(1, rootAmount+1):\n",
        "        p0 = np.pi / 2 + np.pi * n\n",
        "        pc, fp = myNewton(myfun, myfunderivative, p0, 1e-16)"
      ],
      "metadata": {
        "id": "kpo3MgyTx3_6"
      },
      "execution_count": 7,
      "outputs": []
    },
    {
      "cell_type": "code",
      "source": [
        "numberofroots = 1000\n",
        "print('The time takes to find ', numberofroots, ' roots = ', timeit(stmt=rootfindingtime, number=10))"
      ],
      "metadata": {
        "colab": {
          "base_uri": "https://localhost:8080/"
        },
        "id": "Qejhx4rjx7bH",
        "outputId": "f39dc2b7-ed81-41c1-ccea-2397ea24faaf"
      },
      "execution_count": 8,
      "outputs": [
        {
          "output_type": "stream",
          "name": "stdout",
          "text": [
            "The time takes to find  1000  roots =  1.096945233999996\n"
          ]
        }
      ]
    },
    {
      "cell_type": "code",
      "source": [
        ""
      ],
      "metadata": {
        "id": "hTZ5XFhSXWL5"
      },
      "execution_count": 8,
      "outputs": []
    }
  ],
  "metadata": {
    "kernelspec": {
      "display_name": "Python 3",
      "language": "python",
      "name": "python3"
    },
    "language_info": {
      "codemirror_mode": {
        "name": "ipython",
        "version": 3
      },
      "file_extension": ".py",
      "mimetype": "text/x-python",
      "name": "python",
      "nbconvert_exporter": "python",
      "pygments_lexer": "ipython3",
      "version": "3.9.0"
    },
    "colab": {
      "name": "sec1exercise06.ipynb",
      "provenance": [],
      "collapsed_sections": []
    }
  },
  "nbformat": 4,
  "nbformat_minor": 0
}