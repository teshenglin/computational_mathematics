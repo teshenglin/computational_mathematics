{
 "cells": [
  {
   "cell_type": "code",
   "execution_count": 1,
   "id": "8c9f4109-6481-4b60-ae4e-569643f09c7c",
   "metadata": {
    "tags": []
   },
   "outputs": [],
   "source": [
    "import numpy as np"
   ]
  },
  {
   "cell_type": "markdown",
   "id": "e31e7370-f197-47df-8049-e0666491ec19",
   "metadata": {},
   "source": [
    "# Example 1"
   ]
  },
  {
   "cell_type": "code",
   "execution_count": 2,
   "id": "cfeba22f-a8a3-4373-8f2f-1c9dc37e0577",
   "metadata": {
    "tags": []
   },
   "outputs": [
    {
     "name": "stdout",
     "output_type": "stream",
     "text": [
      "numerical solutions:\n",
      "x =  0.7664206995555405\n",
      "y =  0.24651531184817932\n"
     ]
    }
   ],
   "source": [
    "# Define the system Ax = b\n",
    "A = np.array([[0.8623, 0.7312], [0.8177, 0.6935]])\n",
    "\n",
    "# exact solution\n",
    "exact_x = np.random.rand(2)\n",
    "\n",
    "# Use the solution x to calculate b as b = Ax\n",
    "b = A@exact_x\n",
    "\n",
    "# solve Ax=b\n",
    "x = np.linalg.solve(A, b)\n",
    "\n",
    "# Print the solutions\n",
    "print(\"numerical solutions:\")\n",
    "print(\"x = \", x[0])\n",
    "print(\"y = \", x[1])"
   ]
  },
  {
   "cell_type": "code",
   "execution_count": 3,
   "id": "fbf44a64-cc45-4ef2-8974-72a6cb4d060e",
   "metadata": {
    "tags": []
   },
   "outputs": [
    {
     "name": "stdout",
     "output_type": "stream",
     "text": [
      "residuals:\n",
      "0.0\n",
      "0.0\n",
      "\n",
      "absolute error between the exact and approximate solutions:\n",
      "6.48703313288479e-13\n",
      "7.649436639667329e-13\n"
     ]
    }
   ],
   "source": [
    "# residuals\n",
    "r = A@x - b\n",
    "\n",
    "# Print the residuals\n",
    "print(\"residuals:\")\n",
    "print(r[0])\n",
    "print(r[1])\n",
    "\n",
    "# errors\n",
    "error = np.abs(exact_x - x)\n",
    "\n",
    "print()\n",
    "print(\"absolute error between the exact and approximate solutions:\")\n",
    "print(error[0])\n",
    "print(error[1])"
   ]
  },
  {
   "cell_type": "code",
   "execution_count": 4,
   "id": "7564f466-3899-4bc3-91b6-ed96e13af890",
   "metadata": {
    "tags": []
   },
   "outputs": [
    {
     "name": "stdout",
     "output_type": "stream",
     "text": [
      "\n",
      "condition number of the system =  23614.3397105729\n"
     ]
    }
   ],
   "source": [
    "# condition number of the system\n",
    "cond = np.linalg.cond(A)\n",
    "print()\n",
    "print(\"condition number of the system = \", cond)"
   ]
  },
  {
   "cell_type": "markdown",
   "id": "082c3c3a-3ed1-4046-9c8a-3960033704dd",
   "metadata": {},
   "source": [
    "# Example 2"
   ]
  },
  {
   "cell_type": "code",
   "execution_count": 5,
   "id": "e6a2016c-f9b0-410c-a749-57c05d9f4a6e",
   "metadata": {
    "tags": []
   },
   "outputs": [
    {
     "name": "stdout",
     "output_type": "stream",
     "text": [
      "condition number of the system =  465.5747751942386\n",
      "\n",
      "numerical solutions:\n",
      "x =  0.338818328595434\n",
      "y =  0.036184314245013005\n"
     ]
    }
   ],
   "source": [
    "# Define the system Ax = b\n",
    "A = np.array([[0.86, 0.73], [0.82, 0.69]])\n",
    "\n",
    "# condition number of the system\n",
    "cond = np.linalg.cond(A)\n",
    "print(\"condition number of the system = \", cond)\n",
    "\n",
    "# exact solution\n",
    "exact_x = np.random.rand(2)\n",
    "\n",
    "# Use the solution x to calculate b as b = Ax\n",
    "b = A@exact_x\n",
    "\n",
    "# solve Ax=b\n",
    "x = np.linalg.solve(A, b)\n",
    "\n",
    "# Print the solutions\n",
    "print()\n",
    "print(\"numerical solutions:\")\n",
    "print(\"x = \", x[0])\n",
    "print(\"y = \", x[1])"
   ]
  },
  {
   "cell_type": "code",
   "execution_count": 6,
   "id": "81765aaf-33a6-46eb-9a0a-746db63347ff",
   "metadata": {
    "tags": []
   },
   "outputs": [
    {
     "name": "stdout",
     "output_type": "stream",
     "text": [
      "residuals:\n",
      "0.0\n",
      "-5.551115123125783e-17\n",
      "\n",
      "absolute error between the exact and approximate solutions:\n",
      "7.216449660063518e-16\n",
      "7.771561172376096e-16\n"
     ]
    }
   ],
   "source": [
    "# residuals\n",
    "r = A@x - b\n",
    "\n",
    "# Print the residuals\n",
    "print(\"residuals:\")\n",
    "print(r[0])\n",
    "print(r[1])\n",
    "\n",
    "# errors\n",
    "error = np.abs(exact_x - x)\n",
    "\n",
    "print()\n",
    "print(\"absolute error between the exact and approximate solutions:\")\n",
    "print(error[0])\n",
    "print(error[1])"
   ]
  },
  {
   "cell_type": "code",
   "execution_count": null,
   "id": "d2a756bb-5e35-48f5-a9c4-0e8aeaf95312",
   "metadata": {},
   "outputs": [],
   "source": []
  }
 ],
 "metadata": {
  "kernelspec": {
   "display_name": "Python 3.9 (pytorch)",
   "language": "python",
   "name": "pytorch"
  },
  "language_info": {
   "codemirror_mode": {
    "name": "ipython",
    "version": 3
   },
   "file_extension": ".py",
   "mimetype": "text/x-python",
   "name": "python",
   "nbconvert_exporter": "python",
   "pygments_lexer": "ipython3",
   "version": "3.9.19"
  }
 },
 "nbformat": 4,
 "nbformat_minor": 5
}
