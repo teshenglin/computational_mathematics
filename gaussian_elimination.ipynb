{
  "nbformat": 4,
  "nbformat_minor": 0,
  "metadata": {
    "colab": {
      "name": "gaussian_elimination.ipynb",
      "provenance": [],
      "collapsed_sections": [],
      "authorship_tag": "ABX9TyNkuzXlLefBPu5TglHt6Wk9"
    },
    "kernelspec": {
      "name": "python3",
      "display_name": "Python 3"
    },
    "language_info": {
      "name": "python"
    }
  },
  "cells": [
    {
      "cell_type": "markdown",
      "source": [
        "# Gaussian elimination in python\n",
        "\n",
        "### Reference:\n",
        "* The Python code is copied from [Gaussian elimination method with pivoting](https://www.kaggle.com/code/sanjeetkp46/gaussian-elimination-method-with-pivoting/notebook) with slight modifications."
      ],
      "metadata": {
        "id": "IV6aTyE0PVDm"
      }
    },
    {
      "cell_type": "code",
      "execution_count": 1,
      "metadata": {
        "id": "fbzIdeeIPUKc"
      },
      "outputs": [],
      "source": [
        "import numpy as np"
      ]
    },
    {
      "cell_type": "markdown",
      "source": [
        "## Gaussian elimination without pivoting"
      ],
      "metadata": {
        "id": "ubVjVBwySHg4"
      }
    },
    {
      "cell_type": "code",
      "source": [
        "def Cal_LU(D,g):\n",
        "    A=np.array((D),dtype=float)\n",
        "    f=np.array((g),dtype=float)\n",
        "    n = f.size\n",
        "    for i in range(0,n-1):     # Loop through the columns of the matrix\n",
        "        for j in range(i+1,n):     # Loop through rows below diagonal for each column\n",
        "            if A[i,i] == 0:\n",
        "                print(\"Error: Zero on diagonal!\")\n",
        "                print(\"Need algorithm with pivoting\")\n",
        "                break\n",
        "            m = A[j,i]/A[i,i]\n",
        "            A[j,:] = A[j,:] - m*A[i,:]\n",
        "            f[j] = f[j] - m*f[i]\n",
        "    return A,f\n",
        "\n",
        "def Back_Subs(A,f):\n",
        "    n = f.size\n",
        "    x = np.zeros(n)             # Initialize the solution vector, x, to zero\n",
        "    x[n-1] = f[n-1]/A[n-1,n-1]    # Solve for last entry first\n",
        "    for i in range(n-2,-1,-1):      # Loop from the end to the beginning\n",
        "        sum_ = 0\n",
        "        for j in range(i+1,n):        # For known x values, sum and move to rhs\n",
        "            sum_ = sum_ + A[i,j]*x[j]\n",
        "        x[i] = (f[i] - sum_)/A[i,i]\n",
        "    return x"
      ],
      "metadata": {
        "id": "ohhKpWBpPUsB"
      },
      "execution_count": 2,
      "outputs": []
    },
    {
      "cell_type": "markdown",
      "source": [
        "### Example"
      ],
      "metadata": {
        "id": "AraXmrRESfMo"
      }
    },
    {
      "cell_type": "code",
      "source": [
        "# To solve Ax=b\n",
        "A = np.array([\n",
        "    [10**(-12),1],\n",
        "    [1,1]\n",
        "    ])\n",
        "b = np.array([1,2])\n",
        "#\n",
        "B,g = Cal_LU(A,b)\n",
        "x= Back_Subs(B,g)\n",
        "print('solution obtained by gaussian elimination without pivoting')\n",
        "print('x= ', x)"
      ],
      "metadata": {
        "colab": {
          "base_uri": "https://localhost:8080/"
        },
        "id": "fAOgT_xvPb24",
        "outputId": "36fa5eb4-570f-4556-b0f6-00e91ac834db"
      },
      "execution_count": 34,
      "outputs": [
        {
          "output_type": "stream",
          "name": "stdout",
          "text": [
            "solution obtained by gaussian elimination without pivoting\n",
            "x=  [0.99997788 1.        ]\n"
          ]
        }
      ]
    },
    {
      "cell_type": "markdown",
      "source": [
        "## Gaussian elimination with pivoting"
      ],
      "metadata": {
        "id": "eX9lflgtTGpj"
      }
    },
    {
      "cell_type": "code",
      "source": [
        "def Cal_LU_pivot(D,g):\n",
        "    A=np.array((D),dtype=float)\n",
        "    f=np.array((g),dtype=float)\n",
        "    n = len(f)\n",
        "    for i in range(0,n-1):     # Loop through the columns of the matrix\n",
        "        for k in range(i+1,n):\n",
        "            if np.abs(A[k,i])>np.abs(A[i,i]):\n",
        "                A[[i,k]]=A[[k,i]]             # Swaps ith and kth rows to each other\n",
        "                f[[i,k]]=f[[k,i]]\n",
        "                break\n",
        "                    \n",
        "        for j in range(i+1,n):     # Loop through rows below diagonal for each column\n",
        "            m = A[j,i]/A[i,i]\n",
        "            A[j,:] = A[j,:] - m*A[i,:]\n",
        "            f[j] = f[j] - m*f[i]\n",
        "    return A,f"
      ],
      "metadata": {
        "id": "oMjmhLa8PlJC"
      },
      "execution_count": 17,
      "outputs": []
    },
    {
      "cell_type": "markdown",
      "source": [
        "### Example"
      ],
      "metadata": {
        "id": "5eaktEiWTH_k"
      }
    },
    {
      "cell_type": "code",
      "source": [
        "# To solve Ax=b\n",
        "A = np.array([\n",
        "    [10**(-12),1],\n",
        "    [1,1]\n",
        "    ])\n",
        "b = np.array([1,2])\n",
        "#\n",
        "B,g = Cal_LU_pivot(A,b)\n",
        "x= Back_Subs(B,g)\n",
        "print('solution obtained by gaussian elimination with pivoting')\n",
        "print('x= ', x)"
      ],
      "metadata": {
        "colab": {
          "base_uri": "https://localhost:8080/"
        },
        "id": "tbjGmZV9PnhP",
        "outputId": "fb7439df-e371-4d9b-fa6e-0a19d6cf154d"
      },
      "execution_count": 35,
      "outputs": [
        {
          "output_type": "stream",
          "name": "stdout",
          "text": [
            "solution obtained by gaussian elimination with pivoting\n",
            "x=  [1. 1.]\n"
          ]
        }
      ]
    }
  ]
}