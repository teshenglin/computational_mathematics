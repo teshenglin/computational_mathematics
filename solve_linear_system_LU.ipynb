{
  "nbformat": 4,
  "nbformat_minor": 0,
  "metadata": {
    "colab": {
      "name": "solve_linear_system_LU.ipynb",
      "provenance": [],
      "collapsed_sections": [],
      "authorship_tag": "ABX9TyOyHjTtR9uj/CvdPeT+zXkS"
    },
    "kernelspec": {
      "name": "python3",
      "display_name": "Python 3"
    },
    "language_info": {
      "name": "python"
    }
  },
  "cells": [
    {
      "cell_type": "markdown",
      "source": [
        "# Matrix decomposition for solving linear systems"
      ],
      "metadata": {
        "id": "7GYCbf4MxTS9"
      }
    },
    {
      "cell_type": "code",
      "execution_count": 1,
      "metadata": {
        "id": "DRjmKc4HxRX5"
      },
      "outputs": [],
      "source": [
        "import numpy as np"
      ]
    },
    {
      "cell_type": "code",
      "source": [
        "from scipy.linalg import lu_factor, lu_solve\n",
        "import time"
      ],
      "metadata": {
        "id": "DOYUPi7uhdZX"
      },
      "execution_count": 2,
      "outputs": []
    },
    {
      "cell_type": "code",
      "source": [
        "n = 10000\n",
        "A = np.random.rand(n, n)\n",
        "b = np.random.rand(n, 1)"
      ],
      "metadata": {
        "id": "SACh3TwLpNiJ"
      },
      "execution_count": 3,
      "outputs": []
    },
    {
      "cell_type": "code",
      "source": [
        "start0 = time.time()\n",
        "lu, piv = lu_factor(A)\n",
        "end0 = time.time()\n",
        "print('The time to find the LU decomposition of a size ', n, ' system = ', end0-start0)"
      ],
      "metadata": {
        "id": "jVOiG4FVpYX_",
        "colab": {
          "base_uri": "https://localhost:8080/"
        },
        "outputId": "535f5302-11d1-42ed-b26b-131f9f84747f"
      },
      "execution_count": 4,
      "outputs": [
        {
          "output_type": "stream",
          "name": "stdout",
          "text": [
            "The time to find the LU decomposition of a size  10000  system =  23.513538599014282\n"
          ]
        }
      ]
    },
    {
      "cell_type": "code",
      "source": [
        "start0 = time.time()\n",
        "u = np.linalg.solve(A, b)\n",
        "end0 = time.time()\n",
        "print('The time to solve a size ', n, ' linear system = ', end0-start0)"
      ],
      "metadata": {
        "colab": {
          "base_uri": "https://localhost:8080/"
        },
        "id": "8ZJlVzttpeHB",
        "outputId": "fd54a835-5cbf-424e-893a-2e1ab259c6a5"
      },
      "execution_count": 5,
      "outputs": [
        {
          "output_type": "stream",
          "name": "stdout",
          "text": [
            "The time to solve a size  10000  linear system =  22.949686765670776\n"
          ]
        }
      ]
    },
    {
      "cell_type": "code",
      "source": [
        "start0 = time.time()\n",
        "x = lu_solve((lu, piv), b)\n",
        "end0 = time.time()\n",
        "print('The time to solve a LU pre-processed size ', n, ' linear system = ', end0-start0)"
      ],
      "metadata": {
        "colab": {
          "base_uri": "https://localhost:8080/"
        },
        "id": "Ra6IRTJbphbY",
        "outputId": "8f75c3e9-307e-44ea-fae8-921c49557ea9"
      },
      "execution_count": 6,
      "outputs": [
        {
          "output_type": "stream",
          "name": "stdout",
          "text": [
            "The time to solve a LU pre-processed size  10000  linear system =  0.07189583778381348\n"
          ]
        }
      ]
    },
    {
      "cell_type": "code",
      "source": [
        "print('The difference between the solution obtained using two methods = ', np.linalg.norm(x - u))"
      ],
      "metadata": {
        "colab": {
          "base_uri": "https://localhost:8080/"
        },
        "id": "ZQfR2MFWpuOk",
        "outputId": "47976eb1-54a5-4f75-ee44-dfcbfca7d5b8"
      },
      "execution_count": 7,
      "outputs": [
        {
          "output_type": "stream",
          "name": "stdout",
          "text": [
            "The difference between the solution obtained using two methods =  0.0\n"
          ]
        }
      ]
    },
    {
      "cell_type": "code",
      "source": [
        ""
      ],
      "metadata": {
        "id": "6EqOj4-iQ46x"
      },
      "execution_count": null,
      "outputs": []
    }
  ]
}