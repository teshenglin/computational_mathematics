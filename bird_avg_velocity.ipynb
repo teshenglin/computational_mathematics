{
 "cells": [
  {
   "cell_type": "code",
   "execution_count": 1,
   "id": "be4b9c8a-0da7-47b3-837b-abdb465860ac",
   "metadata": {
    "tags": []
   },
   "outputs": [
    {
     "name": "stderr",
     "output_type": "stream",
     "text": [
      "/Users/tslin/opt/anaconda3/envs/pytorch/lib/python3.9/site-packages/scipy/__init__.py:146: UserWarning: A NumPy version >=1.16.5 and <1.23.0 is required for this version of SciPy (detected version 1.26.4\n",
      "  warnings.warn(f\"A NumPy version >={np_minversion} and <{np_maxversion}\"\n"
     ]
    }
   ],
   "source": [
    "import numpy as np\n",
    "import matplotlib.pyplot as plt\n",
    "from scipy.spatial.distance import pdist, squareform\n",
    "import matplotlib.animation as animation\n",
    "from matplotlib.animation import FuncAnimation, PillowWriter"
   ]
  },
  {
   "cell_type": "code",
   "execution_count": 67,
   "id": "1836630f-2fe7-4e6e-b6ed-a13be17376fd",
   "metadata": {
    "tags": []
   },
   "outputs": [],
   "source": [
    "# N: number of birds\n",
    "N, dim = 100, 2\n",
    "\n",
    "# R: range of interaction\n",
    "R = 0.03\n",
    "\n",
    "# T: end time\n",
    "T = 100\n",
    "\n",
    "# dt: time step\n",
    "dt = 0.1\n",
    "\n",
    "# steps: total time steps\n",
    "steps = int(T/dt)"
   ]
  },
  {
   "cell_type": "code",
   "execution_count": 68,
   "id": "53a59231-7b56-4fab-83d3-fc2f7112125a",
   "metadata": {
    "tags": []
   },
   "outputs": [],
   "source": [
    "# initial locations\n",
    "box = 1\n",
    "loc = np.random.rand(N, dim)\n",
    "loc = np.mod(loc, box)\n",
    "loc_new = np.zeros_like(loc)\n",
    "\n",
    "# initial velocities\n",
    "rr = np.sqrt(np.random.uniform(0, 1, N))\n",
    "theta = 2.0*np.pi*np.random.uniform(0, 1, N)\n",
    "vel = np.zeros_like(loc)\n",
    "vel[:,0] = rr*np.cos(theta)\n",
    "vel[:,1] = rr*np.sin(theta)\n",
    "vel_new = np.zeros_like(vel)\n",
    "\n",
    "# bird's location for all time\n",
    "loc_all = 0*np.random.rand(N, dim, steps+1)\n",
    "loc_all[:,:,0] = loc"
   ]
  },
  {
   "cell_type": "markdown",
   "id": "6aa4a914-10ba-4a97-9634-bc31190e925b",
   "metadata": {},
   "source": [
    "Reference: [Pair distances with PBC](https://yangyushi.github.io/science/2020/11/02/pbc_py.html)"
   ]
  },
  {
   "cell_type": "code",
   "execution_count": 69,
   "id": "89f76664-931b-4bee-9bab-a163f5d3bb3c",
   "metadata": {
    "tags": []
   },
   "outputs": [],
   "source": [
    "def pdist_torus(loc):\n",
    "    N, dim = loc.shape\n",
    "    dist_nd_sq = np.zeros(N * (N - 1) // 2)  # to match the result of pdist\n",
    "    for d in range(dim):\n",
    "        pos_1d = loc[:, d][:, np.newaxis]  # shape (N, 1)\n",
    "        dist_1d = pdist(pos_1d)  # shape (N * (N - 1) // 2, )\n",
    "        dist_1d[dist_1d > box * 0.5] -= box\n",
    "        dist_nd_sq += dist_1d ** 2  # d^2 = dx^2 + dy^2 + dz^2\n",
    "    return np.sqrt(dist_nd_sq)"
   ]
  },
  {
   "cell_type": "code",
   "execution_count": 70,
   "id": "9a904bd2-62bf-4242-8618-aa32f24a6ba3",
   "metadata": {
    "tags": []
   },
   "outputs": [],
   "source": [
    "def update(loc, vel, dt):\n",
    "    #D = squareform(pdist(loc))\n",
    "    D = squareform(pdist_torus(loc))\n",
    "    for jj in range(N):\n",
    "        mk = D[jj,:] <= R\n",
    "        w = np.mean(vel[mk,:], axis=0)\n",
    "        vel_new[jj,:] = w\n",
    "    \n",
    "    loc_new = loc + dt*vel_new\n",
    "    loc_new = np.mod(loc_new, box)\n",
    "    \n",
    "    return loc_new, vel_new"
   ]
  },
  {
   "cell_type": "code",
   "execution_count": 71,
   "id": "b88932a2-aa25-4339-8cce-671e275b8756",
   "metadata": {
    "tags": []
   },
   "outputs": [],
   "source": [
    "for ii in range(steps):\n",
    "    loc_new, vel_new = update(loc, vel, dt)\n",
    "    loc_all[:,:,ii+1] = loc_new\n",
    "    loc = loc_new\n",
    "    vel = vel_new"
   ]
  },
  {
   "cell_type": "code",
   "execution_count": 72,
   "id": "2ae6dca5-887a-4c0f-bf63-86cc07923b9f",
   "metadata": {},
   "outputs": [],
   "source": [
    "def show_images(i):\n",
    "    fig,ax = plt.subplots(figsize=(10, 10))\n",
    "    ax.clear()\n",
    "    ax.set_xlim(0,1)\n",
    "    ax.set_ylim(0,1)\n",
    "    line1 = ax.scatter(loc_all[:,0,i], loc_all[:,1,i], s=5.0)\n",
    "    ax.set_aspect('equal', 'box')\n",
    "    ax.set_title(\"time = {:.2f}\".format(dt*i))\n"
   ]
  },
  {
   "cell_type": "code",
   "execution_count": 73,
   "id": "ca6fd17b-ac90-40c8-8194-64782515b3ce",
   "metadata": {},
   "outputs": [],
   "source": [
    "from ipywidgets import interact, interactive, interact_manual\n",
    "import ipywidgets as widgets\n",
    "from IPython.display import display\n",
    "%matplotlib inline"
   ]
  },
  {
   "cell_type": "code",
   "execution_count": 74,
   "id": "88c06c8a-55e7-4f30-886d-f88ed2c3c5e4",
   "metadata": {
    "tags": []
   },
   "outputs": [
    {
     "data": {
      "application/vnd.jupyter.widget-view+json": {
       "model_id": "8541b5f819be4e2ea47e98f31978ae47",
       "version_major": 2,
       "version_minor": 0
      },
      "text/plain": [
       "interactive(children=(IntSlider(value=500, description='i', max=1000), Output()), _dom_classes=('widget-intera…"
      ]
     },
     "metadata": {},
     "output_type": "display_data"
    },
    {
     "data": {
      "text/plain": [
       "<function __main__.show_images(i)>"
      ]
     },
     "execution_count": 74,
     "metadata": {},
     "output_type": "execute_result"
    }
   ],
   "source": [
    "interact(show_images, i=(0,steps))"
   ]
  },
  {
   "cell_type": "code",
   "execution_count": null,
   "id": "88fabc2d-4357-45bc-b868-89264e03ae47",
   "metadata": {},
   "outputs": [],
   "source": []
  },
  {
   "cell_type": "code",
   "execution_count": 357,
   "id": "5771e111-2999-4890-901f-1e3df50f99ef",
   "metadata": {},
   "outputs": [],
   "source": [
    "# fig,ax = plt.subplots()\n",
    "\n",
    "# def animate(i):\n",
    "#     ax.clear()\n",
    "#     ax.set_xlim(0,1)\n",
    "#     ax.set_ylim(0,1)\n",
    "#     line1 = ax.scatter(loc_all[:,0,i], loc_all[:,1,i], s=1.0)\n",
    "#     ax.set_aspect('equal', 'box')\n",
    "#     ax.set_title(\"time = {:.2f}\".format(dt*i))\n",
    "#     return line1,\n",
    "\n",
    "# ani = FuncAnimation(fig, animate, interval=200, blit=False, repeat=False, frames=steps)\n",
    "# ani.save(\"bird.gif\", writer=PillowWriter(fps=30))"
   ]
  },
  {
   "cell_type": "code",
   "execution_count": null,
   "id": "8dcd0e01-cf74-4298-9e03-32aefe652ca0",
   "metadata": {},
   "outputs": [],
   "source": []
  }
 ],
 "metadata": {
  "kernelspec": {
   "display_name": "Python 3.9 (pytorch)",
   "language": "python",
   "name": "pytorch"
  },
  "language_info": {
   "codemirror_mode": {
    "name": "ipython",
    "version": 3
   },
   "file_extension": ".py",
   "mimetype": "text/x-python",
   "name": "python",
   "nbconvert_exporter": "python",
   "pygments_lexer": "ipython3",
   "version": "3.9.7"
  }
 },
 "nbformat": 4,
 "nbformat_minor": 5
}
