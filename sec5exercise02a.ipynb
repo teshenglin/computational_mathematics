{
  "nbformat": 4,
  "nbformat_minor": 0,
  "metadata": {
    "colab": {
      "name": "sec5exercise02a.ipynb",
      "provenance": []
    },
    "kernelspec": {
      "name": "python3",
      "display_name": "Python 3"
    },
    "language_info": {
      "name": "python"
    }
  },
  "cells": [
    {
      "cell_type": "markdown",
      "source": [
        "$f(x)=exp(\\sin(\\pi x))$ integrate from $-1$ to $1$.\n",
        "\n",
        "---\n",
        "\n",
        "\n"
      ],
      "metadata": {
        "id": "IqXC8aB2QYzR"
      }
    },
    {
      "cell_type": "code",
      "execution_count": 23,
      "metadata": {
        "colab": {
          "base_uri": "https://localhost:8080/"
        },
        "id": "VhyIi7e-N2jn",
        "outputId": "3cbcc1c6-a041-4c06-8c9c-6369d9616d3a"
      },
      "outputs": [
        {
          "output_type": "stream",
          "name": "stdout",
          "text": [
            "2.532131754402837\n"
          ]
        }
      ],
      "source": [
        "import math\n",
        "import numpy as np\n",
        "\n",
        "def f(x):\n",
        "  return math.exp(np.sin(np.pi*x))\n",
        "\n",
        "n=10\n",
        "k=-1\n",
        "result=0\n",
        "for i in range(n):\n",
        "  result+=f(k)/n\n",
        "  result+=f(k+2/n)/n\n",
        "  k=k+2/n\n",
        "print(result)"
      ]
    },
    {
      "cell_type": "code",
      "source": [
        "n=20\n",
        "k=-1\n",
        "result=0\n",
        "for i in range(n):\n",
        "  result+=f(k)/n\n",
        "  result+=f(k+2/n)/n\n",
        "  k=k+2/n\n",
        "print(result)"
      ],
      "metadata": {
        "colab": {
          "base_uri": "https://localhost:8080/"
        },
        "id": "6T4kUK_oPhtu",
        "outputId": "6e0456da-36aa-4d6c-b873-2e9e8375a1c9"
      },
      "execution_count": 24,
      "outputs": [
        {
          "output_type": "stream",
          "name": "stdout",
          "text": [
            "2.532131755504016\n"
          ]
        }
      ]
    },
    {
      "cell_type": "code",
      "source": [
        "n=40\n",
        "k=-1\n",
        "result=0\n",
        "for i in range(n):\n",
        "  result+=f(k)/n\n",
        "  result+=f(k+2/n)/n\n",
        "  k=k+2/n\n",
        "print(result)"
      ],
      "metadata": {
        "colab": {
          "base_uri": "https://localhost:8080/"
        },
        "id": "VEpX-C0CQE8a",
        "outputId": "916abf76-0d77-4fe2-87ec-9f6b3126be71"
      },
      "execution_count": 25,
      "outputs": [
        {
          "output_type": "stream",
          "name": "stdout",
          "text": [
            "2.532131755504017\n"
          ]
        }
      ]
    },
    {
      "cell_type": "code",
      "source": [
        ""
      ],
      "metadata": {
        "id": "nolqCX5Vi15T"
      },
      "execution_count": null,
      "outputs": []
    }
  ]
}