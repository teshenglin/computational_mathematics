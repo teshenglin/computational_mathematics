{
 "cells": [
  {
   "cell_type": "markdown",
   "metadata": {},
   "source": [
    "# Computational Mathematics\n",
    "## Lecture 1\n",
    "\n",
    "Given a function with one spatial variable, e.g., $f(x)=\\sin(x)$, we want to do the followings: \n",
    "1. Find a way to \"store\" the function in computer\n",
    "2. To evaluate the function values efficiently\n",
    "3. To evaluate the derivative of the function\n",
    "\n",
    "\n",
    "\n",
    "### How to \"store\" a function in computer\n",
    "\n",
    "Very often we don't have a mathematical formulation for the function. \n",
    "\n",
    "For example, suppose we have a function $f(x)$ defined on [-1, 1] and we know its values at x=-1, 0 and 1. So we store in computer $f(-1)$, $f(0)$ and $f(1)$.\n",
    "\n",
    "Of course if we know its values at more points, we can store more in computer. BUT! There are infinitely many points on [-1, 1] and there is no way to store all of them. \n",
    "\n",
    "There is a theorem that might help us:\n",
    "\n",
    "-----------------------------------------------\n",
    "## Weierstrass Approximation Theorem: \n",
    "If $f$ is continuous on [a, b] and if $\\epsilon>0$, then there is a polynomial $p$ satisfying $|f(x)-p(x)| \\le \\epsilon$ on the interval [a, b].\n",
    "\n",
    "-----------------------------------------------\n",
    "\n",
    "\n",
    "\n",
    "So, one way of thinking is to \"represent\" a continuous function by a finite degree polynomial, and we only store in computer the coefficients of the polynomial.\n",
    "\n",
    "For example, if we have $f(-1) = 4$, $f(0)=2$ and $f(1)=2$. Then the polynomial that passes through these points is $p(x)=2 - x + x^2$. So we store in computer three values, $2$, $-1$ and $1$. If we want to evalute the function at any point $x_0$ we just use $p(x_0)$.\n",
    "\n",
    "Sounds good?! In principle if we have $n+1$ points of a function, we can construct a $n$th-degree polynomial that passes through these $n+1$ data points. We then \"expect, hope, pray\" that this new polynomial is a good representation of the function.\n",
    "\n",
    "#### Remark 1: \n",
    "There is a HUGE difference between storing the \"discrete data points\" and \"discrete coefficients\" of a function. The former one is a discrete description and we only have information on the given points, while the later one is actually a continuous description and we can get the value of every single points in the domain.\n",
    "\n",
    "#### Remark 2: \n",
    "One can imagine that there is a vector space consists of all the polynomials. A natural basis for this space is $\\{1, x, x^2, x^3, ...\\}$. So every polynomial, under this basis, have a coordinate.\n",
    "\n",
    "#### Remark 3: \n",
    "For periodic functions on $[0, 2\\pi]$, the natural basis functions are $\\{1, \\sin(x), \\cos(x), \\sin(2x), \\cos(2x), \\sin(3x), \\cos(3x), ...\\}$. A function being present in this basis is called \"Fourier series\":\n",
    "\\begin{equation}\n",
    "f(x) = a_0 + \\sum_{n=1} a_n\\sin(nx) + \\sum_{n=1} b_n\\cos(nx).\n",
    "\\end{equation}\n",
    "The constants $a_0, a_1, b_1, a_2, b_2, ...$ are called Fourier coefficients."
   ]
  },
  {
   "cell_type": "markdown",
   "metadata": {},
   "source": [
    "### How to evaluate the function values efficiently\n",
    "\n",
    "In general we represent a function by a \"simpler\" expression that is easier to evaluate. For example, if we want to evaluate $\\sin(0.38)$, how to do that? One way is to use Taylor expansion as\n",
    "\\begin{equation}\n",
    "\\sin(0.38) \\approx 0.38 - \\frac{0.38^3}{6} + \\frac{0.38^5}{120} + \\cdots.\n",
    "\\end{equation}\n",
    "Note that the expression on the right hand side consists of add, subtract, multiply and divide values that can be performed easily.\n",
    "\n",
    "In the cases where we don't have a close form Taylor series of a given function, we can represent the function by a polynomial, and then use the values of the polynomial to approximate the function values. "
   ]
  },
  {
   "cell_type": "markdown",
   "metadata": {},
   "source": [
    "### How to evaluate the derivative of a function, how to integrate a function on a given domain\n",
    "\n",
    "If we can represent a function by a polynomial $p(x)$, then we can use the derivative of $p(x)$ as an approximation for the derivative of the function. \n",
    "\n",
    "Similarly, if we can represent a function by a polynomial $p(x)$, then we can integrate $p(x)$ and use this value as an approximation for the integration of the function. \n",
    "\n",
    "Note that the above two results are based on the fact that we can differentiate and integrate a polynomial exactly. \n",
    "\n",
    "## Conclusion\n",
    "\n",
    "To summarize, it \"looks like\" if we can do polynomial we can do everything. So the natural question is \"how to represent nicely a function by a polynomial?\" This will be the main topic of the next lecture.\n"
   ]
  }
 ],
 "metadata": {
  "kernelspec": {
   "display_name": "Julia 1.0.3",
   "language": "julia",
   "name": "julia-1.0"
  },
  "language_info": {
   "file_extension": ".jl",
   "mimetype": "application/julia",
   "name": "julia",
   "version": "1.0.3"
  }
 },
 "nbformat": 4,
 "nbformat_minor": 2
}
