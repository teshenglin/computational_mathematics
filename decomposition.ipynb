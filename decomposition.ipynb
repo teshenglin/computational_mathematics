{
 "cells": [
  {
   "cell_type": "markdown",
   "id": "bf4e43e0-bd41-42f8-906d-2e08d41938c7",
   "metadata": {},
   "source": [
    "# Solving a linear system with decomposition"
   ]
  },
  {
   "cell_type": "markdown",
   "id": "a6816294-f094-4f77-b921-0feff4334932",
   "metadata": {},
   "source": [
    "## 1. Python"
   ]
  },
  {
   "cell_type": "code",
   "execution_count": 57,
   "id": "41e8f531-c266-46b1-ae13-0674aa94f722",
   "metadata": {},
   "outputs": [],
   "source": [
    "import numpy as np\n",
    "from scipy.linalg import lu_factor, lu_solve"
   ]
  },
  {
   "cell_type": "code",
   "execution_count": 58,
   "id": "4475f851-b1a6-420a-8cd2-6e955ced4d01",
   "metadata": {},
   "outputs": [],
   "source": [
    "# define the size of the system\n",
    "n = 5000\n",
    "\n",
    "# generate a random nxn matrix\n",
    "A = np.random.rand(n,n)\n",
    "\n",
    "# generate a random nx1 vector\n",
    "b = np.random.rand(n,1)"
   ]
  },
  {
   "cell_type": "markdown",
   "id": "3ad04a76-8a62-45ac-8448-6cec83a52d62",
   "metadata": {},
   "source": [
    "### Experiment 1:\n",
    "\n",
    "At first, the time it takes to solve the system"
   ]
  },
  {
   "cell_type": "code",
   "execution_count": 59,
   "id": "7176a2f1-2e94-4a56-aa07-e4d699a43230",
   "metadata": {},
   "outputs": [
    {
     "name": "stdout",
     "output_type": "stream",
     "text": [
      "CPU times: user 2.59 s, sys: 108 ms, total: 2.69 s\n",
      "Wall time: 511 ms\n"
     ]
    }
   ],
   "source": [
    "%%time\n",
    "\n",
    "x1 = np.linalg.solve(A, b)"
   ]
  },
  {
   "cell_type": "markdown",
   "id": "b526b74a-5162-4a69-9de6-fae46068f17b",
   "metadata": {},
   "source": [
    "### Experiment 2:\n",
    "\n",
    "If one solves the system using $x=A^{-1}b$:"
   ]
  },
  {
   "cell_type": "code",
   "execution_count": 60,
   "id": "739c1287-9320-470f-8e71-9ec38e02defb",
   "metadata": {},
   "outputs": [
    {
     "name": "stdout",
     "output_type": "stream",
     "text": [
      "CPU times: user 10 s, sys: 362 ms, total: 10.4 s\n",
      "Wall time: 2.07 s\n"
     ]
    }
   ],
   "source": [
    "%%time\n",
    "\n",
    "x2 = np.linalg.inv(A)@b"
   ]
  },
  {
   "cell_type": "markdown",
   "id": "d384a29a-4733-4518-bdaa-b0bb4c209183",
   "metadata": {},
   "source": [
    "### Experiment 3:\n",
    "\n",
    "Finally, if one decompose the matrix first, and then solve the system:"
   ]
  },
  {
   "cell_type": "code",
   "execution_count": 61,
   "id": "c89ac0cb-794f-43f0-8e0a-c20869f28820",
   "metadata": {},
   "outputs": [
    {
     "name": "stdout",
     "output_type": "stream",
     "text": [
      "CPU times: user 3.37 s, sys: 84.5 ms, total: 3.45 s\n",
      "Wall time: 673 ms\n"
     ]
    }
   ],
   "source": [
    "%%time\n",
    "\n",
    "lu, piv = lu_factor(A)"
   ]
  },
  {
   "cell_type": "code",
   "execution_count": 62,
   "id": "4d42714c-93d7-41f6-a852-52b93d3f69c5",
   "metadata": {},
   "outputs": [
    {
     "name": "stdout",
     "output_type": "stream",
     "text": [
      "CPU times: user 72.8 ms, sys: 4.48 ms, total: 77.3 ms\n",
      "Wall time: 19.3 ms\n"
     ]
    }
   ],
   "source": [
    "%%time\n",
    "\n",
    "x3 = lu_solve((lu, piv), b)"
   ]
  },
  {
   "cell_type": "markdown",
   "id": "a99d5d47-a143-4e04-8ae0-156deea8db7f",
   "metadata": {},
   "source": [
    "---"
   ]
  },
  {
   "cell_type": "markdown",
   "id": "bb1c9d9e-9592-41ae-a483-aef41701cf90",
   "metadata": {},
   "source": [
    "## 2. Matlab"
   ]
  },
  {
   "cell_type": "markdown",
   "id": "c5fbd87e-3d67-482f-9a75-a2be9eef7817",
   "metadata": {},
   "source": [
    "Let's consider the same setting in ```Matlab```. \n",
    "\n",
    "At first, generate random matrix and vector:\n",
    "\n",
    "```python\n",
    "n = 5000;\n",
    "A = rand(n);\n",
    "b = rand(n,1);\n",
    "```"
   ]
  },
  {
   "cell_type": "markdown",
   "id": "62cab194-dc78-4456-92bf-af3d47042bcc",
   "metadata": {},
   "source": [
    "### Experiment 1:\n",
    "\n",
    "At first, the time it takes to solve the system in ```Matlab```\n",
    "\n",
    "> 'tic' and 'toc' is the Matlab timer comment.\n",
    "\n",
    "```python\n",
    "tic;\n",
    "x = A\\b; \n",
    "toc\n",
    "```\n",
    "\n",
    "```bash\n",
    "Elapsed time is 0.704696 seconds.\n",
    "```"
   ]
  },
  {
   "cell_type": "markdown",
   "id": "e0230a39-a7d9-440f-8717-8ebe59950c06",
   "metadata": {},
   "source": [
    "### Experiment 2\n",
    "\n",
    "If one solves the system using $x=A^{-1}b$:\n",
    "```python\n",
    "tic;\n",
    "x = inv(A)*b;\n",
    "toc\n",
    "```\n",
    "\n",
    "```bash\n",
    "Elapsed time is 1.544038 seconds.\n",
    "```"
   ]
  },
  {
   "cell_type": "markdown",
   "id": "08eec814-603c-4adf-990d-99d1efea2cf1",
   "metadata": {},
   "source": [
    "### Experiment 3:\n",
    "\n",
    "Finally, if one decompose the matrix first, and then solve the system:\n",
    "\n",
    "#### The time to decompose a matrix\n",
    "```python\n",
    "tic;\n",
    "dA = decomposition(A);\n",
    "toc\n",
    "```\n",
    "\n",
    "```bash\n",
    "Elapsed time is 0.624246 seconds.\n",
    "```\n",
    "\n",
    "#### The time to solve the system\n",
    "\n",
    "```python\n",
    "tic;\n",
    "x = dA\\b;\n",
    "toc\n",
    "```\n",
    "\n",
    "```bash\n",
    "Elapsed time is 0.030594 seconds.\n",
    "```"
   ]
  }
 ],
 "metadata": {
  "kernelspec": {
   "display_name": "Python 3 (ipykernel)",
   "language": "python",
   "name": "python3"
  },
  "language_info": {
   "codemirror_mode": {
    "name": "ipython",
    "version": 3
   },
   "file_extension": ".py",
   "mimetype": "text/x-python",
   "name": "python",
   "nbconvert_exporter": "python",
   "pygments_lexer": "ipython3",
   "version": "3.9.7"
  }
 },
 "nbformat": 4,
 "nbformat_minor": 5
}
