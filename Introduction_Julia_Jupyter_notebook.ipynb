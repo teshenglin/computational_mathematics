{
 "cells": [
  {
   "cell_type": "markdown",
   "metadata": {},
   "source": [
    "# Section - Introduction to Julia and Jupyter notebook"
   ]
  },
  {
   "cell_type": "markdown",
   "metadata": {},
   "source": [
    "## Julia installation\n",
    "\n",
    "Go to [https://julialang.org/downloads/](https://julialang.org/downloads/) and download the current stable release for your operating system, then run the installer.\n",
    "\n",
    "Go to [https://julialang.org/downloads/platform.html](https://julialang.org/downloads/platform.html) if  you encounter any problem."
   ]
  },
  {
   "cell_type": "markdown",
   "metadata": {},
   "source": [
    "## Jupyter notebook installation\n",
    "\n",
    "Run the Julia application, a window with a `julia>` prompt will appear. \n",
    "\n",
    "To install IJulia, at the prompt, type:\n",
    "\n",
    "```julia\n",
    "using Pkg\n",
    "Pkg.add(\"IJulia\")\n",
    "```\n",
    "\n",
    "To run the notebook and to launch the Jupyter notebook in your browser, type:\n",
    "\n",
    "```julia\n",
    "using IJulia\n",
    "notebook()\n",
    "```\n",
    "\n",
    "Alternatively, you can run\n",
    "\n",
    "```julia\n",
    "jupyter notebook\n",
    "```\n",
    "from the command line (you should add jupyter to your PATH).\n",
    "\n",
    "Go to [https://github.com/JuliaLang/IJulia.jl](https://github.com/JuliaLang/IJulia.jl) if you have get other problems using Julia with Jupyter notebook."
   ]
  }
 ],
 "metadata": {
  "kernelspec": {
   "display_name": "Julia 1.1.0",
   "language": "julia",
   "name": "julia-1.1"
  },
  "language_info": {
   "file_extension": ".jl",
   "mimetype": "application/julia",
   "name": "julia",
   "version": "1.1.0"
  }
 },
 "nbformat": 4,
 "nbformat_minor": 2
}
