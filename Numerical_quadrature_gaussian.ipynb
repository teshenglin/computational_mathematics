{
  "nbformat": 4,
  "nbformat_minor": 0,
  "metadata": {
    "colab": {
      "name": "Numerical_quadrature_gaussian.ipynb",
      "provenance": [],
      "collapsed_sections": [],
      "authorship_tag": "ABX9TyOADyeztC2TnQCXgmebVxaI"
    },
    "kernelspec": {
      "name": "python3",
      "display_name": "Python 3"
    },
    "language_info": {
      "name": "python"
    }
  },
  "cells": [
    {
      "cell_type": "code",
      "execution_count": null,
      "metadata": {
        "id": "uJawRTaqSyR3"
      },
      "outputs": [],
      "source": [
        "import numpy as np\n",
        "import math"
      ]
    },
    {
      "cell_type": "code",
      "source": [
        "def legendre_poly(n):\n",
        "    if n == 0:\n",
        "        return [1]\n",
        "    elif n == 1:\n",
        "        return [1,0]\n",
        "    else:\n",
        "        a = legendre_poly(n-1)\n",
        "        a.append(0)\n",
        "        a = np.array(a)\n",
        "\n",
        "        b = [0,0]\n",
        "        b.extend(legendre_poly(n-2))\n",
        "        b = np.array(b)\n",
        "\n",
        "        c = ((2*n-1)*a-(n-1)*b)/n\n",
        "        return list(c)"
      ],
      "metadata": {
        "id": "fM-tTUyZTAKp"
      },
      "execution_count": null,
      "outputs": []
    },
    {
      "cell_type": "code",
      "source": [
        "def Gauss_Legendre(n):\n",
        "    x = np.roots(np.array(legendre_poly(n)))\n",
        "    A = np.zeros((n,n))\n",
        "    b = np.zeros((n,1))\n",
        "    A[0,:] = np.ones(n)\n",
        "    b[0] = 2\n",
        "    for i in range (1,n):\n",
        "        for j in range(n):\n",
        "            A[i,j] = x[j]**i\n",
        "        if i % 2 == 1:\n",
        "            b[i] = 0\n",
        "        else:\n",
        "            b[i] = 2 / (i+1)\n",
        "\n",
        "    w = np.matmul(np.linalg.inv(A),b)\n",
        "    return x,w"
      ],
      "metadata": {
        "id": "n_eV9rBiTGlP"
      },
      "execution_count": null,
      "outputs": []
    },
    {
      "cell_type": "code",
      "source": [
        "def Gauss_Legendre_quadrature(f,n):\n",
        "    y = []\n",
        "    x,w = Gauss_Legendre(n)\n",
        "    for i in range (n):\n",
        "        y.append(f(x[i]))\n",
        "\n",
        "    return np.matmul(np.transpose(y),w)[0]"
      ],
      "metadata": {
        "id": "VkV2XjXSTH9G"
      },
      "execution_count": null,
      "outputs": []
    },
    {
      "cell_type": "code",
      "source": [
        "exact = math.exp(1)-math.exp(-1)\n",
        "print(abs(Gauss_Legendre_quadrature(math.exp,4) - exact))\n",
        "print(abs(Gauss_Legendre_quadrature(math.exp,8) - exact))"
      ],
      "metadata": {
        "colab": {
          "base_uri": "https://localhost:8080/"
        },
        "id": "B9M3MDBdTJVA",
        "outputId": "3a0b6992-b39b-483c-b360-026dd98c7ed9"
      },
      "execution_count": null,
      "outputs": [
        {
          "output_type": "stream",
          "name": "stdout",
          "text": [
            "2.9513122568047834e-07\n",
            "1.3322676295501878e-15\n"
          ]
        }
      ]
    }
  ]
}