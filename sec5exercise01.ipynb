{
  "nbformat": 4,
  "nbformat_minor": 0,
  "metadata": {
    "colab": {
      "name": "sec5exercise01.ipynb",
      "provenance": [],
      "collapsed_sections": []
    },
    "kernelspec": {
      "name": "python3",
      "display_name": "Python 3"
    },
    "language_info": {
      "name": "python"
    }
  },
  "cells": [
    {
      "cell_type": "markdown",
      "source": [
        "##**Exercise 1**: Try to approximate $f'(1)$ where $f(x)=e^x$ and determine (using your code) the optimal step size in achieving the best accuracy.\n",
        "\n",
        "---\n",
        "\n"
      ],
      "metadata": {
        "id": "5hjmwkmPtaa5"
      }
    },
    {
      "cell_type": "code",
      "execution_count": null,
      "metadata": {
        "id": "vMlaINohN-_y"
      },
      "outputs": [],
      "source": [
        "import math\n",
        "import matplotlib.pyplot as plt"
      ]
    },
    {
      "cell_type": "markdown",
      "source": [
        "###$f(x) = e^x$"
      ],
      "metadata": {
        "id": "CRjvC8rMl5J8"
      }
    },
    {
      "cell_type": "code",
      "source": [
        "def f(x):\n",
        "  return math.e ** x"
      ],
      "metadata": {
        "id": "WE9puOetgx0w"
      },
      "execution_count": null,
      "outputs": []
    },
    {
      "cell_type": "markdown",
      "source": [
        "###Consider the formula for approximating 1st derivative:$$f'(x_0) = \\frac{-2f(x_0-3h)+9f(x_0-2h)-18f(x_0-h)+11f(x_0)}{6h} + O(h^3)$$"
      ],
      "metadata": {
        "id": "PoAY1sevnZ9o"
      }
    },
    {
      "cell_type": "code",
      "source": [
        "def fp(x,i):  \n",
        "  h = 10 ** (-i)\n",
        "  return ( -2*f(x-3*h)+9*f(x-2*h)-18*f(x-h)+11*f(x) ) / (6*h) \n"
      ],
      "metadata": {
        "id": "A5OdvFfZnYu_"
      },
      "execution_count": null,
      "outputs": []
    },
    {
      "cell_type": "markdown",
      "source": [
        "###Approximate $f'(-1)$ and the error, and draw the \"error graph\" "
      ],
      "metadata": {
        "id": "kol9icAOulTl"
      }
    },
    {
      "cell_type": "code",
      "source": [
        "x = []\n",
        "y = []\n",
        "for i in range(1,17):\n",
        "  #print(\"h = \",10**(-i),\":\")\n",
        "  x.append(-i)\n",
        "  #print(\"f'(-1) = \",fp(1,i))\n",
        "  e = abs(fp(1,i) - (math.e)**1)\n",
        "  #print(\"error = \", e) #誤差\n",
        "  y.append(math.log10(e))\n",
        "  #print(\"----\")\n",
        "fig = plt.plot(x,y,label='error')\n",
        "plt.xlabel('log10(h)', fontsize=20)\n",
        "plt.ylabel('log10(error)', fontsize=20)\n",
        "plt.legend()\n",
        "plt.show()"
      ],
      "metadata": {
        "colab": {
          "base_uri": "https://localhost:8080/",
          "height": 288
        },
        "id": "u-7U6210ulps",
        "outputId": "d1f906eb-8034-44b8-c784-140db84122d9"
      },
      "execution_count": null,
      "outputs": [
        {
          "output_type": "display_data",
          "data": {
            "text/plain": [
              "<Figure size 432x288 with 1 Axes>"
            ],
            "image/png": "[encoded data removed]"
          },
          "metadata": {
            "needs_background": "light"
          }
        }
      ]
    },
    {
      "cell_type": "markdown",
      "source": [
        "####結論"
      ],
      "metadata": {
        "id": "Zdvk_PrA6zr2"
      }
    },
    {
      "cell_type": "markdown",
      "source": [
        "從圖上可看出當h近似於$10^{-4}$時，有最小誤差。"
      ],
      "metadata": {
        "id": "B6irMQiH3hPD"
      }
    },
    {
      "cell_type": "code",
      "source": [
        "print(fp(1,4)-math.e)"
      ],
      "metadata": {
        "colab": {
          "base_uri": "https://localhost:8080/"
        },
        "id": "WnNc1nUo5OIE",
        "outputId": "39d8c13f-ab90-4cd1-fd05-23fbb4b57643"
      },
      "execution_count": null,
      "outputs": [
        {
          "output_type": "stream",
          "name": "stdout",
          "text": [
            "-6.248335182590381e-13\n"
          ]
        }
      ]
    },
    {
      "cell_type": "markdown",
      "source": [
        "估計出的$f'(1)$"
      ],
      "metadata": {
        "id": "CWJsCEd76i03"
      }
    },
    {
      "cell_type": "code",
      "source": [
        "print(fp(1,4))"
      ],
      "metadata": {
        "colab": {
          "base_uri": "https://localhost:8080/"
        },
        "id": "pBcNbEvD6s6F",
        "outputId": "4a3b2714-6b6d-4c10-b3e9-2f8d578b7999"
      },
      "execution_count": null,
      "outputs": [
        {
          "output_type": "stream",
          "name": "stdout",
          "text": [
            "2.7182818284584203\n"
          ]
        }
      ]
    }
  ]
}