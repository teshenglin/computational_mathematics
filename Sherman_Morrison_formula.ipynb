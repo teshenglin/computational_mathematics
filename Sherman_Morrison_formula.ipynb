{
  "nbformat": 4,
  "nbformat_minor": 0,
  "metadata": {
    "colab": {
      "name": "Sherman_Morrison_formula.ipynb",
      "provenance": [],
      "collapsed_sections": []
    },
    "kernelspec": {
      "name": "python3",
      "display_name": "Python 3"
    },
    "language_info": {
      "name": "python"
    }
  },
  "cells": [
    {
      "cell_type": "markdown",
      "source": [
        "# The usage of Sherman-Morrison formula"
      ],
      "metadata": {
        "id": "n9PJx5-Uei6_"
      }
    },
    {
      "cell_type": "markdown",
      "source": [
        "## Sherman-Morrison formula\n",
        "\n",
        "$$\n",
        "(A+xy^t)^{-1} = A^{-1} - \\frac{A^{-1} xy^t A^{-1}}{1 + y^t A^{-1} x},\n",
        "$$\n",
        "where $x$ and $y$ are vectors.\n"
      ],
      "metadata": {
        "id": "nvEHcR6ccIJk"
      }
    },
    {
      "cell_type": "markdown",
      "source": [
        "## Solving a system of linear equations with rank one perturbation\n",
        "\n",
        "To solve the system $(A+xy^t)X=b$, we simply apply the formula to have\n",
        "$$\n",
        "X = (A+xy^t)^{-1}b = A^{-1}b - \\frac{A^{-1} xy^t A^{-1}b}{1 + y^t A^{-1} x}.\n",
        "$$\n",
        "\n",
        "The implementation requires two steps: \n",
        "1. At first we define two vectors $u$ and $v$ as\n",
        "  $$\n",
        "  u=A^{-1}b, \\quad v=A^{-1}x.\n",
        "  $$\n",
        "  So that the formula can be rewritten as\n",
        "  $$\n",
        "  X= u - \\frac{vy^t u}{1 + y^t v}.\n",
        "  $$\n",
        "  * In practice, the algorithm is performed by solving\n",
        "    $$\n",
        "    A[u, v]=[b, x].\n",
        "    $$\n",
        "2. The second step require performing the vector multiplication in a correct order\n",
        "  $$\n",
        "  X= u - \\frac{v(y^t u)}{1 + y^t v}.\n",
        "  $$\n",
        "\n",
        "To summarize, the operation count for Sherman Morrison formula is about the same as for solving the linear system. "
      ],
      "metadata": {
        "id": "v1gNOr5HbbWa"
      }
    },
    {
      "cell_type": "markdown",
      "source": [
        "### Test 1:\n",
        "To test the time requiring for different implementation, at first we check the vector-vector multiplication time. \n",
        "\n",
        "Let's choose three vectors $u$, $v$ and $y$ and perform the following two operations:\n",
        "1. $v(y^tu)$\n",
        "2. $(vy^t)u$"
      ],
      "metadata": {
        "id": "IhFhLppgc7ht"
      }
    },
    {
      "cell_type": "code",
      "source": [
        "import numpy as np\n",
        "import time"
      ],
      "metadata": {
        "id": "cDHCFfqvgGd-"
      },
      "execution_count": null,
      "outputs": []
    },
    {
      "cell_type": "code",
      "execution_count": null,
      "metadata": {
        "id": "aJpyPKvXefhQ"
      },
      "outputs": [],
      "source": [
        "n = 10000\n",
        "\n",
        "# Construct u, v, y^t\n",
        "u = np.random.rand(n, 1)\n",
        "v = np.random.rand(n, 1)\n",
        "yT = np.random.rand(1, n)"
      ]
    },
    {
      "cell_type": "code",
      "source": [
        "# version1\n",
        "start1 = time.time()\n",
        "ver1 = v.dot(yT.dot(u))\n",
        "end1 = time.time()\n",
        "# version2\n",
        "start2 = time.time()\n",
        "ver2 = (v.dot(yT)).dot(u)\n",
        "end2 = time.time()\n",
        "\n",
        "print('version1 time: ', end1-start1)\n",
        "print('version2 time: ', end2-start2)\n",
        "print('difference between the results in 2-norm = ', np.linalg.norm(ver1 - ver2))"
      ],
      "metadata": {
        "colab": {
          "base_uri": "https://localhost:8080/"
        },
        "id": "1P3no9hagKB4",
        "outputId": "aa5eaa87-3a88-409d-f305-0dc333345145"
      },
      "execution_count": null,
      "outputs": [
        {
          "output_type": "stream",
          "name": "stdout",
          "text": [
            "version1 time:  0.0008971691131591797\n",
            "version2 time:  0.3935999870300293\n",
            "difference between the results in 2-norm =  3.682117994957457e-07\n"
          ]
        }
      ]
    },
    {
      "cell_type": "markdown",
      "source": [
        "### Test 2:\n",
        "Here we test the time for solving two systems using two different approaches:\n",
        "1. Solve two systems \n",
        "  $$\n",
        "  Au=b, \\quad Av=x.\n",
        "  $$\n",
        "2. Solve both system in the same time\n",
        "  $$\n",
        "  A[u, v]=[b, x].\n",
        "  $$"
      ],
      "metadata": {
        "id": "BSSA-SV50oFk"
      }
    },
    {
      "cell_type": "code",
      "source": [
        "# Construct a n-by-n matrix A\n",
        "n = 3000\n",
        "A = np.random.random((n,n))\n",
        "bx = np.random.random((n,2))\n",
        "b = bx[:,0:1]\n",
        "x = bx[:,1:2]"
      ],
      "metadata": {
        "id": "OMxqaNPi1CDR"
      },
      "execution_count": null,
      "outputs": []
    },
    {
      "cell_type": "code",
      "source": [
        "start0 = time.time()\n",
        "u = np.linalg.solve(A, b)\n",
        "end0 = time.time()\n",
        "print('To solve one matrix requires time (s): ', end0-start0)\n",
        "\n",
        "# version1\n",
        "start1 = time.time()\n",
        "u = np.linalg.solve(A, b)\n",
        "v = np.linalg.solve(A, x)\n",
        "end1 = time.time()\n",
        "print('To solve two matrices requires time (s): ', end1-start1)\n",
        "\n",
        "# version2\n",
        "start2 = time.time()\n",
        "uv = np.linalg.solve(A, bx)\n",
        "end2 = time.time()\n",
        "print('To solve two matrices together requires time (s): ', end2-start2)"
      ],
      "metadata": {
        "colab": {
          "base_uri": "https://localhost:8080/"
        },
        "id": "yT95oWV61B6A",
        "outputId": "bb2e113c-2c59-4852-cb1a-bebcefa73666"
      },
      "execution_count": null,
      "outputs": [
        {
          "output_type": "stream",
          "name": "stdout",
          "text": [
            "To solve one matrix requires time (s):  0.6716499328613281\n",
            "To solve two matrices requires time (s):  1.3996481895446777\n",
            "To solve two matrices together requires time (s):  0.7133643627166748\n"
          ]
        }
      ]
    },
    {
      "cell_type": "markdown",
      "source": [
        "### Test 3:\n",
        "Here we consider solving sparse linear systems with rank-1 perturbation"
      ],
      "metadata": {
        "id": "dtUXKGi741pk"
      }
    },
    {
      "cell_type": "code",
      "source": [
        "import matplotlib.pylab as plt\n",
        "import scipy.sparse\n",
        "import scipy.sparse.linalg"
      ],
      "metadata": {
        "id": "IgE4XlpXe1B0"
      },
      "execution_count": null,
      "outputs": []
    },
    {
      "cell_type": "code",
      "source": [
        "# Construct a n-by-n tridiagonal sparse matrix S\n",
        "n=10000\n",
        "ss = np.random.rand(3, n)\n",
        "S = scipy.sparse.spdiags(ss,(-1, 0, 1), n, n, format='csr')\n",
        "plt.spy(S, markersize=1)\n",
        "\n",
        "bx = np.random.random((n,2))\n",
        "b = bx[:,0:1]\n",
        "x = bx[:,1:2]\n",
        "yT = np.random.random((1,n))"
      ],
      "metadata": {
        "colab": {
          "base_uri": "https://localhost:8080/",
          "height": 289
        },
        "id": "trrwynFWhD3s",
        "outputId": "b8d646b3-6fa6-44f3-ee10-fa0affef2e62"
      },
      "execution_count": null,
      "outputs": [
        {
          "output_type": "display_data",
          "data": {
            "text/plain": [
              "<Figure size 432x288 with 1 Axes>"
            ],
            "image/png": "[encoded data removed]"
          },
          "metadata": {
            "needs_background": "light"
          }
        }
      ]
    },
    {
      "cell_type": "code",
      "source": [
        "# Estimate the time requires for solving a tridiagonal system\n",
        "start1 = time.time()\n",
        "x_test = scipy.sparse.linalg.spsolve(S, b)\n",
        "end1 = time.time()\n",
        "\n",
        "print('To solve a sparse matrix using `scipy.sparse.linalg.spsolve` requires time (s): ', end1-start1)"
      ],
      "metadata": {
        "colab": {
          "base_uri": "https://localhost:8080/"
        },
        "id": "7CdTxkhD1B18",
        "outputId": "77aa0776-99af-425e-c143-945da44015c1"
      },
      "execution_count": null,
      "outputs": [
        {
          "output_type": "stream",
          "name": "stdout",
          "text": [
            "To solve a sparse matrix using `scipy.sparse.linalg.spsolve` requires time (s):  0.02856898307800293\n"
          ]
        }
      ]
    },
    {
      "cell_type": "code",
      "source": [
        "# Construct the rank-1 perturbed matrix S2\n",
        "S2 = S + x*yT\n",
        "\n",
        "# Believe me or not, the system is dense, but it takes time to plot. \n",
        "# Uncomment the following lines to give it a try\n",
        "#\n",
        "#plt.spy(S2, markersize=1)"
      ],
      "metadata": {
        "id": "hwyDxDGH1Bzh"
      },
      "execution_count": null,
      "outputs": []
    },
    {
      "cell_type": "code",
      "source": [
        "# Estimate the time to solve directly the rank-1 perturbed system\n",
        "start0 = time.time()\n",
        "xe2 = np.linalg.solve(S2, b)\n",
        "end0 = time.time()\n",
        "print('To solve a dense matrix using `np.linalg.solve` requires time (s): ', end0-start0)\n",
        "\n",
        "# It takes much more time to use `scipy.sparse.linalg.spsolve` to solve a dense system\n",
        "# Uncomment the following lines to give it a try\n",
        "#\n",
        "#start1 = time.time()\n",
        "#x = scipy.sparse.linalg.spsolve(S2, b)\n",
        "#end1 = time.time()\n",
        "#print('To solve a dense matrix using `scipy.sparse.linalg.spsolve` requires time (s): ', end1-start1)"
      ],
      "metadata": {
        "colab": {
          "base_uri": "https://localhost:8080/"
        },
        "id": "OJI7Neiy1Bw1",
        "outputId": "d62f44b2-3aaf-48f6-d784-6397ef7d8038"
      },
      "execution_count": null,
      "outputs": [
        {
          "output_type": "stream",
          "name": "stdout",
          "text": [
            "To solve a dense matrix using `np.linalg.solve` requires time (s):  25.457918643951416\n"
          ]
        }
      ]
    },
    {
      "cell_type": "code",
      "source": [
        "# Estimate the time for Sherman-Morrison formula\n",
        "start1 = time.time()\n",
        "uv = scipy.sparse.linalg.spsolve(S, bx)\n",
        "u = uv[:,0:1]\n",
        "v = uv[:,1:2]\n",
        "xe = u - v.dot(yT.dot(u))/(1+yT.dot(v))\n",
        "end1 = time.time()\n",
        "print('To time requires for Sherman-Mossison formula (s): ', end1-start1)"
      ],
      "metadata": {
        "colab": {
          "base_uri": "https://localhost:8080/"
        },
        "id": "fQjLg3OE0ifg",
        "outputId": "fc9157b8-5905-43cc-d07a-837f2d737f63"
      },
      "execution_count": null,
      "outputs": [
        {
          "output_type": "stream",
          "name": "stdout",
          "text": [
            "To time requires for Sherman-Mossison formula (s):  0.011904478073120117\n"
          ]
        }
      ]
    },
    {
      "cell_type": "code",
      "source": [
        "print('difference between the results in 2-norm = ', np.linalg.norm(xe - xe2))"
      ],
      "metadata": {
        "colab": {
          "base_uri": "https://localhost:8080/"
        },
        "id": "4bWvWcvqmhAo",
        "outputId": "36f7e232-0682-4e16-89a3-1303070e14a4"
      },
      "execution_count": null,
      "outputs": [
        {
          "output_type": "stream",
          "name": "stdout",
          "text": [
            "difference between the results in 2-norm =  1.9758205667163338e-07\n"
          ]
        }
      ]
    },
    {
      "cell_type": "code",
      "source": [
        ""
      ],
      "metadata": {
        "id": "xlpIzbkx9CY7"
      },
      "execution_count": null,
      "outputs": []
    }
  ]
}