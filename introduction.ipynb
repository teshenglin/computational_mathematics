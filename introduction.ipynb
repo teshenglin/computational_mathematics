{
  "nbformat": 4,
  "nbformat_minor": 0,
  "metadata": {
    "colab": {
      "name": "introduction.ipynb",
      "provenance": [],
      "collapsed_sections": [],
      "authorship_tag": "ABX9TyMg6AiDL9v7rMo45AZGSMW/"
    },
    "kernelspec": {
      "name": "python3",
      "display_name": "Python 3"
    },
    "language_info": {
      "name": "python"
    }
  },
  "cells": [
    {
      "cell_type": "markdown",
      "source": [
        "## Demo 1\n",
        "\n",
        "**Loss of precision:** Subtracting two values that are close to each other."
      ],
      "metadata": {
        "id": "0l4-ScqinZRe"
      }
    },
    {
      "cell_type": "code",
      "execution_count": null,
      "metadata": {
        "colab": {
          "base_uri": "https://localhost:8080/"
        },
        "id": "R5Nx_q6-nKEf",
        "outputId": "3e7b16c6-dcc2-4a8a-84f0-838d7e14cf1e"
      },
      "outputs": [
        {
          "output_type": "stream",
          "name": "stdout",
          "text": [
            "a=   1.000000000000002\n",
            "b=   1.000000000000001\n",
            "a-b= 8.881784197001252e-16\n"
          ]
        }
      ],
      "source": [
        "a = 1+2*10**(-15)\n",
        "b = 1+1*10**(-15)\n",
        "print('a=  ',a)\n",
        "print('b=  ',b)\n",
        "print('a-b=', a-b)"
      ]
    },
    {
      "cell_type": "markdown",
      "source": [
        "## Demo 2\n",
        "\n",
        "To find the roots using quadratic formula:\n",
        "$$\n",
        "(x-10^6)(x-10^{-6}) = x^2 - (10^6 + 10^{-6}) + 1=0.\n",
        "$$"
      ],
      "metadata": {
        "id": "Fa5beMLCn9J7"
      }
    },
    {
      "cell_type": "code",
      "source": [
        "import numpy as np"
      ],
      "metadata": {
        "id": "yDqx1Nt6n5PT"
      },
      "execution_count": null,
      "outputs": []
    },
    {
      "cell_type": "code",
      "source": [
        "a = 1\n",
        "b = -(10**6 + 10**(-6))\n",
        "c = 1\n",
        "x1 = (-b + np.sqrt(b**2 - 4*a*c))/2*a\n",
        "x2 = (-b - np.sqrt(b**2 - 4*a*c))/2*a\n",
        "x3 = c/(a*x1)\n",
        "\n",
        "print('x1=', x1)\n",
        "print('x2=', x2)\n",
        "print('x3=', x3)"
      ],
      "metadata": {
        "colab": {
          "base_uri": "https://localhost:8080/"
        },
        "id": "CoSBlRxanP8-",
        "outputId": "c0f57805-6f19-4a32-fa99-87c3b96267b1"
      },
      "execution_count": null,
      "outputs": [
        {
          "output_type": "stream",
          "name": "stdout",
          "text": [
            "x1= 1000000.0\n",
            "x2= 1.00000761449337e-06\n",
            "x3= 1e-06\n"
          ]
        }
      ]
    },
    {
      "cell_type": "markdown",
      "source": [
        "Relative error: Let $p^*$ be an approximation to $p$, then the relative error in $p^*$ is\n",
        "$$\n",
        "\\frac{|p^*-p|}{|p|}.\n",
        "$$\n",
        "\n",
        "The relative error between the expressions x2 and x3:"
      ],
      "metadata": {
        "id": "lWpuD8psrbYb"
      }
    },
    {
      "cell_type": "code",
      "source": [
        "p = 10**(-6)\n",
        "print('relative error of x2= ', np.abs((x2 - p)/p))\n",
        "print('relative error of x3= ', np.abs((x3 - p)/p))"
      ],
      "metadata": {
        "colab": {
          "base_uri": "https://localhost:8080/"
        },
        "id": "OsgVxVoNp5dT",
        "outputId": "0343b1e7-51f2-41bc-9c93-8ff495813603"
      },
      "execution_count": null,
      "outputs": [
        {
          "output_type": "stream",
          "name": "stdout",
          "text": [
            "relative error of x2=  7.614493370101404e-06\n",
            "relative error of x3=  0.0\n"
          ]
        }
      ]
    },
    {
      "cell_type": "markdown",
      "source": [
        "## Demo 3\n",
        "\n",
        "Machine epsilon"
      ],
      "metadata": {
        "id": "L2RlZjlitJ8Z"
      }
    },
    {
      "cell_type": "code",
      "source": [
        "eps = 1.0\n",
        "while eps + 1 > 1:\n",
        "    eps /= 2\n",
        "eps *= 2\n",
        "print(\"The machine epsilon is:\", eps)"
      ],
      "metadata": {
        "colab": {
          "base_uri": "https://localhost:8080/"
        },
        "id": "UJg4syc8q-vq",
        "outputId": "58f30443-f5cf-4b97-c6e0-f603c810c330"
      },
      "execution_count": null,
      "outputs": [
        {
          "output_type": "stream",
          "name": "stdout",
          "text": [
            "The machine epsilon is: 2.220446049250313e-16\n"
          ]
        }
      ]
    },
    {
      "cell_type": "markdown",
      "source": [
        "Take a look at the difference between the following two formula"
      ],
      "metadata": {
        "id": "xt456Wontex1"
      }
    },
    {
      "cell_type": "code",
      "source": [
        "e = eps/2\n",
        "print('e= ', e)\n",
        "a = (1.0 + e) - 1.0\n",
        "print('a= ', a)\n",
        "b = 1.0 + (e - 1.0)\n",
        "print('b= ', b)"
      ],
      "metadata": {
        "colab": {
          "base_uri": "https://localhost:8080/"
        },
        "id": "VlHFfyk9tPxD",
        "outputId": "2c2455d5-3515-48f4-b67f-6929349c5a33"
      },
      "execution_count": null,
      "outputs": [
        {
          "output_type": "stream",
          "name": "stdout",
          "text": [
            "e=  1.1102230246251565e-16\n",
            "a=  0.0\n",
            "b=  1.1102230246251565e-16\n"
          ]
        }
      ]
    },
    {
      "cell_type": "markdown",
      "source": [
        "## Demo 4\n",
        "\n",
        "Evaluating a polynomial $p(x) = c_0 + c_1x + \\cdots + c_nx^n$. \n",
        "\n",
        "The coefficients of the polynomial are stored in $c$ in ascending order: $c = [c_0, c_1, \\cdots, c_n]$. \n",
        "\n",
        "\n",
        "```\n",
        "% Example\n",
        "% p(x) = 1 + 2x + 3x^2, to evalute p(x) at x=pi:\n",
        "% \n",
        "c = np.array([1.0, 2.0, 3.0])\n",
        "x = np.pi\n",
        "print(polyval(c, x))\n",
        "print(hornerval(c, x))\n",
        "```"
      ],
      "metadata": {
        "id": "3TnLRPwettDq"
      }
    },
    {
      "cell_type": "code",
      "source": [
        "import numpy as np\n",
        "from timeit import timeit"
      ],
      "metadata": {
        "id": "XtvMs08yviQc"
      },
      "execution_count": null,
      "outputs": []
    },
    {
      "cell_type": "code",
      "source": [
        "def polyval(c,x):\n",
        "  n = len(c)-1\n",
        "  pvalue = c[0]\n",
        "  for ii in range(1,n+1):\n",
        "    pvalue = pvalue + c[ii]*(x**ii)\n",
        "\n",
        "  return pvalue"
      ],
      "metadata": {
        "id": "tFTa-rTYt0U3"
      },
      "execution_count": null,
      "outputs": []
    },
    {
      "cell_type": "code",
      "source": [
        "def hornerval(c,x):\n",
        "  n = len(c)-1\n",
        "  pvalue = c[n]\n",
        "  for ii in range(n-1,-1,-1):\n",
        "    pvalue = pvalue*x + c[ii]\n",
        "\n",
        "  return pvalue"
      ],
      "metadata": {
        "id": "9jXA6R_Bw-At"
      },
      "execution_count": null,
      "outputs": []
    },
    {
      "cell_type": "code",
      "source": [
        "c = np.array([1, 2, 3])\n",
        "x = np.pi\n",
        "print(polyval(c, x))\n",
        "print(hornerval(c, x))"
      ],
      "metadata": {
        "colab": {
          "base_uri": "https://localhost:8080/"
        },
        "id": "w54AEf5Qwbne",
        "outputId": "1a1a938a-e265-4ff8-fb8d-569cf64775c3"
      },
      "execution_count": null,
      "outputs": [
        {
          "output_type": "stream",
          "name": "stdout",
          "text": [
            "36.891998510447664\n",
            "36.89199851044766\n"
          ]
        }
      ]
    },
    {
      "cell_type": "markdown",
      "source": [
        "比較一下效能. 考慮一個 $n$ 次多項式看哪個方式算得快"
      ],
      "metadata": {
        "id": "z1XG0vO_zxVa"
      }
    },
    {
      "cell_type": "code",
      "source": [
        "n = 10000\n",
        "c = np.random.rand(n+1)\n",
        "x = np.random.rand()\n",
        "\n",
        "def polytime():\n",
        "  return polyval(c, x)\n",
        "\n",
        "def hornertime():\n",
        "  return hornerval(c, x)"
      ],
      "metadata": {
        "id": "V0BFkHTVvN5r"
      },
      "execution_count": null,
      "outputs": []
    },
    {
      "cell_type": "code",
      "source": [
        "timeit(stmt=polytime, number=1000)"
      ],
      "metadata": {
        "colab": {
          "base_uri": "https://localhost:8080/"
        },
        "id": "dOjh5pDTyAhF",
        "outputId": "7e9997b7-cbdd-4da5-cb5b-2cc9326f2662"
      },
      "execution_count": null,
      "outputs": [
        {
          "output_type": "execute_result",
          "data": {
            "text/plain": [
              "10.08761578100001"
            ]
          },
          "metadata": {},
          "execution_count": 12
        }
      ]
    },
    {
      "cell_type": "code",
      "source": [
        "timeit(stmt=hornertime, number=1000)"
      ],
      "metadata": {
        "colab": {
          "base_uri": "https://localhost:8080/"
        },
        "id": "0M-pNqvXyB6E",
        "outputId": "7ca68ff2-4962-40e0-9704-674837e06973"
      },
      "execution_count": null,
      "outputs": [
        {
          "output_type": "execute_result",
          "data": {
            "text/plain": [
              "4.311697437000021"
            ]
          },
          "metadata": {},
          "execution_count": 13
        }
      ]
    }
  ]
}